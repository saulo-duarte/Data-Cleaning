{
 "cells": [
  {
   "cell_type": "markdown",
   "metadata": {},
   "source": [
    "# **Projeto Acidentes em Rodovias Federais**"
   ]
  },
  {
   "cell_type": "markdown",
   "metadata": {},
   "source": [
    "##### Notebook Destinado a limpeza de dados"
   ]
  },
  {
   "cell_type": "code",
   "execution_count": 30,
   "metadata": {},
   "outputs": [],
   "source": [
    "import pandas as pd\n",
    "import numpy as np \n",
    "import seaborn as sns\n",
    "import matplotlib.pyplot as plt\n",
    "import warnings\n",
    "import statsmodels.api as sm\n"
   ]
  },
  {
   "cell_type": "code",
   "execution_count": 31,
   "metadata": {},
   "outputs": [],
   "source": [
    "warnings.simplefilter(action='ignore', category=FutureWarning)"
   ]
  },
  {
   "cell_type": "code",
   "execution_count": 32,
   "metadata": {},
   "outputs": [],
   "source": [
    "df20 = pd.read_csv(\"acidentes2020_todas_causas_tipos.csv\", encoding='iso-8859-1', delimiter=\";\")\n",
    "df21 = pd.read_csv(\"acidentes2021_todas_causas_tipos.csv\", encoding='iso-8859-1', delimiter=\";\")\n",
    "df22 = pd.read_csv(\"acidentes2022_todas_causas_tipos.csv\", encoding='iso-8859-1', delimiter=';')\n",
    "df23 = pd.read_csv(\"acidentes2023_todas_causas_tipos.csv\", encoding='iso-8859-1', delimiter=\";\")\n",
    "df = pd.concat([df20,df21, df22, df23], ignore_index=True)"
   ]
  },
  {
   "cell_type": "code",
   "execution_count": 33,
   "metadata": {},
   "outputs": [
    {
     "name": "stdout",
     "output_type": "stream",
     "text": [
      "(348047, 37) | (393521, 37) | (456521, 37) | (514799, 37) | (1712888, 37)\n"
     ]
    }
   ],
   "source": [
    "print(df20.shape, end=' | ')\n",
    "print(df21.shape, end=' | ')\n",
    "print(df22.shape, end=' | ')\n",
    "print(df23.shape, end=' | ')\n",
    "print(df.shape)"
   ]
  },
  {
   "cell_type": "code",
   "execution_count": 34,
   "metadata": {},
   "outputs": [],
   "source": [
    "df.drop_duplicates(inplace=True)"
   ]
  },
  {
   "cell_type": "code",
   "execution_count": 35,
   "metadata": {},
   "outputs": [
    {
     "name": "stdout",
     "output_type": "stream",
     "text": [
      "<class 'pandas.core.frame.DataFrame'>\n",
      "RangeIndex: 1712888 entries, 0 to 1712887\n",
      "Data columns (total 37 columns):\n",
      " #   Column                  Dtype  \n",
      "---  ------                  -----  \n",
      " 0   id                      float64\n",
      " 1   pesid                   float64\n",
      " 2   data_inversa            object \n",
      " 3   dia_semana              object \n",
      " 4   horario                 object \n",
      " 5   uf                      object \n",
      " 6   br                      float64\n",
      " 7   km                      object \n",
      " 8   municipio               object \n",
      " 9   causa_principal         object \n",
      " 10  causa_acidente          object \n",
      " 11  ordem_tipo_acidente     int64  \n",
      " 12  tipo_acidente           object \n",
      " 13  classificacao_acidente  object \n",
      " 14  fase_dia                object \n",
      " 15  sentido_via             object \n",
      " 16  condicao_metereologica  object \n",
      " 17  tipo_pista              object \n",
      " 18  tracado_via             object \n",
      " 19  uso_solo                object \n",
      " 20  id_veiculo              int64  \n",
      " 21  tipo_veiculo            object \n",
      " 22  marca                   object \n",
      " 23  ano_fabricacao_veiculo  float64\n",
      " 24  tipo_envolvido          object \n",
      " 25  estado_fisico           object \n",
      " 26  idade                   float64\n",
      " 27  sexo                    object \n",
      " 28  ilesos                  int64  \n",
      " 29  feridos_leves           int64  \n",
      " 30  feridos_graves          int64  \n",
      " 31  mortos                  int64  \n",
      " 32  latitude                object \n",
      " 33  longitude               object \n",
      " 34  regional                object \n",
      " 35  delegacia               object \n",
      " 36  uop                     object \n",
      "dtypes: float64(5), int64(6), object(26)\n",
      "memory usage: 483.5+ MB\n"
     ]
    }
   ],
   "source": [
    "df.info()"
   ]
  },
  {
   "cell_type": "code",
   "execution_count": 36,
   "metadata": {},
   "outputs": [
    {
     "data": {
      "text/html": [
       "<div>\n",
       "<style scoped>\n",
       "    .dataframe tbody tr th:only-of-type {\n",
       "        vertical-align: middle;\n",
       "    }\n",
       "\n",
       "    .dataframe tbody tr th {\n",
       "        vertical-align: top;\n",
       "    }\n",
       "\n",
       "    .dataframe thead th {\n",
       "        text-align: right;\n",
       "    }\n",
       "</style>\n",
       "<table border=\"1\" class=\"dataframe\">\n",
       "  <thead>\n",
       "    <tr style=\"text-align: right;\">\n",
       "      <th></th>\n",
       "      <th>id</th>\n",
       "      <th>pesid</th>\n",
       "      <th>data_inversa</th>\n",
       "      <th>dia_semana</th>\n",
       "      <th>horario</th>\n",
       "      <th>uf</th>\n",
       "      <th>br</th>\n",
       "      <th>km</th>\n",
       "      <th>municipio</th>\n",
       "      <th>causa_principal</th>\n",
       "      <th>...</th>\n",
       "      <th>sexo</th>\n",
       "      <th>ilesos</th>\n",
       "      <th>feridos_leves</th>\n",
       "      <th>feridos_graves</th>\n",
       "      <th>mortos</th>\n",
       "      <th>latitude</th>\n",
       "      <th>longitude</th>\n",
       "      <th>regional</th>\n",
       "      <th>delegacia</th>\n",
       "      <th>uop</th>\n",
       "    </tr>\n",
       "  </thead>\n",
       "  <tbody>\n",
       "    <tr>\n",
       "      <th>0</th>\n",
       "      <td>260031.0</td>\n",
       "      <td>578475.0</td>\n",
       "      <td>2020-01-01</td>\n",
       "      <td>quarta-feira</td>\n",
       "      <td>01:00:00</td>\n",
       "      <td>TO</td>\n",
       "      <td>153.0</td>\n",
       "      <td>678,1</td>\n",
       "      <td>GURUPI</td>\n",
       "      <td>Sim</td>\n",
       "      <td>...</td>\n",
       "      <td>Feminino</td>\n",
       "      <td>0</td>\n",
       "      <td>0</td>\n",
       "      <td>1</td>\n",
       "      <td>0</td>\n",
       "      <td>-11,77460203</td>\n",
       "      <td>-49,10744996</td>\n",
       "      <td>SPRF-TO</td>\n",
       "      <td>DEL02-TO</td>\n",
       "      <td>UOP02-DEL01-TO</td>\n",
       "    </tr>\n",
       "    <tr>\n",
       "      <th>1</th>\n",
       "      <td>260031.0</td>\n",
       "      <td>578475.0</td>\n",
       "      <td>2020-01-01</td>\n",
       "      <td>quarta-feira</td>\n",
       "      <td>01:00:00</td>\n",
       "      <td>TO</td>\n",
       "      <td>153.0</td>\n",
       "      <td>678,1</td>\n",
       "      <td>GURUPI</td>\n",
       "      <td>Sim</td>\n",
       "      <td>...</td>\n",
       "      <td>Feminino</td>\n",
       "      <td>0</td>\n",
       "      <td>0</td>\n",
       "      <td>1</td>\n",
       "      <td>0</td>\n",
       "      <td>-11,77460203</td>\n",
       "      <td>-49,10744996</td>\n",
       "      <td>SPRF-TO</td>\n",
       "      <td>DEL02-TO</td>\n",
       "      <td>UOP02-DEL01-TO</td>\n",
       "    </tr>\n",
       "    <tr>\n",
       "      <th>2</th>\n",
       "      <td>260031.0</td>\n",
       "      <td>578988.0</td>\n",
       "      <td>2020-01-01</td>\n",
       "      <td>quarta-feira</td>\n",
       "      <td>01:00:00</td>\n",
       "      <td>TO</td>\n",
       "      <td>153.0</td>\n",
       "      <td>678,1</td>\n",
       "      <td>GURUPI</td>\n",
       "      <td>Sim</td>\n",
       "      <td>...</td>\n",
       "      <td>Masculino</td>\n",
       "      <td>0</td>\n",
       "      <td>0</td>\n",
       "      <td>1</td>\n",
       "      <td>0</td>\n",
       "      <td>-11,77460203</td>\n",
       "      <td>-49,10744996</td>\n",
       "      <td>SPRF-TO</td>\n",
       "      <td>DEL02-TO</td>\n",
       "      <td>UOP02-DEL01-TO</td>\n",
       "    </tr>\n",
       "    <tr>\n",
       "      <th>3</th>\n",
       "      <td>260031.0</td>\n",
       "      <td>578988.0</td>\n",
       "      <td>2020-01-01</td>\n",
       "      <td>quarta-feira</td>\n",
       "      <td>01:00:00</td>\n",
       "      <td>TO</td>\n",
       "      <td>153.0</td>\n",
       "      <td>678,1</td>\n",
       "      <td>GURUPI</td>\n",
       "      <td>Sim</td>\n",
       "      <td>...</td>\n",
       "      <td>Masculino</td>\n",
       "      <td>0</td>\n",
       "      <td>0</td>\n",
       "      <td>1</td>\n",
       "      <td>0</td>\n",
       "      <td>-11,77460203</td>\n",
       "      <td>-49,10744996</td>\n",
       "      <td>SPRF-TO</td>\n",
       "      <td>DEL02-TO</td>\n",
       "      <td>UOP02-DEL01-TO</td>\n",
       "    </tr>\n",
       "    <tr>\n",
       "      <th>4</th>\n",
       "      <td>260031.0</td>\n",
       "      <td>578987.0</td>\n",
       "      <td>2020-01-01</td>\n",
       "      <td>quarta-feira</td>\n",
       "      <td>01:00:00</td>\n",
       "      <td>TO</td>\n",
       "      <td>153.0</td>\n",
       "      <td>678,1</td>\n",
       "      <td>GURUPI</td>\n",
       "      <td>Sim</td>\n",
       "      <td>...</td>\n",
       "      <td>Masculino</td>\n",
       "      <td>0</td>\n",
       "      <td>0</td>\n",
       "      <td>1</td>\n",
       "      <td>0</td>\n",
       "      <td>-11,77460203</td>\n",
       "      <td>-49,10744996</td>\n",
       "      <td>SPRF-TO</td>\n",
       "      <td>DEL02-TO</td>\n",
       "      <td>UOP02-DEL01-TO</td>\n",
       "    </tr>\n",
       "  </tbody>\n",
       "</table>\n",
       "<p>5 rows × 37 columns</p>\n",
       "</div>"
      ],
      "text/plain": [
       "         id     pesid data_inversa    dia_semana   horario  uf     br     km  \\\n",
       "0  260031.0  578475.0   2020-01-01  quarta-feira  01:00:00  TO  153.0  678,1   \n",
       "1  260031.0  578475.0   2020-01-01  quarta-feira  01:00:00  TO  153.0  678,1   \n",
       "2  260031.0  578988.0   2020-01-01  quarta-feira  01:00:00  TO  153.0  678,1   \n",
       "3  260031.0  578988.0   2020-01-01  quarta-feira  01:00:00  TO  153.0  678,1   \n",
       "4  260031.0  578987.0   2020-01-01  quarta-feira  01:00:00  TO  153.0  678,1   \n",
       "\n",
       "  municipio causa_principal  ...       sexo  ilesos feridos_leves  \\\n",
       "0    GURUPI             Sim  ...   Feminino       0             0   \n",
       "1    GURUPI             Sim  ...   Feminino       0             0   \n",
       "2    GURUPI             Sim  ...  Masculino       0             0   \n",
       "3    GURUPI             Sim  ...  Masculino       0             0   \n",
       "4    GURUPI             Sim  ...  Masculino       0             0   \n",
       "\n",
       "  feridos_graves mortos      latitude     longitude regional delegacia  \\\n",
       "0              1      0  -11,77460203  -49,10744996  SPRF-TO  DEL02-TO   \n",
       "1              1      0  -11,77460203  -49,10744996  SPRF-TO  DEL02-TO   \n",
       "2              1      0  -11,77460203  -49,10744996  SPRF-TO  DEL02-TO   \n",
       "3              1      0  -11,77460203  -49,10744996  SPRF-TO  DEL02-TO   \n",
       "4              1      0  -11,77460203  -49,10744996  SPRF-TO  DEL02-TO   \n",
       "\n",
       "              uop  \n",
       "0  UOP02-DEL01-TO  \n",
       "1  UOP02-DEL01-TO  \n",
       "2  UOP02-DEL01-TO  \n",
       "3  UOP02-DEL01-TO  \n",
       "4  UOP02-DEL01-TO  \n",
       "\n",
       "[5 rows x 37 columns]"
      ]
     },
     "execution_count": 36,
     "metadata": {},
     "output_type": "execute_result"
    }
   ],
   "source": [
    "df.head()"
   ]
  },
  {
   "cell_type": "code",
   "execution_count": 37,
   "metadata": {},
   "outputs": [
    {
     "data": {
      "text/plain": [
       "Index(['id', 'pesid', 'data_inversa', 'dia_semana', 'horario', 'uf', 'br',\n",
       "       'km', 'municipio', 'causa_principal', 'causa_acidente',\n",
       "       'ordem_tipo_acidente', 'tipo_acidente', 'classificacao_acidente',\n",
       "       'fase_dia', 'sentido_via', 'condicao_metereologica', 'tipo_pista',\n",
       "       'tracado_via', 'uso_solo', 'id_veiculo', 'tipo_veiculo', 'marca',\n",
       "       'ano_fabricacao_veiculo', 'tipo_envolvido', 'estado_fisico', 'idade',\n",
       "       'sexo', 'ilesos', 'feridos_leves', 'feridos_graves', 'mortos',\n",
       "       'latitude', 'longitude', 'regional', 'delegacia', 'uop'],\n",
       "      dtype='object')"
      ]
     },
     "execution_count": 37,
     "metadata": {},
     "output_type": "execute_result"
    }
   ],
   "source": [
    "df.columns"
   ]
  },
  {
   "cell_type": "code",
   "execution_count": 38,
   "metadata": {},
   "outputs": [
    {
     "data": {
      "text/html": [
       "<div>\n",
       "<style scoped>\n",
       "    .dataframe tbody tr th:only-of-type {\n",
       "        vertical-align: middle;\n",
       "    }\n",
       "\n",
       "    .dataframe tbody tr th {\n",
       "        vertical-align: top;\n",
       "    }\n",
       "\n",
       "    .dataframe thead th {\n",
       "        text-align: right;\n",
       "    }\n",
       "</style>\n",
       "<table border=\"1\" class=\"dataframe\">\n",
       "  <thead>\n",
       "    <tr style=\"text-align: right;\">\n",
       "      <th></th>\n",
       "      <th>id</th>\n",
       "      <th>pesid</th>\n",
       "      <th>br</th>\n",
       "      <th>ordem_tipo_acidente</th>\n",
       "      <th>id_veiculo</th>\n",
       "      <th>ano_fabricacao_veiculo</th>\n",
       "      <th>idade</th>\n",
       "      <th>ilesos</th>\n",
       "      <th>feridos_leves</th>\n",
       "      <th>feridos_graves</th>\n",
       "      <th>mortos</th>\n",
       "    </tr>\n",
       "  </thead>\n",
       "  <tbody>\n",
       "    <tr>\n",
       "      <th>count</th>\n",
       "      <td>1.712888e+06</td>\n",
       "      <td>1.712887e+06</td>\n",
       "      <td>1.707107e+06</td>\n",
       "      <td>1.712888e+06</td>\n",
       "      <td>1.712888e+06</td>\n",
       "      <td>1.618511e+06</td>\n",
       "      <td>1.542594e+06</td>\n",
       "      <td>1.712888e+06</td>\n",
       "      <td>1.712888e+06</td>\n",
       "      <td>1.712888e+06</td>\n",
       "      <td>1.712888e+06</td>\n",
       "    </tr>\n",
       "    <tr>\n",
       "      <th>mean</th>\n",
       "      <td>4.291865e+05</td>\n",
       "      <td>9.465724e+05</td>\n",
       "      <td>2.146342e+02</td>\n",
       "      <td>1.688311e+00</td>\n",
       "      <td>7.314027e+05</td>\n",
       "      <td>1.923221e+03</td>\n",
       "      <td>3.915060e+01</td>\n",
       "      <td>4.055005e-01</td>\n",
       "      <td>3.454663e-01</td>\n",
       "      <td>1.278706e-01</td>\n",
       "      <td>5.134545e-02</td>\n",
       "    </tr>\n",
       "    <tr>\n",
       "      <th>std</th>\n",
       "      <td>9.199980e+04</td>\n",
       "      <td>1.980573e+05</td>\n",
       "      <td>1.288706e+02</td>\n",
       "      <td>9.915447e-01</td>\n",
       "      <td>2.177033e+05</td>\n",
       "      <td>4.118089e+02</td>\n",
       "      <td>3.865886e+01</td>\n",
       "      <td>4.909888e-01</td>\n",
       "      <td>4.755202e-01</td>\n",
       "      <td>3.339458e-01</td>\n",
       "      <td>2.207014e-01</td>\n",
       "    </tr>\n",
       "    <tr>\n",
       "      <th>min</th>\n",
       "      <td>2.600310e+05</td>\n",
       "      <td>5.784610e+05</td>\n",
       "      <td>1.000000e+01</td>\n",
       "      <td>1.000000e+00</td>\n",
       "      <td>0.000000e+00</td>\n",
       "      <td>0.000000e+00</td>\n",
       "      <td>0.000000e+00</td>\n",
       "      <td>0.000000e+00</td>\n",
       "      <td>0.000000e+00</td>\n",
       "      <td>0.000000e+00</td>\n",
       "      <td>0.000000e+00</td>\n",
       "    </tr>\n",
       "    <tr>\n",
       "      <th>25%</th>\n",
       "      <td>3.490740e+05</td>\n",
       "      <td>7.782630e+05</td>\n",
       "      <td>1.040000e+02</td>\n",
       "      <td>1.000000e+00</td>\n",
       "      <td>6.063232e+05</td>\n",
       "      <td>2.007000e+03</td>\n",
       "      <td>2.700000e+01</td>\n",
       "      <td>0.000000e+00</td>\n",
       "      <td>0.000000e+00</td>\n",
       "      <td>0.000000e+00</td>\n",
       "      <td>0.000000e+00</td>\n",
       "    </tr>\n",
       "    <tr>\n",
       "      <th>50%</th>\n",
       "      <td>4.454490e+05</td>\n",
       "      <td>9.596750e+05</td>\n",
       "      <td>1.630000e+02</td>\n",
       "      <td>1.000000e+00</td>\n",
       "      <td>7.650180e+05</td>\n",
       "      <td>2.012000e+03</td>\n",
       "      <td>3.700000e+01</td>\n",
       "      <td>0.000000e+00</td>\n",
       "      <td>0.000000e+00</td>\n",
       "      <td>0.000000e+00</td>\n",
       "      <td>0.000000e+00</td>\n",
       "    </tr>\n",
       "    <tr>\n",
       "      <th>75%</th>\n",
       "      <td>5.105880e+05</td>\n",
       "      <td>1.118293e+06</td>\n",
       "      <td>3.430000e+02</td>\n",
       "      <td>2.000000e+00</td>\n",
       "      <td>8.941590e+05</td>\n",
       "      <td>2.017000e+03</td>\n",
       "      <td>4.800000e+01</td>\n",
       "      <td>1.000000e+00</td>\n",
       "      <td>1.000000e+00</td>\n",
       "      <td>0.000000e+00</td>\n",
       "      <td>0.000000e+00</td>\n",
       "    </tr>\n",
       "    <tr>\n",
       "      <th>max</th>\n",
       "      <td>5.894950e+05</td>\n",
       "      <td>1.312722e+06</td>\n",
       "      <td>4.980000e+02</td>\n",
       "      <td>1.500000e+01</td>\n",
       "      <td>1.051493e+06</td>\n",
       "      <td>2.023000e+03</td>\n",
       "      <td>2.022000e+03</td>\n",
       "      <td>1.000000e+00</td>\n",
       "      <td>1.000000e+00</td>\n",
       "      <td>1.000000e+00</td>\n",
       "      <td>1.000000e+00</td>\n",
       "    </tr>\n",
       "  </tbody>\n",
       "</table>\n",
       "</div>"
      ],
      "text/plain": [
       "                 id         pesid            br  ordem_tipo_acidente  \\\n",
       "count  1.712888e+06  1.712887e+06  1.707107e+06         1.712888e+06   \n",
       "mean   4.291865e+05  9.465724e+05  2.146342e+02         1.688311e+00   \n",
       "std    9.199980e+04  1.980573e+05  1.288706e+02         9.915447e-01   \n",
       "min    2.600310e+05  5.784610e+05  1.000000e+01         1.000000e+00   \n",
       "25%    3.490740e+05  7.782630e+05  1.040000e+02         1.000000e+00   \n",
       "50%    4.454490e+05  9.596750e+05  1.630000e+02         1.000000e+00   \n",
       "75%    5.105880e+05  1.118293e+06  3.430000e+02         2.000000e+00   \n",
       "max    5.894950e+05  1.312722e+06  4.980000e+02         1.500000e+01   \n",
       "\n",
       "         id_veiculo  ano_fabricacao_veiculo         idade        ilesos  \\\n",
       "count  1.712888e+06            1.618511e+06  1.542594e+06  1.712888e+06   \n",
       "mean   7.314027e+05            1.923221e+03  3.915060e+01  4.055005e-01   \n",
       "std    2.177033e+05            4.118089e+02  3.865886e+01  4.909888e-01   \n",
       "min    0.000000e+00            0.000000e+00  0.000000e+00  0.000000e+00   \n",
       "25%    6.063232e+05            2.007000e+03  2.700000e+01  0.000000e+00   \n",
       "50%    7.650180e+05            2.012000e+03  3.700000e+01  0.000000e+00   \n",
       "75%    8.941590e+05            2.017000e+03  4.800000e+01  1.000000e+00   \n",
       "max    1.051493e+06            2.023000e+03  2.022000e+03  1.000000e+00   \n",
       "\n",
       "       feridos_leves  feridos_graves        mortos  \n",
       "count   1.712888e+06    1.712888e+06  1.712888e+06  \n",
       "mean    3.454663e-01    1.278706e-01  5.134545e-02  \n",
       "std     4.755202e-01    3.339458e-01  2.207014e-01  \n",
       "min     0.000000e+00    0.000000e+00  0.000000e+00  \n",
       "25%     0.000000e+00    0.000000e+00  0.000000e+00  \n",
       "50%     0.000000e+00    0.000000e+00  0.000000e+00  \n",
       "75%     1.000000e+00    0.000000e+00  0.000000e+00  \n",
       "max     1.000000e+00    1.000000e+00  1.000000e+00  "
      ]
     },
     "execution_count": 38,
     "metadata": {},
     "output_type": "execute_result"
    }
   ],
   "source": [
    "df.describe()"
   ]
  },
  {
   "cell_type": "code",
   "execution_count": 39,
   "metadata": {},
   "outputs": [
    {
     "data": {
      "text/plain": [
       "id                                       260031.0\n",
       "pesid                                    578475.0\n",
       "data_inversa                           2020-01-01\n",
       "dia_semana                           quarta-feira\n",
       "horario                                  01:00:00\n",
       "uf                                             TO\n",
       "br                                          153.0\n",
       "km                                          678,1\n",
       "municipio                                  GURUPI\n",
       "causa_principal                               Sim\n",
       "causa_acidente                   Animais na Pista\n",
       "ordem_tipo_acidente                             1\n",
       "tipo_acidente             Atropelamento de Animal\n",
       "classificacao_acidente        Com Vítimas Feridas\n",
       "fase_dia                              Plena Noite\n",
       "Name: 0, dtype: object"
      ]
     },
     "execution_count": 39,
     "metadata": {},
     "output_type": "execute_result"
    }
   ],
   "source": [
    "df.loc[0][0:15]"
   ]
  },
  {
   "cell_type": "code",
   "execution_count": 40,
   "metadata": {},
   "outputs": [
    {
     "data": {
      "text/plain": [
       "sentido_via                              Crescente\n",
       "condicao_metereologica                     Nublado\n",
       "tipo_pista                                 Simples\n",
       "tracado_via                                   Reta\n",
       "uso_solo                                       Não\n",
       "id_veiculo                                  464101\n",
       "tipo_veiculo                             Automóvel\n",
       "marca                     FIAT/SIENA ATTRACTIV 1.4\n",
       "ano_fabricacao_veiculo                      2012.0\n",
       "tipo_envolvido                            Condutor\n",
       "estado_fisico                        Lesões Graves\n",
       "idade                                         33.0\n",
       "sexo                                      Feminino\n",
       "ilesos                                           0\n",
       "feridos_leves                                    0\n",
       "feridos_graves                                   1\n",
       "mortos                                           0\n",
       "latitude                              -11,77460203\n",
       "longitude                             -49,10744996\n",
       "regional                                   SPRF-TO\n",
       "delegacia                                 DEL02-TO\n",
       "uop                                 UOP02-DEL01-TO\n",
       "Name: 0, dtype: object"
      ]
     },
     "execution_count": 40,
     "metadata": {},
     "output_type": "execute_result"
    }
   ],
   "source": [
    "df.loc[0][15:]"
   ]
  },
  {
   "cell_type": "markdown",
   "metadata": {},
   "source": [
    "Diversos erros nos dados podem ser encontrados, como formatação e colunas desnecessárias"
   ]
  },
  {
   "cell_type": "markdown",
   "metadata": {},
   "source": [
    "#### **Excluindo colunas desnecessarias**"
   ]
  },
  {
   "cell_type": "code",
   "execution_count": 41,
   "metadata": {},
   "outputs": [],
   "source": [
    "df.drop(['pesid', 'id_veiculo', 'marca', 'regional', 'uop', 'causa_principal'], axis=1, inplace=True)"
   ]
  },
  {
   "cell_type": "code",
   "execution_count": 42,
   "metadata": {},
   "outputs": [
    {
     "name": "stdout",
     "output_type": "stream",
     "text": [
      "(1712888, 31)\n"
     ]
    }
   ],
   "source": [
    "print(df.shape)"
   ]
  },
  {
   "cell_type": "markdown",
   "metadata": {},
   "source": [
    "**Verificando se há valores nulos**"
   ]
  },
  {
   "cell_type": "code",
   "execution_count": 43,
   "metadata": {},
   "outputs": [
    {
     "data": {
      "text/plain": [
       "br                          5781\n",
       "km                          5781\n",
       "tipo_acidente                  1\n",
       "ano_fabricacao_veiculo     94377\n",
       "idade                     170294\n",
       "delegacia                    813\n",
       "dtype: int64"
      ]
     },
     "execution_count": 43,
     "metadata": {},
     "output_type": "execute_result"
    }
   ],
   "source": [
    "valores_vazios = df.isna().sum()\n",
    "valores_vazios[valores_vazios > 0]"
   ]
  },
  {
   "cell_type": "markdown",
   "metadata": {},
   "source": [
    "### **Tratando valores vazios**"
   ]
  },
  {
   "cell_type": "markdown",
   "metadata": {},
   "source": [
    "Tipo Acidente"
   ]
  },
  {
   "cell_type": "code",
   "execution_count": 44,
   "metadata": {},
   "outputs": [
    {
     "data": {
      "text/plain": [
       "tipo_acidente\n",
       "Colisão traseira                   257322\n",
       "Saída de leito carroçável          228765\n",
       "Tombamento                         211941\n",
       "Queda de ocupante de veículo       194487\n",
       "Colisão transversal                139970\n",
       "Colisão frontal                    120755\n",
       "Colisão com objeto                 116167\n",
       "Capotamento                        101757\n",
       "Colisão lateral mesmo sentido       91558\n",
       "Atropelamento de Pedestre           54696\n",
       "Engavetamento                       42680\n",
       "Colisão lateral sentido oposto      36557\n",
       "Colisão lateral                     36178\n",
       "Colisão com objeto estático         30527\n",
       "Derramamento de carga               15616\n",
       "Incêndio                            15027\n",
       "Atropelamento de Animal             11427\n",
       "Eventos atípicos                     4772\n",
       "Colisão com objeto em movimento      1504\n",
       "Danos eventuais                      1181\n",
       "Name: count, dtype: int64"
      ]
     },
     "execution_count": 44,
     "metadata": {},
     "output_type": "execute_result"
    }
   ],
   "source": [
    "df['tipo_acidente'].value_counts()"
   ]
  },
  {
   "cell_type": "code",
   "execution_count": 45,
   "metadata": {},
   "outputs": [],
   "source": [
    "#Atribuindo a moda para o valor faltante\n",
    "df.fillna({\n",
    "    'tipo_acidente' : 'Colisão traseira'\n",
    "}, inplace=True)"
   ]
  },
  {
   "cell_type": "markdown",
   "metadata": {},
   "source": [
    "Coluna idade"
   ]
  },
  {
   "cell_type": "code",
   "execution_count": 46,
   "metadata": {},
   "outputs": [
    {
     "data": {
      "text/plain": [
       "count    1542594.00\n",
       "mean          39.15\n",
       "std           38.66\n",
       "min            0.00\n",
       "25%           27.00\n",
       "50%           37.00\n",
       "75%           48.00\n",
       "max         2022.00\n",
       "Name: idade, dtype: float64"
      ]
     },
     "execution_count": 46,
     "metadata": {},
     "output_type": "execute_result"
    }
   ],
   "source": [
    "# Dados da coluna idade(arredondando para não ficar em notação científica)\n",
    "round(df['idade'].describe(), 2)"
   ]
  },
  {
   "cell_type": "code",
   "execution_count": 47,
   "metadata": {},
   "outputs": [
    {
     "data": {
      "image/png": "[encoded data removed]",
      "text/plain": [
       "<Figure size 640x480 with 1 Axes>"
      ]
     },
     "metadata": {},
     "output_type": "display_data"
    }
   ],
   "source": [
    "sns.boxplot(y='idade', data=df, orient=\"v\")\n",
    "plt.show()"
   ]
  },
  {
   "cell_type": "markdown",
   "metadata": {},
   "source": [
    "Tratando os outliers da coluna idade"
   ]
  },
  {
   "cell_type": "code",
   "execution_count": 48,
   "metadata": {},
   "outputs": [
    {
     "data": {
      "text/plain": [
       "1535"
      ]
     },
     "execution_count": 48,
     "metadata": {},
     "output_type": "execute_result"
    }
   ],
   "source": [
    "#Quantidade de valores acima de 100 anos\n",
    "df.loc[df['idade'] > 100, 'idade'].shape[0]"
   ]
  },
  {
   "cell_type": "code",
   "execution_count": 49,
   "metadata": {},
   "outputs": [],
   "source": [
    "# Atribuindo o valor 37 (mediana), para as idades maiores que 100 anos\n",
    "df.loc[df['idade'] > 100, 'idade'] = 37"
   ]
  },
  {
   "cell_type": "code",
   "execution_count": 50,
   "metadata": {},
   "outputs": [
    {
     "data": {
      "text/plain": [
       "count    1542594.00\n",
       "mean          38.20\n",
       "std           15.13\n",
       "min            0.00\n",
       "25%           27.00\n",
       "50%           37.00\n",
       "75%           48.00\n",
       "max          100.00\n",
       "Name: idade, dtype: float64"
      ]
     },
     "execution_count": 50,
     "metadata": {},
     "output_type": "execute_result"
    }
   ],
   "source": [
    "# Verificando as mudanças\n",
    "round(df['idade'].describe(), 2)"
   ]
  },
  {
   "cell_type": "code",
   "execution_count": 51,
   "metadata": {},
   "outputs": [
    {
     "data": {
      "text/plain": [
       "3092"
      ]
     },
     "execution_count": 51,
     "metadata": {},
     "output_type": "execute_result"
    }
   ],
   "source": [
    "# Acredito que o valor 0 possa representar recém-nascidos e crianças abaixo de 1 ano de idade\n",
    "# Não necessariamente sendo valores incorretos\n",
    "df.loc[df['idade'] == 0, 'idade'].count()"
   ]
  },
  {
   "cell_type": "code",
   "execution_count": 52,
   "metadata": {},
   "outputs": [
    {
     "data": {
      "image/png": "[encoded data removed]",
      "text/plain": [
       "<Figure size 1800x500 with 3 Axes>"
      ]
     },
     "metadata": {},
     "output_type": "display_data"
    }
   ],
   "source": [
    "fig, axs = plt.subplots(1, 3, figsize=(18, 5))\n",
    "\n",
    "sns.boxplot(data=df, x='idade', ax=axs[0])\n",
    "axs[0].set_title('Boxplot')\n",
    "\n",
    "sns.histplot(data=df, x='idade', bins=20, kde=True, ax=axs[1])\n",
    "axs[1].set_title('Histograma')\n",
    "\n",
    "sns.violinplot(data=df, x='idade', ax=axs[2])\n",
    "axs[2].set_title('Violin Plot')\n",
    "\n",
    "plt.tight_layout()\n",
    "plt.show()"
   ]
  },
  {
   "cell_type": "code",
   "execution_count": 53,
   "metadata": {},
   "outputs": [],
   "source": [
    "# Preenchendo os valores ausentes na coluna 'idade' com uma amostra gerada a partir  da propria coluna idade\n",
    "\n",
    "amostra_idades = np.random.choice(df.loc[df['idade'] > 0, 'idade'], size=df['idade'].isna().sum(), replace=True)"
   ]
  },
  {
   "cell_type": "code",
   "execution_count": 54,
   "metadata": {},
   "outputs": [
    {
     "data": {
      "image/png": "[encoded data removed]",
      "text/plain": [
       "<Figure size 1400x500 with 2 Axes>"
      ]
     },
     "metadata": {},
     "output_type": "display_data"
    }
   ],
   "source": [
    "fig, axs = plt.subplots(1, 2, figsize=(14, 5))\n",
    "\n",
    "sns.histplot(amostra_idades, bins=20, kde=True, color='teal', ax=axs[0])\n",
    "axs[0].set_title(\"Histograma - Amostra idades\")\n",
    "\n",
    "\n",
    "sm.qqplot(amostra_idades, line ='q', ax=axs[1])\n",
    "axs[1].set_title(\"Distribuição\")\n",
    "\n",
    "plt.show()"
   ]
  },
  {
   "cell_type": "code",
   "execution_count": 55,
   "metadata": {},
   "outputs": [
    {
     "data": {
      "text/plain": [
       "170294"
      ]
     },
     "execution_count": 55,
     "metadata": {},
     "output_type": "execute_result"
    }
   ],
   "source": [
    "df.loc[df['idade'].isnull()].shape[0]"
   ]
  },
  {
   "cell_type": "code",
   "execution_count": 56,
   "metadata": {},
   "outputs": [
    {
     "data": {
      "text/plain": [
       "170294"
      ]
     },
     "execution_count": 56,
     "metadata": {},
     "output_type": "execute_result"
    }
   ],
   "source": [
    "amostra_idades.shape[0]"
   ]
  },
  {
   "cell_type": "code",
   "execution_count": 57,
   "metadata": {},
   "outputs": [],
   "source": [
    "df.loc[df['idade'].isnull(), 'idade'] = amostra_idades"
   ]
  },
  {
   "cell_type": "code",
   "execution_count": 58,
   "metadata": {},
   "outputs": [],
   "source": [
    "# Transformando o tipo de dado da coluna idade em número inteiro\n",
    "df['idade'] = df['idade'].astype(int)"
   ]
  },
  {
   "cell_type": "markdown",
   "metadata": {},
   "source": [
    "**Coluna BR**"
   ]
  },
  {
   "cell_type": "code",
   "execution_count": 59,
   "metadata": {},
   "outputs": [
    {
     "data": {
      "text/plain": [
       "br\n",
       "116.0    247596\n",
       "101.0    222187\n",
       "40.0      85861\n",
       "381.0     81705\n",
       "163.0     71025\n",
       "          ...  \n",
       "265.0        14\n",
       "437.0        10\n",
       "342.0         4\n",
       "475.0         2\n",
       "477.0         2\n",
       "Name: count, Length: 122, dtype: int64"
      ]
     },
     "execution_count": 59,
     "metadata": {},
     "output_type": "execute_result"
    }
   ],
   "source": [
    "df['br'].value_counts()"
   ]
  },
  {
   "cell_type": "code",
   "execution_count": 60,
   "metadata": {},
   "outputs": [
    {
     "data": {
      "text/html": [
       "<div>\n",
       "<style scoped>\n",
       "    .dataframe tbody tr th:only-of-type {\n",
       "        vertical-align: middle;\n",
       "    }\n",
       "\n",
       "    .dataframe tbody tr th {\n",
       "        vertical-align: top;\n",
       "    }\n",
       "\n",
       "    .dataframe thead th {\n",
       "        text-align: right;\n",
       "    }\n",
       "</style>\n",
       "<table border=\"1\" class=\"dataframe\">\n",
       "  <thead>\n",
       "    <tr style=\"text-align: right;\">\n",
       "      <th></th>\n",
       "      <th>br</th>\n",
       "      <th>municipio</th>\n",
       "    </tr>\n",
       "  </thead>\n",
       "  <tbody>\n",
       "    <tr>\n",
       "      <th>559</th>\n",
       "      <td>NaN</td>\n",
       "      <td>SABARA</td>\n",
       "    </tr>\n",
       "    <tr>\n",
       "      <th>4491</th>\n",
       "      <td>NaN</td>\n",
       "      <td>RIO DE JANEIRO</td>\n",
       "    </tr>\n",
       "    <tr>\n",
       "      <th>4492</th>\n",
       "      <td>NaN</td>\n",
       "      <td>RIO DE JANEIRO</td>\n",
       "    </tr>\n",
       "    <tr>\n",
       "      <th>4493</th>\n",
       "      <td>NaN</td>\n",
       "      <td>RIO DE JANEIRO</td>\n",
       "    </tr>\n",
       "    <tr>\n",
       "      <th>6402</th>\n",
       "      <td>NaN</td>\n",
       "      <td>SANTO ANTONIO DO LEVERGER</td>\n",
       "    </tr>\n",
       "    <tr>\n",
       "      <th>...</th>\n",
       "      <td>...</td>\n",
       "      <td>...</td>\n",
       "    </tr>\n",
       "    <tr>\n",
       "      <th>1708538</th>\n",
       "      <td>NaN</td>\n",
       "      <td>ELDORADO DO SUL</td>\n",
       "    </tr>\n",
       "    <tr>\n",
       "      <th>1708539</th>\n",
       "      <td>NaN</td>\n",
       "      <td>ELDORADO DO SUL</td>\n",
       "    </tr>\n",
       "    <tr>\n",
       "      <th>1708540</th>\n",
       "      <td>NaN</td>\n",
       "      <td>ELDORADO DO SUL</td>\n",
       "    </tr>\n",
       "    <tr>\n",
       "      <th>1708541</th>\n",
       "      <td>NaN</td>\n",
       "      <td>ELDORADO DO SUL</td>\n",
       "    </tr>\n",
       "    <tr>\n",
       "      <th>1709693</th>\n",
       "      <td>NaN</td>\n",
       "      <td>ITAPEMIRIM</td>\n",
       "    </tr>\n",
       "  </tbody>\n",
       "</table>\n",
       "<p>5781 rows × 2 columns</p>\n",
       "</div>"
      ],
      "text/plain": [
       "         br                  municipio\n",
       "559     NaN                     SABARA\n",
       "4491    NaN             RIO DE JANEIRO\n",
       "4492    NaN             RIO DE JANEIRO\n",
       "4493    NaN             RIO DE JANEIRO\n",
       "6402    NaN  SANTO ANTONIO DO LEVERGER\n",
       "...      ..                        ...\n",
       "1708538 NaN            ELDORADO DO SUL\n",
       "1708539 NaN            ELDORADO DO SUL\n",
       "1708540 NaN            ELDORADO DO SUL\n",
       "1708541 NaN            ELDORADO DO SUL\n",
       "1709693 NaN                 ITAPEMIRIM\n",
       "\n",
       "[5781 rows x 2 columns]"
      ]
     },
     "execution_count": 60,
     "metadata": {},
     "output_type": "execute_result"
    }
   ],
   "source": [
    "# Verificando os valores onde a 'br' está vazia\n",
    "df.loc[df['br'].isna(), ['br', 'municipio']]"
   ]
  },
  {
   "cell_type": "code",
   "execution_count": 61,
   "metadata": {},
   "outputs": [],
   "source": [
    "# Criando uma função moda para encontrar a moda da 'br' com base no municipio\n",
    "# Essa função é necessaria pois há valores nulos na coluna\n",
    "\n",
    "def moda(coluna):\n",
    "    moda = coluna.mode()\n",
    "    if len(moda) > 0:\n",
    "        return moda.iloc[0]\n",
    "    else:\n",
    "        return None"
   ]
  },
  {
   "cell_type": "code",
   "execution_count": 62,
   "metadata": {},
   "outputs": [
    {
     "data": {
      "text/plain": [
       "municipio\n",
       "ABADIA DE GOIAS     60.0\n",
       "ABADIANIA           60.0\n",
       "ABARE              116.0\n",
       "ABEL FIGUEIREDO    222.0\n",
       "ABRE CAMPO         262.0\n",
       "                   ...  \n",
       "XAPURI             317.0\n",
       "XAXIM              282.0\n",
       "XEXEU              101.0\n",
       "XINGUARA           155.0\n",
       "ZE DOCA            316.0\n",
       "Name: br, Length: 1985, dtype: float64"
      ]
     },
     "execution_count": 62,
     "metadata": {},
     "output_type": "execute_result"
    }
   ],
   "source": [
    "# Escolhendo as colunas e aplicando a função\n",
    "\n",
    "moda_br_municipio = df.groupby('municipio')['br'].agg(moda)\n",
    "moda_br_municipio"
   ]
  },
  {
   "cell_type": "code",
   "execution_count": 63,
   "metadata": {},
   "outputs": [],
   "source": [
    "# Aplicando a função\n",
    "\n",
    "df['br'] = df.apply(lambda row: moda_br_municipio[row['municipio']] if pd.isna(row['br']) else row['br'], axis=1)"
   ]
  },
  {
   "cell_type": "code",
   "execution_count": 64,
   "metadata": {},
   "outputs": [
    {
     "data": {
      "text/plain": [
       "array(['GALIA', 'SAO JOAO DO PIAUI', 'AGUA AZUL DO NORTE', 'PEROLA',\n",
       "       'PALOTINA', 'SANTA CRUZ DO RIO PARDO', 'CAPIVARI DO SUL',\n",
       "       'RUBINEIA', 'LAVRAS DO SUL', 'BODOQUENA', 'ALMEIRIM', 'URUPES',\n",
       "       'CORONEL FREITAS', 'BOCA DA MATA', 'TERESINA DE GOIAS', 'TUCUMA',\n",
       "       'ARAPIRACA', 'FRANCO DA ROCHA', 'GARRAFAO DO NORTE', 'FARROUPILHA',\n",
       "       'AMETISTA DO SUL', 'TRAMANDAI', 'PORTO NACIONAL',\n",
       "       'SAO FELIX DO XINGU'], dtype=object)"
      ]
     },
     "execution_count": 64,
     "metadata": {},
     "output_type": "execute_result"
    }
   ],
   "source": [
    "df.loc[df['br'].isna(), 'municipio'].unique()"
   ]
  },
  {
   "cell_type": "markdown",
   "metadata": {},
   "source": [
    "ainda sobram valores faltantes, utilizarei a coluna 'uf' como base agora"
   ]
  },
  {
   "cell_type": "code",
   "execution_count": 65,
   "metadata": {},
   "outputs": [],
   "source": [
    "moda_br_uf = df.groupby('uf')['br'].agg(moda)"
   ]
  },
  {
   "cell_type": "code",
   "execution_count": 66,
   "metadata": {},
   "outputs": [],
   "source": [
    "df['br'] = df.apply(lambda row: moda_br_uf[row['uf']] if pd.isna(row['br']) else row['br'], axis=1)"
   ]
  },
  {
   "cell_type": "code",
   "execution_count": 67,
   "metadata": {},
   "outputs": [
    {
     "data": {
      "text/plain": [
       "0"
      ]
     },
     "execution_count": 67,
     "metadata": {},
     "output_type": "execute_result"
    }
   ],
   "source": [
    "df['br'].isna().sum()"
   ]
  },
  {
   "cell_type": "code",
   "execution_count": 68,
   "metadata": {},
   "outputs": [],
   "source": [
    "df['br'] = df['br'].astype(int)"
   ]
  },
  {
   "cell_type": "markdown",
   "metadata": {},
   "source": [
    "**Coluna KM**"
   ]
  },
  {
   "cell_type": "code",
   "execution_count": 69,
   "metadata": {},
   "outputs": [
    {
     "data": {
      "text/plain": [
       "km\n",
       "2        6249\n",
       "1        6173\n",
       "3        6110\n",
       "5        5698\n",
       "4        4803\n",
       "         ... \n",
       "942,9       1\n",
       "642,2       1\n",
       "698,3       1\n",
       "769,1       1\n",
       "868,2       1\n",
       "Name: count, Length: 9352, dtype: int64"
      ]
     },
     "execution_count": 69,
     "metadata": {},
     "output_type": "execute_result"
    }
   ],
   "source": [
    "df['km'].value_counts()"
   ]
  },
  {
   "cell_type": "code",
   "execution_count": 70,
   "metadata": {},
   "outputs": [],
   "source": [
    "# Retirando o ponto flutuante da coluna 'km'\n",
    "\n",
    "df['km'] = df['km'].str.split(',').str[0]"
   ]
  },
  {
   "cell_type": "code",
   "execution_count": 71,
   "metadata": {},
   "outputs": [
    {
     "data": {
      "text/plain": [
       "5781"
      ]
     },
     "execution_count": 71,
     "metadata": {},
     "output_type": "execute_result"
    }
   ],
   "source": [
    "quantidade_km_nan = df['km'].isna().sum()\n",
    "quantidade_km_nan"
   ]
  },
  {
   "cell_type": "code",
   "execution_count": 72,
   "metadata": {},
   "outputs": [],
   "source": [
    "df['km'] = df['km'].fillna(-1).astype(int)\n",
    "df['km'] = df['km'].astype(int)"
   ]
  },
  {
   "cell_type": "code",
   "execution_count": 73,
   "metadata": {},
   "outputs": [
    {
     "data": {
      "image/png": "[encoded data removed]",
      "text/plain": [
       "<Figure size 1800x500 with 3 Axes>"
      ]
     },
     "metadata": {},
     "output_type": "display_data"
    }
   ],
   "source": [
    "fig, axs = plt.subplots(1, 3, figsize=(18, 5))\n",
    "\n",
    "sns.boxplot(data=df, x='km', ax=axs[0])\n",
    "axs[0].set_title('Boxplot')\n",
    "\n",
    "sns.histplot(data=df, x='km', bins=20, kde=True, ax=axs[1])\n",
    "axs[1].set_title('Histograma')\n",
    "\n",
    "sns.violinplot(data=df, y='km', ax=axs[2], orient='v')\n",
    "axs[2].set_title('Violin Plot')\n",
    "\n",
    "plt.tight_layout()\n",
    "plt.show()"
   ]
  },
  {
   "cell_type": "code",
   "execution_count": 74,
   "metadata": {},
   "outputs": [
    {
     "data": {
      "image/png": "[encoded data removed]",
      "text/plain": [
       "<Figure size 1200x500 with 2 Axes>"
      ]
     },
     "metadata": {},
     "output_type": "display_data"
    }
   ],
   "source": [
    "# Gerando uma amostra com base nos próprios dados da coluna km\n",
    "\n",
    "amostra_km = np.random.choice(df['km'], size= quantidade_km_nan, replace=True)\n",
    "\n",
    "fig, axs = plt.subplots(1, 2, figsize=(12, 5))\n",
    "\n",
    "sns.histplot(amostra_km, kde=True, color='teal', ax=axs[0])\n",
    "axs[0].set_title('Histograma')\n",
    "\n",
    "sns.violinplot(amostra_km, color='teal', ax=axs[1])\n",
    "axs[1].set_title(\"Violin\")\n",
    "\n",
    "plt.tight_layout()\n",
    "plt.show()"
   ]
  },
  {
   "cell_type": "code",
   "execution_count": 75,
   "metadata": {},
   "outputs": [],
   "source": [
    "df.loc[df['km'] == -1, 'km'] = amostra_km"
   ]
  },
  {
   "cell_type": "markdown",
   "metadata": {},
   "source": [
    "Ano de Fabricação"
   ]
  },
  {
   "cell_type": "code",
   "execution_count": 76,
   "metadata": {},
   "outputs": [
    {
     "data": {
      "text/plain": [
       "count    1618511.00\n",
       "mean        1923.22\n",
       "std          411.81\n",
       "min            0.00\n",
       "25%         2007.00\n",
       "50%         2012.00\n",
       "75%         2017.00\n",
       "max         2023.00\n",
       "Name: ano_fabricacao_veiculo, dtype: float64"
      ]
     },
     "execution_count": 76,
     "metadata": {},
     "output_type": "execute_result"
    }
   ],
   "source": [
    "round(df['ano_fabricacao_veiculo'].describe(), 2)"
   ]
  },
  {
   "cell_type": "code",
   "execution_count": 77,
   "metadata": {},
   "outputs": [
    {
     "data": {
      "image/png": "[encoded data removed]",
      "text/plain": [
       "<Figure size 640x480 with 1 Axes>"
      ]
     },
     "metadata": {},
     "output_type": "display_data"
    }
   ],
   "source": [
    "sns.boxplot(data=df, x='ano_fabricacao_veiculo')\n",
    "plt.show()"
   ]
  },
  {
   "cell_type": "markdown",
   "metadata": {},
   "source": [
    "Há presença de valores nulos, vazios e menores que 1900"
   ]
  },
  {
   "cell_type": "code",
   "execution_count": 78,
   "metadata": {},
   "outputs": [
    {
     "data": {
      "text/plain": [
       "ano_fabricacao_veiculo\n",
       "0.0       70931\n",
       "1900.0      139\n",
       "1946.0        8\n",
       "1929.0        1\n",
       "Name: count, dtype: int64"
      ]
     },
     "execution_count": 78,
     "metadata": {},
     "output_type": "execute_result"
    }
   ],
   "source": [
    "df.loc[df['ano_fabricacao_veiculo'] <= 1950, 'ano_fabricacao_veiculo'].value_counts()"
   ]
  },
  {
   "cell_type": "code",
   "execution_count": 79,
   "metadata": {},
   "outputs": [
    {
     "data": {
      "image/png": "[encoded data removed]",
      "text/plain": [
       "<Figure size 640x480 with 1 Axes>"
      ]
     },
     "metadata": {},
     "output_type": "display_data"
    }
   ],
   "source": [
    "sns.histplot(data=df.loc[df['ano_fabricacao_veiculo'] >= 1950], x='ano_fabricacao_veiculo', bins=10, kde=True, color='teal')\n",
    "plt.show()"
   ]
  },
  {
   "cell_type": "code",
   "execution_count": 80,
   "metadata": {},
   "outputs": [
    {
     "data": {
      "image/png": "[encoded data removed]",
      "text/plain": [
       "<Figure size 640x480 with 1 Axes>"
      ]
     },
     "metadata": {},
     "output_type": "display_data"
    }
   ],
   "source": [
    "# Gerando uma amostra para a coluna ano_fabricacao_veiculo para os valores nulos e vazios\n",
    "\n",
    "quantidade_fab0 = df.loc[df['ano_fabricacao_veiculo'] <= 1950].shape[0] + df['ano_fabricacao_veiculo'].isnull().sum()\n",
    "\n",
    "df_filtrofab0 = df.loc[df['ano_fabricacao_veiculo'] > 1950, 'ano_fabricacao_veiculo']\n",
    "\n",
    "amostra_fab = np.random.choice(df_filtrofab0, size=quantidade_fab0, replace=True)\n",
    "sns.histplot(amostra_fab, bins=12, kde=True)\n",
    "plt.show()"
   ]
  },
  {
   "cell_type": "code",
   "execution_count": 81,
   "metadata": {},
   "outputs": [
    {
     "data": {
      "image/png": "[encoded data removed]",
      "text/plain": [
       "<Figure size 1400x800 with 4 Axes>"
      ]
     },
     "metadata": {},
     "output_type": "display_data"
    }
   ],
   "source": [
    "fig, axs = plt.subplots(2, 2, figsize=(14, 8))\n",
    "\n",
    "sns.histplot(df_filtrofab0, ax=axs[0, 0], bins=12, color='teal', kde=True)\n",
    "axs[0, 0].set_title('Histograma Antes')\n",
    "\n",
    "sns.violinplot(df_filtrofab0, ax=axs[0, 1], color='teal')\n",
    "axs[0, 1].set_title('Violino Antes')\n",
    "\n",
    "# Substituindo os dados inconsistentes pela amostra gerada\n",
    "df.loc[(df['ano_fabricacao_veiculo'].isna()) | (df['ano_fabricacao_veiculo'] <= 1950), 'ano_fabricacao_veiculo'] = amostra_fab\n",
    "\n",
    "anofab = df['ano_fabricacao_veiculo']\n",
    "\n",
    "sns.histplot(anofab, ax=axs[1, 0], bins=12, color='teal', kde=True)\n",
    "axs[1, 0].set_title('Histograma Depois')\n",
    "\n",
    "sns.violinplot(anofab, ax=axs[1, 1], color='teal')\n",
    "axs[1, 1].set_title('Violino Depois')\n",
    "\n",
    "plt.tight_layout()\n",
    "plt.show()"
   ]
  },
  {
   "cell_type": "code",
   "execution_count": 82,
   "metadata": {},
   "outputs": [],
   "source": [
    "df['ano_fabricacao_veiculo'] = df['ano_fabricacao_veiculo'].astype(int)"
   ]
  },
  {
   "cell_type": "markdown",
   "metadata": {},
   "source": [
    "Delegacia"
   ]
  },
  {
   "cell_type": "code",
   "execution_count": 83,
   "metadata": {},
   "outputs": [
    {
     "data": {
      "text/plain": [
       "delegacia\n",
       "DEL01-PR    72972\n",
       "DEL01-MG    45984\n",
       "DEL01-SC    35572\n",
       "DEL04-SC    35195\n",
       "DEL01-SP    30891\n",
       "            ...  \n",
       "DEL07-SP     2141\n",
       "DEL12-RS     2026\n",
       "DEL02-PI     1708\n",
       "SEOP-RR        67\n",
       "SEOP-AP        54\n",
       "Name: count, Length: 153, dtype: int64"
      ]
     },
     "execution_count": 83,
     "metadata": {},
     "output_type": "execute_result"
    }
   ],
   "source": [
    "df['delegacia'].value_counts()"
   ]
  },
  {
   "cell_type": "code",
   "execution_count": 84,
   "metadata": {},
   "outputs": [],
   "source": [
    "moda_delagacia_municipio = df.groupby('municipio')['delegacia'].agg(moda)\n",
    "moda_delagacia_uf = df.groupby('uf')['delegacia'].agg(moda)"
   ]
  },
  {
   "cell_type": "code",
   "execution_count": 85,
   "metadata": {},
   "outputs": [],
   "source": [
    "df['delegacia'] = df.apply(lambda row: moda_delagacia_municipio[row['municipio']] if pd.isna(row['delegacia']) else row['delegacia'], axis=1)\n",
    "df['delegacia'] = df.apply(lambda row: moda_delagacia_uf[row['uf']] if pd.isna(row['delegacia']) else row['delegacia'], axis=1)"
   ]
  },
  {
   "cell_type": "markdown",
   "metadata": {},
   "source": [
    "Foi observado anteriormente tipos de dados incorretos"
   ]
  },
  {
   "cell_type": "code",
   "execution_count": 86,
   "metadata": {},
   "outputs": [
    {
     "data": {
      "text/plain": [
       "id                        float64\n",
       "data_inversa               object\n",
       "dia_semana                 object\n",
       "horario                    object\n",
       "uf                         object\n",
       "br                          int32\n",
       "km                          int32\n",
       "municipio                  object\n",
       "causa_acidente             object\n",
       "ordem_tipo_acidente         int64\n",
       "tipo_acidente              object\n",
       "classificacao_acidente     object\n",
       "fase_dia                   object\n",
       "sentido_via                object\n",
       "condicao_metereologica     object\n",
       "tipo_pista                 object\n",
       "tracado_via                object\n",
       "uso_solo                   object\n",
       "tipo_veiculo               object\n",
       "ano_fabricacao_veiculo      int32\n",
       "dtype: object"
      ]
     },
     "execution_count": 86,
     "metadata": {},
     "output_type": "execute_result"
    }
   ],
   "source": [
    "df.dtypes[:20]"
   ]
  },
  {
   "cell_type": "code",
   "execution_count": 87,
   "metadata": {},
   "outputs": [
    {
     "data": {
      "text/plain": [
       "tipo_envolvido    object\n",
       "estado_fisico     object\n",
       "idade              int32\n",
       "sexo              object\n",
       "ilesos             int64\n",
       "feridos_leves      int64\n",
       "feridos_graves     int64\n",
       "mortos             int64\n",
       "latitude          object\n",
       "longitude         object\n",
       "delegacia         object\n",
       "dtype: object"
      ]
     },
     "execution_count": 87,
     "metadata": {},
     "output_type": "execute_result"
    }
   ],
   "source": [
    "df.dtypes[20:]"
   ]
  },
  {
   "cell_type": "markdown",
   "metadata": {},
   "source": [
    "O tipo object significa que pode haver dois ou mais tipos de dados misturados"
   ]
  },
  {
   "cell_type": "markdown",
   "metadata": {},
   "source": [
    "***Formatando os tipos de dados***"
   ]
  },
  {
   "cell_type": "markdown",
   "metadata": {},
   "source": [
    "**Coluna id**"
   ]
  },
  {
   "cell_type": "code",
   "execution_count": 88,
   "metadata": {},
   "outputs": [
    {
     "data": {
      "text/plain": [
       "id\n",
       "368980.0    2100\n",
       "513470.0    1512\n",
       "508740.0     990\n",
       "404997.0     980\n",
       "543737.0     900\n",
       "            ... \n",
       "510016.0       1\n",
       "280674.0       1\n",
       "510018.0       1\n",
       "510021.0       1\n",
       "475115.0       1\n",
       "Name: count, Length: 260480, dtype: int64"
      ]
     },
     "execution_count": 88,
     "metadata": {},
     "output_type": "execute_result"
    }
   ],
   "source": [
    "df['id'].value_counts()"
   ]
  },
  {
   "cell_type": "code",
   "execution_count": 89,
   "metadata": {},
   "outputs": [
    {
     "data": {
      "text/html": [
       "<div>\n",
       "<style scoped>\n",
       "    .dataframe tbody tr th:only-of-type {\n",
       "        vertical-align: middle;\n",
       "    }\n",
       "\n",
       "    .dataframe tbody tr th {\n",
       "        vertical-align: top;\n",
       "    }\n",
       "\n",
       "    .dataframe thead th {\n",
       "        text-align: right;\n",
       "    }\n",
       "</style>\n",
       "<table border=\"1\" class=\"dataframe\">\n",
       "  <thead>\n",
       "    <tr style=\"text-align: right;\">\n",
       "      <th></th>\n",
       "      <th>id</th>\n",
       "      <th>data_inversa</th>\n",
       "      <th>dia_semana</th>\n",
       "      <th>horario</th>\n",
       "      <th>uf</th>\n",
       "      <th>br</th>\n",
       "      <th>km</th>\n",
       "      <th>municipio</th>\n",
       "      <th>causa_acidente</th>\n",
       "      <th>ordem_tipo_acidente</th>\n",
       "      <th>...</th>\n",
       "      <th>estado_fisico</th>\n",
       "      <th>idade</th>\n",
       "      <th>sexo</th>\n",
       "      <th>ilesos</th>\n",
       "      <th>feridos_leves</th>\n",
       "      <th>feridos_graves</th>\n",
       "      <th>mortos</th>\n",
       "      <th>latitude</th>\n",
       "      <th>longitude</th>\n",
       "      <th>delegacia</th>\n",
       "    </tr>\n",
       "  </thead>\n",
       "  <tbody>\n",
       "    <tr>\n",
       "      <th>1576</th>\n",
       "      <td>260421.0</td>\n",
       "      <td>2020-01-02</td>\n",
       "      <td>quinta-feira</td>\n",
       "      <td>19:00:00</td>\n",
       "      <td>MG</td>\n",
       "      <td>381</td>\n",
       "      <td>484</td>\n",
       "      <td>BETIM</td>\n",
       "      <td>Defeito na Via</td>\n",
       "      <td>1</td>\n",
       "      <td>...</td>\n",
       "      <td>Lesões Leves</td>\n",
       "      <td>41</td>\n",
       "      <td>Masculino</td>\n",
       "      <td>0</td>\n",
       "      <td>1</td>\n",
       "      <td>0</td>\n",
       "      <td>0</td>\n",
       "      <td>-19,95624622</td>\n",
       "      <td>-44,09843445</td>\n",
       "      <td>DEL01-MG</td>\n",
       "    </tr>\n",
       "    <tr>\n",
       "      <th>1577</th>\n",
       "      <td>260421.0</td>\n",
       "      <td>2020-01-02</td>\n",
       "      <td>quinta-feira</td>\n",
       "      <td>19:00:00</td>\n",
       "      <td>MG</td>\n",
       "      <td>381</td>\n",
       "      <td>484</td>\n",
       "      <td>BETIM</td>\n",
       "      <td>Defeito na Via</td>\n",
       "      <td>1</td>\n",
       "      <td>...</td>\n",
       "      <td>Lesões Leves</td>\n",
       "      <td>22</td>\n",
       "      <td>Masculino</td>\n",
       "      <td>0</td>\n",
       "      <td>1</td>\n",
       "      <td>0</td>\n",
       "      <td>0</td>\n",
       "      <td>-19,95624622</td>\n",
       "      <td>-44,09843445</td>\n",
       "      <td>DEL01-MG</td>\n",
       "    </tr>\n",
       "    <tr>\n",
       "      <th>1578</th>\n",
       "      <td>260421.0</td>\n",
       "      <td>2020-01-02</td>\n",
       "      <td>quinta-feira</td>\n",
       "      <td>19:00:00</td>\n",
       "      <td>MG</td>\n",
       "      <td>381</td>\n",
       "      <td>484</td>\n",
       "      <td>BETIM</td>\n",
       "      <td>Defeito na Via</td>\n",
       "      <td>1</td>\n",
       "      <td>...</td>\n",
       "      <td>Lesões Leves</td>\n",
       "      <td>43</td>\n",
       "      <td>Feminino</td>\n",
       "      <td>0</td>\n",
       "      <td>1</td>\n",
       "      <td>0</td>\n",
       "      <td>0</td>\n",
       "      <td>-19,95624622</td>\n",
       "      <td>-44,09843445</td>\n",
       "      <td>DEL01-MG</td>\n",
       "    </tr>\n",
       "    <tr>\n",
       "      <th>1579</th>\n",
       "      <td>260421.0</td>\n",
       "      <td>2020-01-02</td>\n",
       "      <td>quinta-feira</td>\n",
       "      <td>19:00:00</td>\n",
       "      <td>MG</td>\n",
       "      <td>381</td>\n",
       "      <td>484</td>\n",
       "      <td>BETIM</td>\n",
       "      <td>Defeito na Via</td>\n",
       "      <td>1</td>\n",
       "      <td>...</td>\n",
       "      <td>Lesões Leves</td>\n",
       "      <td>27</td>\n",
       "      <td>Feminino</td>\n",
       "      <td>0</td>\n",
       "      <td>1</td>\n",
       "      <td>0</td>\n",
       "      <td>0</td>\n",
       "      <td>-19,95624622</td>\n",
       "      <td>-44,09843445</td>\n",
       "      <td>DEL01-MG</td>\n",
       "    </tr>\n",
       "    <tr>\n",
       "      <th>1580</th>\n",
       "      <td>260421.0</td>\n",
       "      <td>2020-01-02</td>\n",
       "      <td>quinta-feira</td>\n",
       "      <td>19:00:00</td>\n",
       "      <td>MG</td>\n",
       "      <td>381</td>\n",
       "      <td>484</td>\n",
       "      <td>BETIM</td>\n",
       "      <td>Defeito na Via</td>\n",
       "      <td>1</td>\n",
       "      <td>...</td>\n",
       "      <td>Lesões Leves</td>\n",
       "      <td>32</td>\n",
       "      <td>Feminino</td>\n",
       "      <td>0</td>\n",
       "      <td>1</td>\n",
       "      <td>0</td>\n",
       "      <td>0</td>\n",
       "      <td>-19,95624622</td>\n",
       "      <td>-44,09843445</td>\n",
       "      <td>DEL01-MG</td>\n",
       "    </tr>\n",
       "    <tr>\n",
       "      <th>1581</th>\n",
       "      <td>260421.0</td>\n",
       "      <td>2020-01-02</td>\n",
       "      <td>quinta-feira</td>\n",
       "      <td>19:00:00</td>\n",
       "      <td>MG</td>\n",
       "      <td>381</td>\n",
       "      <td>484</td>\n",
       "      <td>BETIM</td>\n",
       "      <td>Defeito na Via</td>\n",
       "      <td>1</td>\n",
       "      <td>...</td>\n",
       "      <td>Lesões Leves</td>\n",
       "      <td>24</td>\n",
       "      <td>Feminino</td>\n",
       "      <td>0</td>\n",
       "      <td>1</td>\n",
       "      <td>0</td>\n",
       "      <td>0</td>\n",
       "      <td>-19,95624622</td>\n",
       "      <td>-44,09843445</td>\n",
       "      <td>DEL01-MG</td>\n",
       "    </tr>\n",
       "    <tr>\n",
       "      <th>1582</th>\n",
       "      <td>260421.0</td>\n",
       "      <td>2020-01-02</td>\n",
       "      <td>quinta-feira</td>\n",
       "      <td>19:00:00</td>\n",
       "      <td>MG</td>\n",
       "      <td>381</td>\n",
       "      <td>484</td>\n",
       "      <td>BETIM</td>\n",
       "      <td>Defeito na Via</td>\n",
       "      <td>1</td>\n",
       "      <td>...</td>\n",
       "      <td>Lesões Leves</td>\n",
       "      <td>22</td>\n",
       "      <td>Masculino</td>\n",
       "      <td>0</td>\n",
       "      <td>1</td>\n",
       "      <td>0</td>\n",
       "      <td>0</td>\n",
       "      <td>-19,95624622</td>\n",
       "      <td>-44,09843445</td>\n",
       "      <td>DEL01-MG</td>\n",
       "    </tr>\n",
       "    <tr>\n",
       "      <th>1583</th>\n",
       "      <td>260421.0</td>\n",
       "      <td>2020-01-02</td>\n",
       "      <td>quinta-feira</td>\n",
       "      <td>19:00:00</td>\n",
       "      <td>MG</td>\n",
       "      <td>381</td>\n",
       "      <td>484</td>\n",
       "      <td>BETIM</td>\n",
       "      <td>Defeito na Via</td>\n",
       "      <td>1</td>\n",
       "      <td>...</td>\n",
       "      <td>Ileso</td>\n",
       "      <td>32</td>\n",
       "      <td>Masculino</td>\n",
       "      <td>1</td>\n",
       "      <td>0</td>\n",
       "      <td>0</td>\n",
       "      <td>0</td>\n",
       "      <td>-19,95624622</td>\n",
       "      <td>-44,09843445</td>\n",
       "      <td>DEL01-MG</td>\n",
       "    </tr>\n",
       "    <tr>\n",
       "      <th>1584</th>\n",
       "      <td>260421.0</td>\n",
       "      <td>2020-01-02</td>\n",
       "      <td>quinta-feira</td>\n",
       "      <td>19:00:00</td>\n",
       "      <td>MG</td>\n",
       "      <td>381</td>\n",
       "      <td>484</td>\n",
       "      <td>BETIM</td>\n",
       "      <td>Defeito na Via</td>\n",
       "      <td>1</td>\n",
       "      <td>...</td>\n",
       "      <td>Lesões Leves</td>\n",
       "      <td>63</td>\n",
       "      <td>Feminino</td>\n",
       "      <td>0</td>\n",
       "      <td>1</td>\n",
       "      <td>0</td>\n",
       "      <td>0</td>\n",
       "      <td>-19,95624622</td>\n",
       "      <td>-44,09843445</td>\n",
       "      <td>DEL01-MG</td>\n",
       "    </tr>\n",
       "    <tr>\n",
       "      <th>1585</th>\n",
       "      <td>260421.0</td>\n",
       "      <td>2020-01-02</td>\n",
       "      <td>quinta-feira</td>\n",
       "      <td>19:00:00</td>\n",
       "      <td>MG</td>\n",
       "      <td>381</td>\n",
       "      <td>484</td>\n",
       "      <td>BETIM</td>\n",
       "      <td>Defeito na Via</td>\n",
       "      <td>1</td>\n",
       "      <td>...</td>\n",
       "      <td>Lesões Leves</td>\n",
       "      <td>37</td>\n",
       "      <td>Feminino</td>\n",
       "      <td>0</td>\n",
       "      <td>1</td>\n",
       "      <td>0</td>\n",
       "      <td>0</td>\n",
       "      <td>-19,95624622</td>\n",
       "      <td>-44,09843445</td>\n",
       "      <td>DEL01-MG</td>\n",
       "    </tr>\n",
       "    <tr>\n",
       "      <th>1586</th>\n",
       "      <td>260421.0</td>\n",
       "      <td>2020-01-02</td>\n",
       "      <td>quinta-feira</td>\n",
       "      <td>19:00:00</td>\n",
       "      <td>MG</td>\n",
       "      <td>381</td>\n",
       "      <td>484</td>\n",
       "      <td>BETIM</td>\n",
       "      <td>Defeito na Via</td>\n",
       "      <td>2</td>\n",
       "      <td>...</td>\n",
       "      <td>Lesões Leves</td>\n",
       "      <td>22</td>\n",
       "      <td>Masculino</td>\n",
       "      <td>0</td>\n",
       "      <td>1</td>\n",
       "      <td>0</td>\n",
       "      <td>0</td>\n",
       "      <td>-19,95624622</td>\n",
       "      <td>-44,09843445</td>\n",
       "      <td>DEL01-MG</td>\n",
       "    </tr>\n",
       "    <tr>\n",
       "      <th>1587</th>\n",
       "      <td>260421.0</td>\n",
       "      <td>2020-01-02</td>\n",
       "      <td>quinta-feira</td>\n",
       "      <td>19:00:00</td>\n",
       "      <td>MG</td>\n",
       "      <td>381</td>\n",
       "      <td>484</td>\n",
       "      <td>BETIM</td>\n",
       "      <td>Defeito na Via</td>\n",
       "      <td>1</td>\n",
       "      <td>...</td>\n",
       "      <td>Lesões Leves</td>\n",
       "      <td>25</td>\n",
       "      <td>Feminino</td>\n",
       "      <td>0</td>\n",
       "      <td>1</td>\n",
       "      <td>0</td>\n",
       "      <td>0</td>\n",
       "      <td>-19,95624622</td>\n",
       "      <td>-44,09843445</td>\n",
       "      <td>DEL01-MG</td>\n",
       "    </tr>\n",
       "  </tbody>\n",
       "</table>\n",
       "<p>12 rows × 31 columns</p>\n",
       "</div>"
      ],
      "text/plain": [
       "            id data_inversa    dia_semana   horario  uf   br   km municipio  \\\n",
       "1576  260421.0   2020-01-02  quinta-feira  19:00:00  MG  381  484     BETIM   \n",
       "1577  260421.0   2020-01-02  quinta-feira  19:00:00  MG  381  484     BETIM   \n",
       "1578  260421.0   2020-01-02  quinta-feira  19:00:00  MG  381  484     BETIM   \n",
       "1579  260421.0   2020-01-02  quinta-feira  19:00:00  MG  381  484     BETIM   \n",
       "1580  260421.0   2020-01-02  quinta-feira  19:00:00  MG  381  484     BETIM   \n",
       "1581  260421.0   2020-01-02  quinta-feira  19:00:00  MG  381  484     BETIM   \n",
       "1582  260421.0   2020-01-02  quinta-feira  19:00:00  MG  381  484     BETIM   \n",
       "1583  260421.0   2020-01-02  quinta-feira  19:00:00  MG  381  484     BETIM   \n",
       "1584  260421.0   2020-01-02  quinta-feira  19:00:00  MG  381  484     BETIM   \n",
       "1585  260421.0   2020-01-02  quinta-feira  19:00:00  MG  381  484     BETIM   \n",
       "1586  260421.0   2020-01-02  quinta-feira  19:00:00  MG  381  484     BETIM   \n",
       "1587  260421.0   2020-01-02  quinta-feira  19:00:00  MG  381  484     BETIM   \n",
       "\n",
       "      causa_acidente  ordem_tipo_acidente  ... estado_fisico idade       sexo  \\\n",
       "1576  Defeito na Via                    1  ...  Lesões Leves    41  Masculino   \n",
       "1577  Defeito na Via                    1  ...  Lesões Leves    22  Masculino   \n",
       "1578  Defeito na Via                    1  ...  Lesões Leves    43   Feminino   \n",
       "1579  Defeito na Via                    1  ...  Lesões Leves    27   Feminino   \n",
       "1580  Defeito na Via                    1  ...  Lesões Leves    32   Feminino   \n",
       "1581  Defeito na Via                    1  ...  Lesões Leves    24   Feminino   \n",
       "1582  Defeito na Via                    1  ...  Lesões Leves    22  Masculino   \n",
       "1583  Defeito na Via                    1  ...         Ileso    32  Masculino   \n",
       "1584  Defeito na Via                    1  ...  Lesões Leves    63   Feminino   \n",
       "1585  Defeito na Via                    1  ...  Lesões Leves    37   Feminino   \n",
       "1586  Defeito na Via                    2  ...  Lesões Leves    22  Masculino   \n",
       "1587  Defeito na Via                    1  ...  Lesões Leves    25   Feminino   \n",
       "\n",
       "     ilesos feridos_leves feridos_graves mortos      latitude     longitude  \\\n",
       "1576      0             1              0      0  -19,95624622  -44,09843445   \n",
       "1577      0             1              0      0  -19,95624622  -44,09843445   \n",
       "1578      0             1              0      0  -19,95624622  -44,09843445   \n",
       "1579      0             1              0      0  -19,95624622  -44,09843445   \n",
       "1580      0             1              0      0  -19,95624622  -44,09843445   \n",
       "1581      0             1              0      0  -19,95624622  -44,09843445   \n",
       "1582      0             1              0      0  -19,95624622  -44,09843445   \n",
       "1583      1             0              0      0  -19,95624622  -44,09843445   \n",
       "1584      0             1              0      0  -19,95624622  -44,09843445   \n",
       "1585      0             1              0      0  -19,95624622  -44,09843445   \n",
       "1586      0             1              0      0  -19,95624622  -44,09843445   \n",
       "1587      0             1              0      0  -19,95624622  -44,09843445   \n",
       "\n",
       "      delegacia  \n",
       "1576   DEL01-MG  \n",
       "1577   DEL01-MG  \n",
       "1578   DEL01-MG  \n",
       "1579   DEL01-MG  \n",
       "1580   DEL01-MG  \n",
       "1581   DEL01-MG  \n",
       "1582   DEL01-MG  \n",
       "1583   DEL01-MG  \n",
       "1584   DEL01-MG  \n",
       "1585   DEL01-MG  \n",
       "1586   DEL01-MG  \n",
       "1587   DEL01-MG  \n",
       "\n",
       "[12 rows x 31 columns]"
      ]
     },
     "execution_count": 89,
     "metadata": {},
     "output_type": "execute_result"
    }
   ],
   "source": [
    "ids_mais_de_100 = df['id'].value_counts()[df['id'].value_counts() > 100].index\n",
    "df[df['id'].isin(ids_mais_de_100)][:12]"
   ]
  },
  {
   "cell_type": "code",
   "execution_count": 90,
   "metadata": {},
   "outputs": [],
   "source": [
    "# Transformando o id em string e retirando o ponto flutuante\n",
    "\n",
    "df['id'] = df['id'].astype(str)\n",
    "df['id'] = df['id'].str.replace('.0', '')\n",
    "\n",
    "# Anteriormente foi possivel observar id se repetindo mais de 100x\n",
    "# o que não faz sentido, visto que é muito dificil um acidente afetar 200 pessoas diretamente\n",
    "\n",
    "# Utilizarei os parâmetros idade, id e sexo para remover duplicações nos dados, como a distribuição das idades é proximo de uma normal\n",
    "# a probabilidade de  um pessoas da mesma idade estiverem envolvidas\n",
    "\n",
    "df = df.drop_duplicates(subset=['id', 'idade', 'sexo'])"
   ]
  },
  {
   "cell_type": "code",
   "execution_count": 91,
   "metadata": {},
   "outputs": [
    {
     "data": {
      "text/plain": [
       "id\n",
       "508740    128\n",
       "568579    123\n",
       "493258    122\n",
       "481625    118\n",
       "404997    118\n",
       "         ... \n",
       "314515      1\n",
       "500666      1\n",
       "500664      1\n",
       "500663      1\n",
       "393388      1\n",
       "Name: count, Length: 260480, dtype: int64"
      ]
     },
     "execution_count": 91,
     "metadata": {},
     "output_type": "execute_result"
    }
   ],
   "source": [
    "# Verificando as alterações\n",
    "df['id'].value_counts()"
   ]
  },
  {
   "cell_type": "markdown",
   "metadata": {},
   "source": [
    "**Coluna data_inversa**"
   ]
  },
  {
   "cell_type": "code",
   "execution_count": 92,
   "metadata": {},
   "outputs": [
    {
     "data": {
      "text/plain": [
       "data_inversa\n",
       "2023-12-23    1054\n",
       "2023-06-11     959\n",
       "2023-07-23     944\n",
       "2020-10-10     883\n",
       "2023-12-15     876\n",
       "              ... \n",
       "2020-03-28     209\n",
       "2020-03-30     200\n",
       "2020-03-25     182\n",
       "2020-03-26     177\n",
       "2020-03-23     170\n",
       "Name: count, Length: 1461, dtype: int64"
      ]
     },
     "execution_count": 92,
     "metadata": {},
     "output_type": "execute_result"
    }
   ],
   "source": [
    "df['data_inversa'].value_counts()"
   ]
  },
  {
   "cell_type": "code",
   "execution_count": 93,
   "metadata": {},
   "outputs": [],
   "source": [
    "# Transformando em date_time\n",
    "df['data_inversa'] = pd.to_datetime(df['data_inversa'])"
   ]
  },
  {
   "cell_type": "code",
   "execution_count": 94,
   "metadata": {},
   "outputs": [],
   "source": [
    "df['horario'] = pd.to_datetime(df['horario'], format='%H:%M:%S')"
   ]
  },
  {
   "cell_type": "code",
   "execution_count": 95,
   "metadata": {},
   "outputs": [
    {
     "data": {
      "image/png": "[encoded data removed]",
      "text/plain": [
       "<Figure size 640x480 with 1 Axes>"
      ]
     },
     "metadata": {},
     "output_type": "display_data"
    }
   ],
   "source": [
    "# Visualizando a distribuição dos valores pelas horas\n",
    "\n",
    "sns.kdeplot(df['horario'].dt.hour, fill=True, color='gray')\n",
    "plt.show()"
   ]
  },
  {
   "cell_type": "code",
   "execution_count": 96,
   "metadata": {},
   "outputs": [
    {
     "data": {
      "text/plain": [
       "horario\n",
       "1900-01-01 19:00:00    10470\n",
       "1900-01-01 18:30:00    10002\n",
       "1900-01-01 18:00:00     9888\n",
       "1900-01-01 17:00:00     8518\n",
       "1900-01-01 17:30:00     8238\n",
       "                       ...  \n",
       "1900-01-01 02:59:00        3\n",
       "1900-01-01 02:36:00        3\n",
       "1900-01-01 01:54:00        2\n",
       "1900-01-01 01:19:00        1\n",
       "1900-01-01 01:17:00        1\n",
       "Name: count, Length: 1438, dtype: int64"
      ]
     },
     "execution_count": 96,
     "metadata": {},
     "output_type": "execute_result"
    }
   ],
   "source": [
    "# Observando o formato dos dados\n",
    "df['horario'].value_counts()"
   ]
  },
  {
   "cell_type": "code",
   "execution_count": 97,
   "metadata": {},
   "outputs": [
    {
     "data": {
      "text/plain": [
       "data_completa\n",
       "2023-03-05 12:35:00    128\n",
       "2023-12-17 18:15:00    123\n",
       "2021-12-31 04:00:00    122\n",
       "2022-12-16 18:30:00    122\n",
       "2022-10-19 18:50:00    118\n",
       "                      ... \n",
       "2023-06-10 07:50:00      1\n",
       "2020-04-14 03:00:00      1\n",
       "2020-02-02 22:05:00      1\n",
       "2023-06-10 08:10:00      1\n",
       "2022-01-17 05:05:00      1\n",
       "Name: count, Length: 176821, dtype: int64"
      ]
     },
     "execution_count": 97,
     "metadata": {},
     "output_type": "execute_result"
    }
   ],
   "source": [
    "# Criando a coluna data_completa para juntar o horario e a data\n",
    "\n",
    "df['data_completa'] = df['data_inversa'] + pd.to_timedelta(df['horario'].dt.strftime('%H:%M:%S'))\n",
    "df['data_completa'].value_counts()"
   ]
  },
  {
   "cell_type": "code",
   "execution_count": 98,
   "metadata": {},
   "outputs": [],
   "source": [
    "# Excluindo data_inversa e horario para ficar apenas a coluna com a data completa\n",
    "\n",
    "df.drop(['data_inversa', 'horario'], axis=1, inplace=True)"
   ]
  },
  {
   "cell_type": "markdown",
   "metadata": {},
   "source": [
    "**Coluna uf**"
   ]
  },
  {
   "cell_type": "code",
   "execution_count": 99,
   "metadata": {},
   "outputs": [
    {
     "data": {
      "text/plain": [
       "uf\n",
       "MG    90832\n",
       "PR    77455\n",
       "SC    74543\n",
       "RS    50546\n",
       "RJ    47263\n",
       "SP    47043\n",
       "BA    39238\n",
       "GO    35304\n",
       "PE    30095\n",
       "ES    23521\n",
       "MT    23138\n",
       "MS    18795\n",
       "RO    17171\n",
       "PB    17080\n",
       "CE    16092\n",
       "MA    14086\n",
       "PI    13871\n",
       "PA    13759\n",
       "RN    13311\n",
       "DF    10572\n",
       "TO     7165\n",
       "AL     5977\n",
       "SE     5646\n",
       "AC     2752\n",
       "RR     2698\n",
       "AP     2018\n",
       "AM     1746\n",
       "Name: count, dtype: int64"
      ]
     },
     "execution_count": 99,
     "metadata": {},
     "output_type": "execute_result"
    }
   ],
   "source": [
    "df['uf'].value_counts()"
   ]
  },
  {
   "cell_type": "code",
   "execution_count": 100,
   "metadata": {},
   "outputs": [],
   "source": [
    "# Nenhuma anormalidade nos dados da coluna uf\n",
    "\n",
    "df['uf'] = df['uf'].astype(str)"
   ]
  },
  {
   "cell_type": "code",
   "execution_count": 101,
   "metadata": {},
   "outputs": [
    {
     "data": {
      "text/plain": [
       "<Axes: ylabel='dia_semana'>"
      ]
     },
     "execution_count": 101,
     "metadata": {},
     "output_type": "execute_result"
    },
    {
     "data": {
      "image/png": "[encoded data removed]",
      "text/plain": [
       "<Figure size 640x480 with 1 Axes>"
      ]
     },
     "metadata": {},
     "output_type": "display_data"
    }
   ],
   "source": [
    "df['dia_semana'].value_counts(ascending=True).plot(kind=\"barh\")"
   ]
  },
  {
   "cell_type": "code",
   "execution_count": 102,
   "metadata": {},
   "outputs": [],
   "source": [
    "df['dia_semana'] = df['dia_semana'].astype(str)"
   ]
  },
  {
   "cell_type": "markdown",
   "metadata": {},
   "source": [
    "**Coluna BR**"
   ]
  },
  {
   "cell_type": "code",
   "execution_count": 103,
   "metadata": {},
   "outputs": [],
   "source": [
    "# Convertendo para string\n",
    "\n",
    "df['br'] = 'BR-' + df['br'].astype(int).astype(str)"
   ]
  },
  {
   "cell_type": "code",
   "execution_count": 104,
   "metadata": {},
   "outputs": [
    {
     "data": {
      "image/png": "[encoded data removed]",
      "text/plain": [
       "<Figure size 1200x600 with 2 Axes>"
      ]
     },
     "metadata": {},
     "output_type": "display_data"
    }
   ],
   "source": [
    "fig, axs = plt.subplots(1, 2, figsize=(12, 6))\n",
    "\n",
    "df['br'].value_counts(ascending=True)[df[\"br\"].unique().shape[0] - 10:].plot(kind=\"barh\", ax=axs[0])\n",
    "axs[0].set_title('Mais Comuns')\n",
    "\n",
    "# Gráfico dos últimos 10 registros\n",
    "df['br'].value_counts(ascending=True)[:10].plot(kind=\"barh\", ax=axs[1])\n",
    "axs[1].set_title('Menos Comuns')\n",
    "\n",
    "plt.tight_layout()\n",
    "plt.show()"
   ]
  },
  {
   "cell_type": "code",
   "execution_count": 105,
   "metadata": {},
   "outputs": [
    {
     "data": {
      "text/plain": [
       "1985"
      ]
     },
     "execution_count": 105,
     "metadata": {},
     "output_type": "execute_result"
    }
   ],
   "source": [
    "df[\"municipio\"].unique().shape[0]"
   ]
  },
  {
   "cell_type": "markdown",
   "metadata": {},
   "source": [
    "**Coluna municipio**"
   ]
  },
  {
   "cell_type": "code",
   "execution_count": 106,
   "metadata": {},
   "outputs": [
    {
     "data": {
      "image/png": "[encoded data removed]",
      "text/plain": [
       "<Figure size 1500x600 with 2 Axes>"
      ]
     },
     "metadata": {},
     "output_type": "display_data"
    }
   ],
   "source": [
    "fig, axs = plt.subplots(1, 2, figsize=(15, 6))\n",
    "\n",
    "df['municipio'].value_counts(ascending=True)[df[\"municipio\"].unique().shape[0] - 10:].plot(kind=\"barh\", ax=axs[0])\n",
    "axs[0].set_title('Mais Comuns')\n",
    "\n",
    "# Gráfico dos últimos 10 registros\n",
    "df['municipio'].value_counts(ascending=True)[:10].plot(kind=\"barh\", ax=axs[1])\n",
    "axs[1].set_title('Menos Comuns')\n",
    "\n",
    "plt.tight_layout()\n",
    "plt.show()"
   ]
  },
  {
   "cell_type": "markdown",
   "metadata": {},
   "source": [
    "**Coluna Causa_acidente**"
   ]
  },
  {
   "cell_type": "code",
   "execution_count": 107,
   "metadata": {},
   "outputs": [
    {
     "data": {
      "text/plain": [
       "causa_acidente\n",
       "Reação tardia ou ineficiente do condutor                                         67716\n",
       "Velocidade Incompatível                                                          62555\n",
       "Ausência de reação do condutor                                                   56545\n",
       "Falta de Atenção à Condução                                                      56090\n",
       "Acessar a via sem observar a presença dos outros veículos                        44511\n",
       "                                                                                 ...  \n",
       "Sinalização encoberta                                                               77\n",
       "Semáforo com defeito                                                                62\n",
       "Condutor não acionou o farol baixo durante o dia em rodovias de pista simples       41\n",
       "Obstrução Via tentativa Assalto                                                     34\n",
       "Pedestre - Ingestão de álcool/ substâncias psicoativas                              17\n",
       "Name: count, Length: 92, dtype: int64"
      ]
     },
     "execution_count": 107,
     "metadata": {},
     "output_type": "execute_result"
    }
   ],
   "source": [
    "df['causa_acidente'].value_counts()"
   ]
  },
  {
   "cell_type": "markdown",
   "metadata": {},
   "source": [
    "**Ordem Tipo Acidente**"
   ]
  },
  {
   "cell_type": "code",
   "execution_count": 108,
   "metadata": {},
   "outputs": [
    {
     "data": {
      "text/plain": [
       "ordem_tipo_acidente\n",
       "1     492998\n",
       "2     146415\n",
       "3      50158\n",
       "4       8908\n",
       "5       2207\n",
       "6        667\n",
       "7        206\n",
       "8        103\n",
       "9         30\n",
       "15        18\n",
       "10         3\n",
       "11         3\n",
       "12         1\n",
       "Name: count, dtype: int64"
      ]
     },
     "execution_count": 108,
     "metadata": {},
     "output_type": "execute_result"
    }
   ],
   "source": [
    "df['ordem_tipo_acidente'].value_counts()"
   ]
  },
  {
   "cell_type": "markdown",
   "metadata": {},
   "source": [
    "**Coluna Classificação Acidente**"
   ]
  },
  {
   "cell_type": "code",
   "execution_count": 109,
   "metadata": {},
   "outputs": [
    {
     "data": {
      "text/plain": [
       "<Axes: ylabel='classificacao_acidente'>"
      ]
     },
     "execution_count": 109,
     "metadata": {},
     "output_type": "execute_result"
    },
    {
     "data": {
      "image/png": "[encoded data removed]",
      "text/plain": [
       "<Figure size 640x480 with 1 Axes>"
      ]
     },
     "metadata": {},
     "output_type": "display_data"
    }
   ],
   "source": [
    "df['classificacao_acidente'].value_counts(ascending=True).plot(kind=\"barh\")"
   ]
  },
  {
   "cell_type": "markdown",
   "metadata": {},
   "source": [
    "**Coluna Fase Dia**"
   ]
  },
  {
   "cell_type": "code",
   "execution_count": 110,
   "metadata": {},
   "outputs": [
    {
     "data": {
      "text/plain": [
       "<Axes: ylabel='fase_dia'>"
      ]
     },
     "execution_count": 110,
     "metadata": {},
     "output_type": "execute_result"
    },
    {
     "data": {
      "image/png": "[encoded data removed]",
      "text/plain": [
       "<Figure size 640x480 with 1 Axes>"
      ]
     },
     "metadata": {},
     "output_type": "display_data"
    }
   ],
   "source": [
    "df['fase_dia'].value_counts(ascending=True).plot(kind=\"barh\")"
   ]
  },
  {
   "cell_type": "markdown",
   "metadata": {},
   "source": [
    "**Coluna Sentido Via**"
   ]
  },
  {
   "cell_type": "code",
   "execution_count": 111,
   "metadata": {},
   "outputs": [
    {
     "data": {
      "text/plain": [
       "<Axes: ylabel='count'>"
      ]
     },
     "execution_count": 111,
     "metadata": {},
     "output_type": "execute_result"
    },
    {
     "data": {
      "image/png": "[encoded data removed]",
      "text/plain": [
       "<Figure size 640x480 with 1 Axes>"
      ]
     },
     "metadata": {},
     "output_type": "display_data"
    }
   ],
   "source": [
    "df['sentido_via'].value_counts().plot(kind=\"pie\", colors=[\"teal\", \"orange\"], autopct='%1.1f%%')\n"
   ]
  },
  {
   "cell_type": "code",
   "execution_count": 112,
   "metadata": {},
   "outputs": [],
   "source": [
    "# Atribuindo a moda para o valor 'Não Informado'\n",
    "\n",
    "df.loc[df['sentido_via'] == 'Não Informado', 'sentido_via'] = 'Crescente'"
   ]
  },
  {
   "cell_type": "code",
   "execution_count": 113,
   "metadata": {},
   "outputs": [
    {
     "data": {
      "text/plain": [
       "condicao_metereologica\n",
       "Céu Claro           430046\n",
       "Nublado             112324\n",
       "Chuva                73253\n",
       "Sol                  44951\n",
       "Garoa/Chuvisco       24508\n",
       "Ignorado              9409\n",
       "Nevoeiro/Neblina      5875\n",
       "Vento                 1279\n",
       "Granizo                 36\n",
       "Neve                    36\n",
       "Name: count, dtype: int64"
      ]
     },
     "execution_count": 113,
     "metadata": {},
     "output_type": "execute_result"
    }
   ],
   "source": [
    "df['condicao_metereologica'].value_counts()"
   ]
  },
  {
   "cell_type": "code",
   "execution_count": 114,
   "metadata": {},
   "outputs": [],
   "source": [
    "# Atribuindo a moda para o valor 'Ignorado'\n",
    "\n",
    "df.loc[df['condicao_metereologica'] == 'Ignorado', 'condicao_metereologica'] = 'Céu Claro'"
   ]
  },
  {
   "cell_type": "code",
   "execution_count": 115,
   "metadata": {},
   "outputs": [
    {
     "data": {
      "text/plain": [
       "tipo_pista\n",
       "Simples     364852\n",
       "Dupla       276572\n",
       "Múltipla     60293\n",
       "Name: count, dtype: int64"
      ]
     },
     "execution_count": 115,
     "metadata": {},
     "output_type": "execute_result"
    }
   ],
   "source": [
    "df['tipo_pista'].value_counts()"
   ]
  },
  {
   "cell_type": "code",
   "execution_count": 116,
   "metadata": {},
   "outputs": [
    {
     "data": {
      "text/plain": [
       "tracado_via\n",
       "Reta                              418051\n",
       "Curva                              87718\n",
       "Interseção de Vias                 26895\n",
       "Declive                            18235\n",
       "Aclive                             15151\n",
       "Reta;Declive                       13309\n",
       "Rotatória                          10898\n",
       "Reta;Aclive                        10867\n",
       "Aclive;Reta                         9602\n",
       "Curva;Declive                       9208\n",
       "Declive;Reta                        9176\n",
       "Retorno Regulamentado               6895\n",
       "Declive;Curva                       6106\n",
       "Reta;Interseção de Vias             5847\n",
       "Curva;Aclive                        4686\n",
       "Interseção de Vias;Reta             4344\n",
       "Viaduto                             4088\n",
       "Ponte                               3355\n",
       "Aclive;Curva                        3243\n",
       "Reta;Em Obras                       2688\n",
       "Name: count, dtype: int64"
      ]
     },
     "execution_count": 116,
     "metadata": {},
     "output_type": "execute_result"
    }
   ],
   "source": [
    "df['tracado_via'].value_counts()[:20]"
   ]
  },
  {
   "cell_type": "code",
   "execution_count": 117,
   "metadata": {},
   "outputs": [
    {
     "data": {
      "text/plain": [
       "array(['Reta', 'Curva', 'Reta;Interseção de Vias       ',\n",
       "       'Declive;Curva                 ', 'Viaduto', 'Interseção de Vias',\n",
       "       'Aclive;Reta                   ', 'Rotatória',\n",
       "       'Curva;Declive                 ', 'Declive',\n",
       "       'Reta;Declive                  ', 'Aclive',\n",
       "       'Curva;Aclive                  ', 'Retorno Regulamentado',\n",
       "       'Aclive;Curva                  ', 'Ponte;Reta;Declive            ',\n",
       "       'Aclive;Viaduto;Curva          ', 'Declive;Reta                  ',\n",
       "       'Viaduto;Reta;Interseção de Via', 'Reta;Aclive                   '],\n",
       "      dtype=object)"
      ]
     },
     "execution_count": 117,
     "metadata": {},
     "output_type": "execute_result"
    }
   ],
   "source": [
    "# Verificando com mais detalhes os valores, pois achei estranho a presença do ';'\n",
    "\n",
    "df['tracado_via'].unique()[:20]"
   ]
  },
  {
   "cell_type": "code",
   "execution_count": 118,
   "metadata": {},
   "outputs": [],
   "source": [
    "# Separando os valores onde há ';' e pegando o primeiro valor do split com [0]\n",
    "\n",
    "df['tracado_via'] = df['tracado_via'].str.split(';').str[0]"
   ]
  },
  {
   "cell_type": "code",
   "execution_count": 119,
   "metadata": {},
   "outputs": [
    {
     "data": {
      "text/plain": [
       "array(['Reta', 'Curva', 'Declive', 'Viaduto', 'Interseção de Vias',\n",
       "       'Aclive', 'Rotatória', 'Retorno Regulamentado', 'Ponte',\n",
       "       'Em Obras', 'Desvio Temporário', 'Túnel'], dtype=object)"
      ]
     },
     "execution_count": 119,
     "metadata": {},
     "output_type": "execute_result"
    }
   ],
   "source": [
    "# Visualizando as alterações\n",
    "\n",
    "df['tracado_via'].unique()"
   ]
  },
  {
   "cell_type": "markdown",
   "metadata": {},
   "source": [
    "**Coluna uso solo (Urbano ou Rural)**"
   ]
  },
  {
   "cell_type": "code",
   "execution_count": 120,
   "metadata": {},
   "outputs": [
    {
     "data": {
      "text/plain": [
       "<Axes: ylabel='count'>"
      ]
     },
     "execution_count": 120,
     "metadata": {},
     "output_type": "execute_result"
    },
    {
     "data": {
      "image/png": "[encoded data removed]",
      "text/plain": [
       "<Figure size 640x480 with 1 Axes>"
      ]
     },
     "metadata": {},
     "output_type": "display_data"
    }
   ],
   "source": [
    "df['uso_solo'].value_counts(ascending=True).plot(kind=\"pie\", colors=[\"orange\", \"teal\"])"
   ]
  },
  {
   "cell_type": "code",
   "execution_count": 121,
   "metadata": {},
   "outputs": [],
   "source": [
    "# Substituindo o valor 'sim' por urbano e 'Não' por rural\n",
    "# Essas informações estão disponíveis no dicionário de dados da PRF\n",
    "\n",
    "df['uso_solo'] = df['uso_solo'].replace({'Sim': 'Urbano', 'Não': 'Rural'})"
   ]
  },
  {
   "cell_type": "code",
   "execution_count": 122,
   "metadata": {},
   "outputs": [],
   "source": [
    "df['uso_solo'] = df['uso_solo'].astype(str)"
   ]
  },
  {
   "cell_type": "markdown",
   "metadata": {},
   "source": [
    "**Coluna tipo veiculo**"
   ]
  },
  {
   "cell_type": "code",
   "execution_count": 123,
   "metadata": {},
   "outputs": [
    {
     "data": {
      "text/plain": [
       "tipo_veiculo\n",
       "Automóvel            279781\n",
       "Motocicleta          124461\n",
       "Caminhonete           59470\n",
       "Não se aplica         53777\n",
       "Caminhão-trator       52346\n",
       "Caminhão              47899\n",
       "Ônibus                23125\n",
       "Motoneta              14111\n",
       "Utilitário             9431\n",
       "Bicicleta              8852\n",
       "Camioneta              8411\n",
       "Não Informado          8367\n",
       "Micro-ônibus           4812\n",
       "Outros                 3399\n",
       "Ciclomotor             1627\n",
       "Semireboque             779\n",
       "Carroça-charrete        365\n",
       "Trator de rodas         320\n",
       "Reboque                 195\n",
       "Triciclo                 66\n",
       "Carro de mão             50\n",
       "Trator misto             23\n",
       "Trem-bonde               19\n",
       "Trator de esteira        15\n",
       "Quadriciclo               9\n",
       "Chassi-plataforma         7\n",
       "Name: count, dtype: int64"
      ]
     },
     "execution_count": 123,
     "metadata": {},
     "output_type": "execute_result"
    }
   ],
   "source": [
    "df['tipo_veiculo'].value_counts()"
   ]
  },
  {
   "cell_type": "markdown",
   "metadata": {},
   "source": [
    "agrupando em categorias mais abrangentes\n"
   ]
  },
  {
   "cell_type": "code",
   "execution_count": 124,
   "metadata": {},
   "outputs": [],
   "source": [
    "df['tipo_veiculo'] = df['tipo_veiculo'].replace(\n",
    "    {'Motoneta': 'Motocicleta', 'Caminhão-trator': 'Caminhão', 'Camioneta': 'Camioneta/Caminhonete',\n",
    "     'Caminhonete': 'Camioneta/Caminhonete', 'Micro-ônibus': 'Ônibus',\n",
    "     'Trator de rodas': 'Trator', 'Trator misto': 'Trator', 'Trator de esteira': 'Trator',\n",
    "     'Chassi-plataforma': 'Caminhão', 'Semireboque': 'Reboque'})"
   ]
  },
  {
   "cell_type": "markdown",
   "metadata": {},
   "source": [
    "Investigando os valores onde o tipo de veiculo é Não Informado, Não se aplica, Utilitário\n",
    "Utilizando o tipo de acidente como base"
   ]
  },
  {
   "cell_type": "code",
   "execution_count": 125,
   "metadata": {},
   "outputs": [
    {
     "data": {
      "text/plain": [
       "tipo_acidente                 \n",
       "Colisão traseira                  1589\n",
       "Saída de leito carroçável         1135\n",
       "Colisão transversal                955\n",
       "Colisão com objeto                 717\n",
       "Capotamento                        671\n",
       "Colisão lateral mesmo sentido      592\n",
       "Colisão frontal                    584\n",
       "Engavetamento                      482\n",
       "Tombamento                         431\n",
       "Queda de ocupante de veículo       391\n",
       "Incêndio                           250\n",
       "Colisão lateral sentido oposto     224\n",
       "Atropelamento de Pedestre          199\n",
       "Atropelamento de Animal             99\n",
       "Eventos atípicos                    37\n",
       "Derramamento de carga               10\n",
       "Colisão com objeto estático          1\n",
       "Name: count, dtype: int64"
      ]
     },
     "execution_count": 125,
     "metadata": {},
     "output_type": "execute_result"
    }
   ],
   "source": [
    "df.loc[df['tipo_veiculo'] == 'Não Informado', ['tipo_acidente']].value_counts()"
   ]
  },
  {
   "cell_type": "code",
   "execution_count": 126,
   "metadata": {},
   "outputs": [
    {
     "data": {
      "text/plain": [
       "tipo_acidente                  \n",
       "Atropelamento de Pedestre          15196\n",
       "Queda de ocupante de veículo        6215\n",
       "Tombamento                          6115\n",
       "Saída de leito carroçável           5360\n",
       "Colisão traseira                    3990\n",
       "Colisão com objeto                  3062\n",
       "Colisão transversal                 3018\n",
       "Colisão frontal                     2943\n",
       "Capotamento                         2207\n",
       "Colisão lateral mesmo sentido       1681\n",
       "Colisão com objeto estático          831\n",
       "Colisão lateral                      798\n",
       "Colisão lateral sentido oposto       575\n",
       "Derramamento de carga                511\n",
       "Incêndio                             313\n",
       "Atropelamento de Animal              309\n",
       "Engavetamento                        268\n",
       "Eventos atípicos                     254\n",
       "Danos eventuais                       68\n",
       "Colisão com objeto em movimento       63\n",
       "Name: count, dtype: int64"
      ]
     },
     "execution_count": 126,
     "metadata": {},
     "output_type": "execute_result"
    }
   ],
   "source": [
    "df.loc[df['tipo_veiculo'] == 'Não se aplica', ['tipo_acidente']].value_counts()"
   ]
  },
  {
   "cell_type": "code",
   "execution_count": 127,
   "metadata": {},
   "outputs": [
    {
     "data": {
      "text/plain": [
       "tipo_acidente                  \n",
       "Colisão traseira                   1856\n",
       "Saída de leito carroçável          1247\n",
       "Colisão transversal                1036\n",
       "Capotamento                         746\n",
       "Colisão com objeto                  737\n",
       "Colisão lateral mesmo sentido       685\n",
       "Colisão frontal                     669\n",
       "Tombamento                          466\n",
       "Engavetamento                       461\n",
       "Queda de ocupante de veículo        324\n",
       "Colisão lateral sentido oposto      220\n",
       "Colisão com objeto estático         218\n",
       "Atropelamento de Pedestre           206\n",
       "Colisão lateral                     186\n",
       "Atropelamento de Animal             156\n",
       "Incêndio                            104\n",
       "Eventos atípicos                     56\n",
       "Danos eventuais                      28\n",
       "Derramamento de carga                26\n",
       "Colisão com objeto em movimento       4\n",
       "Name: count, dtype: int64"
      ]
     },
     "execution_count": 127,
     "metadata": {},
     "output_type": "execute_result"
    }
   ],
   "source": [
    "df.loc[df['tipo_veiculo'] == 'Utilitário', ['tipo_acidente']].value_counts()"
   ]
  },
  {
   "cell_type": "code",
   "execution_count": 128,
   "metadata": {},
   "outputs": [
    {
     "data": {
      "text/plain": [
       "tipo_acidente                  \n",
       "Atropelamento de Pedestre          1024\n",
       "Colisão traseira                    567\n",
       "Queda de ocupante de veículo        498\n",
       "Tombamento                          396\n",
       "Colisão lateral mesmo sentido       142\n",
       "Saída de leito carroçável           138\n",
       "Colisão transversal                 117\n",
       "Colisão frontal                     113\n",
       "Colisão com objeto                  113\n",
       "Colisão lateral                     109\n",
       "Capotamento                          36\n",
       "Colisão lateral sentido oposto       34\n",
       "Engavetamento                        24\n",
       "Colisão com objeto estático          23\n",
       "Eventos atípicos                     23\n",
       "Atropelamento de Animal              13\n",
       "Derramamento de carga                 9\n",
       "Colisão com objeto em movimento       7\n",
       "Incêndio                              7\n",
       "Danos eventuais                       6\n",
       "Name: count, dtype: int64"
      ]
     },
     "execution_count": 128,
     "metadata": {},
     "output_type": "execute_result"
    }
   ],
   "source": [
    "df.loc[df['tipo_veiculo'] == 'Outros', ['tipo_acidente']].value_counts()"
   ]
  },
  {
   "cell_type": "code",
   "execution_count": 129,
   "metadata": {},
   "outputs": [],
   "source": [
    "# Atribuindo o tipo de veiculo como Pedestre para os acidente que a o tipo foi Atropelamento\n",
    "\n",
    "filtro = df.loc[df['tipo_veiculo'].isin(['Utilitário', 'Não se aplica', 'Não informado', 'Outros']) & (df['tipo_acidente'] == 'Atropelamento de Pedestre')]\n",
    "df.loc[filtro.index, 'tipo_veiculo'] = 'Pedestre'"
   ]
  },
  {
   "cell_type": "markdown",
   "metadata": {},
   "source": [
    "Gerando uma amostra com base no dados para substituir as inconsistências"
   ]
  },
  {
   "cell_type": "code",
   "execution_count": 130,
   "metadata": {},
   "outputs": [
    {
     "data": {
      "text/plain": [
       "Automóvel                29441\n",
       "Motocicleta              11518\n",
       "Caminhão                  8473\n",
       "Camioneta/Caminhonete     5748\n",
       "Ônibus                    2336\n",
       "Bicicleta                  723\n",
       "Ciclomotor                 150\n",
       "Reboque                     71\n",
       "Carroça-charrete            40\n",
       "Trator                      32\n",
       "Carro de mão                 8\n",
       "Triciclo                     4\n",
       "Quadriciclo                  3\n",
       "Trem-bonde                   1\n",
       "Name: count, dtype: int64"
      ]
     },
     "execution_count": 130,
     "metadata": {},
     "output_type": "execute_result"
    }
   ],
   "source": [
    "tamanho_veiculos_aleatorios = df.loc[df['tipo_veiculo'].isin(['Utilitário', 'Não se aplica', 'Não Informado', 'Outros']), 'tipo_veiculo'].shape[0]\n",
    "veiculos_aleatorios = np.random.choice(df['tipo_veiculo'], size=tamanho_veiculos_aleatorios, replace=True)\n",
    "\n",
    "while (veiculos_aleatorios == 'Utilitário').any() or (veiculos_aleatorios == 'Não se aplica').any() or (veiculos_aleatorios == 'Não Informado').any() or (veiculos_aleatorios == 'Outros').any() or (veiculos_aleatorios == 'Pedestre').any():\n",
    "    indices = np.where((veiculos_aleatorios == 'Utilitário') | (veiculos_aleatorios == 'Não se aplica') | (veiculos_aleatorios == 'Não Informado') | (veiculos_aleatorios == 'Outros') | (veiculos_aleatorios == 'Pedestre'))\n",
    "    veiculos_aleatorios[indices] = np.random.choice(df['tipo_veiculo'], size=len(indices))\n",
    "pd.DataFrame(veiculos_aleatorios).value_counts()"
   ]
  },
  {
   "cell_type": "code",
   "execution_count": 131,
   "metadata": {},
   "outputs": [],
   "source": [
    "# Substituindo com base na amostra\n",
    "\n",
    "df.loc[df['tipo_veiculo'].isin(['Utilitário', 'Não se aplica', 'Não Informado', 'Outros']), 'tipo_veiculo'] = veiculos_aleatorios"
   ]
  },
  {
   "cell_type": "code",
   "execution_count": 132,
   "metadata": {},
   "outputs": [
    {
     "data": {
      "text/plain": [
       "tipo_envolvido\n",
       "Condutor         474306\n",
       "Passageiro       173634\n",
       "Testemunha        38928\n",
       "Pedestre          14700\n",
       "Cavaleiro           148\n",
       "Não Informado         1\n",
       "Name: count, dtype: int64"
      ]
     },
     "execution_count": 132,
     "metadata": {},
     "output_type": "execute_result"
    }
   ],
   "source": [
    "df['tipo_envolvido'].value_counts()"
   ]
  },
  {
   "cell_type": "code",
   "execution_count": 133,
   "metadata": {},
   "outputs": [],
   "source": [
    "# Atribuindo a moda para o valor 'Não Informado'\n",
    "\n",
    "df.loc[df['tipo_envolvido'] == 'Não Informado', 'tipo_envolvido'] = 'Condutor'"
   ]
  },
  {
   "cell_type": "code",
   "execution_count": 134,
   "metadata": {},
   "outputs": [
    {
     "data": {
      "text/html": [
       "<div>\n",
       "<style scoped>\n",
       "    .dataframe tbody tr th:only-of-type {\n",
       "        vertical-align: middle;\n",
       "    }\n",
       "\n",
       "    .dataframe tbody tr th {\n",
       "        vertical-align: top;\n",
       "    }\n",
       "\n",
       "    .dataframe thead th {\n",
       "        text-align: right;\n",
       "    }\n",
       "</style>\n",
       "<table border=\"1\" class=\"dataframe\">\n",
       "  <thead>\n",
       "    <tr style=\"text-align: right;\">\n",
       "      <th></th>\n",
       "      <th>id</th>\n",
       "      <th>dia_semana</th>\n",
       "      <th>uf</th>\n",
       "      <th>br</th>\n",
       "      <th>km</th>\n",
       "      <th>municipio</th>\n",
       "      <th>causa_acidente</th>\n",
       "      <th>ordem_tipo_acidente</th>\n",
       "      <th>tipo_acidente</th>\n",
       "      <th>classificacao_acidente</th>\n",
       "      <th>...</th>\n",
       "      <th>idade</th>\n",
       "      <th>sexo</th>\n",
       "      <th>ilesos</th>\n",
       "      <th>feridos_leves</th>\n",
       "      <th>feridos_graves</th>\n",
       "      <th>mortos</th>\n",
       "      <th>latitude</th>\n",
       "      <th>longitude</th>\n",
       "      <th>delegacia</th>\n",
       "      <th>data_completa</th>\n",
       "    </tr>\n",
       "  </thead>\n",
       "  <tbody>\n",
       "    <tr>\n",
       "      <th>58</th>\n",
       "      <td>260046</td>\n",
       "      <td>quarta-feira</td>\n",
       "      <td>SC</td>\n",
       "      <td>BR-282</td>\n",
       "      <td>509</td>\n",
       "      <td>XANXERE</td>\n",
       "      <td>Animais na Pista</td>\n",
       "      <td>1</td>\n",
       "      <td>Saída de leito carroçável</td>\n",
       "      <td>Com Vítimas Feridas</td>\n",
       "      <td>...</td>\n",
       "      <td>76</td>\n",
       "      <td>Não Informado</td>\n",
       "      <td>0</td>\n",
       "      <td>0</td>\n",
       "      <td>0</td>\n",
       "      <td>0</td>\n",
       "      <td>-26,89436315</td>\n",
       "      <td>-52,4613905</td>\n",
       "      <td>DEL07-SC</td>\n",
       "      <td>2020-01-01 02:15:00</td>\n",
       "    </tr>\n",
       "    <tr>\n",
       "      <th>164</th>\n",
       "      <td>260080</td>\n",
       "      <td>quarta-feira</td>\n",
       "      <td>RJ</td>\n",
       "      <td>BR-116</td>\n",
       "      <td>79</td>\n",
       "      <td>TERESOPOLIS</td>\n",
       "      <td>Desobediência às normas de trânsito pelo condutor</td>\n",
       "      <td>1</td>\n",
       "      <td>Colisão lateral</td>\n",
       "      <td>Com Vítimas Feridas</td>\n",
       "      <td>...</td>\n",
       "      <td>20</td>\n",
       "      <td>Não Informado</td>\n",
       "      <td>0</td>\n",
       "      <td>0</td>\n",
       "      <td>0</td>\n",
       "      <td>0</td>\n",
       "      <td>-22,381704</td>\n",
       "      <td>-42,954777</td>\n",
       "      <td>DEL04-RJ</td>\n",
       "      <td>2020-01-01 01:50:00</td>\n",
       "    </tr>\n",
       "    <tr>\n",
       "      <th>327</th>\n",
       "      <td>260139</td>\n",
       "      <td>quarta-feira</td>\n",
       "      <td>MT</td>\n",
       "      <td>BR-163</td>\n",
       "      <td>729</td>\n",
       "      <td>SORRISO</td>\n",
       "      <td>Velocidade Incompatível</td>\n",
       "      <td>1</td>\n",
       "      <td>Saída de leito carroçável</td>\n",
       "      <td>Com Vítimas Feridas</td>\n",
       "      <td>...</td>\n",
       "      <td>33</td>\n",
       "      <td>Não Informado</td>\n",
       "      <td>0</td>\n",
       "      <td>0</td>\n",
       "      <td>0</td>\n",
       "      <td>0</td>\n",
       "      <td>-12,84559402</td>\n",
       "      <td>-55,82671994</td>\n",
       "      <td>DEL06-MT</td>\n",
       "      <td>2020-01-01 12:00:00</td>\n",
       "    </tr>\n",
       "    <tr>\n",
       "      <th>328</th>\n",
       "      <td>260139</td>\n",
       "      <td>quarta-feira</td>\n",
       "      <td>MT</td>\n",
       "      <td>BR-163</td>\n",
       "      <td>729</td>\n",
       "      <td>SORRISO</td>\n",
       "      <td>Velocidade Incompatível</td>\n",
       "      <td>2</td>\n",
       "      <td>Capotamento</td>\n",
       "      <td>Com Vítimas Feridas</td>\n",
       "      <td>...</td>\n",
       "      <td>36</td>\n",
       "      <td>Não Informado</td>\n",
       "      <td>0</td>\n",
       "      <td>0</td>\n",
       "      <td>0</td>\n",
       "      <td>0</td>\n",
       "      <td>-12,84559402</td>\n",
       "      <td>-55,82671994</td>\n",
       "      <td>DEL06-MT</td>\n",
       "      <td>2020-01-01 12:00:00</td>\n",
       "    </tr>\n",
       "    <tr>\n",
       "      <th>329</th>\n",
       "      <td>260139</td>\n",
       "      <td>quarta-feira</td>\n",
       "      <td>MT</td>\n",
       "      <td>BR-163</td>\n",
       "      <td>729</td>\n",
       "      <td>SORRISO</td>\n",
       "      <td>Fenômenos da Natureza</td>\n",
       "      <td>1</td>\n",
       "      <td>Saída de leito carroçável</td>\n",
       "      <td>Com Vítimas Feridas</td>\n",
       "      <td>...</td>\n",
       "      <td>38</td>\n",
       "      <td>Não Informado</td>\n",
       "      <td>0</td>\n",
       "      <td>0</td>\n",
       "      <td>0</td>\n",
       "      <td>0</td>\n",
       "      <td>-12,84559402</td>\n",
       "      <td>-55,82671994</td>\n",
       "      <td>DEL06-MT</td>\n",
       "      <td>2020-01-01 12:00:00</td>\n",
       "    </tr>\n",
       "    <tr>\n",
       "      <th>...</th>\n",
       "      <td>...</td>\n",
       "      <td>...</td>\n",
       "      <td>...</td>\n",
       "      <td>...</td>\n",
       "      <td>...</td>\n",
       "      <td>...</td>\n",
       "      <td>...</td>\n",
       "      <td>...</td>\n",
       "      <td>...</td>\n",
       "      <td>...</td>\n",
       "      <td>...</td>\n",
       "      <td>...</td>\n",
       "      <td>...</td>\n",
       "      <td>...</td>\n",
       "      <td>...</td>\n",
       "      <td>...</td>\n",
       "      <td>...</td>\n",
       "      <td>...</td>\n",
       "      <td>...</td>\n",
       "      <td>...</td>\n",
       "      <td>...</td>\n",
       "    </tr>\n",
       "    <tr>\n",
       "      <th>1712110</th>\n",
       "      <td>582543</td>\n",
       "      <td>quarta-feira</td>\n",
       "      <td>SC</td>\n",
       "      <td>BR-282</td>\n",
       "      <td>309</td>\n",
       "      <td>VARGEM</td>\n",
       "      <td>Velocidade Incompatível</td>\n",
       "      <td>3</td>\n",
       "      <td>Colisão traseira</td>\n",
       "      <td>Com Vítimas Feridas</td>\n",
       "      <td>...</td>\n",
       "      <td>15</td>\n",
       "      <td>Não Informado</td>\n",
       "      <td>0</td>\n",
       "      <td>0</td>\n",
       "      <td>0</td>\n",
       "      <td>0</td>\n",
       "      <td>-27,48248988</td>\n",
       "      <td>-50,98212004</td>\n",
       "      <td>DEL07-SC</td>\n",
       "      <td>2023-07-05 18:50:00</td>\n",
       "    </tr>\n",
       "    <tr>\n",
       "      <th>1712112</th>\n",
       "      <td>582543</td>\n",
       "      <td>quarta-feira</td>\n",
       "      <td>SC</td>\n",
       "      <td>BR-282</td>\n",
       "      <td>309</td>\n",
       "      <td>VARGEM</td>\n",
       "      <td>Velocidade Incompatível</td>\n",
       "      <td>3</td>\n",
       "      <td>Colisão traseira</td>\n",
       "      <td>Com Vítimas Feridas</td>\n",
       "      <td>...</td>\n",
       "      <td>28</td>\n",
       "      <td>Não Informado</td>\n",
       "      <td>0</td>\n",
       "      <td>0</td>\n",
       "      <td>0</td>\n",
       "      <td>0</td>\n",
       "      <td>-27,48248988</td>\n",
       "      <td>-50,98212004</td>\n",
       "      <td>DEL07-SC</td>\n",
       "      <td>2023-07-05 18:50:00</td>\n",
       "    </tr>\n",
       "    <tr>\n",
       "      <th>1712117</th>\n",
       "      <td>582543</td>\n",
       "      <td>quarta-feira</td>\n",
       "      <td>SC</td>\n",
       "      <td>BR-282</td>\n",
       "      <td>309</td>\n",
       "      <td>VARGEM</td>\n",
       "      <td>Velocidade Incompatível</td>\n",
       "      <td>2</td>\n",
       "      <td>Tombamento</td>\n",
       "      <td>Com Vítimas Feridas</td>\n",
       "      <td>...</td>\n",
       "      <td>40</td>\n",
       "      <td>Não Informado</td>\n",
       "      <td>0</td>\n",
       "      <td>0</td>\n",
       "      <td>0</td>\n",
       "      <td>0</td>\n",
       "      <td>-27,48248988</td>\n",
       "      <td>-50,98212004</td>\n",
       "      <td>DEL07-SC</td>\n",
       "      <td>2023-07-05 18:50:00</td>\n",
       "    </tr>\n",
       "    <tr>\n",
       "      <th>1712118</th>\n",
       "      <td>582543</td>\n",
       "      <td>quarta-feira</td>\n",
       "      <td>SC</td>\n",
       "      <td>BR-282</td>\n",
       "      <td>309</td>\n",
       "      <td>VARGEM</td>\n",
       "      <td>Velocidade Incompatível</td>\n",
       "      <td>2</td>\n",
       "      <td>Tombamento</td>\n",
       "      <td>Com Vítimas Feridas</td>\n",
       "      <td>...</td>\n",
       "      <td>25</td>\n",
       "      <td>Não Informado</td>\n",
       "      <td>0</td>\n",
       "      <td>0</td>\n",
       "      <td>0</td>\n",
       "      <td>0</td>\n",
       "      <td>-27,48248988</td>\n",
       "      <td>-50,98212004</td>\n",
       "      <td>DEL07-SC</td>\n",
       "      <td>2023-07-05 18:50:00</td>\n",
       "    </tr>\n",
       "    <tr>\n",
       "      <th>1712886</th>\n",
       "      <td>589495</td>\n",
       "      <td>domingo</td>\n",
       "      <td>SC</td>\n",
       "      <td>BR-101</td>\n",
       "      <td>73</td>\n",
       "      <td>ARAQUARI</td>\n",
       "      <td>Reação tardia ou ineficiente do condutor</td>\n",
       "      <td>1</td>\n",
       "      <td>Engavetamento</td>\n",
       "      <td>Com Vítimas Feridas</td>\n",
       "      <td>...</td>\n",
       "      <td>32</td>\n",
       "      <td>Não Informado</td>\n",
       "      <td>0</td>\n",
       "      <td>0</td>\n",
       "      <td>0</td>\n",
       "      <td>0</td>\n",
       "      <td>-26,53567108</td>\n",
       "      <td>-48,71326731</td>\n",
       "      <td>DEL03-SC</td>\n",
       "      <td>2023-09-10 21:00:00</td>\n",
       "    </tr>\n",
       "  </tbody>\n",
       "</table>\n",
       "<p>38928 rows × 30 columns</p>\n",
       "</div>"
      ],
      "text/plain": [
       "             id    dia_semana  uf      br   km    municipio  \\\n",
       "58       260046  quarta-feira  SC  BR-282  509      XANXERE   \n",
       "164      260080  quarta-feira  RJ  BR-116   79  TERESOPOLIS   \n",
       "327      260139  quarta-feira  MT  BR-163  729      SORRISO   \n",
       "328      260139  quarta-feira  MT  BR-163  729      SORRISO   \n",
       "329      260139  quarta-feira  MT  BR-163  729      SORRISO   \n",
       "...         ...           ...  ..     ...  ...          ...   \n",
       "1712110  582543  quarta-feira  SC  BR-282  309       VARGEM   \n",
       "1712112  582543  quarta-feira  SC  BR-282  309       VARGEM   \n",
       "1712117  582543  quarta-feira  SC  BR-282  309       VARGEM   \n",
       "1712118  582543  quarta-feira  SC  BR-282  309       VARGEM   \n",
       "1712886  589495       domingo  SC  BR-101   73     ARAQUARI   \n",
       "\n",
       "                                            causa_acidente  \\\n",
       "58                                        Animais na Pista   \n",
       "164      Desobediência às normas de trânsito pelo condutor   \n",
       "327                                Velocidade Incompatível   \n",
       "328                                Velocidade Incompatível   \n",
       "329                                  Fenômenos da Natureza   \n",
       "...                                                    ...   \n",
       "1712110                            Velocidade Incompatível   \n",
       "1712112                            Velocidade Incompatível   \n",
       "1712117                            Velocidade Incompatível   \n",
       "1712118                            Velocidade Incompatível   \n",
       "1712886           Reação tardia ou ineficiente do condutor   \n",
       "\n",
       "         ordem_tipo_acidente              tipo_acidente  \\\n",
       "58                         1  Saída de leito carroçável   \n",
       "164                        1            Colisão lateral   \n",
       "327                        1  Saída de leito carroçável   \n",
       "328                        2                Capotamento   \n",
       "329                        1  Saída de leito carroçável   \n",
       "...                      ...                        ...   \n",
       "1712110                    3           Colisão traseira   \n",
       "1712112                    3           Colisão traseira   \n",
       "1712117                    2                 Tombamento   \n",
       "1712118                    2                 Tombamento   \n",
       "1712886                    1              Engavetamento   \n",
       "\n",
       "        classificacao_acidente  ... idade           sexo ilesos feridos_leves  \\\n",
       "58         Com Vítimas Feridas  ...    76  Não Informado      0             0   \n",
       "164        Com Vítimas Feridas  ...    20  Não Informado      0             0   \n",
       "327        Com Vítimas Feridas  ...    33  Não Informado      0             0   \n",
       "328        Com Vítimas Feridas  ...    36  Não Informado      0             0   \n",
       "329        Com Vítimas Feridas  ...    38  Não Informado      0             0   \n",
       "...                        ...  ...   ...            ...    ...           ...   \n",
       "1712110    Com Vítimas Feridas  ...    15  Não Informado      0             0   \n",
       "1712112    Com Vítimas Feridas  ...    28  Não Informado      0             0   \n",
       "1712117    Com Vítimas Feridas  ...    40  Não Informado      0             0   \n",
       "1712118    Com Vítimas Feridas  ...    25  Não Informado      0             0   \n",
       "1712886    Com Vítimas Feridas  ...    32  Não Informado      0             0   \n",
       "\n",
       "        feridos_graves mortos      latitude     longitude delegacia  \\\n",
       "58                   0      0  -26,89436315   -52,4613905  DEL07-SC   \n",
       "164                  0      0    -22,381704    -42,954777  DEL04-RJ   \n",
       "327                  0      0  -12,84559402  -55,82671994  DEL06-MT   \n",
       "328                  0      0  -12,84559402  -55,82671994  DEL06-MT   \n",
       "329                  0      0  -12,84559402  -55,82671994  DEL06-MT   \n",
       "...                ...    ...           ...           ...       ...   \n",
       "1712110              0      0  -27,48248988  -50,98212004  DEL07-SC   \n",
       "1712112              0      0  -27,48248988  -50,98212004  DEL07-SC   \n",
       "1712117              0      0  -27,48248988  -50,98212004  DEL07-SC   \n",
       "1712118              0      0  -27,48248988  -50,98212004  DEL07-SC   \n",
       "1712886              0      0  -26,53567108  -48,71326731  DEL03-SC   \n",
       "\n",
       "              data_completa  \n",
       "58      2020-01-01 02:15:00  \n",
       "164     2020-01-01 01:50:00  \n",
       "327     2020-01-01 12:00:00  \n",
       "328     2020-01-01 12:00:00  \n",
       "329     2020-01-01 12:00:00  \n",
       "...                     ...  \n",
       "1712110 2023-07-05 18:50:00  \n",
       "1712112 2023-07-05 18:50:00  \n",
       "1712117 2023-07-05 18:50:00  \n",
       "1712118 2023-07-05 18:50:00  \n",
       "1712886 2023-09-10 21:00:00  \n",
       "\n",
       "[38928 rows x 30 columns]"
      ]
     },
     "execution_count": 134,
     "metadata": {},
     "output_type": "execute_result"
    }
   ],
   "source": [
    "df.loc[(df['tipo_envolvido'] == 'Testemunha')]"
   ]
  },
  {
   "cell_type": "code",
   "execution_count": 135,
   "metadata": {},
   "outputs": [
    {
     "data": {
      "text/plain": [
       "38928"
      ]
     },
     "execution_count": 135,
     "metadata": {},
     "output_type": "execute_result"
    }
   ],
   "source": [
    "# É possivel observar que todas as testemunhas não possuem sexos e não estão envolvidas de fato no acidente\n",
    "# Cavaleiro e a pessoa que estava andando com animais\n",
    "\n",
    "df.loc[(df['tipo_envolvido'] == 'Testemunha') & (df['sexo'] == 'Não Informado')].shape[0]"
   ]
  },
  {
   "cell_type": "code",
   "execution_count": 136,
   "metadata": {},
   "outputs": [],
   "source": [
    "df = df.drop(df[(df['tipo_envolvido'] == 'Testemunha') & (df['sexo'] == 'Não Informado')].index)"
   ]
  },
  {
   "cell_type": "markdown",
   "metadata": {},
   "source": [
    "**Coluna estado fisico**"
   ]
  },
  {
   "cell_type": "code",
   "execution_count": 137,
   "metadata": {},
   "outputs": [
    {
     "data": {
      "text/plain": [
       "estado_fisico\n",
       "Ileso            268859\n",
       "Lesões Leves     225147\n",
       "Lesões Graves     74334\n",
       "Não Informado     71344\n",
       "Óbito             23105\n",
       "Name: count, dtype: int64"
      ]
     },
     "execution_count": 137,
     "metadata": {},
     "output_type": "execute_result"
    }
   ],
   "source": [
    "df['estado_fisico'].value_counts()"
   ]
  },
  {
   "cell_type": "markdown",
   "metadata": {},
   "source": [
    " ***Investigando os valores 'Não Informado'***"
   ]
  },
  {
   "cell_type": "code",
   "execution_count": 138,
   "metadata": {},
   "outputs": [
    {
     "data": {
      "text/html": [
       "<div>\n",
       "<style scoped>\n",
       "    .dataframe tbody tr th:only-of-type {\n",
       "        vertical-align: middle;\n",
       "    }\n",
       "\n",
       "    .dataframe tbody tr th {\n",
       "        vertical-align: top;\n",
       "    }\n",
       "\n",
       "    .dataframe thead th {\n",
       "        text-align: right;\n",
       "    }\n",
       "</style>\n",
       "<table border=\"1\" class=\"dataframe\">\n",
       "  <thead>\n",
       "    <tr style=\"text-align: right;\">\n",
       "      <th></th>\n",
       "      <th>id</th>\n",
       "      <th>dia_semana</th>\n",
       "      <th>uf</th>\n",
       "      <th>br</th>\n",
       "      <th>km</th>\n",
       "      <th>municipio</th>\n",
       "      <th>causa_acidente</th>\n",
       "      <th>ordem_tipo_acidente</th>\n",
       "      <th>tipo_acidente</th>\n",
       "      <th>classificacao_acidente</th>\n",
       "      <th>...</th>\n",
       "      <th>idade</th>\n",
       "      <th>sexo</th>\n",
       "      <th>ilesos</th>\n",
       "      <th>feridos_leves</th>\n",
       "      <th>feridos_graves</th>\n",
       "      <th>mortos</th>\n",
       "      <th>latitude</th>\n",
       "      <th>longitude</th>\n",
       "      <th>delegacia</th>\n",
       "      <th>data_completa</th>\n",
       "    </tr>\n",
       "  </thead>\n",
       "  <tbody>\n",
       "    <tr>\n",
       "      <th>59</th>\n",
       "      <td>260050</td>\n",
       "      <td>quarta-feira</td>\n",
       "      <td>PE</td>\n",
       "      <td>BR-101</td>\n",
       "      <td>49</td>\n",
       "      <td>ABREU E LIMA</td>\n",
       "      <td>Falta de Atenção à Condução</td>\n",
       "      <td>1</td>\n",
       "      <td>Colisão lateral</td>\n",
       "      <td>Com Vítimas Feridas</td>\n",
       "      <td>...</td>\n",
       "      <td>33</td>\n",
       "      <td>Não Informado</td>\n",
       "      <td>0</td>\n",
       "      <td>0</td>\n",
       "      <td>0</td>\n",
       "      <td>0</td>\n",
       "      <td>-7,9005152</td>\n",
       "      <td>-34,90180641</td>\n",
       "      <td>DEL01-PE</td>\n",
       "      <td>2020-01-01 03:40:00</td>\n",
       "    </tr>\n",
       "    <tr>\n",
       "      <th>165</th>\n",
       "      <td>260080</td>\n",
       "      <td>quarta-feira</td>\n",
       "      <td>RJ</td>\n",
       "      <td>BR-116</td>\n",
       "      <td>79</td>\n",
       "      <td>TERESOPOLIS</td>\n",
       "      <td>Desobediência às normas de trânsito pelo condutor</td>\n",
       "      <td>1</td>\n",
       "      <td>Colisão lateral</td>\n",
       "      <td>Com Vítimas Feridas</td>\n",
       "      <td>...</td>\n",
       "      <td>45</td>\n",
       "      <td>Não Informado</td>\n",
       "      <td>0</td>\n",
       "      <td>0</td>\n",
       "      <td>0</td>\n",
       "      <td>0</td>\n",
       "      <td>-22,381704</td>\n",
       "      <td>-42,954777</td>\n",
       "      <td>DEL04-RJ</td>\n",
       "      <td>2020-01-01 01:50:00</td>\n",
       "    </tr>\n",
       "    <tr>\n",
       "      <th>182</th>\n",
       "      <td>260085</td>\n",
       "      <td>quarta-feira</td>\n",
       "      <td>RS</td>\n",
       "      <td>BR-470</td>\n",
       "      <td>19</td>\n",
       "      <td>BARRACAO</td>\n",
       "      <td>Condutor Dormindo</td>\n",
       "      <td>2</td>\n",
       "      <td>Capotamento</td>\n",
       "      <td>Sem Vítimas</td>\n",
       "      <td>...</td>\n",
       "      <td>53</td>\n",
       "      <td>Não Informado</td>\n",
       "      <td>0</td>\n",
       "      <td>0</td>\n",
       "      <td>0</td>\n",
       "      <td>0</td>\n",
       "      <td>-27,66229079</td>\n",
       "      <td>-51,45618168</td>\n",
       "      <td>DEL08-RS</td>\n",
       "      <td>2020-01-01 05:00:00</td>\n",
       "    </tr>\n",
       "    <tr>\n",
       "      <th>183</th>\n",
       "      <td>260085</td>\n",
       "      <td>quarta-feira</td>\n",
       "      <td>RS</td>\n",
       "      <td>BR-470</td>\n",
       "      <td>19</td>\n",
       "      <td>BARRACAO</td>\n",
       "      <td>Condutor Dormindo</td>\n",
       "      <td>1</td>\n",
       "      <td>Saída de leito carroçável</td>\n",
       "      <td>Sem Vítimas</td>\n",
       "      <td>...</td>\n",
       "      <td>37</td>\n",
       "      <td>Não Informado</td>\n",
       "      <td>0</td>\n",
       "      <td>0</td>\n",
       "      <td>0</td>\n",
       "      <td>0</td>\n",
       "      <td>-27,66229079</td>\n",
       "      <td>-51,45618168</td>\n",
       "      <td>DEL08-RS</td>\n",
       "      <td>2020-01-01 05:00:00</td>\n",
       "    </tr>\n",
       "    <tr>\n",
       "      <th>184</th>\n",
       "      <td>260086</td>\n",
       "      <td>quarta-feira</td>\n",
       "      <td>PR</td>\n",
       "      <td>BR-376</td>\n",
       "      <td>677</td>\n",
       "      <td>GUARATUBA</td>\n",
       "      <td>Ingestão de Álcool</td>\n",
       "      <td>1</td>\n",
       "      <td>Capotamento</td>\n",
       "      <td>Sem Vítimas</td>\n",
       "      <td>...</td>\n",
       "      <td>32</td>\n",
       "      <td>Não Informado</td>\n",
       "      <td>0</td>\n",
       "      <td>0</td>\n",
       "      <td>0</td>\n",
       "      <td>0</td>\n",
       "      <td>-25,93367517</td>\n",
       "      <td>-48,9113003</td>\n",
       "      <td>DEL01-PR</td>\n",
       "      <td>2020-01-01 05:20:00</td>\n",
       "    </tr>\n",
       "    <tr>\n",
       "      <th>...</th>\n",
       "      <td>...</td>\n",
       "      <td>...</td>\n",
       "      <td>...</td>\n",
       "      <td>...</td>\n",
       "      <td>...</td>\n",
       "      <td>...</td>\n",
       "      <td>...</td>\n",
       "      <td>...</td>\n",
       "      <td>...</td>\n",
       "      <td>...</td>\n",
       "      <td>...</td>\n",
       "      <td>...</td>\n",
       "      <td>...</td>\n",
       "      <td>...</td>\n",
       "      <td>...</td>\n",
       "      <td>...</td>\n",
       "      <td>...</td>\n",
       "      <td>...</td>\n",
       "      <td>...</td>\n",
       "      <td>...</td>\n",
       "      <td>...</td>\n",
       "    </tr>\n",
       "    <tr>\n",
       "      <th>1712835</th>\n",
       "      <td>588770</td>\n",
       "      <td>terça-feira</td>\n",
       "      <td>PR</td>\n",
       "      <td>BR-376</td>\n",
       "      <td>45</td>\n",
       "      <td>NOVA LONDRINA</td>\n",
       "      <td>Condutor deixou de manter distância do veículo...</td>\n",
       "      <td>2</td>\n",
       "      <td>Tombamento</td>\n",
       "      <td>Com Vítimas Feridas</td>\n",
       "      <td>...</td>\n",
       "      <td>56</td>\n",
       "      <td>Não Informado</td>\n",
       "      <td>0</td>\n",
       "      <td>0</td>\n",
       "      <td>0</td>\n",
       "      <td>0</td>\n",
       "      <td>-22,86104724</td>\n",
       "      <td>-52,9656179</td>\n",
       "      <td>DEL09-PR</td>\n",
       "      <td>2023-11-28 06:59:00</td>\n",
       "    </tr>\n",
       "    <tr>\n",
       "      <th>1712850</th>\n",
       "      <td>588979</td>\n",
       "      <td>domingo</td>\n",
       "      <td>SC</td>\n",
       "      <td>BR-101</td>\n",
       "      <td>125</td>\n",
       "      <td>ITAJAI</td>\n",
       "      <td>Ausência de reação do condutor</td>\n",
       "      <td>1</td>\n",
       "      <td>Colisão traseira</td>\n",
       "      <td>Com Vítimas Feridas</td>\n",
       "      <td>...</td>\n",
       "      <td>27</td>\n",
       "      <td>Não Informado</td>\n",
       "      <td>0</td>\n",
       "      <td>0</td>\n",
       "      <td>0</td>\n",
       "      <td>0</td>\n",
       "      <td>-26,94802427</td>\n",
       "      <td>-48,68338515</td>\n",
       "      <td>DEL04-SC</td>\n",
       "      <td>2023-08-20 02:50:00</td>\n",
       "    </tr>\n",
       "    <tr>\n",
       "      <th>1712852</th>\n",
       "      <td>589016</td>\n",
       "      <td>domingo</td>\n",
       "      <td>GO</td>\n",
       "      <td>BR-60</td>\n",
       "      <td>114</td>\n",
       "      <td>TEREZOPOLIS DE GOIAS</td>\n",
       "      <td>Condutor deixou de manter distância do veículo...</td>\n",
       "      <td>1</td>\n",
       "      <td>Capotamento</td>\n",
       "      <td>Com Vítimas Feridas</td>\n",
       "      <td>...</td>\n",
       "      <td>52</td>\n",
       "      <td>Não Informado</td>\n",
       "      <td>0</td>\n",
       "      <td>0</td>\n",
       "      <td>0</td>\n",
       "      <td>0</td>\n",
       "      <td>-16,4633</td>\n",
       "      <td>-49,0636</td>\n",
       "      <td>DEL01-GO</td>\n",
       "      <td>2023-11-05 18:00:00</td>\n",
       "    </tr>\n",
       "    <tr>\n",
       "      <th>1712873</th>\n",
       "      <td>589229</td>\n",
       "      <td>quarta-feira</td>\n",
       "      <td>MG</td>\n",
       "      <td>BR-381</td>\n",
       "      <td>501</td>\n",
       "      <td>BETIM</td>\n",
       "      <td>Ausência de reação do condutor</td>\n",
       "      <td>2</td>\n",
       "      <td>Colisão lateral mesmo sentido</td>\n",
       "      <td>Com Vítimas Fatais</td>\n",
       "      <td>...</td>\n",
       "      <td>27</td>\n",
       "      <td>Não Informado</td>\n",
       "      <td>0</td>\n",
       "      <td>0</td>\n",
       "      <td>0</td>\n",
       "      <td>0</td>\n",
       "      <td>-20,03146447</td>\n",
       "      <td>-44,2377893</td>\n",
       "      <td>DEL01-MG</td>\n",
       "      <td>2023-01-04 22:30:00</td>\n",
       "    </tr>\n",
       "    <tr>\n",
       "      <th>1712875</th>\n",
       "      <td>589229</td>\n",
       "      <td>quarta-feira</td>\n",
       "      <td>MG</td>\n",
       "      <td>BR-381</td>\n",
       "      <td>501</td>\n",
       "      <td>BETIM</td>\n",
       "      <td>Ausência de reação do condutor</td>\n",
       "      <td>1</td>\n",
       "      <td>Atropelamento de Pedestre</td>\n",
       "      <td>Com Vítimas Fatais</td>\n",
       "      <td>...</td>\n",
       "      <td>24</td>\n",
       "      <td>Não Informado</td>\n",
       "      <td>0</td>\n",
       "      <td>0</td>\n",
       "      <td>0</td>\n",
       "      <td>0</td>\n",
       "      <td>-20,03146447</td>\n",
       "      <td>-44,2377893</td>\n",
       "      <td>DEL01-MG</td>\n",
       "      <td>2023-01-04 22:30:00</td>\n",
       "    </tr>\n",
       "  </tbody>\n",
       "</table>\n",
       "<p>71344 rows × 30 columns</p>\n",
       "</div>"
      ],
      "text/plain": [
       "             id    dia_semana  uf      br   km             municipio  \\\n",
       "59       260050  quarta-feira  PE  BR-101   49          ABREU E LIMA   \n",
       "165      260080  quarta-feira  RJ  BR-116   79           TERESOPOLIS   \n",
       "182      260085  quarta-feira  RS  BR-470   19              BARRACAO   \n",
       "183      260085  quarta-feira  RS  BR-470   19              BARRACAO   \n",
       "184      260086  quarta-feira  PR  BR-376  677             GUARATUBA   \n",
       "...         ...           ...  ..     ...  ...                   ...   \n",
       "1712835  588770   terça-feira  PR  BR-376   45         NOVA LONDRINA   \n",
       "1712850  588979       domingo  SC  BR-101  125                ITAJAI   \n",
       "1712852  589016       domingo  GO   BR-60  114  TEREZOPOLIS DE GOIAS   \n",
       "1712873  589229  quarta-feira  MG  BR-381  501                 BETIM   \n",
       "1712875  589229  quarta-feira  MG  BR-381  501                 BETIM   \n",
       "\n",
       "                                            causa_acidente  \\\n",
       "59                             Falta de Atenção à Condução   \n",
       "165      Desobediência às normas de trânsito pelo condutor   \n",
       "182                                      Condutor Dormindo   \n",
       "183                                      Condutor Dormindo   \n",
       "184                                     Ingestão de Álcool   \n",
       "...                                                    ...   \n",
       "1712835  Condutor deixou de manter distância do veículo...   \n",
       "1712850                     Ausência de reação do condutor   \n",
       "1712852  Condutor deixou de manter distância do veículo...   \n",
       "1712873                     Ausência de reação do condutor   \n",
       "1712875                     Ausência de reação do condutor   \n",
       "\n",
       "         ordem_tipo_acidente                  tipo_acidente  \\\n",
       "59                         1                Colisão lateral   \n",
       "165                        1                Colisão lateral   \n",
       "182                        2                    Capotamento   \n",
       "183                        1      Saída de leito carroçável   \n",
       "184                        1                    Capotamento   \n",
       "...                      ...                            ...   \n",
       "1712835                    2                     Tombamento   \n",
       "1712850                    1               Colisão traseira   \n",
       "1712852                    1                    Capotamento   \n",
       "1712873                    2  Colisão lateral mesmo sentido   \n",
       "1712875                    1      Atropelamento de Pedestre   \n",
       "\n",
       "        classificacao_acidente  ... idade           sexo ilesos feridos_leves  \\\n",
       "59         Com Vítimas Feridas  ...    33  Não Informado      0             0   \n",
       "165        Com Vítimas Feridas  ...    45  Não Informado      0             0   \n",
       "182                Sem Vítimas  ...    53  Não Informado      0             0   \n",
       "183                Sem Vítimas  ...    37  Não Informado      0             0   \n",
       "184                Sem Vítimas  ...    32  Não Informado      0             0   \n",
       "...                        ...  ...   ...            ...    ...           ...   \n",
       "1712835    Com Vítimas Feridas  ...    56  Não Informado      0             0   \n",
       "1712850    Com Vítimas Feridas  ...    27  Não Informado      0             0   \n",
       "1712852    Com Vítimas Feridas  ...    52  Não Informado      0             0   \n",
       "1712873     Com Vítimas Fatais  ...    27  Não Informado      0             0   \n",
       "1712875     Com Vítimas Fatais  ...    24  Não Informado      0             0   \n",
       "\n",
       "        feridos_graves mortos      latitude     longitude delegacia  \\\n",
       "59                   0      0    -7,9005152  -34,90180641  DEL01-PE   \n",
       "165                  0      0    -22,381704    -42,954777  DEL04-RJ   \n",
       "182                  0      0  -27,66229079  -51,45618168  DEL08-RS   \n",
       "183                  0      0  -27,66229079  -51,45618168  DEL08-RS   \n",
       "184                  0      0  -25,93367517   -48,9113003  DEL01-PR   \n",
       "...                ...    ...           ...           ...       ...   \n",
       "1712835              0      0  -22,86104724   -52,9656179  DEL09-PR   \n",
       "1712850              0      0  -26,94802427  -48,68338515  DEL04-SC   \n",
       "1712852              0      0      -16,4633      -49,0636  DEL01-GO   \n",
       "1712873              0      0  -20,03146447   -44,2377893  DEL01-MG   \n",
       "1712875              0      0  -20,03146447   -44,2377893  DEL01-MG   \n",
       "\n",
       "              data_completa  \n",
       "59      2020-01-01 03:40:00  \n",
       "165     2020-01-01 01:50:00  \n",
       "182     2020-01-01 05:00:00  \n",
       "183     2020-01-01 05:00:00  \n",
       "184     2020-01-01 05:20:00  \n",
       "...                     ...  \n",
       "1712835 2023-11-28 06:59:00  \n",
       "1712850 2023-08-20 02:50:00  \n",
       "1712852 2023-11-05 18:00:00  \n",
       "1712873 2023-01-04 22:30:00  \n",
       "1712875 2023-01-04 22:30:00  \n",
       "\n",
       "[71344 rows x 30 columns]"
      ]
     },
     "execution_count": 138,
     "metadata": {},
     "output_type": "execute_result"
    }
   ],
   "source": [
    "df.loc[df['estado_fisico'] == 'Não Informado']"
   ]
  },
  {
   "cell_type": "code",
   "execution_count": 139,
   "metadata": {},
   "outputs": [],
   "source": [
    "# Atribuindo o valor 'Ileso' para os acidentes onde não houveram vítimas\n",
    "\n",
    "df.loc[(df['estado_fisico'] == 'Não Informado') & (df['classificacao_acidente'] == 'Sem Vítimas'), 'estado_fisico'] = 'Ileso'"
   ]
  },
  {
   "cell_type": "markdown",
   "metadata": {},
   "source": [
    "Filtrando e observando os dados onde o estado fisico é não informado e a classificação é com vítimas fatais"
   ]
  },
  {
   "cell_type": "code",
   "execution_count": 140,
   "metadata": {},
   "outputs": [
    {
     "data": {
      "text/html": [
       "<div>\n",
       "<style scoped>\n",
       "    .dataframe tbody tr th:only-of-type {\n",
       "        vertical-align: middle;\n",
       "    }\n",
       "\n",
       "    .dataframe tbody tr th {\n",
       "        vertical-align: top;\n",
       "    }\n",
       "\n",
       "    .dataframe thead th {\n",
       "        text-align: right;\n",
       "    }\n",
       "</style>\n",
       "<table border=\"1\" class=\"dataframe\">\n",
       "  <thead>\n",
       "    <tr style=\"text-align: right;\">\n",
       "      <th></th>\n",
       "      <th>id</th>\n",
       "      <th>estado_fisico</th>\n",
       "      <th>tipo_acidente</th>\n",
       "      <th>classificacao_acidente</th>\n",
       "      <th>idade</th>\n",
       "      <th>sexo</th>\n",
       "      <th>ilesos</th>\n",
       "      <th>feridos_leves</th>\n",
       "      <th>feridos_graves</th>\n",
       "      <th>mortos</th>\n",
       "    </tr>\n",
       "  </thead>\n",
       "  <tbody>\n",
       "    <tr>\n",
       "      <th>599</th>\n",
       "      <td>260213</td>\n",
       "      <td>Não Informado</td>\n",
       "      <td>Tombamento</td>\n",
       "      <td>Com Vítimas Fatais</td>\n",
       "      <td>45</td>\n",
       "      <td>Não Informado</td>\n",
       "      <td>0</td>\n",
       "      <td>0</td>\n",
       "      <td>0</td>\n",
       "      <td>0</td>\n",
       "    </tr>\n",
       "    <tr>\n",
       "      <th>601</th>\n",
       "      <td>260213</td>\n",
       "      <td>Não Informado</td>\n",
       "      <td>Saída de leito carroçável</td>\n",
       "      <td>Com Vítimas Fatais</td>\n",
       "      <td>40</td>\n",
       "      <td>Não Informado</td>\n",
       "      <td>0</td>\n",
       "      <td>0</td>\n",
       "      <td>0</td>\n",
       "      <td>0</td>\n",
       "    </tr>\n",
       "    <tr>\n",
       "      <th>603</th>\n",
       "      <td>260213</td>\n",
       "      <td>Não Informado</td>\n",
       "      <td>Tombamento</td>\n",
       "      <td>Com Vítimas Fatais</td>\n",
       "      <td>43</td>\n",
       "      <td>Não Informado</td>\n",
       "      <td>0</td>\n",
       "      <td>0</td>\n",
       "      <td>0</td>\n",
       "      <td>0</td>\n",
       "    </tr>\n",
       "    <tr>\n",
       "      <th>605</th>\n",
       "      <td>260213</td>\n",
       "      <td>Não Informado</td>\n",
       "      <td>Saída de leito carroçável</td>\n",
       "      <td>Com Vítimas Fatais</td>\n",
       "      <td>32</td>\n",
       "      <td>Não Informado</td>\n",
       "      <td>0</td>\n",
       "      <td>0</td>\n",
       "      <td>0</td>\n",
       "      <td>0</td>\n",
       "    </tr>\n",
       "    <tr>\n",
       "      <th>2688</th>\n",
       "      <td>260652</td>\n",
       "      <td>Não Informado</td>\n",
       "      <td>Colisão frontal</td>\n",
       "      <td>Com Vítimas Fatais</td>\n",
       "      <td>36</td>\n",
       "      <td>Não Informado</td>\n",
       "      <td>0</td>\n",
       "      <td>0</td>\n",
       "      <td>0</td>\n",
       "      <td>0</td>\n",
       "    </tr>\n",
       "    <tr>\n",
       "      <th>...</th>\n",
       "      <td>...</td>\n",
       "      <td>...</td>\n",
       "      <td>...</td>\n",
       "      <td>...</td>\n",
       "      <td>...</td>\n",
       "      <td>...</td>\n",
       "      <td>...</td>\n",
       "      <td>...</td>\n",
       "      <td>...</td>\n",
       "      <td>...</td>\n",
       "    </tr>\n",
       "    <tr>\n",
       "      <th>1712575</th>\n",
       "      <td>586160</td>\n",
       "      <td>Não Informado</td>\n",
       "      <td>Tombamento</td>\n",
       "      <td>Com Vítimas Fatais</td>\n",
       "      <td>50</td>\n",
       "      <td>Não Informado</td>\n",
       "      <td>0</td>\n",
       "      <td>0</td>\n",
       "      <td>0</td>\n",
       "      <td>0</td>\n",
       "    </tr>\n",
       "    <tr>\n",
       "      <th>1712577</th>\n",
       "      <td>586160</td>\n",
       "      <td>Não Informado</td>\n",
       "      <td>Colisão lateral sentido oposto</td>\n",
       "      <td>Com Vítimas Fatais</td>\n",
       "      <td>56</td>\n",
       "      <td>Não Informado</td>\n",
       "      <td>0</td>\n",
       "      <td>0</td>\n",
       "      <td>0</td>\n",
       "      <td>0</td>\n",
       "    </tr>\n",
       "    <tr>\n",
       "      <th>1712586</th>\n",
       "      <td>586507</td>\n",
       "      <td>Não Informado</td>\n",
       "      <td>Atropelamento de Pedestre</td>\n",
       "      <td>Com Vítimas Fatais</td>\n",
       "      <td>64</td>\n",
       "      <td>Não Informado</td>\n",
       "      <td>0</td>\n",
       "      <td>0</td>\n",
       "      <td>0</td>\n",
       "      <td>0</td>\n",
       "    </tr>\n",
       "    <tr>\n",
       "      <th>1712873</th>\n",
       "      <td>589229</td>\n",
       "      <td>Não Informado</td>\n",
       "      <td>Colisão lateral mesmo sentido</td>\n",
       "      <td>Com Vítimas Fatais</td>\n",
       "      <td>27</td>\n",
       "      <td>Não Informado</td>\n",
       "      <td>0</td>\n",
       "      <td>0</td>\n",
       "      <td>0</td>\n",
       "      <td>0</td>\n",
       "    </tr>\n",
       "    <tr>\n",
       "      <th>1712875</th>\n",
       "      <td>589229</td>\n",
       "      <td>Não Informado</td>\n",
       "      <td>Atropelamento de Pedestre</td>\n",
       "      <td>Com Vítimas Fatais</td>\n",
       "      <td>24</td>\n",
       "      <td>Não Informado</td>\n",
       "      <td>0</td>\n",
       "      <td>0</td>\n",
       "      <td>0</td>\n",
       "      <td>0</td>\n",
       "    </tr>\n",
       "  </tbody>\n",
       "</table>\n",
       "<p>9895 rows × 10 columns</p>\n",
       "</div>"
      ],
      "text/plain": [
       "             id  estado_fisico                   tipo_acidente  \\\n",
       "599      260213  Não Informado                      Tombamento   \n",
       "601      260213  Não Informado       Saída de leito carroçável   \n",
       "603      260213  Não Informado                      Tombamento   \n",
       "605      260213  Não Informado       Saída de leito carroçável   \n",
       "2688     260652  Não Informado                 Colisão frontal   \n",
       "...         ...            ...                             ...   \n",
       "1712575  586160  Não Informado                      Tombamento   \n",
       "1712577  586160  Não Informado  Colisão lateral sentido oposto   \n",
       "1712586  586507  Não Informado       Atropelamento de Pedestre   \n",
       "1712873  589229  Não Informado   Colisão lateral mesmo sentido   \n",
       "1712875  589229  Não Informado       Atropelamento de Pedestre   \n",
       "\n",
       "        classificacao_acidente  idade           sexo  ilesos  feridos_leves  \\\n",
       "599         Com Vítimas Fatais     45  Não Informado       0              0   \n",
       "601         Com Vítimas Fatais     40  Não Informado       0              0   \n",
       "603         Com Vítimas Fatais     43  Não Informado       0              0   \n",
       "605         Com Vítimas Fatais     32  Não Informado       0              0   \n",
       "2688        Com Vítimas Fatais     36  Não Informado       0              0   \n",
       "...                        ...    ...            ...     ...            ...   \n",
       "1712575     Com Vítimas Fatais     50  Não Informado       0              0   \n",
       "1712577     Com Vítimas Fatais     56  Não Informado       0              0   \n",
       "1712586     Com Vítimas Fatais     64  Não Informado       0              0   \n",
       "1712873     Com Vítimas Fatais     27  Não Informado       0              0   \n",
       "1712875     Com Vítimas Fatais     24  Não Informado       0              0   \n",
       "\n",
       "         feridos_graves  mortos  \n",
       "599                   0       0  \n",
       "601                   0       0  \n",
       "603                   0       0  \n",
       "605                   0       0  \n",
       "2688                  0       0  \n",
       "...                 ...     ...  \n",
       "1712575               0       0  \n",
       "1712577               0       0  \n",
       "1712586               0       0  \n",
       "1712873               0       0  \n",
       "1712875               0       0  \n",
       "\n",
       "[9895 rows x 10 columns]"
      ]
     },
     "execution_count": 140,
     "metadata": {},
     "output_type": "execute_result"
    }
   ],
   "source": [
    "df.loc[(df['estado_fisico'] == 'Não Informado') & (df['classificacao_acidente'] == 'Com Vítimas Fatais'), ['id', 'estado_fisico','tipo_acidente', 'classificacao_acidente', 'idade', 'sexo', 'ilesos', 'feridos_leves', 'feridos_graves', 'mortos']]"
   ]
  },
  {
   "cell_type": "markdown",
   "metadata": {},
   "source": [
    "Criando uma amostra referente ao filtro anterior"
   ]
  },
  {
   "cell_type": "code",
   "execution_count": 141,
   "metadata": {},
   "outputs": [],
   "source": [
    "# Não necessariamente estar envolvido em acidente com mortes significa que todos os envolvidos morreram,\n",
    "# Porém a probabilidade do acidente ser mais violento é alta\n",
    "# Utilizei uma probabilidade de 40% para ser óbito, 35% para Lesões graves e 25% para lesões leves\n",
    "\n",
    "tamanho = df.loc[(df['estado_fisico'] == 'Não Informado') & (df['classificacao_acidente'] == 'Com Vítimas Fatais')].shape[0]\n",
    "probabilidades = [0.65, 0.25, 0.1]\n",
    "estados_fisicos = np.random.choice(['Óbito', 'Lesões Graves', 'Lesões Leves'], size=tamanho, p=probabilidades)"
   ]
  },
  {
   "cell_type": "code",
   "execution_count": 142,
   "metadata": {},
   "outputs": [],
   "source": [
    "df.loc[(df['estado_fisico'] == 'Não Informado') & (df['classificacao_acidente'] == 'Com Vítimas Fatais'), 'estado_fisico'] = estados_fisicos"
   ]
  },
  {
   "cell_type": "code",
   "execution_count": 143,
   "metadata": {},
   "outputs": [],
   "source": [
    "# Para o restante dos dados que não estavam presentes em nenhum dos filtros anteriores\n",
    "\n",
    "tamanho = df.loc[df['estado_fisico'] == 'Não Informado'].shape[0]\n",
    "probabilidades = [0.5, 0.3, 0.2]\n",
    "estados_fisicos2 = np.random.choice(['Lesões Leves', 'Ileso', 'Lesões Graves'], size=tamanho, p=probabilidades)"
   ]
  },
  {
   "cell_type": "code",
   "execution_count": 144,
   "metadata": {},
   "outputs": [],
   "source": [
    "df.loc[df['estado_fisico'] == 'Não Informado', 'estado_fisico'] = estados_fisicos2"
   ]
  },
  {
   "cell_type": "code",
   "execution_count": 145,
   "metadata": {},
   "outputs": [
    {
     "data": {
      "text/plain": [
       "estado_fisico\n",
       "Ileso            302966\n",
       "Lesões Leves     245694\n",
       "Lesões Graves     84604\n",
       "Óbito             29525\n",
       "Name: count, dtype: int64"
      ]
     },
     "execution_count": 145,
     "metadata": {},
     "output_type": "execute_result"
    }
   ],
   "source": [
    "# Verificando a mudança\n",
    "\n",
    "df['estado_fisico'].value_counts()"
   ]
  },
  {
   "cell_type": "markdown",
   "metadata": {},
   "source": [
    "**Coluna sexo**"
   ]
  },
  {
   "cell_type": "code",
   "execution_count": 146,
   "metadata": {},
   "outputs": [
    {
     "data": {
      "text/plain": [
       "sexo\n",
       "Masculino        443930\n",
       "Feminino         143118\n",
       "Não Informado     71344\n",
       "Ignorado           4397\n",
       "Name: count, dtype: int64"
      ]
     },
     "execution_count": 146,
     "metadata": {},
     "output_type": "execute_result"
    }
   ],
   "source": [
    "df['sexo'].value_counts()"
   ]
  },
  {
   "cell_type": "markdown",
   "metadata": {},
   "source": [
    "***Explorando os dados com sexo 'Não Informado' e 'Ignorado'***"
   ]
  },
  {
   "cell_type": "code",
   "execution_count": 147,
   "metadata": {},
   "outputs": [
    {
     "data": {
      "text/html": [
       "<div>\n",
       "<style scoped>\n",
       "    .dataframe tbody tr th:only-of-type {\n",
       "        vertical-align: middle;\n",
       "    }\n",
       "\n",
       "    .dataframe tbody tr th {\n",
       "        vertical-align: top;\n",
       "    }\n",
       "\n",
       "    .dataframe thead th {\n",
       "        text-align: right;\n",
       "    }\n",
       "</style>\n",
       "<table border=\"1\" class=\"dataframe\">\n",
       "  <thead>\n",
       "    <tr style=\"text-align: right;\">\n",
       "      <th></th>\n",
       "      <th>id</th>\n",
       "      <th>dia_semana</th>\n",
       "      <th>uf</th>\n",
       "      <th>br</th>\n",
       "      <th>km</th>\n",
       "      <th>municipio</th>\n",
       "      <th>causa_acidente</th>\n",
       "      <th>ordem_tipo_acidente</th>\n",
       "      <th>tipo_acidente</th>\n",
       "      <th>classificacao_acidente</th>\n",
       "      <th>...</th>\n",
       "      <th>idade</th>\n",
       "      <th>sexo</th>\n",
       "      <th>ilesos</th>\n",
       "      <th>feridos_leves</th>\n",
       "      <th>feridos_graves</th>\n",
       "      <th>mortos</th>\n",
       "      <th>latitude</th>\n",
       "      <th>longitude</th>\n",
       "      <th>delegacia</th>\n",
       "      <th>data_completa</th>\n",
       "    </tr>\n",
       "  </thead>\n",
       "  <tbody>\n",
       "    <tr>\n",
       "      <th>59</th>\n",
       "      <td>260050</td>\n",
       "      <td>quarta-feira</td>\n",
       "      <td>PE</td>\n",
       "      <td>BR-101</td>\n",
       "      <td>49</td>\n",
       "      <td>ABREU E LIMA</td>\n",
       "      <td>Falta de Atenção à Condução</td>\n",
       "      <td>1</td>\n",
       "      <td>Colisão lateral</td>\n",
       "      <td>Com Vítimas Feridas</td>\n",
       "      <td>...</td>\n",
       "      <td>33</td>\n",
       "      <td>Não Informado</td>\n",
       "      <td>0</td>\n",
       "      <td>0</td>\n",
       "      <td>0</td>\n",
       "      <td>0</td>\n",
       "      <td>-7,9005152</td>\n",
       "      <td>-34,90180641</td>\n",
       "      <td>DEL01-PE</td>\n",
       "      <td>2020-01-01 03:40:00</td>\n",
       "    </tr>\n",
       "    <tr>\n",
       "      <th>165</th>\n",
       "      <td>260080</td>\n",
       "      <td>quarta-feira</td>\n",
       "      <td>RJ</td>\n",
       "      <td>BR-116</td>\n",
       "      <td>79</td>\n",
       "      <td>TERESOPOLIS</td>\n",
       "      <td>Desobediência às normas de trânsito pelo condutor</td>\n",
       "      <td>1</td>\n",
       "      <td>Colisão lateral</td>\n",
       "      <td>Com Vítimas Feridas</td>\n",
       "      <td>...</td>\n",
       "      <td>45</td>\n",
       "      <td>Não Informado</td>\n",
       "      <td>0</td>\n",
       "      <td>0</td>\n",
       "      <td>0</td>\n",
       "      <td>0</td>\n",
       "      <td>-22,381704</td>\n",
       "      <td>-42,954777</td>\n",
       "      <td>DEL04-RJ</td>\n",
       "      <td>2020-01-01 01:50:00</td>\n",
       "    </tr>\n",
       "    <tr>\n",
       "      <th>182</th>\n",
       "      <td>260085</td>\n",
       "      <td>quarta-feira</td>\n",
       "      <td>RS</td>\n",
       "      <td>BR-470</td>\n",
       "      <td>19</td>\n",
       "      <td>BARRACAO</td>\n",
       "      <td>Condutor Dormindo</td>\n",
       "      <td>2</td>\n",
       "      <td>Capotamento</td>\n",
       "      <td>Sem Vítimas</td>\n",
       "      <td>...</td>\n",
       "      <td>53</td>\n",
       "      <td>Não Informado</td>\n",
       "      <td>0</td>\n",
       "      <td>0</td>\n",
       "      <td>0</td>\n",
       "      <td>0</td>\n",
       "      <td>-27,66229079</td>\n",
       "      <td>-51,45618168</td>\n",
       "      <td>DEL08-RS</td>\n",
       "      <td>2020-01-01 05:00:00</td>\n",
       "    </tr>\n",
       "    <tr>\n",
       "      <th>183</th>\n",
       "      <td>260085</td>\n",
       "      <td>quarta-feira</td>\n",
       "      <td>RS</td>\n",
       "      <td>BR-470</td>\n",
       "      <td>19</td>\n",
       "      <td>BARRACAO</td>\n",
       "      <td>Condutor Dormindo</td>\n",
       "      <td>1</td>\n",
       "      <td>Saída de leito carroçável</td>\n",
       "      <td>Sem Vítimas</td>\n",
       "      <td>...</td>\n",
       "      <td>37</td>\n",
       "      <td>Não Informado</td>\n",
       "      <td>0</td>\n",
       "      <td>0</td>\n",
       "      <td>0</td>\n",
       "      <td>0</td>\n",
       "      <td>-27,66229079</td>\n",
       "      <td>-51,45618168</td>\n",
       "      <td>DEL08-RS</td>\n",
       "      <td>2020-01-01 05:00:00</td>\n",
       "    </tr>\n",
       "    <tr>\n",
       "      <th>184</th>\n",
       "      <td>260086</td>\n",
       "      <td>quarta-feira</td>\n",
       "      <td>PR</td>\n",
       "      <td>BR-376</td>\n",
       "      <td>677</td>\n",
       "      <td>GUARATUBA</td>\n",
       "      <td>Ingestão de Álcool</td>\n",
       "      <td>1</td>\n",
       "      <td>Capotamento</td>\n",
       "      <td>Sem Vítimas</td>\n",
       "      <td>...</td>\n",
       "      <td>32</td>\n",
       "      <td>Não Informado</td>\n",
       "      <td>0</td>\n",
       "      <td>0</td>\n",
       "      <td>0</td>\n",
       "      <td>0</td>\n",
       "      <td>-25,93367517</td>\n",
       "      <td>-48,9113003</td>\n",
       "      <td>DEL01-PR</td>\n",
       "      <td>2020-01-01 05:20:00</td>\n",
       "    </tr>\n",
       "    <tr>\n",
       "      <th>...</th>\n",
       "      <td>...</td>\n",
       "      <td>...</td>\n",
       "      <td>...</td>\n",
       "      <td>...</td>\n",
       "      <td>...</td>\n",
       "      <td>...</td>\n",
       "      <td>...</td>\n",
       "      <td>...</td>\n",
       "      <td>...</td>\n",
       "      <td>...</td>\n",
       "      <td>...</td>\n",
       "      <td>...</td>\n",
       "      <td>...</td>\n",
       "      <td>...</td>\n",
       "      <td>...</td>\n",
       "      <td>...</td>\n",
       "      <td>...</td>\n",
       "      <td>...</td>\n",
       "      <td>...</td>\n",
       "      <td>...</td>\n",
       "      <td>...</td>\n",
       "    </tr>\n",
       "    <tr>\n",
       "      <th>1712835</th>\n",
       "      <td>588770</td>\n",
       "      <td>terça-feira</td>\n",
       "      <td>PR</td>\n",
       "      <td>BR-376</td>\n",
       "      <td>45</td>\n",
       "      <td>NOVA LONDRINA</td>\n",
       "      <td>Condutor deixou de manter distância do veículo...</td>\n",
       "      <td>2</td>\n",
       "      <td>Tombamento</td>\n",
       "      <td>Com Vítimas Feridas</td>\n",
       "      <td>...</td>\n",
       "      <td>56</td>\n",
       "      <td>Não Informado</td>\n",
       "      <td>0</td>\n",
       "      <td>0</td>\n",
       "      <td>0</td>\n",
       "      <td>0</td>\n",
       "      <td>-22,86104724</td>\n",
       "      <td>-52,9656179</td>\n",
       "      <td>DEL09-PR</td>\n",
       "      <td>2023-11-28 06:59:00</td>\n",
       "    </tr>\n",
       "    <tr>\n",
       "      <th>1712850</th>\n",
       "      <td>588979</td>\n",
       "      <td>domingo</td>\n",
       "      <td>SC</td>\n",
       "      <td>BR-101</td>\n",
       "      <td>125</td>\n",
       "      <td>ITAJAI</td>\n",
       "      <td>Ausência de reação do condutor</td>\n",
       "      <td>1</td>\n",
       "      <td>Colisão traseira</td>\n",
       "      <td>Com Vítimas Feridas</td>\n",
       "      <td>...</td>\n",
       "      <td>27</td>\n",
       "      <td>Não Informado</td>\n",
       "      <td>0</td>\n",
       "      <td>0</td>\n",
       "      <td>0</td>\n",
       "      <td>0</td>\n",
       "      <td>-26,94802427</td>\n",
       "      <td>-48,68338515</td>\n",
       "      <td>DEL04-SC</td>\n",
       "      <td>2023-08-20 02:50:00</td>\n",
       "    </tr>\n",
       "    <tr>\n",
       "      <th>1712852</th>\n",
       "      <td>589016</td>\n",
       "      <td>domingo</td>\n",
       "      <td>GO</td>\n",
       "      <td>BR-60</td>\n",
       "      <td>114</td>\n",
       "      <td>TEREZOPOLIS DE GOIAS</td>\n",
       "      <td>Condutor deixou de manter distância do veículo...</td>\n",
       "      <td>1</td>\n",
       "      <td>Capotamento</td>\n",
       "      <td>Com Vítimas Feridas</td>\n",
       "      <td>...</td>\n",
       "      <td>52</td>\n",
       "      <td>Não Informado</td>\n",
       "      <td>0</td>\n",
       "      <td>0</td>\n",
       "      <td>0</td>\n",
       "      <td>0</td>\n",
       "      <td>-16,4633</td>\n",
       "      <td>-49,0636</td>\n",
       "      <td>DEL01-GO</td>\n",
       "      <td>2023-11-05 18:00:00</td>\n",
       "    </tr>\n",
       "    <tr>\n",
       "      <th>1712873</th>\n",
       "      <td>589229</td>\n",
       "      <td>quarta-feira</td>\n",
       "      <td>MG</td>\n",
       "      <td>BR-381</td>\n",
       "      <td>501</td>\n",
       "      <td>BETIM</td>\n",
       "      <td>Ausência de reação do condutor</td>\n",
       "      <td>2</td>\n",
       "      <td>Colisão lateral mesmo sentido</td>\n",
       "      <td>Com Vítimas Fatais</td>\n",
       "      <td>...</td>\n",
       "      <td>27</td>\n",
       "      <td>Não Informado</td>\n",
       "      <td>0</td>\n",
       "      <td>0</td>\n",
       "      <td>0</td>\n",
       "      <td>0</td>\n",
       "      <td>-20,03146447</td>\n",
       "      <td>-44,2377893</td>\n",
       "      <td>DEL01-MG</td>\n",
       "      <td>2023-01-04 22:30:00</td>\n",
       "    </tr>\n",
       "    <tr>\n",
       "      <th>1712875</th>\n",
       "      <td>589229</td>\n",
       "      <td>quarta-feira</td>\n",
       "      <td>MG</td>\n",
       "      <td>BR-381</td>\n",
       "      <td>501</td>\n",
       "      <td>BETIM</td>\n",
       "      <td>Ausência de reação do condutor</td>\n",
       "      <td>1</td>\n",
       "      <td>Atropelamento de Pedestre</td>\n",
       "      <td>Com Vítimas Fatais</td>\n",
       "      <td>...</td>\n",
       "      <td>24</td>\n",
       "      <td>Não Informado</td>\n",
       "      <td>0</td>\n",
       "      <td>0</td>\n",
       "      <td>0</td>\n",
       "      <td>0</td>\n",
       "      <td>-20,03146447</td>\n",
       "      <td>-44,2377893</td>\n",
       "      <td>DEL01-MG</td>\n",
       "      <td>2023-01-04 22:30:00</td>\n",
       "    </tr>\n",
       "  </tbody>\n",
       "</table>\n",
       "<p>71344 rows × 30 columns</p>\n",
       "</div>"
      ],
      "text/plain": [
       "             id    dia_semana  uf      br   km             municipio  \\\n",
       "59       260050  quarta-feira  PE  BR-101   49          ABREU E LIMA   \n",
       "165      260080  quarta-feira  RJ  BR-116   79           TERESOPOLIS   \n",
       "182      260085  quarta-feira  RS  BR-470   19              BARRACAO   \n",
       "183      260085  quarta-feira  RS  BR-470   19              BARRACAO   \n",
       "184      260086  quarta-feira  PR  BR-376  677             GUARATUBA   \n",
       "...         ...           ...  ..     ...  ...                   ...   \n",
       "1712835  588770   terça-feira  PR  BR-376   45         NOVA LONDRINA   \n",
       "1712850  588979       domingo  SC  BR-101  125                ITAJAI   \n",
       "1712852  589016       domingo  GO   BR-60  114  TEREZOPOLIS DE GOIAS   \n",
       "1712873  589229  quarta-feira  MG  BR-381  501                 BETIM   \n",
       "1712875  589229  quarta-feira  MG  BR-381  501                 BETIM   \n",
       "\n",
       "                                            causa_acidente  \\\n",
       "59                             Falta de Atenção à Condução   \n",
       "165      Desobediência às normas de trânsito pelo condutor   \n",
       "182                                      Condutor Dormindo   \n",
       "183                                      Condutor Dormindo   \n",
       "184                                     Ingestão de Álcool   \n",
       "...                                                    ...   \n",
       "1712835  Condutor deixou de manter distância do veículo...   \n",
       "1712850                     Ausência de reação do condutor   \n",
       "1712852  Condutor deixou de manter distância do veículo...   \n",
       "1712873                     Ausência de reação do condutor   \n",
       "1712875                     Ausência de reação do condutor   \n",
       "\n",
       "         ordem_tipo_acidente                  tipo_acidente  \\\n",
       "59                         1                Colisão lateral   \n",
       "165                        1                Colisão lateral   \n",
       "182                        2                    Capotamento   \n",
       "183                        1      Saída de leito carroçável   \n",
       "184                        1                    Capotamento   \n",
       "...                      ...                            ...   \n",
       "1712835                    2                     Tombamento   \n",
       "1712850                    1               Colisão traseira   \n",
       "1712852                    1                    Capotamento   \n",
       "1712873                    2  Colisão lateral mesmo sentido   \n",
       "1712875                    1      Atropelamento de Pedestre   \n",
       "\n",
       "        classificacao_acidente  ... idade           sexo ilesos feridos_leves  \\\n",
       "59         Com Vítimas Feridas  ...    33  Não Informado      0             0   \n",
       "165        Com Vítimas Feridas  ...    45  Não Informado      0             0   \n",
       "182                Sem Vítimas  ...    53  Não Informado      0             0   \n",
       "183                Sem Vítimas  ...    37  Não Informado      0             0   \n",
       "184                Sem Vítimas  ...    32  Não Informado      0             0   \n",
       "...                        ...  ...   ...            ...    ...           ...   \n",
       "1712835    Com Vítimas Feridas  ...    56  Não Informado      0             0   \n",
       "1712850    Com Vítimas Feridas  ...    27  Não Informado      0             0   \n",
       "1712852    Com Vítimas Feridas  ...    52  Não Informado      0             0   \n",
       "1712873     Com Vítimas Fatais  ...    27  Não Informado      0             0   \n",
       "1712875     Com Vítimas Fatais  ...    24  Não Informado      0             0   \n",
       "\n",
       "        feridos_graves mortos      latitude     longitude delegacia  \\\n",
       "59                   0      0    -7,9005152  -34,90180641  DEL01-PE   \n",
       "165                  0      0    -22,381704    -42,954777  DEL04-RJ   \n",
       "182                  0      0  -27,66229079  -51,45618168  DEL08-RS   \n",
       "183                  0      0  -27,66229079  -51,45618168  DEL08-RS   \n",
       "184                  0      0  -25,93367517   -48,9113003  DEL01-PR   \n",
       "...                ...    ...           ...           ...       ...   \n",
       "1712835              0      0  -22,86104724   -52,9656179  DEL09-PR   \n",
       "1712850              0      0  -26,94802427  -48,68338515  DEL04-SC   \n",
       "1712852              0      0      -16,4633      -49,0636  DEL01-GO   \n",
       "1712873              0      0  -20,03146447   -44,2377893  DEL01-MG   \n",
       "1712875              0      0  -20,03146447   -44,2377893  DEL01-MG   \n",
       "\n",
       "              data_completa  \n",
       "59      2020-01-01 03:40:00  \n",
       "165     2020-01-01 01:50:00  \n",
       "182     2020-01-01 05:00:00  \n",
       "183     2020-01-01 05:00:00  \n",
       "184     2020-01-01 05:20:00  \n",
       "...                     ...  \n",
       "1712835 2023-11-28 06:59:00  \n",
       "1712850 2023-08-20 02:50:00  \n",
       "1712852 2023-11-05 18:00:00  \n",
       "1712873 2023-01-04 22:30:00  \n",
       "1712875 2023-01-04 22:30:00  \n",
       "\n",
       "[71344 rows x 30 columns]"
      ]
     },
     "execution_count": 147,
     "metadata": {},
     "output_type": "execute_result"
    }
   ],
   "source": [
    "df.loc[df['sexo'] == 'Não Informado']"
   ]
  },
  {
   "cell_type": "code",
   "execution_count": 148,
   "metadata": {},
   "outputs": [
    {
     "data": {
      "text/html": [
       "<div>\n",
       "<style scoped>\n",
       "    .dataframe tbody tr th:only-of-type {\n",
       "        vertical-align: middle;\n",
       "    }\n",
       "\n",
       "    .dataframe tbody tr th {\n",
       "        vertical-align: top;\n",
       "    }\n",
       "\n",
       "    .dataframe thead th {\n",
       "        text-align: right;\n",
       "    }\n",
       "</style>\n",
       "<table border=\"1\" class=\"dataframe\">\n",
       "  <thead>\n",
       "    <tr style=\"text-align: right;\">\n",
       "      <th></th>\n",
       "      <th>id</th>\n",
       "      <th>dia_semana</th>\n",
       "      <th>uf</th>\n",
       "      <th>br</th>\n",
       "      <th>km</th>\n",
       "      <th>municipio</th>\n",
       "      <th>causa_acidente</th>\n",
       "      <th>ordem_tipo_acidente</th>\n",
       "      <th>tipo_acidente</th>\n",
       "      <th>classificacao_acidente</th>\n",
       "      <th>...</th>\n",
       "      <th>idade</th>\n",
       "      <th>sexo</th>\n",
       "      <th>ilesos</th>\n",
       "      <th>feridos_leves</th>\n",
       "      <th>feridos_graves</th>\n",
       "      <th>mortos</th>\n",
       "      <th>latitude</th>\n",
       "      <th>longitude</th>\n",
       "      <th>delegacia</th>\n",
       "      <th>data_completa</th>\n",
       "    </tr>\n",
       "  </thead>\n",
       "  <tbody>\n",
       "    <tr>\n",
       "      <th>10</th>\n",
       "      <td>260036</td>\n",
       "      <td>quarta-feira</td>\n",
       "      <td>RJ</td>\n",
       "      <td>BR-116</td>\n",
       "      <td>178</td>\n",
       "      <td>NOVA IGUACU</td>\n",
       "      <td>Ingestão de Álcool</td>\n",
       "      <td>1</td>\n",
       "      <td>Atropelamento de Pedestre</td>\n",
       "      <td>Com Vítimas Fatais</td>\n",
       "      <td>...</td>\n",
       "      <td>34</td>\n",
       "      <td>Ignorado</td>\n",
       "      <td>1</td>\n",
       "      <td>0</td>\n",
       "      <td>0</td>\n",
       "      <td>0</td>\n",
       "      <td>-22,75223028</td>\n",
       "      <td>-43,4379103</td>\n",
       "      <td>DEL01-RJ</td>\n",
       "      <td>2020-01-01 01:00:00</td>\n",
       "    </tr>\n",
       "    <tr>\n",
       "      <th>12</th>\n",
       "      <td>260036</td>\n",
       "      <td>quarta-feira</td>\n",
       "      <td>RJ</td>\n",
       "      <td>BR-116</td>\n",
       "      <td>178</td>\n",
       "      <td>NOVA IGUACU</td>\n",
       "      <td>Falta de Atenção do Pedestre</td>\n",
       "      <td>1</td>\n",
       "      <td>Atropelamento de Pedestre</td>\n",
       "      <td>Com Vítimas Fatais</td>\n",
       "      <td>...</td>\n",
       "      <td>38</td>\n",
       "      <td>Ignorado</td>\n",
       "      <td>1</td>\n",
       "      <td>0</td>\n",
       "      <td>0</td>\n",
       "      <td>0</td>\n",
       "      <td>-22,75223028</td>\n",
       "      <td>-43,4379103</td>\n",
       "      <td>DEL01-RJ</td>\n",
       "      <td>2020-01-01 01:00:00</td>\n",
       "    </tr>\n",
       "    <tr>\n",
       "      <th>231</th>\n",
       "      <td>260108</td>\n",
       "      <td>quarta-feira</td>\n",
       "      <td>MG</td>\n",
       "      <td>BR-459</td>\n",
       "      <td>94</td>\n",
       "      <td>POUSO ALEGRE</td>\n",
       "      <td>Não guardar distância de segurança</td>\n",
       "      <td>2</td>\n",
       "      <td>Colisão com objeto estático</td>\n",
       "      <td>Com Vítimas Feridas</td>\n",
       "      <td>...</td>\n",
       "      <td>38</td>\n",
       "      <td>Ignorado</td>\n",
       "      <td>1</td>\n",
       "      <td>0</td>\n",
       "      <td>0</td>\n",
       "      <td>0</td>\n",
       "      <td>-22,184677</td>\n",
       "      <td>-45,988678</td>\n",
       "      <td>DEL16-MG</td>\n",
       "      <td>2020-01-01 05:30:00</td>\n",
       "    </tr>\n",
       "    <tr>\n",
       "      <th>232</th>\n",
       "      <td>260108</td>\n",
       "      <td>quarta-feira</td>\n",
       "      <td>MG</td>\n",
       "      <td>BR-459</td>\n",
       "      <td>94</td>\n",
       "      <td>POUSO ALEGRE</td>\n",
       "      <td>Não guardar distância de segurança</td>\n",
       "      <td>1</td>\n",
       "      <td>Colisão traseira</td>\n",
       "      <td>Com Vítimas Feridas</td>\n",
       "      <td>...</td>\n",
       "      <td>56</td>\n",
       "      <td>Ignorado</td>\n",
       "      <td>1</td>\n",
       "      <td>0</td>\n",
       "      <td>0</td>\n",
       "      <td>0</td>\n",
       "      <td>-22,184677</td>\n",
       "      <td>-45,988678</td>\n",
       "      <td>DEL16-MG</td>\n",
       "      <td>2020-01-01 05:30:00</td>\n",
       "    </tr>\n",
       "    <tr>\n",
       "      <th>233</th>\n",
       "      <td>260108</td>\n",
       "      <td>quarta-feira</td>\n",
       "      <td>MG</td>\n",
       "      <td>BR-459</td>\n",
       "      <td>94</td>\n",
       "      <td>POUSO ALEGRE</td>\n",
       "      <td>Velocidade Incompatível</td>\n",
       "      <td>2</td>\n",
       "      <td>Colisão com objeto estático</td>\n",
       "      <td>Com Vítimas Feridas</td>\n",
       "      <td>...</td>\n",
       "      <td>44</td>\n",
       "      <td>Ignorado</td>\n",
       "      <td>1</td>\n",
       "      <td>0</td>\n",
       "      <td>0</td>\n",
       "      <td>0</td>\n",
       "      <td>-22,184677</td>\n",
       "      <td>-45,988678</td>\n",
       "      <td>DEL16-MG</td>\n",
       "      <td>2020-01-01 05:30:00</td>\n",
       "    </tr>\n",
       "  </tbody>\n",
       "</table>\n",
       "<p>5 rows × 30 columns</p>\n",
       "</div>"
      ],
      "text/plain": [
       "         id    dia_semana  uf      br   km     municipio  \\\n",
       "10   260036  quarta-feira  RJ  BR-116  178   NOVA IGUACU   \n",
       "12   260036  quarta-feira  RJ  BR-116  178   NOVA IGUACU   \n",
       "231  260108  quarta-feira  MG  BR-459   94  POUSO ALEGRE   \n",
       "232  260108  quarta-feira  MG  BR-459   94  POUSO ALEGRE   \n",
       "233  260108  quarta-feira  MG  BR-459   94  POUSO ALEGRE   \n",
       "\n",
       "                         causa_acidente  ordem_tipo_acidente  \\\n",
       "10                   Ingestão de Álcool                    1   \n",
       "12         Falta de Atenção do Pedestre                    1   \n",
       "231  Não guardar distância de segurança                    2   \n",
       "232  Não guardar distância de segurança                    1   \n",
       "233             Velocidade Incompatível                    2   \n",
       "\n",
       "                   tipo_acidente classificacao_acidente  ... idade      sexo  \\\n",
       "10     Atropelamento de Pedestre     Com Vítimas Fatais  ...    34  Ignorado   \n",
       "12     Atropelamento de Pedestre     Com Vítimas Fatais  ...    38  Ignorado   \n",
       "231  Colisão com objeto estático    Com Vítimas Feridas  ...    38  Ignorado   \n",
       "232             Colisão traseira    Com Vítimas Feridas  ...    56  Ignorado   \n",
       "233  Colisão com objeto estático    Com Vítimas Feridas  ...    44  Ignorado   \n",
       "\n",
       "    ilesos feridos_leves feridos_graves mortos      latitude    longitude  \\\n",
       "10       1             0              0      0  -22,75223028  -43,4379103   \n",
       "12       1             0              0      0  -22,75223028  -43,4379103   \n",
       "231      1             0              0      0    -22,184677   -45,988678   \n",
       "232      1             0              0      0    -22,184677   -45,988678   \n",
       "233      1             0              0      0    -22,184677   -45,988678   \n",
       "\n",
       "    delegacia       data_completa  \n",
       "10   DEL01-RJ 2020-01-01 01:00:00  \n",
       "12   DEL01-RJ 2020-01-01 01:00:00  \n",
       "231  DEL16-MG 2020-01-01 05:30:00  \n",
       "232  DEL16-MG 2020-01-01 05:30:00  \n",
       "233  DEL16-MG 2020-01-01 05:30:00  \n",
       "\n",
       "[5 rows x 30 columns]"
      ]
     },
     "execution_count": 148,
     "metadata": {},
     "output_type": "execute_result"
    }
   ],
   "source": [
    "df.loc[df['sexo'] == 'Ignorado'][:5]"
   ]
  },
  {
   "cell_type": "markdown",
   "metadata": {},
   "source": [
    "Gerando uma amostra para a coluna sexo com base nos dados originais"
   ]
  },
  {
   "cell_type": "code",
   "execution_count": 149,
   "metadata": {},
   "outputs": [
    {
     "data": {
      "text/plain": [
       "Masculino    57232\n",
       "Feminino     18509\n",
       "Name: count, dtype: int64"
      ]
     },
     "execution_count": 149,
     "metadata": {},
     "output_type": "execute_result"
    }
   ],
   "source": [
    "quantidade_sexo = df.loc[(df['sexo'] == 'Ignorado') | (df['sexo'] == 'Não Informado')].shape[0]\n",
    "df_sexo_fil = df.loc[df['sexo'].isin(['Masculino', 'Feminino'])]\n",
    "tamanho_sexo = df_sexo_fil.shape[0]\n",
    "\n",
    "tamanho_masculino = df_sexo_fil['sexo'].eq('Masculino').sum()\n",
    "tamanho_feminino = df_sexo_fil['sexo'].eq('Feminino').sum()\n",
    "\n",
    "probabilidades_sexo = [tamanho_masculino / tamanho_sexo, tamanho_feminino / tamanho_sexo]\n",
    "\n",
    "sexo_aleatorio = np.random.choice(['Masculino', 'Feminino'], p=probabilidades_sexo, size=quantidade_sexo)\n",
    "pd.DataFrame(sexo_aleatorio).value_counts()"
   ]
  },
  {
   "cell_type": "code",
   "execution_count": 150,
   "metadata": {},
   "outputs": [],
   "source": [
    "df.loc[(df['sexo'] == 'Não Informado') | (df['sexo'] == 'Ignorado'), 'sexo'] = sexo_aleatorio"
   ]
  },
  {
   "cell_type": "markdown",
   "metadata": {},
   "source": [
    "Explorando as colunas 'ilesos', 'feridos_leves', 'feridos_graves' em conjunto"
   ]
  },
  {
   "cell_type": "code",
   "execution_count": 151,
   "metadata": {},
   "outputs": [
    {
     "name": "stdout",
     "output_type": "stream",
     "text": [
      "ilesos\n",
      "0    393930\n",
      "1    268859\n",
      "Name: count, dtype: int64\n",
      "\n",
      "feridos_leves\n",
      "0    437642\n",
      "1    225147\n",
      "Name: count, dtype: int64\n",
      "\n",
      "feridos_graves\n",
      "0    588455\n",
      "1     74334\n",
      "Name: count, dtype: int64\n"
     ]
    }
   ],
   "source": [
    "print(df['ilesos'].value_counts(), end='\\n\\n')\n",
    "print(df['feridos_leves'].value_counts(), end='\\n\\n')\n",
    "print(df['feridos_graves'].value_counts())"
   ]
  },
  {
   "cell_type": "code",
   "execution_count": 152,
   "metadata": {},
   "outputs": [
    {
     "name": "stdout",
     "output_type": "stream",
     "text": [
      "Total envolvidos:  662789\n",
      "Total Registrado: 591445\n",
      "Total Faltantes: 71344\n"
     ]
    }
   ],
   "source": [
    "# Uma pessoa deve estar presente em pelo menos umas das colunas\n",
    "\n",
    "total_registrados = df.loc[df['ilesos'] == 1].shape[0] + df.loc[df['feridos_leves'] == 1].shape[0] + df.loc[df['feridos_graves'] == 1].shape[0] + df.loc[df['mortos'] == 1].shape[0]\n",
    "\n",
    "print('Total envolvidos: ', df.shape[0])\n",
    "print('Total Registrado:', total_registrados)\n",
    "print('Total Faltantes:', df.shape[0] - total_registrados)"
   ]
  },
  {
   "cell_type": "code",
   "execution_count": 153,
   "metadata": {},
   "outputs": [
    {
     "data": {
      "text/html": [
       "<div>\n",
       "<style scoped>\n",
       "    .dataframe tbody tr th:only-of-type {\n",
       "        vertical-align: middle;\n",
       "    }\n",
       "\n",
       "    .dataframe tbody tr th {\n",
       "        vertical-align: top;\n",
       "    }\n",
       "\n",
       "    .dataframe thead th {\n",
       "        text-align: right;\n",
       "    }\n",
       "</style>\n",
       "<table border=\"1\" class=\"dataframe\">\n",
       "  <thead>\n",
       "    <tr style=\"text-align: right;\">\n",
       "      <th></th>\n",
       "      <th>id</th>\n",
       "      <th>dia_semana</th>\n",
       "      <th>uf</th>\n",
       "      <th>br</th>\n",
       "      <th>km</th>\n",
       "      <th>municipio</th>\n",
       "      <th>causa_acidente</th>\n",
       "      <th>ordem_tipo_acidente</th>\n",
       "      <th>tipo_acidente</th>\n",
       "      <th>classificacao_acidente</th>\n",
       "      <th>...</th>\n",
       "      <th>idade</th>\n",
       "      <th>sexo</th>\n",
       "      <th>ilesos</th>\n",
       "      <th>feridos_leves</th>\n",
       "      <th>feridos_graves</th>\n",
       "      <th>mortos</th>\n",
       "      <th>latitude</th>\n",
       "      <th>longitude</th>\n",
       "      <th>delegacia</th>\n",
       "      <th>data_completa</th>\n",
       "    </tr>\n",
       "  </thead>\n",
       "  <tbody>\n",
       "    <tr>\n",
       "      <th>59</th>\n",
       "      <td>260050</td>\n",
       "      <td>quarta-feira</td>\n",
       "      <td>PE</td>\n",
       "      <td>BR-101</td>\n",
       "      <td>49</td>\n",
       "      <td>ABREU E LIMA</td>\n",
       "      <td>Falta de Atenção à Condução</td>\n",
       "      <td>1</td>\n",
       "      <td>Colisão lateral</td>\n",
       "      <td>Com Vítimas Feridas</td>\n",
       "      <td>...</td>\n",
       "      <td>33</td>\n",
       "      <td>Masculino</td>\n",
       "      <td>0</td>\n",
       "      <td>0</td>\n",
       "      <td>0</td>\n",
       "      <td>0</td>\n",
       "      <td>-7,9005152</td>\n",
       "      <td>-34,90180641</td>\n",
       "      <td>DEL01-PE</td>\n",
       "      <td>2020-01-01 03:40:00</td>\n",
       "    </tr>\n",
       "    <tr>\n",
       "      <th>165</th>\n",
       "      <td>260080</td>\n",
       "      <td>quarta-feira</td>\n",
       "      <td>RJ</td>\n",
       "      <td>BR-116</td>\n",
       "      <td>79</td>\n",
       "      <td>TERESOPOLIS</td>\n",
       "      <td>Desobediência às normas de trânsito pelo condutor</td>\n",
       "      <td>1</td>\n",
       "      <td>Colisão lateral</td>\n",
       "      <td>Com Vítimas Feridas</td>\n",
       "      <td>...</td>\n",
       "      <td>45</td>\n",
       "      <td>Masculino</td>\n",
       "      <td>0</td>\n",
       "      <td>0</td>\n",
       "      <td>0</td>\n",
       "      <td>0</td>\n",
       "      <td>-22,381704</td>\n",
       "      <td>-42,954777</td>\n",
       "      <td>DEL04-RJ</td>\n",
       "      <td>2020-01-01 01:50:00</td>\n",
       "    </tr>\n",
       "    <tr>\n",
       "      <th>182</th>\n",
       "      <td>260085</td>\n",
       "      <td>quarta-feira</td>\n",
       "      <td>RS</td>\n",
       "      <td>BR-470</td>\n",
       "      <td>19</td>\n",
       "      <td>BARRACAO</td>\n",
       "      <td>Condutor Dormindo</td>\n",
       "      <td>2</td>\n",
       "      <td>Capotamento</td>\n",
       "      <td>Sem Vítimas</td>\n",
       "      <td>...</td>\n",
       "      <td>53</td>\n",
       "      <td>Masculino</td>\n",
       "      <td>0</td>\n",
       "      <td>0</td>\n",
       "      <td>0</td>\n",
       "      <td>0</td>\n",
       "      <td>-27,66229079</td>\n",
       "      <td>-51,45618168</td>\n",
       "      <td>DEL08-RS</td>\n",
       "      <td>2020-01-01 05:00:00</td>\n",
       "    </tr>\n",
       "    <tr>\n",
       "      <th>183</th>\n",
       "      <td>260085</td>\n",
       "      <td>quarta-feira</td>\n",
       "      <td>RS</td>\n",
       "      <td>BR-470</td>\n",
       "      <td>19</td>\n",
       "      <td>BARRACAO</td>\n",
       "      <td>Condutor Dormindo</td>\n",
       "      <td>1</td>\n",
       "      <td>Saída de leito carroçável</td>\n",
       "      <td>Sem Vítimas</td>\n",
       "      <td>...</td>\n",
       "      <td>37</td>\n",
       "      <td>Feminino</td>\n",
       "      <td>0</td>\n",
       "      <td>0</td>\n",
       "      <td>0</td>\n",
       "      <td>0</td>\n",
       "      <td>-27,66229079</td>\n",
       "      <td>-51,45618168</td>\n",
       "      <td>DEL08-RS</td>\n",
       "      <td>2020-01-01 05:00:00</td>\n",
       "    </tr>\n",
       "    <tr>\n",
       "      <th>184</th>\n",
       "      <td>260086</td>\n",
       "      <td>quarta-feira</td>\n",
       "      <td>PR</td>\n",
       "      <td>BR-376</td>\n",
       "      <td>677</td>\n",
       "      <td>GUARATUBA</td>\n",
       "      <td>Ingestão de Álcool</td>\n",
       "      <td>1</td>\n",
       "      <td>Capotamento</td>\n",
       "      <td>Sem Vítimas</td>\n",
       "      <td>...</td>\n",
       "      <td>32</td>\n",
       "      <td>Masculino</td>\n",
       "      <td>0</td>\n",
       "      <td>0</td>\n",
       "      <td>0</td>\n",
       "      <td>0</td>\n",
       "      <td>-25,93367517</td>\n",
       "      <td>-48,9113003</td>\n",
       "      <td>DEL01-PR</td>\n",
       "      <td>2020-01-01 05:20:00</td>\n",
       "    </tr>\n",
       "    <tr>\n",
       "      <th>...</th>\n",
       "      <td>...</td>\n",
       "      <td>...</td>\n",
       "      <td>...</td>\n",
       "      <td>...</td>\n",
       "      <td>...</td>\n",
       "      <td>...</td>\n",
       "      <td>...</td>\n",
       "      <td>...</td>\n",
       "      <td>...</td>\n",
       "      <td>...</td>\n",
       "      <td>...</td>\n",
       "      <td>...</td>\n",
       "      <td>...</td>\n",
       "      <td>...</td>\n",
       "      <td>...</td>\n",
       "      <td>...</td>\n",
       "      <td>...</td>\n",
       "      <td>...</td>\n",
       "      <td>...</td>\n",
       "      <td>...</td>\n",
       "      <td>...</td>\n",
       "    </tr>\n",
       "    <tr>\n",
       "      <th>1712835</th>\n",
       "      <td>588770</td>\n",
       "      <td>terça-feira</td>\n",
       "      <td>PR</td>\n",
       "      <td>BR-376</td>\n",
       "      <td>45</td>\n",
       "      <td>NOVA LONDRINA</td>\n",
       "      <td>Condutor deixou de manter distância do veículo...</td>\n",
       "      <td>2</td>\n",
       "      <td>Tombamento</td>\n",
       "      <td>Com Vítimas Feridas</td>\n",
       "      <td>...</td>\n",
       "      <td>56</td>\n",
       "      <td>Masculino</td>\n",
       "      <td>0</td>\n",
       "      <td>0</td>\n",
       "      <td>0</td>\n",
       "      <td>0</td>\n",
       "      <td>-22,86104724</td>\n",
       "      <td>-52,9656179</td>\n",
       "      <td>DEL09-PR</td>\n",
       "      <td>2023-11-28 06:59:00</td>\n",
       "    </tr>\n",
       "    <tr>\n",
       "      <th>1712850</th>\n",
       "      <td>588979</td>\n",
       "      <td>domingo</td>\n",
       "      <td>SC</td>\n",
       "      <td>BR-101</td>\n",
       "      <td>125</td>\n",
       "      <td>ITAJAI</td>\n",
       "      <td>Ausência de reação do condutor</td>\n",
       "      <td>1</td>\n",
       "      <td>Colisão traseira</td>\n",
       "      <td>Com Vítimas Feridas</td>\n",
       "      <td>...</td>\n",
       "      <td>27</td>\n",
       "      <td>Feminino</td>\n",
       "      <td>0</td>\n",
       "      <td>0</td>\n",
       "      <td>0</td>\n",
       "      <td>0</td>\n",
       "      <td>-26,94802427</td>\n",
       "      <td>-48,68338515</td>\n",
       "      <td>DEL04-SC</td>\n",
       "      <td>2023-08-20 02:50:00</td>\n",
       "    </tr>\n",
       "    <tr>\n",
       "      <th>1712852</th>\n",
       "      <td>589016</td>\n",
       "      <td>domingo</td>\n",
       "      <td>GO</td>\n",
       "      <td>BR-60</td>\n",
       "      <td>114</td>\n",
       "      <td>TEREZOPOLIS DE GOIAS</td>\n",
       "      <td>Condutor deixou de manter distância do veículo...</td>\n",
       "      <td>1</td>\n",
       "      <td>Capotamento</td>\n",
       "      <td>Com Vítimas Feridas</td>\n",
       "      <td>...</td>\n",
       "      <td>52</td>\n",
       "      <td>Masculino</td>\n",
       "      <td>0</td>\n",
       "      <td>0</td>\n",
       "      <td>0</td>\n",
       "      <td>0</td>\n",
       "      <td>-16,4633</td>\n",
       "      <td>-49,0636</td>\n",
       "      <td>DEL01-GO</td>\n",
       "      <td>2023-11-05 18:00:00</td>\n",
       "    </tr>\n",
       "    <tr>\n",
       "      <th>1712873</th>\n",
       "      <td>589229</td>\n",
       "      <td>quarta-feira</td>\n",
       "      <td>MG</td>\n",
       "      <td>BR-381</td>\n",
       "      <td>501</td>\n",
       "      <td>BETIM</td>\n",
       "      <td>Ausência de reação do condutor</td>\n",
       "      <td>2</td>\n",
       "      <td>Colisão lateral mesmo sentido</td>\n",
       "      <td>Com Vítimas Fatais</td>\n",
       "      <td>...</td>\n",
       "      <td>27</td>\n",
       "      <td>Masculino</td>\n",
       "      <td>0</td>\n",
       "      <td>0</td>\n",
       "      <td>0</td>\n",
       "      <td>0</td>\n",
       "      <td>-20,03146447</td>\n",
       "      <td>-44,2377893</td>\n",
       "      <td>DEL01-MG</td>\n",
       "      <td>2023-01-04 22:30:00</td>\n",
       "    </tr>\n",
       "    <tr>\n",
       "      <th>1712875</th>\n",
       "      <td>589229</td>\n",
       "      <td>quarta-feira</td>\n",
       "      <td>MG</td>\n",
       "      <td>BR-381</td>\n",
       "      <td>501</td>\n",
       "      <td>BETIM</td>\n",
       "      <td>Ausência de reação do condutor</td>\n",
       "      <td>1</td>\n",
       "      <td>Atropelamento de Pedestre</td>\n",
       "      <td>Com Vítimas Fatais</td>\n",
       "      <td>...</td>\n",
       "      <td>24</td>\n",
       "      <td>Masculino</td>\n",
       "      <td>0</td>\n",
       "      <td>0</td>\n",
       "      <td>0</td>\n",
       "      <td>0</td>\n",
       "      <td>-20,03146447</td>\n",
       "      <td>-44,2377893</td>\n",
       "      <td>DEL01-MG</td>\n",
       "      <td>2023-01-04 22:30:00</td>\n",
       "    </tr>\n",
       "  </tbody>\n",
       "</table>\n",
       "<p>71344 rows × 30 columns</p>\n",
       "</div>"
      ],
      "text/plain": [
       "             id    dia_semana  uf      br   km             municipio  \\\n",
       "59       260050  quarta-feira  PE  BR-101   49          ABREU E LIMA   \n",
       "165      260080  quarta-feira  RJ  BR-116   79           TERESOPOLIS   \n",
       "182      260085  quarta-feira  RS  BR-470   19              BARRACAO   \n",
       "183      260085  quarta-feira  RS  BR-470   19              BARRACAO   \n",
       "184      260086  quarta-feira  PR  BR-376  677             GUARATUBA   \n",
       "...         ...           ...  ..     ...  ...                   ...   \n",
       "1712835  588770   terça-feira  PR  BR-376   45         NOVA LONDRINA   \n",
       "1712850  588979       domingo  SC  BR-101  125                ITAJAI   \n",
       "1712852  589016       domingo  GO   BR-60  114  TEREZOPOLIS DE GOIAS   \n",
       "1712873  589229  quarta-feira  MG  BR-381  501                 BETIM   \n",
       "1712875  589229  quarta-feira  MG  BR-381  501                 BETIM   \n",
       "\n",
       "                                            causa_acidente  \\\n",
       "59                             Falta de Atenção à Condução   \n",
       "165      Desobediência às normas de trânsito pelo condutor   \n",
       "182                                      Condutor Dormindo   \n",
       "183                                      Condutor Dormindo   \n",
       "184                                     Ingestão de Álcool   \n",
       "...                                                    ...   \n",
       "1712835  Condutor deixou de manter distância do veículo...   \n",
       "1712850                     Ausência de reação do condutor   \n",
       "1712852  Condutor deixou de manter distância do veículo...   \n",
       "1712873                     Ausência de reação do condutor   \n",
       "1712875                     Ausência de reação do condutor   \n",
       "\n",
       "         ordem_tipo_acidente                  tipo_acidente  \\\n",
       "59                         1                Colisão lateral   \n",
       "165                        1                Colisão lateral   \n",
       "182                        2                    Capotamento   \n",
       "183                        1      Saída de leito carroçável   \n",
       "184                        1                    Capotamento   \n",
       "...                      ...                            ...   \n",
       "1712835                    2                     Tombamento   \n",
       "1712850                    1               Colisão traseira   \n",
       "1712852                    1                    Capotamento   \n",
       "1712873                    2  Colisão lateral mesmo sentido   \n",
       "1712875                    1      Atropelamento de Pedestre   \n",
       "\n",
       "        classificacao_acidente  ... idade       sexo ilesos feridos_leves  \\\n",
       "59         Com Vítimas Feridas  ...    33  Masculino      0             0   \n",
       "165        Com Vítimas Feridas  ...    45  Masculino      0             0   \n",
       "182                Sem Vítimas  ...    53  Masculino      0             0   \n",
       "183                Sem Vítimas  ...    37   Feminino      0             0   \n",
       "184                Sem Vítimas  ...    32  Masculino      0             0   \n",
       "...                        ...  ...   ...        ...    ...           ...   \n",
       "1712835    Com Vítimas Feridas  ...    56  Masculino      0             0   \n",
       "1712850    Com Vítimas Feridas  ...    27   Feminino      0             0   \n",
       "1712852    Com Vítimas Feridas  ...    52  Masculino      0             0   \n",
       "1712873     Com Vítimas Fatais  ...    27  Masculino      0             0   \n",
       "1712875     Com Vítimas Fatais  ...    24  Masculino      0             0   \n",
       "\n",
       "        feridos_graves mortos      latitude     longitude delegacia  \\\n",
       "59                   0      0    -7,9005152  -34,90180641  DEL01-PE   \n",
       "165                  0      0    -22,381704    -42,954777  DEL04-RJ   \n",
       "182                  0      0  -27,66229079  -51,45618168  DEL08-RS   \n",
       "183                  0      0  -27,66229079  -51,45618168  DEL08-RS   \n",
       "184                  0      0  -25,93367517   -48,9113003  DEL01-PR   \n",
       "...                ...    ...           ...           ...       ...   \n",
       "1712835              0      0  -22,86104724   -52,9656179  DEL09-PR   \n",
       "1712850              0      0  -26,94802427  -48,68338515  DEL04-SC   \n",
       "1712852              0      0      -16,4633      -49,0636  DEL01-GO   \n",
       "1712873              0      0  -20,03146447   -44,2377893  DEL01-MG   \n",
       "1712875              0      0  -20,03146447   -44,2377893  DEL01-MG   \n",
       "\n",
       "              data_completa  \n",
       "59      2020-01-01 03:40:00  \n",
       "165     2020-01-01 01:50:00  \n",
       "182     2020-01-01 05:00:00  \n",
       "183     2020-01-01 05:00:00  \n",
       "184     2020-01-01 05:20:00  \n",
       "...                     ...  \n",
       "1712835 2023-11-28 06:59:00  \n",
       "1712850 2023-08-20 02:50:00  \n",
       "1712852 2023-11-05 18:00:00  \n",
       "1712873 2023-01-04 22:30:00  \n",
       "1712875 2023-01-04 22:30:00  \n",
       "\n",
       "[71344 rows x 30 columns]"
      ]
     },
     "execution_count": 153,
     "metadata": {},
     "output_type": "execute_result"
    }
   ],
   "source": [
    "# Observando os faltantes\n",
    "\n",
    "faltantes = df.loc[(df['ilesos'] == 0) & (df['feridos_leves'] == 0) & (df['feridos_graves'] == 0) & (df['mortos'] == 0)]\n",
    "faltantes"
   ]
  },
  {
   "cell_type": "code",
   "execution_count": 154,
   "metadata": {},
   "outputs": [],
   "source": [
    "# Atribuindo o valor 1 na coluna 'ilesos' nos acidentes onde não há presença de vítimas\n",
    "\n",
    "df.loc[(df['ilesos'] == 0) & (df['feridos_leves'] == 0) & (df['feridos_graves'] == 0) & (df['mortos'] == 0) & (df['classificacao_acidente'] == 'Sem Vítimas'), 'ilesos'] = 1"
   ]
  },
  {
   "cell_type": "markdown",
   "metadata": {},
   "source": [
    "Com base no filtro, encontrar a probabilidade de estar em um acidente com vítimas fatais e a vítimas morrer (1)\n",
    "Depois preencher as colunas com base na amostra gerada"
   ]
  },
  {
   "cell_type": "code",
   "execution_count": 155,
   "metadata": {},
   "outputs": [
    {
     "name": "stdout",
     "output_type": "stream",
     "text": [
      "Probabilidade de morte:  0.41085781350024897  | Numero total da amostra:  9895\n"
     ]
    }
   ],
   "source": [
    "filtro_mortos = df.loc[(df['ilesos'] == 0) \\\n",
    "                        & (df['feridos_leves'] == 0) \\\n",
    "                        & (df['feridos_graves'] == 0) \\\n",
    "                        & (df['mortos'] == 0) \\\n",
    "                        & (df['classificacao_acidente'] == 'Com Vítimas Fatais'), 'mortos']\n",
    "\n",
    "tamanho_mortos = filtro_mortos.shape[0]\n",
    "probabilidade_morte = df.loc[df['mortos'] == 1].shape[0] / (df.loc[df['classificacao_acidente'] == 'Com Vítimas Fatais'].shape[0] - tamanho_mortos)\n",
    "\n",
    "array_mortes = np.random.choice([0, 1], size=tamanho_mortos, p=[1 - probabilidade_morte, probabilidade_morte], replace=True)\n",
    "\n",
    "\n",
    "df.loc[(df['ilesos'] == 0) \\\n",
    "                        & (df['feridos_leves'] == 0) \\\n",
    "                        & (df['feridos_graves'] == 0) \\\n",
    "                        & (df['mortos'] == 0) \\\n",
    "                        & (df['classificacao_acidente'] == 'Com Vítimas Fatais'), 'mortos'] = array_mortes\n",
    "\n",
    "print('Probabilidade de morte: ', probabilidade_morte, ' | Numero total da amostra: ', filtro_mortos.shape[0])"
   ]
  },
  {
   "cell_type": "markdown",
   "metadata": {},
   "source": [
    "Criando uma função para preencher os registro faltantes"
   ]
  },
  {
   "cell_type": "markdown",
   "metadata": {},
   "source": [
    "atribuindo maiores chances de lesões leves em acidentes apenas com vitimas feridas, e em acidentes com vitimas fatais, maiores chances de lesões graves"
   ]
  },
  {
   "cell_type": "code",
   "execution_count": 156,
   "metadata": {},
   "outputs": [],
   "source": [
    "def preencher_registros(df):\n",
    "    for index, row in df.iterrows():\n",
    "        if row['classificacao_acidente'] == 'Com Vítimas Feridas':\n",
    "            # Definir feridos_leves com 1 com 70% de chance\n",
    "            df.at[index, 'feridos_leves'] = np.random.choice([0, 1], p=[0.3, 0.7])\n",
    "            \n",
    "            # Com bases nos valores 0 gerados anteriormente, preenchendo com 1 a coluna feridos_graves\n",
    "            df.at[index, 'feridos_graves'] = 1 if df.at[index, 'feridos_leves'] == 0 else 0\n",
    "        \n",
    "        elif row['classificacao_acidente'] == 'Com Vítimas Fatais':\n",
    "            \n",
    "            # Definir feridos_graves com 1 com 70% de chance\n",
    "            df.at[index, 'feridos_graves'] = np.random.choice([0, 1], p=[0.3, 0.7])\n",
    "            \n",
    "            # Com bases nos valores 0 gerados anteriormente, preenchendo com 1 a coluna feridos_leves\n",
    "            df.at[index, 'feridos_leves'] = 1 if df.at[index, 'feridos_graves'] == 0 else 0\n",
    "        \n",
    "        else:\n",
    "            # Se não for especificado, preencher com 1 na coluna 'ilesos'\n",
    "            df.at[index, 'ilesos'] = 1\n",
    "    \n",
    "    return df\n",
    "\n",
    "df_filtered = df.loc[(df['ilesos'] == 0) & (df['feridos_leves'] == 0) & (df['feridos_graves'] == 0) & (df['mortos'] == 0)]\n",
    "df_filtered = preencher_registros(df_filtered)\n",
    "df.update(df_filtered)"
   ]
  },
  {
   "cell_type": "markdown",
   "metadata": {},
   "source": [
    "**Adicionando a coluna região**"
   ]
  },
  {
   "cell_type": "code",
   "execution_count": 157,
   "metadata": {},
   "outputs": [],
   "source": [
    "def adicionar_coluna_regiao(df):\n",
    "    # Dicionário de mapeamento de UF para região\n",
    "    regiao_por_uf = {\n",
    "        'AC': 'Norte', 'AL': 'Nordeste', 'AP': 'Norte', 'AM': 'Norte',\n",
    "        'BA': 'Nordeste', 'CE': 'Nordeste', 'DF': 'Centro-Oeste', 'ES': 'Sudeste',\n",
    "        'GO': 'Centro-Oeste', 'MA': 'Nordeste', 'MT': 'Centro-Oeste', 'MS': 'Centro-Oeste',\n",
    "        'MG': 'Sudeste', 'PA': 'Norte', 'PB': 'Nordeste', 'PR': 'Sul', 'PE': 'Nordeste',\n",
    "        'PI': 'Nordeste', 'RJ': 'Sudeste', 'RN': 'Nordeste', 'RS': 'Sul', 'RO': 'Norte',\n",
    "        'RR': 'Norte', 'SC': 'Sul', 'SP': 'Sudeste', 'SE': 'Nordeste', 'TO': 'Norte'\n",
    "    }\n",
    "    \n",
    "    # Adicionando a coluna 'região' com base na coluna 'uf'\n",
    "    df['regiao'] = df['uf'].map(regiao_por_uf)\n",
    "    \n",
    "    return df\n",
    "\n",
    "df = adicionar_coluna_regiao(df)"
   ]
  },
  {
   "cell_type": "markdown",
   "metadata": {},
   "source": [
    "#### Criando um dataframe com os dados sumarizados"
   ]
  },
  {
   "cell_type": "code",
   "execution_count": 158,
   "metadata": {},
   "outputs": [
    {
     "data": {
      "text/html": [
       "<div>\n",
       "<style scoped>\n",
       "    .dataframe tbody tr th:only-of-type {\n",
       "        vertical-align: middle;\n",
       "    }\n",
       "\n",
       "    .dataframe tbody tr th {\n",
       "        vertical-align: top;\n",
       "    }\n",
       "\n",
       "    .dataframe thead th {\n",
       "        text-align: right;\n",
       "    }\n",
       "</style>\n",
       "<table border=\"1\" class=\"dataframe\">\n",
       "  <thead>\n",
       "    <tr style=\"text-align: right;\">\n",
       "      <th></th>\n",
       "      <th>id</th>\n",
       "      <th>sexo</th>\n",
       "      <th>idade</th>\n",
       "      <th>ilesos</th>\n",
       "      <th>feridos_graves</th>\n",
       "      <th>feridos_leves</th>\n",
       "      <th>mortos</th>\n",
       "      <th>tipo_envolvido</th>\n",
       "      <th>ano_fabricacao_veiculo</th>\n",
       "      <th>br</th>\n",
       "      <th>...</th>\n",
       "      <th>municipio</th>\n",
       "      <th>ordem_tipo_acidente</th>\n",
       "      <th>regiao</th>\n",
       "      <th>sentido_via</th>\n",
       "      <th>tipo_acidente</th>\n",
       "      <th>tipo_pista</th>\n",
       "      <th>tipo_veiculo</th>\n",
       "      <th>tracado_via</th>\n",
       "      <th>uf</th>\n",
       "      <th>uso_solo</th>\n",
       "    </tr>\n",
       "  </thead>\n",
       "  <tbody>\n",
       "    <tr>\n",
       "      <th>0</th>\n",
       "      <td>260031</td>\n",
       "      <td>3 masculino, 2 feminino</td>\n",
       "      <td>33,18,20,16,17</td>\n",
       "      <td>0</td>\n",
       "      <td>5</td>\n",
       "      <td>0</td>\n",
       "      <td>0</td>\n",
       "      <td>1 C, 4 Pass, 0 Ped</td>\n",
       "      <td>2012</td>\n",
       "      <td>BR-153</td>\n",
       "      <td>...</td>\n",
       "      <td>GURUPI</td>\n",
       "      <td>1</td>\n",
       "      <td>Norte</td>\n",
       "      <td>Crescente</td>\n",
       "      <td>Atropelamento de Animal</td>\n",
       "      <td>Simples</td>\n",
       "      <td>Automóvel</td>\n",
       "      <td>Reta</td>\n",
       "      <td>TO</td>\n",
       "      <td>Rural</td>\n",
       "    </tr>\n",
       "    <tr>\n",
       "      <th>1</th>\n",
       "      <td>260036</td>\n",
       "      <td>0 masculino, 4 feminino</td>\n",
       "      <td>34,36,38,25</td>\n",
       "      <td>2</td>\n",
       "      <td>0</td>\n",
       "      <td>0</td>\n",
       "      <td>2</td>\n",
       "      <td>2 C, 0 Pass, 2 Ped</td>\n",
       "      <td>2019</td>\n",
       "      <td>BR-116</td>\n",
       "      <td>...</td>\n",
       "      <td>NOVA IGUACU</td>\n",
       "      <td>1</td>\n",
       "      <td>Sudeste</td>\n",
       "      <td>Decrescente</td>\n",
       "      <td>Atropelamento de Pedestre</td>\n",
       "      <td>Dupla</td>\n",
       "      <td>Pedestre</td>\n",
       "      <td>Reta</td>\n",
       "      <td>RJ</td>\n",
       "      <td>Urbano</td>\n",
       "    </tr>\n",
       "    <tr>\n",
       "      <th>2</th>\n",
       "      <td>260037</td>\n",
       "      <td>0 masculino, 2 feminino</td>\n",
       "      <td>50,33</td>\n",
       "      <td>1</td>\n",
       "      <td>0</td>\n",
       "      <td>1</td>\n",
       "      <td>0</td>\n",
       "      <td>2 C, 0 Pass, 0 Ped</td>\n",
       "      <td>2010</td>\n",
       "      <td>BR-101</td>\n",
       "      <td>...</td>\n",
       "      <td>SAO JOSE</td>\n",
       "      <td>1</td>\n",
       "      <td>Sul</td>\n",
       "      <td>Crescente</td>\n",
       "      <td>Colisão lateral</td>\n",
       "      <td>Simples</td>\n",
       "      <td>Automóvel</td>\n",
       "      <td>Reta</td>\n",
       "      <td>SC</td>\n",
       "      <td>Urbano</td>\n",
       "    </tr>\n",
       "    <tr>\n",
       "      <th>3</th>\n",
       "      <td>260038</td>\n",
       "      <td>0 masculino, 1 feminino</td>\n",
       "      <td>16</td>\n",
       "      <td>0</td>\n",
       "      <td>1</td>\n",
       "      <td>0</td>\n",
       "      <td>0</td>\n",
       "      <td>1 C, 0 Pass, 0 Ped</td>\n",
       "      <td>2009</td>\n",
       "      <td>BR-364</td>\n",
       "      <td>...</td>\n",
       "      <td>CACOAL</td>\n",
       "      <td>3</td>\n",
       "      <td>Norte</td>\n",
       "      <td>Decrescente</td>\n",
       "      <td>Tombamento</td>\n",
       "      <td>Simples</td>\n",
       "      <td>Motocicleta</td>\n",
       "      <td>Reta</td>\n",
       "      <td>RO</td>\n",
       "      <td>Urbano</td>\n",
       "    </tr>\n",
       "    <tr>\n",
       "      <th>4</th>\n",
       "      <td>260039</td>\n",
       "      <td>2 masculino, 3 feminino</td>\n",
       "      <td>22,30,19,37,61</td>\n",
       "      <td>0</td>\n",
       "      <td>4</td>\n",
       "      <td>1</td>\n",
       "      <td>0</td>\n",
       "      <td>0 C, 5 Pass, 0 Ped</td>\n",
       "      <td>2015</td>\n",
       "      <td>BR-153</td>\n",
       "      <td>...</td>\n",
       "      <td>REBOUCAS</td>\n",
       "      <td>1</td>\n",
       "      <td>Sul</td>\n",
       "      <td>Crescente</td>\n",
       "      <td>Capotamento</td>\n",
       "      <td>Simples</td>\n",
       "      <td>Automóvel</td>\n",
       "      <td>Curva</td>\n",
       "      <td>PR</td>\n",
       "      <td>Rural</td>\n",
       "    </tr>\n",
       "  </tbody>\n",
       "</table>\n",
       "<p>5 rows × 31 columns</p>\n",
       "</div>"
      ],
      "text/plain": [
       "       id                     sexo           idade  ilesos  feridos_graves  \\\n",
       "0  260031  3 masculino, 2 feminino  33,18,20,16,17       0               5   \n",
       "1  260036  0 masculino, 4 feminino     34,36,38,25       2               0   \n",
       "2  260037  0 masculino, 2 feminino           50,33       1               0   \n",
       "3  260038  0 masculino, 1 feminino              16       0               1   \n",
       "4  260039  2 masculino, 3 feminino  22,30,19,37,61       0               4   \n",
       "\n",
       "   feridos_leves  mortos      tipo_envolvido  ano_fabricacao_veiculo      br  \\\n",
       "0              0       0  1 C, 4 Pass, 0 Ped                    2012  BR-153   \n",
       "1              0       2  2 C, 0 Pass, 2 Ped                    2019  BR-116   \n",
       "2              1       0  2 C, 0 Pass, 0 Ped                    2010  BR-101   \n",
       "3              0       0  1 C, 0 Pass, 0 Ped                    2009  BR-364   \n",
       "4              1       0  0 C, 5 Pass, 0 Ped                    2015  BR-153   \n",
       "\n",
       "   ...    municipio ordem_tipo_acidente   regiao  sentido_via  \\\n",
       "0  ...       GURUPI                   1    Norte    Crescente   \n",
       "1  ...  NOVA IGUACU                   1  Sudeste  Decrescente   \n",
       "2  ...     SAO JOSE                   1      Sul    Crescente   \n",
       "3  ...       CACOAL                   3    Norte  Decrescente   \n",
       "4  ...     REBOUCAS                   1      Sul    Crescente   \n",
       "\n",
       "               tipo_acidente tipo_pista tipo_veiculo tracado_via  uf uso_solo  \n",
       "0    Atropelamento de Animal    Simples    Automóvel        Reta  TO    Rural  \n",
       "1  Atropelamento de Pedestre      Dupla     Pedestre        Reta  RJ   Urbano  \n",
       "2            Colisão lateral    Simples    Automóvel        Reta  SC   Urbano  \n",
       "3                 Tombamento    Simples  Motocicleta        Reta  RO   Urbano  \n",
       "4                Capotamento    Simples    Automóvel       Curva  PR    Rural  \n",
       "\n",
       "[5 rows x 31 columns]"
      ]
     },
     "execution_count": 158,
     "metadata": {},
     "output_type": "execute_result"
    }
   ],
   "source": [
    "df.loc[df['sexo'] == 'Masculino', 'sexo'] = 'Fem'\n",
    "df.loc[df['sexo'] == 'Feminino', 'sexo'] = 'Mas'\n",
    "\n",
    "def contar_sexo(sexos):\n",
    "    contagem_masculino = (sexos == 'Mas').sum()\n",
    "    contagem_feminino = (sexos == 'Fem').sum()\n",
    "    return f\"{contagem_masculino} masculino, {contagem_feminino} feminino\"\n",
    "\n",
    "\n",
    "def contar_tipo(tipos):\n",
    "    contagem_condutor = (tipos == 'Condutor').sum()\n",
    "    contagem_passageiro = (tipos == 'Passageiro').sum()\n",
    "    contagem_pedestre = (tipos == 'Pedestre').sum()\n",
    "    return f\"{contagem_condutor} C, {contagem_passageiro} Pass, {contagem_pedestre} Ped\"\n",
    "\n",
    "aggregation_functions = {\n",
    "    'sexo': contar_sexo, \n",
    "    'idade': lambda x: ','.join(map(str, x)),\n",
    "    'ilesos': 'sum',\n",
    "    'feridos_graves': 'sum',\n",
    "    'feridos_leves': 'sum',\n",
    "    'mortos': 'sum', \n",
    "    'tipo_envolvido': contar_tipo\n",
    "}\n",
    "\n",
    "# Agrupar por 'id' e aplicar as funções de agregação\n",
    "df_agregado = df.groupby('id').agg(aggregation_functions).reset_index()\n",
    "\n",
    "# Gerar um novo DataFrame com as colunas não processadas\n",
    "colunas_restantes = df.columns.difference(list(aggregation_functions.keys()) + ['id']) \n",
    "df_restante = df.groupby('id')[colunas_restantes.tolist()].first().reset_index() \n",
    "\n",
    "# Combinar os DataFrames agregados e não processados com base no ID\n",
    "df_final = pd.merge(df_agregado, df_restante, on='id')\n",
    "df_final.head()"
   ]
  },
  {
   "cell_type": "code",
   "execution_count": 159,
   "metadata": {},
   "outputs": [],
   "source": [
    "df_final.drop(['ordem_tipo_acidente'], axis=1, inplace=True)"
   ]
  },
  {
   "cell_type": "markdown",
   "metadata": {},
   "source": [
    "Dividindo e salvando o arquivo"
   ]
  },
  {
   "cell_type": "code",
   "execution_count": 160,
   "metadata": {},
   "outputs": [],
   "source": [
    "tamanho_parte = len(df_final) // 4\n",
    "\n",
    "# Dividir o DataFrame em 4 partes\n",
    "parte1 = df_final.iloc[:tamanho_parte]\n",
    "parte2 = df_final.iloc[tamanho_parte:2*tamanho_parte]\n",
    "parte3 = df_final.iloc[2*tamanho_parte:3*tamanho_parte]\n",
    "parte4 = df_final.iloc[3*tamanho_parte:]\n",
    "\n",
    "parte1.to_csv('dados_prf_parte1.txt', sep=';', index=False)\n",
    "parte2.to_csv('dados_prf_parte2.txt', sep=';', index=False)\n",
    "parte3.to_csv('dados_prf_parte3.txt', sep=';', index=False)\n",
    "parte4.to_csv('dados_prf_parte4.txt', sep=';', index=False)"
   ]
  }
 ],
 "metadata": {
  "kernelspec": {
   "display_name": "base",
   "language": "python",
   "name": "python3"
  },
  "language_info": {
   "codemirror_mode": {
    "name": "ipython",
    "version": 3
   },
   "file_extension": ".py",
   "mimetype": "text/x-python",
   "name": "python",
   "nbconvert_exporter": "python",
   "pygments_lexer": "ipython3",
   "version": "3.11.7"
  }
 },
 "nbformat": 4,
 "nbformat_minor": 2
}
