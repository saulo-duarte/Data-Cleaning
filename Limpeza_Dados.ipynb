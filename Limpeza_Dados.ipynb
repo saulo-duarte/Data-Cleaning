{
 "cells": [
  {
   "cell_type": "code",
   "execution_count": 1371,
   "metadata": {},
   "outputs": [],
   "source": [
    "import pandas as pd\n",
    "import numpy as np \n",
    "import seaborn as sns\n",
    "import matplotlib.pyplot as plt"
   ]
  },
  {
   "cell_type": "code",
   "execution_count": 1372,
   "metadata": {},
   "outputs": [],
   "source": [
    "df20 = pd.read_csv(\"acidentes2020_todas_causas_tipos.csv\", encoding='iso-8859-1', delimiter=\";\")\n",
    "df23 = pd.read_csv(\"acidentes2023_todas_causas_tipos.csv\", encoding='iso-8859-1', delimiter=\";\")\n",
    "df = pd.concat([df20, df23], ignore_index=True)"
   ]
  },
  {
   "cell_type": "code",
   "execution_count": 1373,
   "metadata": {},
   "outputs": [],
   "source": [
    "df.drop_duplicates(inplace=True)"
   ]
  },
  {
   "cell_type": "code",
   "execution_count": 1374,
   "metadata": {},
   "outputs": [
    {
     "name": "stdout",
     "output_type": "stream",
     "text": [
      "(348047, 37) | (514799, 37) | (862846, 37)\n"
     ]
    }
   ],
   "source": [
    "print(df20.shape, end=' | ')\n",
    "print(df23.shape, end=' | ')\n",
    "print(df.shape)"
   ]
  },
  {
   "cell_type": "code",
   "execution_count": 1375,
   "metadata": {},
   "outputs": [
    {
     "data": {
      "text/html": [
       "<div>\n",
       "<style scoped>\n",
       "    .dataframe tbody tr th:only-of-type {\n",
       "        vertical-align: middle;\n",
       "    }\n",
       "\n",
       "    .dataframe tbody tr th {\n",
       "        vertical-align: top;\n",
       "    }\n",
       "\n",
       "    .dataframe thead th {\n",
       "        text-align: right;\n",
       "    }\n",
       "</style>\n",
       "<table border=\"1\" class=\"dataframe\">\n",
       "  <thead>\n",
       "    <tr style=\"text-align: right;\">\n",
       "      <th></th>\n",
       "      <th>id</th>\n",
       "      <th>pesid</th>\n",
       "      <th>data_inversa</th>\n",
       "      <th>dia_semana</th>\n",
       "      <th>horario</th>\n",
       "      <th>uf</th>\n",
       "      <th>br</th>\n",
       "      <th>km</th>\n",
       "      <th>municipio</th>\n",
       "      <th>causa_principal</th>\n",
       "      <th>...</th>\n",
       "      <th>sexo</th>\n",
       "      <th>ilesos</th>\n",
       "      <th>feridos_leves</th>\n",
       "      <th>feridos_graves</th>\n",
       "      <th>mortos</th>\n",
       "      <th>latitude</th>\n",
       "      <th>longitude</th>\n",
       "      <th>regional</th>\n",
       "      <th>delegacia</th>\n",
       "      <th>uop</th>\n",
       "    </tr>\n",
       "  </thead>\n",
       "  <tbody>\n",
       "    <tr>\n",
       "      <th>0</th>\n",
       "      <td>260031.0</td>\n",
       "      <td>578475.0</td>\n",
       "      <td>2020-01-01</td>\n",
       "      <td>quarta-feira</td>\n",
       "      <td>01:00:00</td>\n",
       "      <td>TO</td>\n",
       "      <td>153.0</td>\n",
       "      <td>678,1</td>\n",
       "      <td>GURUPI</td>\n",
       "      <td>Sim</td>\n",
       "      <td>...</td>\n",
       "      <td>Feminino</td>\n",
       "      <td>0</td>\n",
       "      <td>0</td>\n",
       "      <td>1</td>\n",
       "      <td>0</td>\n",
       "      <td>-11,77460203</td>\n",
       "      <td>-49,10744996</td>\n",
       "      <td>SPRF-TO</td>\n",
       "      <td>DEL02-TO</td>\n",
       "      <td>UOP02-DEL01-TO</td>\n",
       "    </tr>\n",
       "    <tr>\n",
       "      <th>1</th>\n",
       "      <td>260031.0</td>\n",
       "      <td>578475.0</td>\n",
       "      <td>2020-01-01</td>\n",
       "      <td>quarta-feira</td>\n",
       "      <td>01:00:00</td>\n",
       "      <td>TO</td>\n",
       "      <td>153.0</td>\n",
       "      <td>678,1</td>\n",
       "      <td>GURUPI</td>\n",
       "      <td>Sim</td>\n",
       "      <td>...</td>\n",
       "      <td>Feminino</td>\n",
       "      <td>0</td>\n",
       "      <td>0</td>\n",
       "      <td>1</td>\n",
       "      <td>0</td>\n",
       "      <td>-11,77460203</td>\n",
       "      <td>-49,10744996</td>\n",
       "      <td>SPRF-TO</td>\n",
       "      <td>DEL02-TO</td>\n",
       "      <td>UOP02-DEL01-TO</td>\n",
       "    </tr>\n",
       "    <tr>\n",
       "      <th>2</th>\n",
       "      <td>260031.0</td>\n",
       "      <td>578988.0</td>\n",
       "      <td>2020-01-01</td>\n",
       "      <td>quarta-feira</td>\n",
       "      <td>01:00:00</td>\n",
       "      <td>TO</td>\n",
       "      <td>153.0</td>\n",
       "      <td>678,1</td>\n",
       "      <td>GURUPI</td>\n",
       "      <td>Sim</td>\n",
       "      <td>...</td>\n",
       "      <td>Masculino</td>\n",
       "      <td>0</td>\n",
       "      <td>0</td>\n",
       "      <td>1</td>\n",
       "      <td>0</td>\n",
       "      <td>-11,77460203</td>\n",
       "      <td>-49,10744996</td>\n",
       "      <td>SPRF-TO</td>\n",
       "      <td>DEL02-TO</td>\n",
       "      <td>UOP02-DEL01-TO</td>\n",
       "    </tr>\n",
       "    <tr>\n",
       "      <th>3</th>\n",
       "      <td>260031.0</td>\n",
       "      <td>578988.0</td>\n",
       "      <td>2020-01-01</td>\n",
       "      <td>quarta-feira</td>\n",
       "      <td>01:00:00</td>\n",
       "      <td>TO</td>\n",
       "      <td>153.0</td>\n",
       "      <td>678,1</td>\n",
       "      <td>GURUPI</td>\n",
       "      <td>Sim</td>\n",
       "      <td>...</td>\n",
       "      <td>Masculino</td>\n",
       "      <td>0</td>\n",
       "      <td>0</td>\n",
       "      <td>1</td>\n",
       "      <td>0</td>\n",
       "      <td>-11,77460203</td>\n",
       "      <td>-49,10744996</td>\n",
       "      <td>SPRF-TO</td>\n",
       "      <td>DEL02-TO</td>\n",
       "      <td>UOP02-DEL01-TO</td>\n",
       "    </tr>\n",
       "    <tr>\n",
       "      <th>4</th>\n",
       "      <td>260031.0</td>\n",
       "      <td>578987.0</td>\n",
       "      <td>2020-01-01</td>\n",
       "      <td>quarta-feira</td>\n",
       "      <td>01:00:00</td>\n",
       "      <td>TO</td>\n",
       "      <td>153.0</td>\n",
       "      <td>678,1</td>\n",
       "      <td>GURUPI</td>\n",
       "      <td>Sim</td>\n",
       "      <td>...</td>\n",
       "      <td>Masculino</td>\n",
       "      <td>0</td>\n",
       "      <td>0</td>\n",
       "      <td>1</td>\n",
       "      <td>0</td>\n",
       "      <td>-11,77460203</td>\n",
       "      <td>-49,10744996</td>\n",
       "      <td>SPRF-TO</td>\n",
       "      <td>DEL02-TO</td>\n",
       "      <td>UOP02-DEL01-TO</td>\n",
       "    </tr>\n",
       "  </tbody>\n",
       "</table>\n",
       "<p>5 rows × 37 columns</p>\n",
       "</div>"
      ],
      "text/plain": [
       "         id     pesid data_inversa    dia_semana   horario  uf     br     km  \\\n",
       "0  260031.0  578475.0   2020-01-01  quarta-feira  01:00:00  TO  153.0  678,1   \n",
       "1  260031.0  578475.0   2020-01-01  quarta-feira  01:00:00  TO  153.0  678,1   \n",
       "2  260031.0  578988.0   2020-01-01  quarta-feira  01:00:00  TO  153.0  678,1   \n",
       "3  260031.0  578988.0   2020-01-01  quarta-feira  01:00:00  TO  153.0  678,1   \n",
       "4  260031.0  578987.0   2020-01-01  quarta-feira  01:00:00  TO  153.0  678,1   \n",
       "\n",
       "  municipio causa_principal  ...       sexo  ilesos feridos_leves  \\\n",
       "0    GURUPI             Sim  ...   Feminino       0             0   \n",
       "1    GURUPI             Sim  ...   Feminino       0             0   \n",
       "2    GURUPI             Sim  ...  Masculino       0             0   \n",
       "3    GURUPI             Sim  ...  Masculino       0             0   \n",
       "4    GURUPI             Sim  ...  Masculino       0             0   \n",
       "\n",
       "  feridos_graves mortos      latitude     longitude regional delegacia  \\\n",
       "0              1      0  -11,77460203  -49,10744996  SPRF-TO  DEL02-TO   \n",
       "1              1      0  -11,77460203  -49,10744996  SPRF-TO  DEL02-TO   \n",
       "2              1      0  -11,77460203  -49,10744996  SPRF-TO  DEL02-TO   \n",
       "3              1      0  -11,77460203  -49,10744996  SPRF-TO  DEL02-TO   \n",
       "4              1      0  -11,77460203  -49,10744996  SPRF-TO  DEL02-TO   \n",
       "\n",
       "              uop  \n",
       "0  UOP02-DEL01-TO  \n",
       "1  UOP02-DEL01-TO  \n",
       "2  UOP02-DEL01-TO  \n",
       "3  UOP02-DEL01-TO  \n",
       "4  UOP02-DEL01-TO  \n",
       "\n",
       "[5 rows x 37 columns]"
      ]
     },
     "execution_count": 1375,
     "metadata": {},
     "output_type": "execute_result"
    }
   ],
   "source": [
    "df.head()"
   ]
  },
  {
   "cell_type": "code",
   "execution_count": 1376,
   "metadata": {},
   "outputs": [
    {
     "data": {
      "text/plain": [
       "Index(['id', 'pesid', 'data_inversa', 'dia_semana', 'horario', 'uf', 'br',\n",
       "       'km', 'municipio', 'causa_principal', 'causa_acidente',\n",
       "       'ordem_tipo_acidente', 'tipo_acidente', 'classificacao_acidente',\n",
       "       'fase_dia', 'sentido_via', 'condicao_metereologica', 'tipo_pista',\n",
       "       'tracado_via', 'uso_solo', 'id_veiculo', 'tipo_veiculo', 'marca',\n",
       "       'ano_fabricacao_veiculo', 'tipo_envolvido', 'estado_fisico', 'idade',\n",
       "       'sexo', 'ilesos', 'feridos_leves', 'feridos_graves', 'mortos',\n",
       "       'latitude', 'longitude', 'regional', 'delegacia', 'uop'],\n",
       "      dtype='object')"
      ]
     },
     "execution_count": 1376,
     "metadata": {},
     "output_type": "execute_result"
    }
   ],
   "source": [
    "df.columns"
   ]
  },
  {
   "cell_type": "code",
   "execution_count": 1377,
   "metadata": {},
   "outputs": [
    {
     "data": {
      "text/plain": [
       "id                                       260031.0\n",
       "pesid                                    578475.0\n",
       "data_inversa                           2020-01-01\n",
       "dia_semana                           quarta-feira\n",
       "horario                                  01:00:00\n",
       "uf                                             TO\n",
       "br                                          153.0\n",
       "km                                          678,1\n",
       "municipio                                  GURUPI\n",
       "causa_principal                               Sim\n",
       "causa_acidente                   Animais na Pista\n",
       "ordem_tipo_acidente                             1\n",
       "tipo_acidente             Atropelamento de Animal\n",
       "classificacao_acidente        Com Vítimas Feridas\n",
       "fase_dia                              Plena Noite\n",
       "Name: 0, dtype: object"
      ]
     },
     "execution_count": 1377,
     "metadata": {},
     "output_type": "execute_result"
    }
   ],
   "source": [
    "df.loc[0][0:15]"
   ]
  },
  {
   "cell_type": "code",
   "execution_count": 1378,
   "metadata": {},
   "outputs": [
    {
     "data": {
      "text/plain": [
       "sentido_via                              Crescente\n",
       "condicao_metereologica                     Nublado\n",
       "tipo_pista                                 Simples\n",
       "tracado_via                                   Reta\n",
       "uso_solo                                       Não\n",
       "id_veiculo                                  464101\n",
       "tipo_veiculo                             Automóvel\n",
       "marca                     FIAT/SIENA ATTRACTIV 1.4\n",
       "ano_fabricacao_veiculo                      2012.0\n",
       "tipo_envolvido                            Condutor\n",
       "estado_fisico                        Lesões Graves\n",
       "idade                                         33.0\n",
       "sexo                                      Feminino\n",
       "ilesos                                           0\n",
       "feridos_leves                                    0\n",
       "feridos_graves                                   1\n",
       "mortos                                           0\n",
       "latitude                              -11,77460203\n",
       "longitude                             -49,10744996\n",
       "regional                                   SPRF-TO\n",
       "delegacia                                 DEL02-TO\n",
       "uop                                 UOP02-DEL01-TO\n",
       "Name: 0, dtype: object"
      ]
     },
     "execution_count": 1378,
     "metadata": {},
     "output_type": "execute_result"
    }
   ],
   "source": [
    "df.loc[0][15:]"
   ]
  },
  {
   "cell_type": "code",
   "execution_count": 1379,
   "metadata": {},
   "outputs": [
    {
     "data": {
      "text/plain": [
       "causa_principal\n",
       "Sim    523270\n",
       "Não    339576\n",
       "Name: count, dtype: int64"
      ]
     },
     "execution_count": 1379,
     "metadata": {},
     "output_type": "execute_result"
    }
   ],
   "source": [
    "df['causa_principal'].value_counts()"
   ]
  },
  {
   "cell_type": "markdown",
   "metadata": {},
   "source": [
    "**Excluindo colunas desnecessarias**"
   ]
  },
  {
   "cell_type": "code",
   "execution_count": 1380,
   "metadata": {},
   "outputs": [],
   "source": [
    "df.drop(['pesid', 'id_veiculo', 'marca', 'regional', 'uop', 'causa_principal'], axis=1, inplace=True)"
   ]
  },
  {
   "cell_type": "code",
   "execution_count": 1381,
   "metadata": {},
   "outputs": [
    {
     "name": "stdout",
     "output_type": "stream",
     "text": [
      "(862846, 31)\n"
     ]
    }
   ],
   "source": [
    "print(df.shape)"
   ]
  },
  {
   "cell_type": "markdown",
   "metadata": {},
   "source": [
    "**Verificando se há valores nulos**"
   ]
  },
  {
   "cell_type": "code",
   "execution_count": 1382,
   "metadata": {},
   "outputs": [
    {
     "data": {
      "text/plain": [
       "br                         2762\n",
       "km                         2762\n",
       "tipo_acidente                 1\n",
       "ano_fabricacao_veiculo    47486\n",
       "idade                     84078\n",
       "delegacia                   513\n",
       "dtype: int64"
      ]
     },
     "execution_count": 1382,
     "metadata": {},
     "output_type": "execute_result"
    }
   ],
   "source": [
    "valores_vazios = df.isna().sum()\n",
    "valores_vazios[valores_vazios > 0]"
   ]
  },
  {
   "cell_type": "markdown",
   "metadata": {},
   "source": [
    "### **Tratando valores vazios**"
   ]
  },
  {
   "cell_type": "markdown",
   "metadata": {},
   "source": [
    "Tipo Acidente"
   ]
  },
  {
   "cell_type": "code",
   "execution_count": 1383,
   "metadata": {},
   "outputs": [
    {
     "data": {
      "text/plain": [
       "tipo_acidente\n",
       "Colisão traseira                   129263\n",
       "Saída de leito carroçável          113693\n",
       "Tombamento                         105500\n",
       "Queda de ocupante de veículo        99154\n",
       "Colisão transversal                 71657\n",
       "Colisão frontal                     59948\n",
       "Capotamento                         50399\n",
       "Colisão com objeto                  43379\n",
       "Colisão lateral mesmo sentido       35369\n",
       "Colisão lateral                     33319\n",
       "Colisão com objeto estático         30527\n",
       "Atropelamento de Pedestre           27663\n",
       "Engavetamento                       22146\n",
       "Colisão lateral sentido oposto      14809\n",
       "Derramamento de carga                7816\n",
       "Incêndio                             7676\n",
       "Atropelamento de Animal              6128\n",
       "Eventos atípicos                     1714\n",
       "Colisão com objeto em movimento      1504\n",
       "Danos eventuais                      1181\n",
       "Name: count, dtype: int64"
      ]
     },
     "execution_count": 1383,
     "metadata": {},
     "output_type": "execute_result"
    }
   ],
   "source": [
    "df['tipo_acidente'].value_counts()"
   ]
  },
  {
   "cell_type": "code",
   "execution_count": 1384,
   "metadata": {},
   "outputs": [],
   "source": [
    "df.fillna({\n",
    "    'tipo_acidente' : 'Colisão traseira'\n",
    "}, inplace=True)"
   ]
  },
  {
   "cell_type": "markdown",
   "metadata": {},
   "source": [
    "Coluna idade"
   ]
  },
  {
   "cell_type": "code",
   "execution_count": 1385,
   "metadata": {},
   "outputs": [
    {
     "data": {
      "text/plain": [
       "count    778768.000000\n",
       "mean         39.308752\n",
       "std          39.246982\n",
       "min           0.000000\n",
       "25%          27.000000\n",
       "50%          37.000000\n",
       "75%          48.000000\n",
       "max        2022.000000\n",
       "Name: idade, dtype: float64"
      ]
     },
     "execution_count": 1385,
     "metadata": {},
     "output_type": "execute_result"
    }
   ],
   "source": [
    "df['idade'].describe()"
   ]
  },
  {
   "cell_type": "code",
   "execution_count": 1386,
   "metadata": {},
   "outputs": [
    {
     "data": {
      "image/png": "[encoded data removed]",
      "text/plain": [
       "<Figure size 640x480 with 1 Axes>"
      ]
     },
     "metadata": {},
     "output_type": "display_data"
    }
   ],
   "source": [
    "sns.boxplot(x='idade', data=df)\n",
    "plt.show()"
   ]
  },
  {
   "cell_type": "markdown",
   "metadata": {},
   "source": [
    "Tratando os outliers da coluna idade"
   ]
  },
  {
   "cell_type": "code",
   "execution_count": 1387,
   "metadata": {},
   "outputs": [],
   "source": [
    "df.loc[df['idade'] > 100, 'idade'] = 37"
   ]
  },
  {
   "cell_type": "code",
   "execution_count": 1388,
   "metadata": {},
   "outputs": [
    {
     "data": {
      "text/plain": [
       "count    778768.000000\n",
       "mean         38.260171\n",
       "std          15.196067\n",
       "min           0.000000\n",
       "25%          27.000000\n",
       "50%          37.000000\n",
       "75%          48.000000\n",
       "max         100.000000\n",
       "Name: idade, dtype: float64"
      ]
     },
     "execution_count": 1388,
     "metadata": {},
     "output_type": "execute_result"
    }
   ],
   "source": [
    "df['idade'].describe()"
   ]
  },
  {
   "cell_type": "code",
   "execution_count": 1389,
   "metadata": {},
   "outputs": [
    {
     "data": {
      "text/plain": [
       "1078"
      ]
     },
     "execution_count": 1389,
     "metadata": {},
     "output_type": "execute_result"
    }
   ],
   "source": [
    "#Acredito que o valor 0 possa representar recém-nascidos\n",
    "df.loc[df['idade'] == 0, 'idade'].count()"
   ]
  },
  {
   "cell_type": "code",
   "execution_count": 1390,
   "metadata": {},
   "outputs": [
    {
     "name": "stderr",
     "output_type": "stream",
     "text": [
      "c:\\Users\\DELL G5\\anaconda3\\Lib\\site-packages\\seaborn\\_oldcore.py:1119: FutureWarning: use_inf_as_na option is deprecated and will be removed in a future version. Convert inf values to NaN before operating instead.\n",
      "  with pd.option_context('mode.use_inf_as_na', True):\n"
     ]
    },
    {
     "data": {
      "image/png": "[encoded data removed]",
      "text/plain": [
       "<Figure size 1200x500 with 2 Axes>"
      ]
     },
     "metadata": {},
     "output_type": "display_data"
    }
   ],
   "source": [
    "fig, axs = plt.subplots(1, 2, figsize=(12, 5))\n",
    "\n",
    "sns.boxplot(data=df, x='idade')\n",
    "sns.histplot(data=df, x='idade', bins=20, ax=axs[0], kde=True)\n",
    "plt.show()"
   ]
  },
  {
   "cell_type": "code",
   "execution_count": 1391,
   "metadata": {},
   "outputs": [],
   "source": [
    "media_idade = df['idade'].mean()\n",
    "desvio_padrao_idade = df['idade'].std()\n",
    "\n",
    "valores_aleatorios = np.random.normal(media_idade, desvio_padrao_idade, df['idade'].isnull().sum()).astype(int)\n",
    "while (valores_aleatorios <= 0).any():\n",
    "    valores_aleatorios[valores_aleatorios <= 0] = np.random.normal(media_idade, desvio_padrao_idade, (valores_aleatorios <= 0).sum()).astype(int)"
   ]
  },
  {
   "cell_type": "code",
   "execution_count": 1392,
   "metadata": {},
   "outputs": [
    {
     "name": "stderr",
     "output_type": "stream",
     "text": [
      "c:\\Users\\DELL G5\\anaconda3\\Lib\\site-packages\\seaborn\\_oldcore.py:1119: FutureWarning: use_inf_as_na option is deprecated and will be removed in a future version. Convert inf values to NaN before operating instead.\n",
      "  with pd.option_context('mode.use_inf_as_na', True):\n"
     ]
    },
    {
     "data": {
      "image/png": "[encoded data removed]",
      "text/plain": [
       "<Figure size 640x480 with 1 Axes>"
      ]
     },
     "metadata": {},
     "output_type": "display_data"
    }
   ],
   "source": [
    "sns.histplot(valores_aleatorios, bins=20, kde=True)\n",
    "plt.show()"
   ]
  },
  {
   "cell_type": "code",
   "execution_count": 1393,
   "metadata": {},
   "outputs": [],
   "source": [
    "df.loc[df['idade'].isnull(), 'idade'] = valores_aleatorios"
   ]
  },
  {
   "cell_type": "code",
   "execution_count": 1394,
   "metadata": {},
   "outputs": [
    {
     "name": "stderr",
     "output_type": "stream",
     "text": [
      "c:\\Users\\DELL G5\\anaconda3\\Lib\\site-packages\\seaborn\\_oldcore.py:1119: FutureWarning: use_inf_as_na option is deprecated and will be removed in a future version. Convert inf values to NaN before operating instead.\n",
      "  with pd.option_context('mode.use_inf_as_na', True):\n"
     ]
    },
    {
     "data": {
      "image/png": "[encoded data removed]",
      "text/plain": [
       "<Figure size 1200x500 with 2 Axes>"
      ]
     },
     "metadata": {},
     "output_type": "display_data"
    }
   ],
   "source": [
    "fig, axs = plt.subplots(1, 2, figsize=(12, 5))\n",
    "\n",
    "sns.boxplot(data=df, x='idade')\n",
    "sns.histplot(data=df, x='idade', bins=20, ax=axs[0], kde=True)\n",
    "plt.show()"
   ]
  },
  {
   "cell_type": "code",
   "execution_count": 1395,
   "metadata": {},
   "outputs": [],
   "source": [
    "df['idade'] = df['idade'].astype(int)"
   ]
  },
  {
   "cell_type": "markdown",
   "metadata": {},
   "source": [
    "**Coluna BR**"
   ]
  },
  {
   "cell_type": "code",
   "execution_count": 1396,
   "metadata": {},
   "outputs": [
    {
     "data": {
      "text/html": [
       "<div>\n",
       "<style scoped>\n",
       "    .dataframe tbody tr th:only-of-type {\n",
       "        vertical-align: middle;\n",
       "    }\n",
       "\n",
       "    .dataframe tbody tr th {\n",
       "        vertical-align: top;\n",
       "    }\n",
       "\n",
       "    .dataframe thead th {\n",
       "        text-align: right;\n",
       "    }\n",
       "</style>\n",
       "<table border=\"1\" class=\"dataframe\">\n",
       "  <thead>\n",
       "    <tr style=\"text-align: right;\">\n",
       "      <th></th>\n",
       "      <th>br</th>\n",
       "      <th>municipio</th>\n",
       "    </tr>\n",
       "  </thead>\n",
       "  <tbody>\n",
       "    <tr>\n",
       "      <th>559</th>\n",
       "      <td>NaN</td>\n",
       "      <td>SABARA</td>\n",
       "    </tr>\n",
       "    <tr>\n",
       "      <th>4491</th>\n",
       "      <td>NaN</td>\n",
       "      <td>RIO DE JANEIRO</td>\n",
       "    </tr>\n",
       "    <tr>\n",
       "      <th>4492</th>\n",
       "      <td>NaN</td>\n",
       "      <td>RIO DE JANEIRO</td>\n",
       "    </tr>\n",
       "    <tr>\n",
       "      <th>4493</th>\n",
       "      <td>NaN</td>\n",
       "      <td>RIO DE JANEIRO</td>\n",
       "    </tr>\n",
       "    <tr>\n",
       "      <th>6402</th>\n",
       "      <td>NaN</td>\n",
       "      <td>SANTO ANTONIO DO LEVERGER</td>\n",
       "    </tr>\n",
       "    <tr>\n",
       "      <th>...</th>\n",
       "      <td>...</td>\n",
       "      <td>...</td>\n",
       "    </tr>\n",
       "    <tr>\n",
       "      <th>858496</th>\n",
       "      <td>NaN</td>\n",
       "      <td>ELDORADO DO SUL</td>\n",
       "    </tr>\n",
       "    <tr>\n",
       "      <th>858497</th>\n",
       "      <td>NaN</td>\n",
       "      <td>ELDORADO DO SUL</td>\n",
       "    </tr>\n",
       "    <tr>\n",
       "      <th>858498</th>\n",
       "      <td>NaN</td>\n",
       "      <td>ELDORADO DO SUL</td>\n",
       "    </tr>\n",
       "    <tr>\n",
       "      <th>858499</th>\n",
       "      <td>NaN</td>\n",
       "      <td>ELDORADO DO SUL</td>\n",
       "    </tr>\n",
       "    <tr>\n",
       "      <th>859651</th>\n",
       "      <td>NaN</td>\n",
       "      <td>ITAPEMIRIM</td>\n",
       "    </tr>\n",
       "  </tbody>\n",
       "</table>\n",
       "<p>2762 rows × 2 columns</p>\n",
       "</div>"
      ],
      "text/plain": [
       "        br                  municipio\n",
       "559    NaN                     SABARA\n",
       "4491   NaN             RIO DE JANEIRO\n",
       "4492   NaN             RIO DE JANEIRO\n",
       "4493   NaN             RIO DE JANEIRO\n",
       "6402   NaN  SANTO ANTONIO DO LEVERGER\n",
       "...     ..                        ...\n",
       "858496 NaN            ELDORADO DO SUL\n",
       "858497 NaN            ELDORADO DO SUL\n",
       "858498 NaN            ELDORADO DO SUL\n",
       "858499 NaN            ELDORADO DO SUL\n",
       "859651 NaN                 ITAPEMIRIM\n",
       "\n",
       "[2762 rows x 2 columns]"
      ]
     },
     "execution_count": 1396,
     "metadata": {},
     "output_type": "execute_result"
    }
   ],
   "source": [
    "df.loc[df['br'].isna(), ['br', 'municipio']]"
   ]
  },
  {
   "cell_type": "code",
   "execution_count": 1397,
   "metadata": {},
   "outputs": [],
   "source": [
    "def modo_especial(x):\n",
    "    moda = x.mode()\n",
    "    if len(moda) > 0:\n",
    "        return moda.iloc[0]\n",
    "    else:\n",
    "        return None"
   ]
  },
  {
   "cell_type": "code",
   "execution_count": 1398,
   "metadata": {},
   "outputs": [
    {
     "data": {
      "text/plain": [
       "municipio\n",
       "ABADIA DE GOIAS     60.0\n",
       "ABADIANIA           60.0\n",
       "ABARE              116.0\n",
       "ABEL FIGUEIREDO    222.0\n",
       "ABRE CAMPO         262.0\n",
       "                   ...  \n",
       "XAPURI             317.0\n",
       "XAXIM              282.0\n",
       "XEXEU              101.0\n",
       "XINGUARA           155.0\n",
       "ZE DOCA            316.0\n",
       "Name: br, Length: 1903, dtype: float64"
      ]
     },
     "execution_count": 1398,
     "metadata": {},
     "output_type": "execute_result"
    }
   ],
   "source": [
    "moda_br_municipio = df.groupby('municipio')['br'].agg(modo_especial)\n",
    "moda_br_municipio"
   ]
  },
  {
   "cell_type": "code",
   "execution_count": 1399,
   "metadata": {},
   "outputs": [
    {
     "data": {
      "text/plain": [
       "br\n",
       "116.0    125973\n",
       "101.0    112172\n",
       "40.0      43635\n",
       "381.0     42644\n",
       "364.0     34756\n",
       "          ...  \n",
       "484.0         6\n",
       "437.0         6\n",
       "265.0         5\n",
       "342.0         2\n",
       "477.0         2\n",
       "Name: count, Length: 121, dtype: int64"
      ]
     },
     "execution_count": 1399,
     "metadata": {},
     "output_type": "execute_result"
    }
   ],
   "source": [
    "df['br'].value_counts()"
   ]
  },
  {
   "cell_type": "code",
   "execution_count": 1400,
   "metadata": {},
   "outputs": [],
   "source": [
    "df['br'] = df.apply(lambda row: moda_br_municipio[row['municipio']] if pd.isna(row['br']) else row['br'], axis=1)"
   ]
  },
  {
   "cell_type": "code",
   "execution_count": 1401,
   "metadata": {},
   "outputs": [
    {
     "data": {
      "text/plain": [
       "array(['GALIA', 'SAO JOAO DO PIAUI', 'ARAPIRACA', 'FRANCO DA ROCHA',\n",
       "       'GARRAFAO DO NORTE', 'SANTANA', 'FARROUPILHA', 'AMETISTA DO SUL',\n",
       "       'TRAMANDAI', 'PORTO NACIONAL', 'SAO FELIX DO XINGU'], dtype=object)"
      ]
     },
     "execution_count": 1401,
     "metadata": {},
     "output_type": "execute_result"
    }
   ],
   "source": [
    "df.loc[df['br'].isna(), 'municipio'].unique()"
   ]
  },
  {
   "cell_type": "code",
   "execution_count": 1402,
   "metadata": {},
   "outputs": [],
   "source": [
    "municipios_br_comNaN = {\n",
    "    'GALIA': '153',\n",
    "    'SAO JOAO DO PIAUI': '230',\n",
    "    'ARAPIRACA': '316',\n",
    "    'FRANCO DA ROCHA': '116',\n",
    "    'GARRAFAO DO NORTE': '010',\n",
    "    'SANTANA': '156',\n",
    "    'FARROUPILHA': '116',\n",
    "    'AMETISTA DO SUL': '386',\n",
    "    'TRAMANDAI': '101',\n",
    "    'PORTO NACIONAL': '153',\n",
    "    'SAO FELIX DO XINGU': '155'\n",
    "}"
   ]
  },
  {
   "cell_type": "code",
   "execution_count": 1403,
   "metadata": {},
   "outputs": [],
   "source": [
    "df['br'] = df.apply(lambda row: municipios_br_comNaN.get(row['municipio'], row['br']), axis=1)"
   ]
  },
  {
   "cell_type": "code",
   "execution_count": 1404,
   "metadata": {},
   "outputs": [
    {
     "data": {
      "text/plain": [
       "0"
      ]
     },
     "execution_count": 1404,
     "metadata": {},
     "output_type": "execute_result"
    }
   ],
   "source": [
    "df['br'].isna().sum()"
   ]
  },
  {
   "cell_type": "markdown",
   "metadata": {},
   "source": [
    "**Coluna KM**"
   ]
  },
  {
   "cell_type": "code",
   "execution_count": 1405,
   "metadata": {},
   "outputs": [
    {
     "data": {
      "text/plain": [
       "km\n",
       "3        3365\n",
       "5        3158\n",
       "2        3142\n",
       "1        3067\n",
       "4        2422\n",
       "         ... \n",
       "829,9       1\n",
       "906,9       1\n",
       "941,3       1\n",
       "752,8       1\n",
       "757,7       1\n",
       "Name: count, Length: 8765, dtype: int64"
      ]
     },
     "execution_count": 1405,
     "metadata": {},
     "output_type": "execute_result"
    }
   ],
   "source": [
    "df['km'].value_counts()"
   ]
  },
  {
   "cell_type": "code",
   "execution_count": 1406,
   "metadata": {},
   "outputs": [],
   "source": [
    "df['km'] = df['km'].str.split(',').str[0]"
   ]
  },
  {
   "cell_type": "code",
   "execution_count": 1407,
   "metadata": {},
   "outputs": [
    {
     "data": {
      "text/plain": [
       "2762"
      ]
     },
     "execution_count": 1407,
     "metadata": {},
     "output_type": "execute_result"
    }
   ],
   "source": [
    "quantidade = df['km'].isna().sum()\n",
    "quantidade"
   ]
  },
  {
   "cell_type": "code",
   "execution_count": 1408,
   "metadata": {},
   "outputs": [],
   "source": [
    "numeros_possiveis = np.arange(1, 101)\n",
    "\n",
    "probabilidades = [0.05] * 10 + [0.95 / 90] * 90\n",
    "\n",
    "probabilidades /= np.sum(probabilidades)\n",
    "\n",
    "numeros_aleatorios = np.random.choice(numeros_possiveis, size=quantidade, p=probabilidades)"
   ]
  },
  {
   "cell_type": "code",
   "execution_count": 1409,
   "metadata": {},
   "outputs": [
    {
     "name": "stderr",
     "output_type": "stream",
     "text": [
      "c:\\Users\\DELL G5\\anaconda3\\Lib\\site-packages\\seaborn\\_oldcore.py:1119: FutureWarning: use_inf_as_na option is deprecated and will be removed in a future version. Convert inf values to NaN before operating instead.\n",
      "  with pd.option_context('mode.use_inf_as_na', True):\n"
     ]
    },
    {
     "data": {
      "text/plain": [
       "<Axes: ylabel='Count'>"
      ]
     },
     "execution_count": 1409,
     "metadata": {},
     "output_type": "execute_result"
    },
    {
     "data": {
      "image/png": "[encoded data removed]",
      "text/plain": [
       "<Figure size 640x480 with 1 Axes>"
      ]
     },
     "metadata": {},
     "output_type": "display_data"
    }
   ],
   "source": [
    "sns.histplot(data=numeros_aleatorios, bins=10, kde=True)"
   ]
  },
  {
   "cell_type": "code",
   "execution_count": 1410,
   "metadata": {},
   "outputs": [],
   "source": [
    "df.loc[df['km'].isnull(), 'km'] = numeros_aleatorios"
   ]
  },
  {
   "cell_type": "markdown",
   "metadata": {},
   "source": [
    "Ano de Fabricação"
   ]
  },
  {
   "cell_type": "code",
   "execution_count": 1411,
   "metadata": {},
   "outputs": [
    {
     "data": {
      "text/plain": [
       "count    815360.000000\n",
       "mean       1924.087406\n",
       "std         410.051911\n",
       "min           0.000000\n",
       "25%        2007.000000\n",
       "50%        2012.000000\n",
       "75%        2017.000000\n",
       "max        2023.000000\n",
       "Name: ano_fabricacao_veiculo, dtype: float64"
      ]
     },
     "execution_count": 1411,
     "metadata": {},
     "output_type": "execute_result"
    }
   ],
   "source": [
    "df['ano_fabricacao_veiculo'].describe()"
   ]
  },
  {
   "cell_type": "code",
   "execution_count": 1412,
   "metadata": {},
   "outputs": [
    {
     "data": {
      "image/png": "[encoded data removed]",
      "text/plain": [
       "<Figure size 640x480 with 1 Axes>"
      ]
     },
     "metadata": {},
     "output_type": "display_data"
    }
   ],
   "source": [
    "sns.boxplot(data=df, x='ano_fabricacao_veiculo')\n",
    "plt.show()"
   ]
  },
  {
   "cell_type": "markdown",
   "metadata": {},
   "source": [
    "Há presença de valores nulos, vazios e menores que 1900"
   ]
  },
  {
   "cell_type": "code",
   "execution_count": 1413,
   "metadata": {},
   "outputs": [
    {
     "data": {
      "text/plain": [
       "ano_fabricacao_veiculo\n",
       "0.0       35411\n",
       "1900.0       62\n",
       "Name: count, dtype: int64"
      ]
     },
     "execution_count": 1413,
     "metadata": {},
     "output_type": "execute_result"
    }
   ],
   "source": [
    "df.loc[df['ano_fabricacao_veiculo'] <= 1950, 'ano_fabricacao_veiculo'].value_counts()"
   ]
  },
  {
   "cell_type": "code",
   "execution_count": 1414,
   "metadata": {},
   "outputs": [
    {
     "name": "stderr",
     "output_type": "stream",
     "text": [
      "c:\\Users\\DELL G5\\anaconda3\\Lib\\site-packages\\seaborn\\_oldcore.py:1119: FutureWarning: use_inf_as_na option is deprecated and will be removed in a future version. Convert inf values to NaN before operating instead.\n",
      "  with pd.option_context('mode.use_inf_as_na', True):\n"
     ]
    },
    {
     "data": {
      "image/png": "[encoded data removed]",
      "text/plain": [
       "<Figure size 640x480 with 1 Axes>"
      ]
     },
     "metadata": {},
     "output_type": "display_data"
    }
   ],
   "source": [
    "antes = sns.histplot(data=df.loc[df['ano_fabricacao_veiculo'] >= 1950], x='ano_fabricacao_veiculo', bins=10, kde=True)\n",
    "plt.show(antes)"
   ]
  },
  {
   "cell_type": "code",
   "execution_count": 1415,
   "metadata": {},
   "outputs": [],
   "source": [
    "# Para os valores NaN\n",
    "total_valores = df['ano_fabricacao_veiculo'].isnull().sum()\n",
    "\n",
    "num_valores_intervalo_1 = int(total_valores * 0.8)\n",
    "num_valores_intervalo_2 = int(total_valores * 0.035)\n",
    "num_valores_outros = total_valores - num_valores_intervalo_1 - num_valores_intervalo_2\n",
    "\n",
    "valores_intervalo_1 = np.random.randint(2000, 2022, num_valores_intervalo_1)\n",
    "\n",
    "valores_intervalo_2 = np.random.randint(2022, 2024, num_valores_intervalo_2)\n",
    "\n",
    "valores_outros = np.random.randint(1980, 2022, num_valores_outros)\n",
    "anos_aleatorios = np.concatenate((valores_intervalo_1, valores_intervalo_2, valores_outros))\n",
    "\n",
    "np.random.shuffle(anos_aleatorios)"
   ]
  },
  {
   "cell_type": "code",
   "execution_count": 1416,
   "metadata": {},
   "outputs": [
    {
     "name": "stderr",
     "output_type": "stream",
     "text": [
      "c:\\Users\\DELL G5\\anaconda3\\Lib\\site-packages\\seaborn\\_oldcore.py:1119: FutureWarning: use_inf_as_na option is deprecated and will be removed in a future version. Convert inf values to NaN before operating instead.\n",
      "  with pd.option_context('mode.use_inf_as_na', True):\n"
     ]
    },
    {
     "data": {
      "image/png": "[encoded data removed]",
      "text/plain": [
       "<Figure size 640x480 with 1 Axes>"
      ]
     },
     "metadata": {},
     "output_type": "display_data"
    }
   ],
   "source": [
    "sns.histplot(data=anos_aleatorios, bins=10, kde=True)\n",
    "plt.show()"
   ]
  },
  {
   "cell_type": "code",
   "execution_count": 1417,
   "metadata": {},
   "outputs": [],
   "source": [
    "df.loc[df['ano_fabricacao_veiculo'].isna(), 'ano_fabricacao_veiculo'] = anos_aleatorios"
   ]
  },
  {
   "cell_type": "code",
   "execution_count": 1418,
   "metadata": {},
   "outputs": [],
   "source": [
    "df['ano_fabricacao_veiculo'] = df['ano_fabricacao_veiculo'].astype(int)"
   ]
  },
  {
   "cell_type": "code",
   "execution_count": 1419,
   "metadata": {},
   "outputs": [],
   "source": [
    "valores_zero = df.loc[df['ano_fabricacao_veiculo'] <= 1950].shape[0]\n",
    "\n",
    "# Calcular o número de valores para cada intervalo, colocando maiores probabilidades para valores entre 2000 a 2022\n",
    "num_valores_intervalo_1 = int(valores_zero * 0.8)\n",
    "num_valores_intervalo_2 = int(valores_zero * 0.035)\n",
    "num_valores_outros = valores_zero - num_valores_intervalo_1 - num_valores_intervalo_2\n",
    "\n",
    "# Gerar valores aleatórios para cada intervalo\n",
    "valores_intervalo_1 = np.random.randint(2000, 2022, num_valores_intervalo_1)\n",
    "valores_intervalo_2 = np.random.randint(2022, 2024, num_valores_intervalo_2)\n",
    "valores_outros = np.random.randint(1980, 2022, num_valores_outros)\n",
    "\n",
    "anos0_aleatorios = np.concatenate((valores_intervalo_1, valores_intervalo_2, valores_outros))\n",
    "\n",
    "np.random.shuffle(anos0_aleatorios)"
   ]
  },
  {
   "cell_type": "code",
   "execution_count": 1420,
   "metadata": {},
   "outputs": [],
   "source": [
    "df.loc[df['ano_fabricacao_veiculo'] <= 1950, 'ano_fabricacao_veiculo'] = anos0_aleatorios"
   ]
  },
  {
   "cell_type": "code",
   "execution_count": 1421,
   "metadata": {},
   "outputs": [
    {
     "name": "stderr",
     "output_type": "stream",
     "text": [
      "c:\\Users\\DELL G5\\anaconda3\\Lib\\site-packages\\seaborn\\_oldcore.py:1119: FutureWarning: use_inf_as_na option is deprecated and will be removed in a future version. Convert inf values to NaN before operating instead.\n",
      "  with pd.option_context('mode.use_inf_as_na', True):\n"
     ]
    },
    {
     "data": {
      "image/png": "[encoded data removed]",
      "text/plain": [
       "<Figure size 640x480 with 1 Axes>"
      ]
     },
     "metadata": {},
     "output_type": "display_data"
    }
   ],
   "source": [
    "sns.histplot(data=df, bins=10, kde=True, x='ano_fabricacao_veiculo')\n",
    "plt.show()"
   ]
  },
  {
   "cell_type": "markdown",
   "metadata": {},
   "source": [
    "Delegacia"
   ]
  },
  {
   "cell_type": "code",
   "execution_count": 1422,
   "metadata": {},
   "outputs": [],
   "source": [
    "moda_delagacia_municipio = df.groupby('municipio')['delegacia'].agg(modo_especial)\n",
    "moda_delagacia_uf = df.groupby('uf')['delegacia'].agg(modo_especial)"
   ]
  },
  {
   "cell_type": "code",
   "execution_count": 1423,
   "metadata": {},
   "outputs": [],
   "source": [
    "df['delegacia'] = df.apply(lambda row: moda_delagacia_municipio[row['municipio']] if pd.isna(row['delegacia']) else row['delegacia'], axis=1)\n",
    "df['delegacia'] = df.apply(lambda row: moda_delagacia_uf[row['uf']] if pd.isna(row['delegacia']) else row['delegacia'], axis=1)"
   ]
  },
  {
   "cell_type": "markdown",
   "metadata": {},
   "source": [
    "Foi observado anteriormente tipos de dados incorretos"
   ]
  },
  {
   "cell_type": "code",
   "execution_count": 1424,
   "metadata": {},
   "outputs": [
    {
     "data": {
      "text/plain": [
       "id                        float64\n",
       "data_inversa               object\n",
       "dia_semana                 object\n",
       "horario                    object\n",
       "uf                         object\n",
       "br                         object\n",
       "km                         object\n",
       "municipio                  object\n",
       "causa_acidente             object\n",
       "ordem_tipo_acidente         int64\n",
       "tipo_acidente              object\n",
       "classificacao_acidente     object\n",
       "fase_dia                   object\n",
       "sentido_via                object\n",
       "condicao_metereologica     object\n",
       "tipo_pista                 object\n",
       "tracado_via                object\n",
       "uso_solo                   object\n",
       "tipo_veiculo               object\n",
       "ano_fabricacao_veiculo      int32\n",
       "dtype: object"
      ]
     },
     "execution_count": 1424,
     "metadata": {},
     "output_type": "execute_result"
    }
   ],
   "source": [
    "df.dtypes[:20]"
   ]
  },
  {
   "cell_type": "code",
   "execution_count": 1425,
   "metadata": {},
   "outputs": [
    {
     "data": {
      "text/plain": [
       "tipo_envolvido    object\n",
       "estado_fisico     object\n",
       "idade              int32\n",
       "sexo              object\n",
       "ilesos             int64\n",
       "feridos_leves      int64\n",
       "feridos_graves     int64\n",
       "mortos             int64\n",
       "latitude          object\n",
       "longitude         object\n",
       "delegacia         object\n",
       "dtype: object"
      ]
     },
     "execution_count": 1425,
     "metadata": {},
     "output_type": "execute_result"
    }
   ],
   "source": [
    "df.dtypes[20:]"
   ]
  },
  {
   "cell_type": "markdown",
   "metadata": {},
   "source": [
    "O tipo object significa que há dois ou mais tipos de dados misturados"
   ]
  },
  {
   "cell_type": "markdown",
   "metadata": {},
   "source": [
    "***Formatando os tipos de dados***"
   ]
  },
  {
   "cell_type": "code",
   "execution_count": 1426,
   "metadata": {},
   "outputs": [
    {
     "data": {
      "text/plain": [
       "id\n",
       "513470.0    1512\n",
       "508740.0     990\n",
       "543737.0     900\n",
       "502263.0     880\n",
       "563408.0     816\n",
       "            ... \n",
       "549178.0       1\n",
       "549177.0       1\n",
       "549175.0       1\n",
       "265422.0       1\n",
       "284383.0       1\n",
       "Name: count, Length: 131310, dtype: int64"
      ]
     },
     "execution_count": 1426,
     "metadata": {},
     "output_type": "execute_result"
    }
   ],
   "source": [
    "df['id'].value_counts()"
   ]
  },
  {
   "cell_type": "code",
   "execution_count": 1427,
   "metadata": {},
   "outputs": [],
   "source": [
    "df['id'] = df['id'].astype(str)\n",
    "df['id'] = df['id'].str.replace('.0', '')"
   ]
  },
  {
   "cell_type": "code",
   "execution_count": 1428,
   "metadata": {},
   "outputs": [],
   "source": [
    "df = df.drop_duplicates(subset=['id', 'idade'])"
   ]
  },
  {
   "cell_type": "code",
   "execution_count": 1429,
   "metadata": {},
   "outputs": [
    {
     "data": {
      "text/plain": [
       "id\n",
       "508740    77\n",
       "568579    67\n",
       "324704    67\n",
       "571203    61\n",
       "524815    61\n",
       "          ..\n",
       "542507     1\n",
       "542508     1\n",
       "542509     1\n",
       "542510     1\n",
       "548783     1\n",
       "Name: count, Length: 131310, dtype: int64"
      ]
     },
     "execution_count": 1429,
     "metadata": {},
     "output_type": "execute_result"
    }
   ],
   "source": [
    "df['id'].value_counts()"
   ]
  },
  {
   "cell_type": "code",
   "execution_count": 1430,
   "metadata": {},
   "outputs": [
    {
     "data": {
      "text/plain": [
       "data_inversa\n",
       "2023-12-23    1029\n",
       "2023-06-11     899\n",
       "2023-07-23     891\n",
       "2020-10-10     859\n",
       "2023-12-15     851\n",
       "              ... \n",
       "2020-03-28     208\n",
       "2020-03-30     195\n",
       "2020-03-25     178\n",
       "2020-03-26     175\n",
       "2020-03-23     167\n",
       "Name: count, Length: 731, dtype: int64"
      ]
     },
     "execution_count": 1430,
     "metadata": {},
     "output_type": "execute_result"
    }
   ],
   "source": [
    "df['data_inversa'].value_counts()"
   ]
  },
  {
   "cell_type": "code",
   "execution_count": 1431,
   "metadata": {},
   "outputs": [
    {
     "data": {
      "image/png": "[encoded data removed]",
      "text/plain": [
       "<Figure size 2000x600 with 1 Axes>"
      ]
     },
     "metadata": {},
     "output_type": "display_data"
    }
   ],
   "source": [
    "df['data_inversa'] = pd.to_datetime(df['data_inversa'])\n",
    "\n",
    "df['mes'] = df['data_inversa'].dt.to_period('M')\n",
    "\n",
    "contagem_meses = df.groupby('mes').size().reset_index(name='contagem')\n",
    "\n",
    "plt.figure(figsize=(20, 6))\n",
    "sns.barplot(x='mes', y='contagem', data=contagem_meses, color='gray')\n",
    "plt.show()"
   ]
  },
  {
   "cell_type": "code",
   "execution_count": 1432,
   "metadata": {},
   "outputs": [],
   "source": [
    "df['horario'] = pd.to_datetime(df['horario'], format='%H:%M:%S')"
   ]
  },
  {
   "cell_type": "code",
   "execution_count": 1433,
   "metadata": {},
   "outputs": [
    {
     "name": "stderr",
     "output_type": "stream",
     "text": [
      "c:\\Users\\DELL G5\\anaconda3\\Lib\\site-packages\\seaborn\\_oldcore.py:1119: FutureWarning: use_inf_as_na option is deprecated and will be removed in a future version. Convert inf values to NaN before operating instead.\n",
      "  with pd.option_context('mode.use_inf_as_na', True):\n"
     ]
    },
    {
     "data": {
      "image/png": "[encoded data removed]",
      "text/plain": [
       "<Figure size 640x480 with 1 Axes>"
      ]
     },
     "metadata": {},
     "output_type": "display_data"
    }
   ],
   "source": [
    "sns.kdeplot(df['horario'].dt.hour, fill=True, color='gray')\n",
    "\n",
    "plt.show()"
   ]
  },
  {
   "cell_type": "code",
   "execution_count": 1434,
   "metadata": {},
   "outputs": [
    {
     "data": {
      "text/plain": [
       "horario\n",
       "1900-01-01 19:00:00    5131\n",
       "1900-01-01 18:30:00    5027\n",
       "1900-01-01 18:00:00    4962\n",
       "1900-01-01 17:00:00    4182\n",
       "1900-01-01 20:00:00    3895\n",
       "                       ... \n",
       "1900-01-01 01:32:00       1\n",
       "1900-01-01 04:28:00       1\n",
       "1900-01-01 03:49:00       1\n",
       "1900-01-01 01:46:00       1\n",
       "1900-01-01 03:29:00       1\n",
       "Name: count, Length: 1424, dtype: int64"
      ]
     },
     "execution_count": 1434,
     "metadata": {},
     "output_type": "execute_result"
    }
   ],
   "source": [
    "df['horario'].value_counts()"
   ]
  },
  {
   "cell_type": "code",
   "execution_count": 1435,
   "metadata": {},
   "outputs": [
    {
     "data": {
      "text/plain": [
       "data_completa\n",
       "2023-03-05 12:35:00    77\n",
       "2023-07-21 22:30:00    71\n",
       "2023-12-17 18:15:00    67\n",
       "2020-11-29 20:30:00    67\n",
       "2023-07-03 05:45:00    65\n",
       "                       ..\n",
       "2023-03-20 17:15:00     1\n",
       "2023-03-20 05:40:00     1\n",
       "2023-03-20 15:48:00     1\n",
       "2023-03-20 14:25:00     1\n",
       "2023-01-14 18:00:00     1\n",
       "Name: count, Length: 88629, dtype: int64"
      ]
     },
     "execution_count": 1435,
     "metadata": {},
     "output_type": "execute_result"
    }
   ],
   "source": [
    "df['data_completa'] = df['data_inversa'] + pd.to_timedelta(df['horario'].dt.strftime('%H:%M:%S'))\n",
    "df['data_completa'].value_counts()"
   ]
  },
  {
   "cell_type": "code",
   "execution_count": 1436,
   "metadata": {},
   "outputs": [],
   "source": [
    "df.drop(['data_inversa', 'horario', 'mes'], axis=1, inplace=True)"
   ]
  },
  {
   "cell_type": "code",
   "execution_count": 1437,
   "metadata": {},
   "outputs": [
    {
     "data": {
      "text/plain": [
       "(347463, 30)"
      ]
     },
     "execution_count": 1437,
     "metadata": {},
     "output_type": "execute_result"
    }
   ],
   "source": [
    "df.shape"
   ]
  },
  {
   "cell_type": "code",
   "execution_count": 1438,
   "metadata": {},
   "outputs": [
    {
     "data": {
      "text/plain": [
       "uf\n",
       "MG    45835\n",
       "PR    37979\n",
       "SC    36610\n",
       "RS    24471\n",
       "RJ    23685\n",
       "SP    23021\n",
       "BA    19917\n",
       "GO    17173\n",
       "PE    15050\n",
       "ES    11499\n",
       "MT    11487\n",
       "MS     9246\n",
       "RO     8566\n",
       "PB     8127\n",
       "CE     7971\n",
       "MA     7018\n",
       "PI     6902\n",
       "RN     6814\n",
       "PA     6602\n",
       "DF     5383\n",
       "TO     3583\n",
       "AL     3111\n",
       "SE     2903\n",
       "AC     1416\n",
       "RR     1229\n",
       "AM      953\n",
       "AP      912\n",
       "Name: count, dtype: int64"
      ]
     },
     "execution_count": 1438,
     "metadata": {},
     "output_type": "execute_result"
    }
   ],
   "source": [
    "df['uf'].value_counts()"
   ]
  },
  {
   "cell_type": "code",
   "execution_count": 1439,
   "metadata": {},
   "outputs": [],
   "source": [
    "df['uf'] = df['uf'].astype(str)"
   ]
  },
  {
   "cell_type": "code",
   "execution_count": 1440,
   "metadata": {},
   "outputs": [
    {
     "data": {
      "text/plain": [
       "dia_semana\n",
       "domingo          60515\n",
       "sábado           58498\n",
       "sexta-feira      53237\n",
       "segunda-feira    46598\n",
       "quinta-feira     44331\n",
       "quarta-feira     42848\n",
       "terça-feira      41436\n",
       "Name: count, dtype: int64"
      ]
     },
     "execution_count": 1440,
     "metadata": {},
     "output_type": "execute_result"
    }
   ],
   "source": [
    "df['dia_semana'].value_counts()"
   ]
  },
  {
   "cell_type": "code",
   "execution_count": 1441,
   "metadata": {},
   "outputs": [],
   "source": [
    "df['dia_semana'] = df['dia_semana'].astype(str)"
   ]
  },
  {
   "cell_type": "code",
   "execution_count": 1442,
   "metadata": {},
   "outputs": [],
   "source": [
    "df['br'] = 'BR-' + df['br'].astype(int).astype(str)"
   ]
  },
  {
   "cell_type": "code",
   "execution_count": 1443,
   "metadata": {},
   "outputs": [
    {
     "data": {
      "text/plain": [
       "array(['BR-153', 'BR-116', 'BR-101', 'BR-364', 'BR-319', 'BR-369',\n",
       "       'BR-104', 'BR-290', 'BR-470', 'BR-282', 'BR-156', 'BR-60', 'BR-20',\n",
       "       'BR-324', 'BR-373', 'BR-407', 'BR-381', 'BR-316', 'BR-262',\n",
       "       'BR-40', 'BR-376', 'BR-392', 'BR-163', 'BR-459', 'BR-277',\n",
       "       'BR-308', 'BR-10', 'BR-230', 'BR-222', 'BR-232', 'BR-50', 'BR-356',\n",
       "       'BR-70', 'BR-493', 'BR-393', 'BR-365', 'BR-280', 'BR-408',\n",
       "       'BR-135', 'BR-343', 'BR-158', 'BR-467', 'BR-361', 'BR-80',\n",
       "       'BR-414', 'BR-447', 'BR-242', 'BR-304', 'BR-259', 'BR-251',\n",
       "       'BR-110', 'BR-386', 'BR-210', 'BR-367', 'BR-146', 'BR-235',\n",
       "       'BR-487', 'BR-293', 'BR-174', 'BR-405', 'BR-465', 'BR-476',\n",
       "       'BR-226', 'BR-452', 'BR-330', 'BR-428', 'BR-482', 'BR-420',\n",
       "       'BR-472', 'BR-480', 'BR-401', 'BR-354', 'BR-469', 'BR-406',\n",
       "       'BR-423', 'BR-285', 'BR-424', 'BR-267', 'BR-427', 'BR-412',\n",
       "       'BR-471', 'BR-463', 'BR-429', 'BR-287', 'BR-272', 'BR-155',\n",
       "       'BR-485', 'BR-415', 'BR-448', 'BR-418', 'BR-425', 'BR-317',\n",
       "       'BR-402', 'BR-30', 'BR-468', 'BR-435', 'BR-419', 'BR-488',\n",
       "       'BR-421', 'BR-403', 'BR-359', 'BR-349', 'BR-416', 'BR-410',\n",
       "       'BR-432', 'BR-495', 'BR-477', 'BR-122', 'BR-422', 'BR-434',\n",
       "       'BR-484', 'BR-352', 'BR-426', 'BR-436', 'BR-265', 'BR-430',\n",
       "       'BR-437', 'BR-342', 'BR-433', 'BR-494', 'BR-498'], dtype=object)"
      ]
     },
     "execution_count": 1443,
     "metadata": {},
     "output_type": "execute_result"
    }
   ],
   "source": [
    "df['br'].unique()"
   ]
  },
  {
   "cell_type": "markdown",
   "metadata": {},
   "source": [
    "municipio                  object\n",
    "causa_acidente             object\n",
    "ordem_tipo_acidente         int64\n",
    "tipo_acidente              object\n",
    "classificacao_acidente     object\n",
    "fase_dia                   object\n",
    "sentido_via                object\n",
    "condicao_metereologica     object\n",
    "tipo_pista                 object\n",
    "tracado_via                object\n",
    "uso_solo                   object\n",
    "tipo_veiculo               object\n",
    "ano_fabricacao_veiculo      int32"
   ]
  },
  {
   "cell_type": "code",
   "execution_count": 1444,
   "metadata": {},
   "outputs": [
    {
     "data": {
      "text/plain": [
       "municipio\n",
       "BRASILIA                  5383\n",
       "CURITIBA                  4079\n",
       "GUARULHOS                 4009\n",
       "SAO JOSE                  3191\n",
       "DUQUE DE CAXIAS           2979\n",
       "                          ... \n",
       "PARANA                       1\n",
       "PEDRO DE TOLEDO              1\n",
       "CASTANHEIRA                  1\n",
       "BRASNORTE                    1\n",
       "SAO MIGUEL DAS MISSOES       1\n",
       "Name: count, Length: 1903, dtype: int64"
      ]
     },
     "execution_count": 1444,
     "metadata": {},
     "output_type": "execute_result"
    }
   ],
   "source": [
    "df['municipio'].value_counts()"
   ]
  },
  {
   "cell_type": "code",
   "execution_count": 1445,
   "metadata": {},
   "outputs": [
    {
     "data": {
      "text/plain": [
       "causa_acidente\n",
       "Falta de Atenção à Condução                                                      55275\n",
       "Velocidade Incompatível                                                          29278\n",
       "Reação tardia ou ineficiente do condutor                                         26316\n",
       "Desobediência às normas de trânsito pelo condutor                                24422\n",
       "Ausência de reação do condutor                                                   22894\n",
       "                                                                                 ...  \n",
       "Transitar na calçada                                                                25\n",
       "Semáforo com defeito                                                                23\n",
       "Condutor não acionou o farol baixo durante o dia em rodovias de pista simples       18\n",
       "Pedestre - Ingestão de álcool/ substâncias psicoativas                              17\n",
       "Transitar no acostamento                                                            12\n",
       "Name: count, Length: 92, dtype: int64"
      ]
     },
     "execution_count": 1445,
     "metadata": {},
     "output_type": "execute_result"
    }
   ],
   "source": [
    "df['causa_acidente'].value_counts()"
   ]
  },
  {
   "cell_type": "code",
   "execution_count": 1446,
   "metadata": {},
   "outputs": [
    {
     "data": {
      "text/plain": [
       "causa_acidente\n",
       "Falta de Atenção à Condução                                                      55275\n",
       "Velocidade Incompatível                                                          29278\n",
       "Reação tardia ou ineficiente do condutor                                         26316\n",
       "Desobediência às normas de trânsito pelo condutor                                24422\n",
       "Ausência de reação do condutor                                                   22894\n",
       "                                                                                 ...  \n",
       "Transitar na calçada                                                                25\n",
       "Semáforo com defeito                                                                23\n",
       "Condutor não acionou o farol baixo durante o dia em rodovias de pista simples       18\n",
       "Pedestre - Ingestão de álcool/ substâncias psicoativas                              17\n",
       "Transitar no acostamento                                                            12\n",
       "Name: count, Length: 92, dtype: int64"
      ]
     },
     "execution_count": 1446,
     "metadata": {},
     "output_type": "execute_result"
    }
   ],
   "source": [
    "df['causa_acidente'].value_counts()"
   ]
  },
  {
   "cell_type": "code",
   "execution_count": 1447,
   "metadata": {},
   "outputs": [
    {
     "data": {
      "text/plain": [
       "count    347463.000000\n",
       "mean          1.403859\n",
       "std           0.723143\n",
       "min           1.000000\n",
       "25%           1.000000\n",
       "50%           1.000000\n",
       "75%           2.000000\n",
       "max           9.000000\n",
       "Name: ordem_tipo_acidente, dtype: float64"
      ]
     },
     "execution_count": 1447,
     "metadata": {},
     "output_type": "execute_result"
    }
   ],
   "source": [
    "df['ordem_tipo_acidente'].describe()"
   ]
  },
  {
   "cell_type": "code",
   "execution_count": 1448,
   "metadata": {},
   "outputs": [
    {
     "data": {
      "text/plain": [
       "classificacao_acidente\n",
       "Com Vítimas Feridas    261309\n",
       "Sem Vítimas             49670\n",
       "Com Vítimas Fatais      36484\n",
       "Name: count, dtype: int64"
      ]
     },
     "execution_count": 1448,
     "metadata": {},
     "output_type": "execute_result"
    }
   ],
   "source": [
    "df['classificacao_acidente'].value_counts()"
   ]
  },
  {
   "cell_type": "code",
   "execution_count": 1449,
   "metadata": {},
   "outputs": [
    {
     "data": {
      "text/plain": [
       "fase_dia\n",
       "Pleno dia      189329\n",
       "Plena Noite    122085\n",
       "Anoitecer       19886\n",
       "Amanhecer       16163\n",
       "Name: count, dtype: int64"
      ]
     },
     "execution_count": 1449,
     "metadata": {},
     "output_type": "execute_result"
    }
   ],
   "source": [
    "df['fase_dia'].value_counts()"
   ]
  },
  {
   "cell_type": "code",
   "execution_count": 1450,
   "metadata": {},
   "outputs": [
    {
     "data": {
      "text/plain": [
       "sentido_via\n",
       "Crescente        186619\n",
       "Decrescente      159876\n",
       "Não Informado       968\n",
       "Name: count, dtype: int64"
      ]
     },
     "execution_count": 1450,
     "metadata": {},
     "output_type": "execute_result"
    }
   ],
   "source": [
    "df['sentido_via'].value_counts()"
   ]
  },
  {
   "cell_type": "code",
   "execution_count": 1451,
   "metadata": {},
   "outputs": [],
   "source": [
    "df.loc[df['sentido_via'] == 'Não Informado', 'sentido_via'] = 'Crescente'"
   ]
  },
  {
   "cell_type": "code",
   "execution_count": 1452,
   "metadata": {},
   "outputs": [
    {
     "data": {
      "text/plain": [
       "condicao_metereologica\n",
       "Céu Claro           215411\n",
       "Nublado              54021\n",
       "Chuva                35601\n",
       "Sol                  22693\n",
       "Garoa/Chuvisco       11657\n",
       "Ignorado              4540\n",
       "Nevoeiro/Neblina      2974\n",
       "Vento                  542\n",
       "Granizo                 21\n",
       "Neve                     3\n",
       "Name: count, dtype: int64"
      ]
     },
     "execution_count": 1452,
     "metadata": {},
     "output_type": "execute_result"
    }
   ],
   "source": [
    "df['condicao_metereologica'].value_counts()"
   ]
  },
  {
   "cell_type": "code",
   "execution_count": 1453,
   "metadata": {},
   "outputs": [],
   "source": [
    "df.loc[df['condicao_metereologica'] == 'Ignorado', 'condicao_metereologica'] = 'Céu Claro'"
   ]
  },
  {
   "cell_type": "code",
   "execution_count": 1454,
   "metadata": {},
   "outputs": [
    {
     "data": {
      "text/plain": [
       "tipo_pista\n",
       "Simples     181367\n",
       "Dupla       136201\n",
       "Múltipla     29895\n",
       "Name: count, dtype: int64"
      ]
     },
     "execution_count": 1454,
     "metadata": {},
     "output_type": "execute_result"
    }
   ],
   "source": [
    "df['tipo_pista'].value_counts()"
   ]
  },
  {
   "cell_type": "code",
   "execution_count": 1455,
   "metadata": {},
   "outputs": [
    {
     "data": {
      "text/plain": [
       "tracado_via\n",
       "Reta                              202516\n",
       "Curva                              41492\n",
       "Interseção de Vias                 12223\n",
       "Reta;Declive                        8311\n",
       "Declive                             7765\n",
       "Reta;Aclive                         6589\n",
       "Aclive                              6344\n",
       "Curva;Declive                       5734\n",
       "Aclive;Reta                         5518\n",
       "Rotatória                           5149\n",
       "Declive;Reta                        5062\n",
       "Reta;Interseção de Vias             3829\n",
       "Retorno Regulamentado               3132\n",
       "Declive;Curva                       3091\n",
       "Interseção de Vias;Reta             2712\n",
       "Curva;Aclive                        2686\n",
       "Reta;Em Obras                       1881\n",
       "Aclive;Curva                        1861\n",
       "Viaduto                             1813\n",
       "Reta;Retorno Regulamentado          1332\n",
       "Name: count, dtype: int64"
      ]
     },
     "execution_count": 1455,
     "metadata": {},
     "output_type": "execute_result"
    }
   ],
   "source": [
    "df['tracado_via'].value_counts()[:20]"
   ]
  },
  {
   "cell_type": "code",
   "execution_count": 1456,
   "metadata": {},
   "outputs": [
    {
     "data": {
      "text/plain": [
       "array(['Reta', 'Curva', 'Reta;Interseção de Vias       ',\n",
       "       'Declive;Curva                 ', 'Viaduto', 'Interseção de Vias',\n",
       "       'Aclive;Reta                   ', 'Rotatória',\n",
       "       'Curva;Declive                 ', 'Declive',\n",
       "       'Reta;Declive                  ', 'Aclive',\n",
       "       'Curva;Aclive                  ', 'Retorno Regulamentado',\n",
       "       'Aclive;Curva                  ', 'Ponte;Reta;Declive            ',\n",
       "       'Aclive;Viaduto;Curva          ', 'Declive;Reta                  ',\n",
       "       'Viaduto;Reta;Interseção de Via', 'Reta;Aclive                   '],\n",
       "      dtype=object)"
      ]
     },
     "execution_count": 1456,
     "metadata": {},
     "output_type": "execute_result"
    }
   ],
   "source": [
    "df['tracado_via'].unique()[:20]"
   ]
  },
  {
   "cell_type": "code",
   "execution_count": 1457,
   "metadata": {},
   "outputs": [],
   "source": [
    "df['tracado_via'] = df['tracado_via'].str.split(';').str[0]"
   ]
  },
  {
   "cell_type": "code",
   "execution_count": 1458,
   "metadata": {},
   "outputs": [
    {
     "data": {
      "text/plain": [
       "tracado_via\n",
       "Reta                     228643\n",
       "Curva                     52102\n",
       "Declive                   17013\n",
       "Interseção de Vias        16698\n",
       "Aclive                    14587\n",
       "Rotatória                  5960\n",
       "Retorno Regulamentado      4510\n",
       "Viaduto                    2695\n",
       "Em Obras                   2546\n",
       "Ponte                      2074\n",
       "Desvio Temporário           569\n",
       "Túnel                        66\n",
       "Name: count, dtype: int64"
      ]
     },
     "execution_count": 1458,
     "metadata": {},
     "output_type": "execute_result"
    }
   ],
   "source": [
    "df['tracado_via'].value_counts()"
   ]
  },
  {
   "cell_type": "code",
   "execution_count": 1459,
   "metadata": {},
   "outputs": [
    {
     "data": {
      "text/plain": [
       "uso_solo\n",
       "Não    199028\n",
       "Sim    148435\n",
       "Name: count, dtype: int64"
      ]
     },
     "execution_count": 1459,
     "metadata": {},
     "output_type": "execute_result"
    }
   ],
   "source": [
    "df['uso_solo'].value_counts()"
   ]
  },
  {
   "cell_type": "code",
   "execution_count": 1460,
   "metadata": {},
   "outputs": [],
   "source": [
    "df['uso_solo'] = df['uso_solo'].replace({'Sim': 'Urbano', 'Não': 'Rural'})"
   ]
  },
  {
   "cell_type": "code",
   "execution_count": 1461,
   "metadata": {},
   "outputs": [],
   "source": [
    "df['uso_solo'] = df['uso_solo'].astype(str)"
   ]
  },
  {
   "cell_type": "code",
   "execution_count": 1462,
   "metadata": {},
   "outputs": [
    {
     "data": {
      "text/plain": [
       "tipo_veiculo\n",
       "Automóvel            138766\n",
       "Motocicleta           63467\n",
       "Caminhonete           29217\n",
       "Não se aplica         26468\n",
       "Caminhão-trator       25798\n",
       "Caminhão              24022\n",
       "Ônibus                 9740\n",
       "Motoneta               6825\n",
       "Não Informado          4864\n",
       "Utilitário             4589\n",
       "Bicicleta              4409\n",
       "Camioneta              3573\n",
       "Micro-ônibus           2261\n",
       "Outros                 1712\n",
       "Ciclomotor              892\n",
       "Semireboque             333\n",
       "Carroça-charrete        178\n",
       "Trator de rodas         168\n",
       "Reboque                  90\n",
       "Triciclo                 33\n",
       "Carro de mão             23\n",
       "Trator misto             12\n",
       "Trator de esteira         8\n",
       "Trem-bonde                7\n",
       "Chassi-plataforma         5\n",
       "Quadriciclo               3\n",
       "Name: count, dtype: int64"
      ]
     },
     "execution_count": 1462,
     "metadata": {},
     "output_type": "execute_result"
    }
   ],
   "source": [
    "df['tipo_veiculo'].value_counts()"
   ]
  },
  {
   "cell_type": "markdown",
   "metadata": {},
   "source": [
    "agrupando\n"
   ]
  },
  {
   "cell_type": "code",
   "execution_count": 1463,
   "metadata": {},
   "outputs": [],
   "source": [
    "df['tipo_veiculo'] = df['tipo_veiculo'].replace(\n",
    "    {'Motoneta': 'Motocicleta', 'Caminhão-trator': 'Caminhão', 'Camioneta': 'Camioneta/Caminhonete',\n",
    "     'Caminhonete': 'Camioneta/Caminhonete', 'Micro-ônibus': 'Ônibus',\n",
    "     'Trator de rodas': 'Trator', 'Trator misto': 'Trator', 'Trator de esteira': 'Trator',\n",
    "     'Chassi-plataforma': 'Caminhão', 'Semireboque': 'Reboque'})"
   ]
  },
  {
   "cell_type": "code",
   "execution_count": 1464,
   "metadata": {},
   "outputs": [
    {
     "data": {
      "text/plain": [
       "tipo_acidente                 \n",
       "Colisão traseira                  899\n",
       "Saída de leito carroçável         652\n",
       "Colisão transversal               548\n",
       "Colisão com objeto                428\n",
       "Capotamento                       397\n",
       "Colisão lateral mesmo sentido     374\n",
       "Engavetamento                     315\n",
       "Colisão frontal                   298\n",
       "Tombamento                        249\n",
       "Queda de ocupante de veículo      234\n",
       "Colisão lateral sentido oposto    141\n",
       "Incêndio                          139\n",
       "Atropelamento de Pedestre         102\n",
       "Atropelamento de Animal            58\n",
       "Eventos atípicos                   23\n",
       "Derramamento de carga               6\n",
       "Colisão com objeto estático         1\n",
       "Name: count, dtype: int64"
      ]
     },
     "execution_count": 1464,
     "metadata": {},
     "output_type": "execute_result"
    }
   ],
   "source": [
    "df.loc[df['tipo_veiculo'] == 'Não Informado', ['tipo_acidente']].value_counts()"
   ]
  },
  {
   "cell_type": "code",
   "execution_count": 1465,
   "metadata": {},
   "outputs": [
    {
     "data": {
      "text/plain": [
       "tipo_acidente                  \n",
       "Atropelamento de Pedestre          7478\n",
       "Queda de ocupante de veículo       3107\n",
       "Tombamento                         3089\n",
       "Saída de leito carroçável          2493\n",
       "Colisão traseira                   1943\n",
       "Colisão transversal                1502\n",
       "Colisão frontal                    1434\n",
       "Colisão com objeto                 1139\n",
       "Capotamento                        1021\n",
       "Colisão com objeto estático         815\n",
       "Colisão lateral                     750\n",
       "Colisão lateral mesmo sentido       553\n",
       "Derramamento de carga               228\n",
       "Colisão lateral sentido oposto      217\n",
       "Atropelamento de Animal             178\n",
       "Incêndio                            169\n",
       "Engavetamento                       157\n",
       "Eventos atípicos                     76\n",
       "Colisão com objeto em movimento      61\n",
       "Danos eventuais                      58\n",
       "Name: count, dtype: int64"
      ]
     },
     "execution_count": 1465,
     "metadata": {},
     "output_type": "execute_result"
    }
   ],
   "source": [
    "df.loc[df['tipo_veiculo'] == 'Não se aplica', ['tipo_acidente']].value_counts()"
   ]
  },
  {
   "cell_type": "code",
   "execution_count": 1466,
   "metadata": {},
   "outputs": [
    {
     "data": {
      "text/plain": [
       "tipo_acidente                  \n",
       "Colisão traseira                   869\n",
       "Saída de leito carroçável          574\n",
       "Colisão transversal                510\n",
       "Capotamento                        360\n",
       "Colisão frontal                    338\n",
       "Colisão lateral mesmo sentido      274\n",
       "Colisão com objeto                 266\n",
       "Tombamento                         258\n",
       "Colisão com objeto estático        209\n",
       "Engavetamento                      207\n",
       "Queda de ocupante de veículo       170\n",
       "Colisão lateral                    165\n",
       "Colisão lateral sentido oposto     106\n",
       "Atropelamento de Pedestre           87\n",
       "Atropelamento de Animal             76\n",
       "Incêndio                            48\n",
       "Danos eventuais                     28\n",
       "Eventos atípicos                    25\n",
       "Derramamento de carga               15\n",
       "Colisão com objeto em movimento      4\n",
       "Name: count, dtype: int64"
      ]
     },
     "execution_count": 1466,
     "metadata": {},
     "output_type": "execute_result"
    }
   ],
   "source": [
    "df.loc[df['tipo_veiculo'] == 'Utilitário', ['tipo_acidente']].value_counts()"
   ]
  },
  {
   "cell_type": "code",
   "execution_count": 1467,
   "metadata": {},
   "outputs": [
    {
     "data": {
      "text/plain": [
       "tipo_acidente                  \n",
       "Atropelamento de Pedestre          554\n",
       "Colisão traseira                   292\n",
       "Queda de ocupante de veículo       217\n",
       "Tombamento                         164\n",
       "Colisão lateral                     96\n",
       "Saída de leito carroçável           88\n",
       "Colisão transversal                 57\n",
       "Colisão com objeto                  49\n",
       "Colisão frontal                     47\n",
       "Colisão lateral mesmo sentido       36\n",
       "Capotamento                         24\n",
       "Colisão com objeto estático         22\n",
       "Engavetamento                       18\n",
       "Eventos atípicos                    10\n",
       "Derramamento de carga                9\n",
       "Colisão lateral sentido oposto       7\n",
       "Colisão com objeto em movimento      7\n",
       "Danos eventuais                      6\n",
       "Incêndio                             5\n",
       "Atropelamento de Animal              4\n",
       "Name: count, dtype: int64"
      ]
     },
     "execution_count": 1467,
     "metadata": {},
     "output_type": "execute_result"
    }
   ],
   "source": [
    "df.loc[df['tipo_veiculo'] == 'Outros', ['tipo_acidente']].value_counts()"
   ]
  },
  {
   "cell_type": "code",
   "execution_count": 1468,
   "metadata": {},
   "outputs": [],
   "source": [
    "filtro = df.loc[df['tipo_veiculo'].isin(['Utilitário', 'Não se aplica', 'Não informado', 'Outros']) & (df['tipo_acidente'] == 'Atropelamento de Pedestre')]\n",
    "df.loc[filtro.index, 'tipo_veiculo'] = 'Pedestre'"
   ]
  },
  {
   "cell_type": "code",
   "execution_count": 1469,
   "metadata": {},
   "outputs": [
    {
     "data": {
      "text/plain": [
       "Automóvel                15212\n",
       "Motocicleta               5912\n",
       "Caminhão                  4069\n",
       "Camioneta/Caminhonete     2740\n",
       "Ônibus                    1041\n",
       "Bicicleta                  387\n",
       "Ciclomotor                  63\n",
       "Reboque                     44\n",
       "Carroça-charrete            21\n",
       "Trator                      14\n",
       "Carro de mão                 5\n",
       "Triciclo                     5\n",
       "Quadriciclo                  1\n",
       "Name: count, dtype: int64"
      ]
     },
     "execution_count": 1469,
     "metadata": {},
     "output_type": "execute_result"
    }
   ],
   "source": [
    "tamanho_veiculos_aleatorios = df.loc[df['tipo_veiculo'].isin(['Utilitário', 'Não se aplica', 'Não Informado', 'Outros']), 'tipo_veiculo'].value_counts().sum()\n",
    "veiculos_aleatorios = np.random.choice(df['tipo_veiculo'], size=tamanho_veiculos_aleatorios)\n",
    "\n",
    "while (veiculos_aleatorios == 'Utilitário').any() or (veiculos_aleatorios == 'Não se aplica').any() or (veiculos_aleatorios == 'Não Informado').any() or (veiculos_aleatorios == 'Outros').any() or (veiculos_aleatorios == 'Pedestre').any():\n",
    "    indices = np.where((veiculos_aleatorios == 'Utilitário') | (veiculos_aleatorios == 'Não se aplica') | (veiculos_aleatorios == 'Não Informado') | (veiculos_aleatorios == 'Outros') | (veiculos_aleatorios == 'Pedestre'))\n",
    "    veiculos_aleatorios[indices] = np.random.choice(df['tipo_veiculo'], size=len(indices))\n",
    "pd.DataFrame(veiculos_aleatorios).value_counts()"
   ]
  },
  {
   "cell_type": "code",
   "execution_count": 1470,
   "metadata": {},
   "outputs": [],
   "source": [
    "df.loc[df['tipo_veiculo'].isin(['Utilitário', 'Não se aplica', 'Não Informado', 'Outros']), 'tipo_veiculo'] = veiculos_aleatorios"
   ]
  },
  {
   "cell_type": "markdown",
   "metadata": {},
   "source": [
    "tipo_envolvido     object\n",
    "estado_fisico      object\n",
    "idade             float64\n",
    "sexo               object\n",
    "ilesos              int64\n",
    "feridos_leves       int64\n",
    "feridos_graves      int64\n",
    "mortos              int64\n",
    "latitude           object\n",
    "longitude          object\n",
    "delegacia          object"
   ]
  },
  {
   "cell_type": "code",
   "execution_count": 1471,
   "metadata": {},
   "outputs": [
    {
     "data": {
      "text/plain": [
       "tipo_envolvido\n",
       "Condutor         235469\n",
       "Passageiro        85526\n",
       "Testemunha        19155\n",
       "Pedestre           7237\n",
       "Cavaleiro            75\n",
       "Não Informado         1\n",
       "Name: count, dtype: int64"
      ]
     },
     "execution_count": 1471,
     "metadata": {},
     "output_type": "execute_result"
    }
   ],
   "source": [
    "df['tipo_envolvido'].value_counts()"
   ]
  },
  {
   "cell_type": "code",
   "execution_count": 1472,
   "metadata": {},
   "outputs": [
    {
     "data": {
      "text/html": [
       "<div>\n",
       "<style scoped>\n",
       "    .dataframe tbody tr th:only-of-type {\n",
       "        vertical-align: middle;\n",
       "    }\n",
       "\n",
       "    .dataframe tbody tr th {\n",
       "        vertical-align: top;\n",
       "    }\n",
       "\n",
       "    .dataframe thead th {\n",
       "        text-align: right;\n",
       "    }\n",
       "</style>\n",
       "<table border=\"1\" class=\"dataframe\">\n",
       "  <thead>\n",
       "    <tr style=\"text-align: right;\">\n",
       "      <th></th>\n",
       "      <th>id</th>\n",
       "      <th>dia_semana</th>\n",
       "      <th>uf</th>\n",
       "      <th>br</th>\n",
       "      <th>km</th>\n",
       "      <th>municipio</th>\n",
       "      <th>causa_acidente</th>\n",
       "      <th>ordem_tipo_acidente</th>\n",
       "      <th>tipo_acidente</th>\n",
       "      <th>classificacao_acidente</th>\n",
       "      <th>...</th>\n",
       "      <th>idade</th>\n",
       "      <th>sexo</th>\n",
       "      <th>ilesos</th>\n",
       "      <th>feridos_leves</th>\n",
       "      <th>feridos_graves</th>\n",
       "      <th>mortos</th>\n",
       "      <th>latitude</th>\n",
       "      <th>longitude</th>\n",
       "      <th>delegacia</th>\n",
       "      <th>data_completa</th>\n",
       "    </tr>\n",
       "  </thead>\n",
       "  <tbody>\n",
       "    <tr>\n",
       "      <th>58</th>\n",
       "      <td>260046</td>\n",
       "      <td>quarta-feira</td>\n",
       "      <td>SC</td>\n",
       "      <td>BR-282</td>\n",
       "      <td>509</td>\n",
       "      <td>XANXERE</td>\n",
       "      <td>Animais na Pista</td>\n",
       "      <td>1</td>\n",
       "      <td>Saída de leito carroçável</td>\n",
       "      <td>Com Vítimas Feridas</td>\n",
       "      <td>...</td>\n",
       "      <td>46</td>\n",
       "      <td>Não Informado</td>\n",
       "      <td>0</td>\n",
       "      <td>0</td>\n",
       "      <td>0</td>\n",
       "      <td>0</td>\n",
       "      <td>-26,89436315</td>\n",
       "      <td>-52,4613905</td>\n",
       "      <td>DEL07-SC</td>\n",
       "      <td>2020-01-01 02:15:00</td>\n",
       "    </tr>\n",
       "    <tr>\n",
       "      <th>164</th>\n",
       "      <td>260080</td>\n",
       "      <td>quarta-feira</td>\n",
       "      <td>RJ</td>\n",
       "      <td>BR-116</td>\n",
       "      <td>79</td>\n",
       "      <td>TERESOPOLIS</td>\n",
       "      <td>Desobediência às normas de trânsito pelo condutor</td>\n",
       "      <td>1</td>\n",
       "      <td>Colisão lateral</td>\n",
       "      <td>Com Vítimas Feridas</td>\n",
       "      <td>...</td>\n",
       "      <td>43</td>\n",
       "      <td>Não Informado</td>\n",
       "      <td>0</td>\n",
       "      <td>0</td>\n",
       "      <td>0</td>\n",
       "      <td>0</td>\n",
       "      <td>-22,381704</td>\n",
       "      <td>-42,954777</td>\n",
       "      <td>DEL04-RJ</td>\n",
       "      <td>2020-01-01 01:50:00</td>\n",
       "    </tr>\n",
       "    <tr>\n",
       "      <th>327</th>\n",
       "      <td>260139</td>\n",
       "      <td>quarta-feira</td>\n",
       "      <td>MT</td>\n",
       "      <td>BR-163</td>\n",
       "      <td>729</td>\n",
       "      <td>SORRISO</td>\n",
       "      <td>Velocidade Incompatível</td>\n",
       "      <td>1</td>\n",
       "      <td>Saída de leito carroçável</td>\n",
       "      <td>Com Vítimas Feridas</td>\n",
       "      <td>...</td>\n",
       "      <td>7</td>\n",
       "      <td>Não Informado</td>\n",
       "      <td>0</td>\n",
       "      <td>0</td>\n",
       "      <td>0</td>\n",
       "      <td>0</td>\n",
       "      <td>-12,84559402</td>\n",
       "      <td>-55,82671994</td>\n",
       "      <td>DEL06-MT</td>\n",
       "      <td>2020-01-01 12:00:00</td>\n",
       "    </tr>\n",
       "    <tr>\n",
       "      <th>328</th>\n",
       "      <td>260139</td>\n",
       "      <td>quarta-feira</td>\n",
       "      <td>MT</td>\n",
       "      <td>BR-163</td>\n",
       "      <td>729</td>\n",
       "      <td>SORRISO</td>\n",
       "      <td>Velocidade Incompatível</td>\n",
       "      <td>2</td>\n",
       "      <td>Capotamento</td>\n",
       "      <td>Com Vítimas Feridas</td>\n",
       "      <td>...</td>\n",
       "      <td>59</td>\n",
       "      <td>Não Informado</td>\n",
       "      <td>0</td>\n",
       "      <td>0</td>\n",
       "      <td>0</td>\n",
       "      <td>0</td>\n",
       "      <td>-12,84559402</td>\n",
       "      <td>-55,82671994</td>\n",
       "      <td>DEL06-MT</td>\n",
       "      <td>2020-01-01 12:00:00</td>\n",
       "    </tr>\n",
       "    <tr>\n",
       "      <th>329</th>\n",
       "      <td>260139</td>\n",
       "      <td>quarta-feira</td>\n",
       "      <td>MT</td>\n",
       "      <td>BR-163</td>\n",
       "      <td>729</td>\n",
       "      <td>SORRISO</td>\n",
       "      <td>Fenômenos da Natureza</td>\n",
       "      <td>1</td>\n",
       "      <td>Saída de leito carroçável</td>\n",
       "      <td>Com Vítimas Feridas</td>\n",
       "      <td>...</td>\n",
       "      <td>26</td>\n",
       "      <td>Não Informado</td>\n",
       "      <td>0</td>\n",
       "      <td>0</td>\n",
       "      <td>0</td>\n",
       "      <td>0</td>\n",
       "      <td>-12,84559402</td>\n",
       "      <td>-55,82671994</td>\n",
       "      <td>DEL06-MT</td>\n",
       "      <td>2020-01-01 12:00:00</td>\n",
       "    </tr>\n",
       "    <tr>\n",
       "      <th>...</th>\n",
       "      <td>...</td>\n",
       "      <td>...</td>\n",
       "      <td>...</td>\n",
       "      <td>...</td>\n",
       "      <td>...</td>\n",
       "      <td>...</td>\n",
       "      <td>...</td>\n",
       "      <td>...</td>\n",
       "      <td>...</td>\n",
       "      <td>...</td>\n",
       "      <td>...</td>\n",
       "      <td>...</td>\n",
       "      <td>...</td>\n",
       "      <td>...</td>\n",
       "      <td>...</td>\n",
       "      <td>...</td>\n",
       "      <td>...</td>\n",
       "      <td>...</td>\n",
       "      <td>...</td>\n",
       "      <td>...</td>\n",
       "      <td>...</td>\n",
       "    </tr>\n",
       "    <tr>\n",
       "      <th>862071</th>\n",
       "      <td>582543</td>\n",
       "      <td>quarta-feira</td>\n",
       "      <td>SC</td>\n",
       "      <td>BR-282</td>\n",
       "      <td>309</td>\n",
       "      <td>VARGEM</td>\n",
       "      <td>Velocidade Incompatível</td>\n",
       "      <td>3</td>\n",
       "      <td>Colisão traseira</td>\n",
       "      <td>Com Vítimas Feridas</td>\n",
       "      <td>...</td>\n",
       "      <td>7</td>\n",
       "      <td>Não Informado</td>\n",
       "      <td>0</td>\n",
       "      <td>0</td>\n",
       "      <td>0</td>\n",
       "      <td>0</td>\n",
       "      <td>-27,48248988</td>\n",
       "      <td>-50,98212004</td>\n",
       "      <td>DEL07-SC</td>\n",
       "      <td>2023-07-05 18:50:00</td>\n",
       "    </tr>\n",
       "    <tr>\n",
       "      <th>862076</th>\n",
       "      <td>582543</td>\n",
       "      <td>quarta-feira</td>\n",
       "      <td>SC</td>\n",
       "      <td>BR-282</td>\n",
       "      <td>309</td>\n",
       "      <td>VARGEM</td>\n",
       "      <td>Velocidade Incompatível</td>\n",
       "      <td>2</td>\n",
       "      <td>Tombamento</td>\n",
       "      <td>Com Vítimas Feridas</td>\n",
       "      <td>...</td>\n",
       "      <td>56</td>\n",
       "      <td>Não Informado</td>\n",
       "      <td>0</td>\n",
       "      <td>0</td>\n",
       "      <td>0</td>\n",
       "      <td>0</td>\n",
       "      <td>-27,48248988</td>\n",
       "      <td>-50,98212004</td>\n",
       "      <td>DEL07-SC</td>\n",
       "      <td>2023-07-05 18:50:00</td>\n",
       "    </tr>\n",
       "    <tr>\n",
       "      <th>862077</th>\n",
       "      <td>582543</td>\n",
       "      <td>quarta-feira</td>\n",
       "      <td>SC</td>\n",
       "      <td>BR-282</td>\n",
       "      <td>309</td>\n",
       "      <td>VARGEM</td>\n",
       "      <td>Velocidade Incompatível</td>\n",
       "      <td>2</td>\n",
       "      <td>Tombamento</td>\n",
       "      <td>Com Vítimas Feridas</td>\n",
       "      <td>...</td>\n",
       "      <td>62</td>\n",
       "      <td>Não Informado</td>\n",
       "      <td>0</td>\n",
       "      <td>0</td>\n",
       "      <td>0</td>\n",
       "      <td>0</td>\n",
       "      <td>-27,48248988</td>\n",
       "      <td>-50,98212004</td>\n",
       "      <td>DEL07-SC</td>\n",
       "      <td>2023-07-05 18:50:00</td>\n",
       "    </tr>\n",
       "    <tr>\n",
       "      <th>862078</th>\n",
       "      <td>582543</td>\n",
       "      <td>quarta-feira</td>\n",
       "      <td>SC</td>\n",
       "      <td>BR-282</td>\n",
       "      <td>309</td>\n",
       "      <td>VARGEM</td>\n",
       "      <td>Velocidade Incompatível</td>\n",
       "      <td>2</td>\n",
       "      <td>Tombamento</td>\n",
       "      <td>Com Vítimas Feridas</td>\n",
       "      <td>...</td>\n",
       "      <td>36</td>\n",
       "      <td>Não Informado</td>\n",
       "      <td>0</td>\n",
       "      <td>0</td>\n",
       "      <td>0</td>\n",
       "      <td>0</td>\n",
       "      <td>-27,48248988</td>\n",
       "      <td>-50,98212004</td>\n",
       "      <td>DEL07-SC</td>\n",
       "      <td>2023-07-05 18:50:00</td>\n",
       "    </tr>\n",
       "    <tr>\n",
       "      <th>862844</th>\n",
       "      <td>589495</td>\n",
       "      <td>domingo</td>\n",
       "      <td>SC</td>\n",
       "      <td>BR-101</td>\n",
       "      <td>73</td>\n",
       "      <td>ARAQUARI</td>\n",
       "      <td>Reação tardia ou ineficiente do condutor</td>\n",
       "      <td>1</td>\n",
       "      <td>Engavetamento</td>\n",
       "      <td>Com Vítimas Feridas</td>\n",
       "      <td>...</td>\n",
       "      <td>41</td>\n",
       "      <td>Não Informado</td>\n",
       "      <td>0</td>\n",
       "      <td>0</td>\n",
       "      <td>0</td>\n",
       "      <td>0</td>\n",
       "      <td>-26,53567108</td>\n",
       "      <td>-48,71326731</td>\n",
       "      <td>DEL03-SC</td>\n",
       "      <td>2023-09-10 21:00:00</td>\n",
       "    </tr>\n",
       "  </tbody>\n",
       "</table>\n",
       "<p>19155 rows × 30 columns</p>\n",
       "</div>"
      ],
      "text/plain": [
       "            id    dia_semana  uf      br   km    municipio  \\\n",
       "58      260046  quarta-feira  SC  BR-282  509      XANXERE   \n",
       "164     260080  quarta-feira  RJ  BR-116   79  TERESOPOLIS   \n",
       "327     260139  quarta-feira  MT  BR-163  729      SORRISO   \n",
       "328     260139  quarta-feira  MT  BR-163  729      SORRISO   \n",
       "329     260139  quarta-feira  MT  BR-163  729      SORRISO   \n",
       "...        ...           ...  ..     ...  ...          ...   \n",
       "862071  582543  quarta-feira  SC  BR-282  309       VARGEM   \n",
       "862076  582543  quarta-feira  SC  BR-282  309       VARGEM   \n",
       "862077  582543  quarta-feira  SC  BR-282  309       VARGEM   \n",
       "862078  582543  quarta-feira  SC  BR-282  309       VARGEM   \n",
       "862844  589495       domingo  SC  BR-101   73     ARAQUARI   \n",
       "\n",
       "                                           causa_acidente  \\\n",
       "58                                       Animais na Pista   \n",
       "164     Desobediência às normas de trânsito pelo condutor   \n",
       "327                               Velocidade Incompatível   \n",
       "328                               Velocidade Incompatível   \n",
       "329                                 Fenômenos da Natureza   \n",
       "...                                                   ...   \n",
       "862071                            Velocidade Incompatível   \n",
       "862076                            Velocidade Incompatível   \n",
       "862077                            Velocidade Incompatível   \n",
       "862078                            Velocidade Incompatível   \n",
       "862844           Reação tardia ou ineficiente do condutor   \n",
       "\n",
       "        ordem_tipo_acidente              tipo_acidente classificacao_acidente  \\\n",
       "58                        1  Saída de leito carroçável    Com Vítimas Feridas   \n",
       "164                       1            Colisão lateral    Com Vítimas Feridas   \n",
       "327                       1  Saída de leito carroçável    Com Vítimas Feridas   \n",
       "328                       2                Capotamento    Com Vítimas Feridas   \n",
       "329                       1  Saída de leito carroçável    Com Vítimas Feridas   \n",
       "...                     ...                        ...                    ...   \n",
       "862071                    3           Colisão traseira    Com Vítimas Feridas   \n",
       "862076                    2                 Tombamento    Com Vítimas Feridas   \n",
       "862077                    2                 Tombamento    Com Vítimas Feridas   \n",
       "862078                    2                 Tombamento    Com Vítimas Feridas   \n",
       "862844                    1              Engavetamento    Com Vítimas Feridas   \n",
       "\n",
       "        ... idade           sexo ilesos feridos_leves feridos_graves mortos  \\\n",
       "58      ...    46  Não Informado      0             0              0      0   \n",
       "164     ...    43  Não Informado      0             0              0      0   \n",
       "327     ...     7  Não Informado      0             0              0      0   \n",
       "328     ...    59  Não Informado      0             0              0      0   \n",
       "329     ...    26  Não Informado      0             0              0      0   \n",
       "...     ...   ...            ...    ...           ...            ...    ...   \n",
       "862071  ...     7  Não Informado      0             0              0      0   \n",
       "862076  ...    56  Não Informado      0             0              0      0   \n",
       "862077  ...    62  Não Informado      0             0              0      0   \n",
       "862078  ...    36  Não Informado      0             0              0      0   \n",
       "862844  ...    41  Não Informado      0             0              0      0   \n",
       "\n",
       "            latitude     longitude delegacia       data_completa  \n",
       "58      -26,89436315   -52,4613905  DEL07-SC 2020-01-01 02:15:00  \n",
       "164       -22,381704    -42,954777  DEL04-RJ 2020-01-01 01:50:00  \n",
       "327     -12,84559402  -55,82671994  DEL06-MT 2020-01-01 12:00:00  \n",
       "328     -12,84559402  -55,82671994  DEL06-MT 2020-01-01 12:00:00  \n",
       "329     -12,84559402  -55,82671994  DEL06-MT 2020-01-01 12:00:00  \n",
       "...              ...           ...       ...                 ...  \n",
       "862071  -27,48248988  -50,98212004  DEL07-SC 2023-07-05 18:50:00  \n",
       "862076  -27,48248988  -50,98212004  DEL07-SC 2023-07-05 18:50:00  \n",
       "862077  -27,48248988  -50,98212004  DEL07-SC 2023-07-05 18:50:00  \n",
       "862078  -27,48248988  -50,98212004  DEL07-SC 2023-07-05 18:50:00  \n",
       "862844  -26,53567108  -48,71326731  DEL03-SC 2023-09-10 21:00:00  \n",
       "\n",
       "[19155 rows x 30 columns]"
      ]
     },
     "execution_count": 1472,
     "metadata": {},
     "output_type": "execute_result"
    }
   ],
   "source": [
    "df.loc[(df['tipo_envolvido'] == 'Testemunha') & (df['sexo'] == 'Não Informado')]"
   ]
  },
  {
   "cell_type": "code",
   "execution_count": 1473,
   "metadata": {},
   "outputs": [],
   "source": [
    "df = df.drop(df[(df['tipo_envolvido'] == 'Testemunha') & (df['sexo'] == 'Não Informado')].index)"
   ]
  },
  {
   "cell_type": "code",
   "execution_count": 1474,
   "metadata": {},
   "outputs": [
    {
     "data": {
      "text/html": [
       "<div>\n",
       "<style scoped>\n",
       "    .dataframe tbody tr th:only-of-type {\n",
       "        vertical-align: middle;\n",
       "    }\n",
       "\n",
       "    .dataframe tbody tr th {\n",
       "        vertical-align: top;\n",
       "    }\n",
       "\n",
       "    .dataframe thead th {\n",
       "        text-align: right;\n",
       "    }\n",
       "</style>\n",
       "<table border=\"1\" class=\"dataframe\">\n",
       "  <thead>\n",
       "    <tr style=\"text-align: right;\">\n",
       "      <th></th>\n",
       "      <th>id</th>\n",
       "      <th>dia_semana</th>\n",
       "      <th>uf</th>\n",
       "      <th>br</th>\n",
       "      <th>km</th>\n",
       "      <th>municipio</th>\n",
       "      <th>causa_acidente</th>\n",
       "      <th>ordem_tipo_acidente</th>\n",
       "      <th>tipo_acidente</th>\n",
       "      <th>classificacao_acidente</th>\n",
       "      <th>...</th>\n",
       "      <th>idade</th>\n",
       "      <th>sexo</th>\n",
       "      <th>ilesos</th>\n",
       "      <th>feridos_leves</th>\n",
       "      <th>feridos_graves</th>\n",
       "      <th>mortos</th>\n",
       "      <th>latitude</th>\n",
       "      <th>longitude</th>\n",
       "      <th>delegacia</th>\n",
       "      <th>data_completa</th>\n",
       "    </tr>\n",
       "  </thead>\n",
       "  <tbody>\n",
       "    <tr>\n",
       "      <th>0</th>\n",
       "      <td>260031</td>\n",
       "      <td>quarta-feira</td>\n",
       "      <td>TO</td>\n",
       "      <td>BR-153</td>\n",
       "      <td>678</td>\n",
       "      <td>GURUPI</td>\n",
       "      <td>Animais na Pista</td>\n",
       "      <td>1</td>\n",
       "      <td>Atropelamento de Animal</td>\n",
       "      <td>Com Vítimas Feridas</td>\n",
       "      <td>...</td>\n",
       "      <td>33</td>\n",
       "      <td>Feminino</td>\n",
       "      <td>0</td>\n",
       "      <td>0</td>\n",
       "      <td>1</td>\n",
       "      <td>0</td>\n",
       "      <td>-11,77460203</td>\n",
       "      <td>-49,10744996</td>\n",
       "      <td>DEL02-TO</td>\n",
       "      <td>2020-01-01 01:00:00</td>\n",
       "    </tr>\n",
       "    <tr>\n",
       "      <th>2</th>\n",
       "      <td>260031</td>\n",
       "      <td>quarta-feira</td>\n",
       "      <td>TO</td>\n",
       "      <td>BR-153</td>\n",
       "      <td>678</td>\n",
       "      <td>GURUPI</td>\n",
       "      <td>Animais na Pista</td>\n",
       "      <td>1</td>\n",
       "      <td>Atropelamento de Animal</td>\n",
       "      <td>Com Vítimas Feridas</td>\n",
       "      <td>...</td>\n",
       "      <td>18</td>\n",
       "      <td>Masculino</td>\n",
       "      <td>0</td>\n",
       "      <td>0</td>\n",
       "      <td>1</td>\n",
       "      <td>0</td>\n",
       "      <td>-11,77460203</td>\n",
       "      <td>-49,10744996</td>\n",
       "      <td>DEL02-TO</td>\n",
       "      <td>2020-01-01 01:00:00</td>\n",
       "    </tr>\n",
       "    <tr>\n",
       "      <th>4</th>\n",
       "      <td>260031</td>\n",
       "      <td>quarta-feira</td>\n",
       "      <td>TO</td>\n",
       "      <td>BR-153</td>\n",
       "      <td>678</td>\n",
       "      <td>GURUPI</td>\n",
       "      <td>Animais na Pista</td>\n",
       "      <td>1</td>\n",
       "      <td>Atropelamento de Animal</td>\n",
       "      <td>Com Vítimas Feridas</td>\n",
       "      <td>...</td>\n",
       "      <td>20</td>\n",
       "      <td>Masculino</td>\n",
       "      <td>0</td>\n",
       "      <td>0</td>\n",
       "      <td>1</td>\n",
       "      <td>0</td>\n",
       "      <td>-11,77460203</td>\n",
       "      <td>-49,10744996</td>\n",
       "      <td>DEL02-TO</td>\n",
       "      <td>2020-01-01 01:00:00</td>\n",
       "    </tr>\n",
       "    <tr>\n",
       "      <th>6</th>\n",
       "      <td>260031</td>\n",
       "      <td>quarta-feira</td>\n",
       "      <td>TO</td>\n",
       "      <td>BR-153</td>\n",
       "      <td>678</td>\n",
       "      <td>GURUPI</td>\n",
       "      <td>Animais na Pista</td>\n",
       "      <td>1</td>\n",
       "      <td>Atropelamento de Animal</td>\n",
       "      <td>Com Vítimas Feridas</td>\n",
       "      <td>...</td>\n",
       "      <td>16</td>\n",
       "      <td>Feminino</td>\n",
       "      <td>0</td>\n",
       "      <td>0</td>\n",
       "      <td>1</td>\n",
       "      <td>0</td>\n",
       "      <td>-11,77460203</td>\n",
       "      <td>-49,10744996</td>\n",
       "      <td>DEL02-TO</td>\n",
       "      <td>2020-01-01 01:00:00</td>\n",
       "    </tr>\n",
       "    <tr>\n",
       "      <th>7</th>\n",
       "      <td>260031</td>\n",
       "      <td>quarta-feira</td>\n",
       "      <td>TO</td>\n",
       "      <td>BR-153</td>\n",
       "      <td>678</td>\n",
       "      <td>GURUPI</td>\n",
       "      <td>Animais na Pista</td>\n",
       "      <td>1</td>\n",
       "      <td>Atropelamento de Animal</td>\n",
       "      <td>Com Vítimas Feridas</td>\n",
       "      <td>...</td>\n",
       "      <td>17</td>\n",
       "      <td>Feminino</td>\n",
       "      <td>0</td>\n",
       "      <td>0</td>\n",
       "      <td>1</td>\n",
       "      <td>0</td>\n",
       "      <td>-11,77460203</td>\n",
       "      <td>-49,10744996</td>\n",
       "      <td>DEL02-TO</td>\n",
       "      <td>2020-01-01 01:00:00</td>\n",
       "    </tr>\n",
       "  </tbody>\n",
       "</table>\n",
       "<p>5 rows × 30 columns</p>\n",
       "</div>"
      ],
      "text/plain": [
       "       id    dia_semana  uf      br   km municipio    causa_acidente  \\\n",
       "0  260031  quarta-feira  TO  BR-153  678    GURUPI  Animais na Pista   \n",
       "2  260031  quarta-feira  TO  BR-153  678    GURUPI  Animais na Pista   \n",
       "4  260031  quarta-feira  TO  BR-153  678    GURUPI  Animais na Pista   \n",
       "6  260031  quarta-feira  TO  BR-153  678    GURUPI  Animais na Pista   \n",
       "7  260031  quarta-feira  TO  BR-153  678    GURUPI  Animais na Pista   \n",
       "\n",
       "   ordem_tipo_acidente            tipo_acidente classificacao_acidente  ...  \\\n",
       "0                    1  Atropelamento de Animal    Com Vítimas Feridas  ...   \n",
       "2                    1  Atropelamento de Animal    Com Vítimas Feridas  ...   \n",
       "4                    1  Atropelamento de Animal    Com Vítimas Feridas  ...   \n",
       "6                    1  Atropelamento de Animal    Com Vítimas Feridas  ...   \n",
       "7                    1  Atropelamento de Animal    Com Vítimas Feridas  ...   \n",
       "\n",
       "  idade       sexo ilesos feridos_leves feridos_graves mortos      latitude  \\\n",
       "0    33   Feminino      0             0              1      0  -11,77460203   \n",
       "2    18  Masculino      0             0              1      0  -11,77460203   \n",
       "4    20  Masculino      0             0              1      0  -11,77460203   \n",
       "6    16   Feminino      0             0              1      0  -11,77460203   \n",
       "7    17   Feminino      0             0              1      0  -11,77460203   \n",
       "\n",
       "      longitude delegacia       data_completa  \n",
       "0  -49,10744996  DEL02-TO 2020-01-01 01:00:00  \n",
       "2  -49,10744996  DEL02-TO 2020-01-01 01:00:00  \n",
       "4  -49,10744996  DEL02-TO 2020-01-01 01:00:00  \n",
       "6  -49,10744996  DEL02-TO 2020-01-01 01:00:00  \n",
       "7  -49,10744996  DEL02-TO 2020-01-01 01:00:00  \n",
       "\n",
       "[5 rows x 30 columns]"
      ]
     },
     "execution_count": 1474,
     "metadata": {},
     "output_type": "execute_result"
    }
   ],
   "source": [
    "df.head()"
   ]
  },
  {
   "cell_type": "code",
   "execution_count": 1475,
   "metadata": {},
   "outputs": [
    {
     "data": {
      "text/plain": [
       "estado_fisico\n",
       "Ileso            133076\n",
       "Lesões Leves     112926\n",
       "Lesões Graves     36563\n",
       "Não Informado     34482\n",
       "Óbito             11261\n",
       "Name: count, dtype: int64"
      ]
     },
     "execution_count": 1475,
     "metadata": {},
     "output_type": "execute_result"
    }
   ],
   "source": [
    "df['estado_fisico'].value_counts()"
   ]
  },
  {
   "cell_type": "code",
   "execution_count": 1476,
   "metadata": {},
   "outputs": [
    {
     "data": {
      "text/html": [
       "<div>\n",
       "<style scoped>\n",
       "    .dataframe tbody tr th:only-of-type {\n",
       "        vertical-align: middle;\n",
       "    }\n",
       "\n",
       "    .dataframe tbody tr th {\n",
       "        vertical-align: top;\n",
       "    }\n",
       "\n",
       "    .dataframe thead th {\n",
       "        text-align: right;\n",
       "    }\n",
       "</style>\n",
       "<table border=\"1\" class=\"dataframe\">\n",
       "  <thead>\n",
       "    <tr style=\"text-align: right;\">\n",
       "      <th></th>\n",
       "      <th>id</th>\n",
       "      <th>dia_semana</th>\n",
       "      <th>uf</th>\n",
       "      <th>br</th>\n",
       "      <th>km</th>\n",
       "      <th>municipio</th>\n",
       "      <th>causa_acidente</th>\n",
       "      <th>ordem_tipo_acidente</th>\n",
       "      <th>tipo_acidente</th>\n",
       "      <th>classificacao_acidente</th>\n",
       "      <th>...</th>\n",
       "      <th>idade</th>\n",
       "      <th>sexo</th>\n",
       "      <th>ilesos</th>\n",
       "      <th>feridos_leves</th>\n",
       "      <th>feridos_graves</th>\n",
       "      <th>mortos</th>\n",
       "      <th>latitude</th>\n",
       "      <th>longitude</th>\n",
       "      <th>delegacia</th>\n",
       "      <th>data_completa</th>\n",
       "    </tr>\n",
       "  </thead>\n",
       "  <tbody>\n",
       "    <tr>\n",
       "      <th>59</th>\n",
       "      <td>260050</td>\n",
       "      <td>quarta-feira</td>\n",
       "      <td>PE</td>\n",
       "      <td>BR-101</td>\n",
       "      <td>49</td>\n",
       "      <td>ABREU E LIMA</td>\n",
       "      <td>Falta de Atenção à Condução</td>\n",
       "      <td>1</td>\n",
       "      <td>Colisão lateral</td>\n",
       "      <td>Com Vítimas Feridas</td>\n",
       "      <td>...</td>\n",
       "      <td>44</td>\n",
       "      <td>Não Informado</td>\n",
       "      <td>0</td>\n",
       "      <td>0</td>\n",
       "      <td>0</td>\n",
       "      <td>0</td>\n",
       "      <td>-7,9005152</td>\n",
       "      <td>-34,90180641</td>\n",
       "      <td>DEL01-PE</td>\n",
       "      <td>2020-01-01 03:40:00</td>\n",
       "    </tr>\n",
       "    <tr>\n",
       "      <th>165</th>\n",
       "      <td>260080</td>\n",
       "      <td>quarta-feira</td>\n",
       "      <td>RJ</td>\n",
       "      <td>BR-116</td>\n",
       "      <td>79</td>\n",
       "      <td>TERESOPOLIS</td>\n",
       "      <td>Desobediência às normas de trânsito pelo condutor</td>\n",
       "      <td>1</td>\n",
       "      <td>Colisão lateral</td>\n",
       "      <td>Com Vítimas Feridas</td>\n",
       "      <td>...</td>\n",
       "      <td>23</td>\n",
       "      <td>Não Informado</td>\n",
       "      <td>0</td>\n",
       "      <td>0</td>\n",
       "      <td>0</td>\n",
       "      <td>0</td>\n",
       "      <td>-22,381704</td>\n",
       "      <td>-42,954777</td>\n",
       "      <td>DEL04-RJ</td>\n",
       "      <td>2020-01-01 01:50:00</td>\n",
       "    </tr>\n",
       "    <tr>\n",
       "      <th>182</th>\n",
       "      <td>260085</td>\n",
       "      <td>quarta-feira</td>\n",
       "      <td>RS</td>\n",
       "      <td>BR-470</td>\n",
       "      <td>19</td>\n",
       "      <td>BARRACAO</td>\n",
       "      <td>Condutor Dormindo</td>\n",
       "      <td>2</td>\n",
       "      <td>Capotamento</td>\n",
       "      <td>Sem Vítimas</td>\n",
       "      <td>...</td>\n",
       "      <td>39</td>\n",
       "      <td>Não Informado</td>\n",
       "      <td>0</td>\n",
       "      <td>0</td>\n",
       "      <td>0</td>\n",
       "      <td>0</td>\n",
       "      <td>-27,66229079</td>\n",
       "      <td>-51,45618168</td>\n",
       "      <td>DEL08-RS</td>\n",
       "      <td>2020-01-01 05:00:00</td>\n",
       "    </tr>\n",
       "    <tr>\n",
       "      <th>183</th>\n",
       "      <td>260085</td>\n",
       "      <td>quarta-feira</td>\n",
       "      <td>RS</td>\n",
       "      <td>BR-470</td>\n",
       "      <td>19</td>\n",
       "      <td>BARRACAO</td>\n",
       "      <td>Condutor Dormindo</td>\n",
       "      <td>1</td>\n",
       "      <td>Saída de leito carroçável</td>\n",
       "      <td>Sem Vítimas</td>\n",
       "      <td>...</td>\n",
       "      <td>9</td>\n",
       "      <td>Não Informado</td>\n",
       "      <td>0</td>\n",
       "      <td>0</td>\n",
       "      <td>0</td>\n",
       "      <td>0</td>\n",
       "      <td>-27,66229079</td>\n",
       "      <td>-51,45618168</td>\n",
       "      <td>DEL08-RS</td>\n",
       "      <td>2020-01-01 05:00:00</td>\n",
       "    </tr>\n",
       "    <tr>\n",
       "      <th>184</th>\n",
       "      <td>260086</td>\n",
       "      <td>quarta-feira</td>\n",
       "      <td>PR</td>\n",
       "      <td>BR-376</td>\n",
       "      <td>677</td>\n",
       "      <td>GUARATUBA</td>\n",
       "      <td>Ingestão de Álcool</td>\n",
       "      <td>1</td>\n",
       "      <td>Capotamento</td>\n",
       "      <td>Sem Vítimas</td>\n",
       "      <td>...</td>\n",
       "      <td>15</td>\n",
       "      <td>Não Informado</td>\n",
       "      <td>0</td>\n",
       "      <td>0</td>\n",
       "      <td>0</td>\n",
       "      <td>0</td>\n",
       "      <td>-25,93367517</td>\n",
       "      <td>-48,9113003</td>\n",
       "      <td>DEL01-PR</td>\n",
       "      <td>2020-01-01 05:20:00</td>\n",
       "    </tr>\n",
       "    <tr>\n",
       "      <th>...</th>\n",
       "      <td>...</td>\n",
       "      <td>...</td>\n",
       "      <td>...</td>\n",
       "      <td>...</td>\n",
       "      <td>...</td>\n",
       "      <td>...</td>\n",
       "      <td>...</td>\n",
       "      <td>...</td>\n",
       "      <td>...</td>\n",
       "      <td>...</td>\n",
       "      <td>...</td>\n",
       "      <td>...</td>\n",
       "      <td>...</td>\n",
       "      <td>...</td>\n",
       "      <td>...</td>\n",
       "      <td>...</td>\n",
       "      <td>...</td>\n",
       "      <td>...</td>\n",
       "      <td>...</td>\n",
       "      <td>...</td>\n",
       "      <td>...</td>\n",
       "    </tr>\n",
       "    <tr>\n",
       "      <th>862793</th>\n",
       "      <td>588770</td>\n",
       "      <td>terça-feira</td>\n",
       "      <td>PR</td>\n",
       "      <td>BR-376</td>\n",
       "      <td>45</td>\n",
       "      <td>NOVA LONDRINA</td>\n",
       "      <td>Condutor deixou de manter distância do veículo...</td>\n",
       "      <td>2</td>\n",
       "      <td>Tombamento</td>\n",
       "      <td>Com Vítimas Feridas</td>\n",
       "      <td>...</td>\n",
       "      <td>28</td>\n",
       "      <td>Não Informado</td>\n",
       "      <td>0</td>\n",
       "      <td>0</td>\n",
       "      <td>0</td>\n",
       "      <td>0</td>\n",
       "      <td>-22,86104724</td>\n",
       "      <td>-52,9656179</td>\n",
       "      <td>DEL09-PR</td>\n",
       "      <td>2023-11-28 06:59:00</td>\n",
       "    </tr>\n",
       "    <tr>\n",
       "      <th>862808</th>\n",
       "      <td>588979</td>\n",
       "      <td>domingo</td>\n",
       "      <td>SC</td>\n",
       "      <td>BR-101</td>\n",
       "      <td>125</td>\n",
       "      <td>ITAJAI</td>\n",
       "      <td>Ausência de reação do condutor</td>\n",
       "      <td>1</td>\n",
       "      <td>Colisão traseira</td>\n",
       "      <td>Com Vítimas Feridas</td>\n",
       "      <td>...</td>\n",
       "      <td>48</td>\n",
       "      <td>Não Informado</td>\n",
       "      <td>0</td>\n",
       "      <td>0</td>\n",
       "      <td>0</td>\n",
       "      <td>0</td>\n",
       "      <td>-26,94802427</td>\n",
       "      <td>-48,68338515</td>\n",
       "      <td>DEL04-SC</td>\n",
       "      <td>2023-08-20 02:50:00</td>\n",
       "    </tr>\n",
       "    <tr>\n",
       "      <th>862810</th>\n",
       "      <td>589016</td>\n",
       "      <td>domingo</td>\n",
       "      <td>GO</td>\n",
       "      <td>BR-60</td>\n",
       "      <td>114</td>\n",
       "      <td>TEREZOPOLIS DE GOIAS</td>\n",
       "      <td>Condutor deixou de manter distância do veículo...</td>\n",
       "      <td>1</td>\n",
       "      <td>Capotamento</td>\n",
       "      <td>Com Vítimas Feridas</td>\n",
       "      <td>...</td>\n",
       "      <td>23</td>\n",
       "      <td>Não Informado</td>\n",
       "      <td>0</td>\n",
       "      <td>0</td>\n",
       "      <td>0</td>\n",
       "      <td>0</td>\n",
       "      <td>-16,4633</td>\n",
       "      <td>-49,0636</td>\n",
       "      <td>DEL01-GO</td>\n",
       "      <td>2023-11-05 18:00:00</td>\n",
       "    </tr>\n",
       "    <tr>\n",
       "      <th>862831</th>\n",
       "      <td>589229</td>\n",
       "      <td>quarta-feira</td>\n",
       "      <td>MG</td>\n",
       "      <td>BR-381</td>\n",
       "      <td>501</td>\n",
       "      <td>BETIM</td>\n",
       "      <td>Ausência de reação do condutor</td>\n",
       "      <td>2</td>\n",
       "      <td>Colisão lateral mesmo sentido</td>\n",
       "      <td>Com Vítimas Fatais</td>\n",
       "      <td>...</td>\n",
       "      <td>32</td>\n",
       "      <td>Não Informado</td>\n",
       "      <td>0</td>\n",
       "      <td>0</td>\n",
       "      <td>0</td>\n",
       "      <td>0</td>\n",
       "      <td>-20,03146447</td>\n",
       "      <td>-44,2377893</td>\n",
       "      <td>DEL01-MG</td>\n",
       "      <td>2023-01-04 22:30:00</td>\n",
       "    </tr>\n",
       "    <tr>\n",
       "      <th>862833</th>\n",
       "      <td>589229</td>\n",
       "      <td>quarta-feira</td>\n",
       "      <td>MG</td>\n",
       "      <td>BR-381</td>\n",
       "      <td>501</td>\n",
       "      <td>BETIM</td>\n",
       "      <td>Ausência de reação do condutor</td>\n",
       "      <td>1</td>\n",
       "      <td>Atropelamento de Pedestre</td>\n",
       "      <td>Com Vítimas Fatais</td>\n",
       "      <td>...</td>\n",
       "      <td>52</td>\n",
       "      <td>Não Informado</td>\n",
       "      <td>0</td>\n",
       "      <td>0</td>\n",
       "      <td>0</td>\n",
       "      <td>0</td>\n",
       "      <td>-20,03146447</td>\n",
       "      <td>-44,2377893</td>\n",
       "      <td>DEL01-MG</td>\n",
       "      <td>2023-01-04 22:30:00</td>\n",
       "    </tr>\n",
       "  </tbody>\n",
       "</table>\n",
       "<p>34482 rows × 30 columns</p>\n",
       "</div>"
      ],
      "text/plain": [
       "            id    dia_semana  uf      br   km             municipio  \\\n",
       "59      260050  quarta-feira  PE  BR-101   49          ABREU E LIMA   \n",
       "165     260080  quarta-feira  RJ  BR-116   79           TERESOPOLIS   \n",
       "182     260085  quarta-feira  RS  BR-470   19              BARRACAO   \n",
       "183     260085  quarta-feira  RS  BR-470   19              BARRACAO   \n",
       "184     260086  quarta-feira  PR  BR-376  677             GUARATUBA   \n",
       "...        ...           ...  ..     ...  ...                   ...   \n",
       "862793  588770   terça-feira  PR  BR-376   45         NOVA LONDRINA   \n",
       "862808  588979       domingo  SC  BR-101  125                ITAJAI   \n",
       "862810  589016       domingo  GO   BR-60  114  TEREZOPOLIS DE GOIAS   \n",
       "862831  589229  quarta-feira  MG  BR-381  501                 BETIM   \n",
       "862833  589229  quarta-feira  MG  BR-381  501                 BETIM   \n",
       "\n",
       "                                           causa_acidente  \\\n",
       "59                            Falta de Atenção à Condução   \n",
       "165     Desobediência às normas de trânsito pelo condutor   \n",
       "182                                     Condutor Dormindo   \n",
       "183                                     Condutor Dormindo   \n",
       "184                                    Ingestão de Álcool   \n",
       "...                                                   ...   \n",
       "862793  Condutor deixou de manter distância do veículo...   \n",
       "862808                     Ausência de reação do condutor   \n",
       "862810  Condutor deixou de manter distância do veículo...   \n",
       "862831                     Ausência de reação do condutor   \n",
       "862833                     Ausência de reação do condutor   \n",
       "\n",
       "        ordem_tipo_acidente                  tipo_acidente  \\\n",
       "59                        1                Colisão lateral   \n",
       "165                       1                Colisão lateral   \n",
       "182                       2                    Capotamento   \n",
       "183                       1      Saída de leito carroçável   \n",
       "184                       1                    Capotamento   \n",
       "...                     ...                            ...   \n",
       "862793                    2                     Tombamento   \n",
       "862808                    1               Colisão traseira   \n",
       "862810                    1                    Capotamento   \n",
       "862831                    2  Colisão lateral mesmo sentido   \n",
       "862833                    1      Atropelamento de Pedestre   \n",
       "\n",
       "       classificacao_acidente  ... idade           sexo ilesos feridos_leves  \\\n",
       "59        Com Vítimas Feridas  ...    44  Não Informado      0             0   \n",
       "165       Com Vítimas Feridas  ...    23  Não Informado      0             0   \n",
       "182               Sem Vítimas  ...    39  Não Informado      0             0   \n",
       "183               Sem Vítimas  ...     9  Não Informado      0             0   \n",
       "184               Sem Vítimas  ...    15  Não Informado      0             0   \n",
       "...                       ...  ...   ...            ...    ...           ...   \n",
       "862793    Com Vítimas Feridas  ...    28  Não Informado      0             0   \n",
       "862808    Com Vítimas Feridas  ...    48  Não Informado      0             0   \n",
       "862810    Com Vítimas Feridas  ...    23  Não Informado      0             0   \n",
       "862831     Com Vítimas Fatais  ...    32  Não Informado      0             0   \n",
       "862833     Com Vítimas Fatais  ...    52  Não Informado      0             0   \n",
       "\n",
       "       feridos_graves mortos      latitude     longitude delegacia  \\\n",
       "59                  0      0    -7,9005152  -34,90180641  DEL01-PE   \n",
       "165                 0      0    -22,381704    -42,954777  DEL04-RJ   \n",
       "182                 0      0  -27,66229079  -51,45618168  DEL08-RS   \n",
       "183                 0      0  -27,66229079  -51,45618168  DEL08-RS   \n",
       "184                 0      0  -25,93367517   -48,9113003  DEL01-PR   \n",
       "...               ...    ...           ...           ...       ...   \n",
       "862793              0      0  -22,86104724   -52,9656179  DEL09-PR   \n",
       "862808              0      0  -26,94802427  -48,68338515  DEL04-SC   \n",
       "862810              0      0      -16,4633      -49,0636  DEL01-GO   \n",
       "862831              0      0  -20,03146447   -44,2377893  DEL01-MG   \n",
       "862833              0      0  -20,03146447   -44,2377893  DEL01-MG   \n",
       "\n",
       "             data_completa  \n",
       "59     2020-01-01 03:40:00  \n",
       "165    2020-01-01 01:50:00  \n",
       "182    2020-01-01 05:00:00  \n",
       "183    2020-01-01 05:00:00  \n",
       "184    2020-01-01 05:20:00  \n",
       "...                    ...  \n",
       "862793 2023-11-28 06:59:00  \n",
       "862808 2023-08-20 02:50:00  \n",
       "862810 2023-11-05 18:00:00  \n",
       "862831 2023-01-04 22:30:00  \n",
       "862833 2023-01-04 22:30:00  \n",
       "\n",
       "[34482 rows x 30 columns]"
      ]
     },
     "execution_count": 1476,
     "metadata": {},
     "output_type": "execute_result"
    }
   ],
   "source": [
    "df.loc[df['estado_fisico'] == 'Não Informado']"
   ]
  },
  {
   "cell_type": "code",
   "execution_count": 1477,
   "metadata": {},
   "outputs": [],
   "source": [
    "df.loc[(df['estado_fisico'] == 'Não Informado') & (df['classificacao_acidente'] == 'Sem Vítimas'), 'estado_fisico'] = 'Ileso'"
   ]
  },
  {
   "cell_type": "code",
   "execution_count": 1478,
   "metadata": {},
   "outputs": [
    {
     "data": {
      "text/html": [
       "<div>\n",
       "<style scoped>\n",
       "    .dataframe tbody tr th:only-of-type {\n",
       "        vertical-align: middle;\n",
       "    }\n",
       "\n",
       "    .dataframe tbody tr th {\n",
       "        vertical-align: top;\n",
       "    }\n",
       "\n",
       "    .dataframe thead th {\n",
       "        text-align: right;\n",
       "    }\n",
       "</style>\n",
       "<table border=\"1\" class=\"dataframe\">\n",
       "  <thead>\n",
       "    <tr style=\"text-align: right;\">\n",
       "      <th></th>\n",
       "      <th>id</th>\n",
       "      <th>estado_fisico</th>\n",
       "      <th>tipo_acidente</th>\n",
       "      <th>classificacao_acidente</th>\n",
       "      <th>idade</th>\n",
       "      <th>sexo</th>\n",
       "      <th>ilesos</th>\n",
       "      <th>feridos_leves</th>\n",
       "      <th>feridos_graves</th>\n",
       "      <th>mortos</th>\n",
       "    </tr>\n",
       "  </thead>\n",
       "  <tbody>\n",
       "    <tr>\n",
       "      <th>599</th>\n",
       "      <td>260213</td>\n",
       "      <td>Não Informado</td>\n",
       "      <td>Tombamento</td>\n",
       "      <td>Com Vítimas Fatais</td>\n",
       "      <td>33</td>\n",
       "      <td>Não Informado</td>\n",
       "      <td>0</td>\n",
       "      <td>0</td>\n",
       "      <td>0</td>\n",
       "      <td>0</td>\n",
       "    </tr>\n",
       "    <tr>\n",
       "      <th>601</th>\n",
       "      <td>260213</td>\n",
       "      <td>Não Informado</td>\n",
       "      <td>Saída de leito carroçável</td>\n",
       "      <td>Com Vítimas Fatais</td>\n",
       "      <td>64</td>\n",
       "      <td>Não Informado</td>\n",
       "      <td>0</td>\n",
       "      <td>0</td>\n",
       "      <td>0</td>\n",
       "      <td>0</td>\n",
       "    </tr>\n",
       "    <tr>\n",
       "      <th>603</th>\n",
       "      <td>260213</td>\n",
       "      <td>Não Informado</td>\n",
       "      <td>Tombamento</td>\n",
       "      <td>Com Vítimas Fatais</td>\n",
       "      <td>53</td>\n",
       "      <td>Não Informado</td>\n",
       "      <td>0</td>\n",
       "      <td>0</td>\n",
       "      <td>0</td>\n",
       "      <td>0</td>\n",
       "    </tr>\n",
       "    <tr>\n",
       "      <th>605</th>\n",
       "      <td>260213</td>\n",
       "      <td>Não Informado</td>\n",
       "      <td>Saída de leito carroçável</td>\n",
       "      <td>Com Vítimas Fatais</td>\n",
       "      <td>36</td>\n",
       "      <td>Não Informado</td>\n",
       "      <td>0</td>\n",
       "      <td>0</td>\n",
       "      <td>0</td>\n",
       "      <td>0</td>\n",
       "    </tr>\n",
       "    <tr>\n",
       "      <th>2688</th>\n",
       "      <td>260652</td>\n",
       "      <td>Não Informado</td>\n",
       "      <td>Colisão frontal</td>\n",
       "      <td>Com Vítimas Fatais</td>\n",
       "      <td>23</td>\n",
       "      <td>Não Informado</td>\n",
       "      <td>0</td>\n",
       "      <td>0</td>\n",
       "      <td>0</td>\n",
       "      <td>0</td>\n",
       "    </tr>\n",
       "    <tr>\n",
       "      <th>...</th>\n",
       "      <td>...</td>\n",
       "      <td>...</td>\n",
       "      <td>...</td>\n",
       "      <td>...</td>\n",
       "      <td>...</td>\n",
       "      <td>...</td>\n",
       "      <td>...</td>\n",
       "      <td>...</td>\n",
       "      <td>...</td>\n",
       "      <td>...</td>\n",
       "    </tr>\n",
       "    <tr>\n",
       "      <th>862531</th>\n",
       "      <td>586160</td>\n",
       "      <td>Não Informado</td>\n",
       "      <td>Colisão lateral sentido oposto</td>\n",
       "      <td>Com Vítimas Fatais</td>\n",
       "      <td>37</td>\n",
       "      <td>Não Informado</td>\n",
       "      <td>0</td>\n",
       "      <td>0</td>\n",
       "      <td>0</td>\n",
       "      <td>0</td>\n",
       "    </tr>\n",
       "    <tr>\n",
       "      <th>862533</th>\n",
       "      <td>586160</td>\n",
       "      <td>Não Informado</td>\n",
       "      <td>Tombamento</td>\n",
       "      <td>Com Vítimas Fatais</td>\n",
       "      <td>26</td>\n",
       "      <td>Não Informado</td>\n",
       "      <td>0</td>\n",
       "      <td>0</td>\n",
       "      <td>0</td>\n",
       "      <td>0</td>\n",
       "    </tr>\n",
       "    <tr>\n",
       "      <th>862544</th>\n",
       "      <td>586507</td>\n",
       "      <td>Não Informado</td>\n",
       "      <td>Atropelamento de Pedestre</td>\n",
       "      <td>Com Vítimas Fatais</td>\n",
       "      <td>26</td>\n",
       "      <td>Não Informado</td>\n",
       "      <td>0</td>\n",
       "      <td>0</td>\n",
       "      <td>0</td>\n",
       "      <td>0</td>\n",
       "    </tr>\n",
       "    <tr>\n",
       "      <th>862831</th>\n",
       "      <td>589229</td>\n",
       "      <td>Não Informado</td>\n",
       "      <td>Colisão lateral mesmo sentido</td>\n",
       "      <td>Com Vítimas Fatais</td>\n",
       "      <td>32</td>\n",
       "      <td>Não Informado</td>\n",
       "      <td>0</td>\n",
       "      <td>0</td>\n",
       "      <td>0</td>\n",
       "      <td>0</td>\n",
       "    </tr>\n",
       "    <tr>\n",
       "      <th>862833</th>\n",
       "      <td>589229</td>\n",
       "      <td>Não Informado</td>\n",
       "      <td>Atropelamento de Pedestre</td>\n",
       "      <td>Com Vítimas Fatais</td>\n",
       "      <td>52</td>\n",
       "      <td>Não Informado</td>\n",
       "      <td>0</td>\n",
       "      <td>0</td>\n",
       "      <td>0</td>\n",
       "      <td>0</td>\n",
       "    </tr>\n",
       "  </tbody>\n",
       "</table>\n",
       "<p>4454 rows × 10 columns</p>\n",
       "</div>"
      ],
      "text/plain": [
       "            id  estado_fisico                   tipo_acidente  \\\n",
       "599     260213  Não Informado                      Tombamento   \n",
       "601     260213  Não Informado       Saída de leito carroçável   \n",
       "603     260213  Não Informado                      Tombamento   \n",
       "605     260213  Não Informado       Saída de leito carroçável   \n",
       "2688    260652  Não Informado                 Colisão frontal   \n",
       "...        ...            ...                             ...   \n",
       "862531  586160  Não Informado  Colisão lateral sentido oposto   \n",
       "862533  586160  Não Informado                      Tombamento   \n",
       "862544  586507  Não Informado       Atropelamento de Pedestre   \n",
       "862831  589229  Não Informado   Colisão lateral mesmo sentido   \n",
       "862833  589229  Não Informado       Atropelamento de Pedestre   \n",
       "\n",
       "       classificacao_acidente  idade           sexo  ilesos  feridos_leves  \\\n",
       "599        Com Vítimas Fatais     33  Não Informado       0              0   \n",
       "601        Com Vítimas Fatais     64  Não Informado       0              0   \n",
       "603        Com Vítimas Fatais     53  Não Informado       0              0   \n",
       "605        Com Vítimas Fatais     36  Não Informado       0              0   \n",
       "2688       Com Vítimas Fatais     23  Não Informado       0              0   \n",
       "...                       ...    ...            ...     ...            ...   \n",
       "862531     Com Vítimas Fatais     37  Não Informado       0              0   \n",
       "862533     Com Vítimas Fatais     26  Não Informado       0              0   \n",
       "862544     Com Vítimas Fatais     26  Não Informado       0              0   \n",
       "862831     Com Vítimas Fatais     32  Não Informado       0              0   \n",
       "862833     Com Vítimas Fatais     52  Não Informado       0              0   \n",
       "\n",
       "        feridos_graves  mortos  \n",
       "599                  0       0  \n",
       "601                  0       0  \n",
       "603                  0       0  \n",
       "605                  0       0  \n",
       "2688                 0       0  \n",
       "...                ...     ...  \n",
       "862531               0       0  \n",
       "862533               0       0  \n",
       "862544               0       0  \n",
       "862831               0       0  \n",
       "862833               0       0  \n",
       "\n",
       "[4454 rows x 10 columns]"
      ]
     },
     "execution_count": 1478,
     "metadata": {},
     "output_type": "execute_result"
    }
   ],
   "source": [
    "df.loc[(df['estado_fisico'] == 'Não Informado') & (df['classificacao_acidente'] == 'Com Vítimas Fatais'), ['id', 'estado_fisico','tipo_acidente', 'classificacao_acidente', 'idade', 'sexo', 'ilesos', 'feridos_leves', 'feridos_graves', 'mortos']]"
   ]
  },
  {
   "cell_type": "code",
   "execution_count": 1479,
   "metadata": {},
   "outputs": [],
   "source": [
    "tamanho = df.loc[(df['estado_fisico'] == 'Não Informado') & (df['classificacao_acidente'] == 'Com Vítimas Fatais')].value_counts().sum()\n",
    "probabilidades = [0.65, 0.25, 0.1]\n",
    "estados_fisicos = np.random.choice(['Óbito', 'Lesões Leves', 'Lesões Graves'], size=tamanho, p=probabilidades)"
   ]
  },
  {
   "cell_type": "code",
   "execution_count": 1480,
   "metadata": {},
   "outputs": [],
   "source": [
    "df.loc[(df['estado_fisico'] == 'Não Informado') & (df['classificacao_acidente'] == 'Com Vítimas Fatais'), 'estado_fisico'] = estados_fisicos"
   ]
  },
  {
   "cell_type": "code",
   "execution_count": 1481,
   "metadata": {},
   "outputs": [],
   "source": [
    "tamanho = df.loc[df['estado_fisico'] == 'Não Informado'].value_counts().sum()\n",
    "probabilidades = [0.7, 0.3]\n",
    "estados_fisicos2 = np.random.choice(['Lesões Leves', 'Lesões Graves'], size=tamanho, p=probabilidades)"
   ]
  },
  {
   "cell_type": "code",
   "execution_count": 1482,
   "metadata": {},
   "outputs": [],
   "source": [
    "df.loc[df['estado_fisico'] == 'Não Informado', 'estado_fisico'] = estados_fisicos2"
   ]
  },
  {
   "cell_type": "code",
   "execution_count": 1483,
   "metadata": {},
   "outputs": [
    {
     "data": {
      "text/plain": [
       "sexo\n",
       "Masculino        221456\n",
       "Feminino          70172\n",
       "Não Informado     34482\n",
       "Ignorado           2198\n",
       "Name: count, dtype: int64"
      ]
     },
     "execution_count": 1483,
     "metadata": {},
     "output_type": "execute_result"
    }
   ],
   "source": [
    "df['sexo'].value_counts()"
   ]
  },
  {
   "cell_type": "code",
   "execution_count": 1484,
   "metadata": {},
   "outputs": [
    {
     "data": {
      "text/html": [
       "<div>\n",
       "<style scoped>\n",
       "    .dataframe tbody tr th:only-of-type {\n",
       "        vertical-align: middle;\n",
       "    }\n",
       "\n",
       "    .dataframe tbody tr th {\n",
       "        vertical-align: top;\n",
       "    }\n",
       "\n",
       "    .dataframe thead th {\n",
       "        text-align: right;\n",
       "    }\n",
       "</style>\n",
       "<table border=\"1\" class=\"dataframe\">\n",
       "  <thead>\n",
       "    <tr style=\"text-align: right;\">\n",
       "      <th></th>\n",
       "      <th>id</th>\n",
       "      <th>dia_semana</th>\n",
       "      <th>uf</th>\n",
       "      <th>br</th>\n",
       "      <th>km</th>\n",
       "      <th>municipio</th>\n",
       "      <th>causa_acidente</th>\n",
       "      <th>ordem_tipo_acidente</th>\n",
       "      <th>tipo_acidente</th>\n",
       "      <th>classificacao_acidente</th>\n",
       "      <th>...</th>\n",
       "      <th>idade</th>\n",
       "      <th>sexo</th>\n",
       "      <th>ilesos</th>\n",
       "      <th>feridos_leves</th>\n",
       "      <th>feridos_graves</th>\n",
       "      <th>mortos</th>\n",
       "      <th>latitude</th>\n",
       "      <th>longitude</th>\n",
       "      <th>delegacia</th>\n",
       "      <th>data_completa</th>\n",
       "    </tr>\n",
       "  </thead>\n",
       "  <tbody>\n",
       "    <tr>\n",
       "      <th>59</th>\n",
       "      <td>260050</td>\n",
       "      <td>quarta-feira</td>\n",
       "      <td>PE</td>\n",
       "      <td>BR-101</td>\n",
       "      <td>49</td>\n",
       "      <td>ABREU E LIMA</td>\n",
       "      <td>Falta de Atenção à Condução</td>\n",
       "      <td>1</td>\n",
       "      <td>Colisão lateral</td>\n",
       "      <td>Com Vítimas Feridas</td>\n",
       "      <td>...</td>\n",
       "      <td>44</td>\n",
       "      <td>Não Informado</td>\n",
       "      <td>0</td>\n",
       "      <td>0</td>\n",
       "      <td>0</td>\n",
       "      <td>0</td>\n",
       "      <td>-7,9005152</td>\n",
       "      <td>-34,90180641</td>\n",
       "      <td>DEL01-PE</td>\n",
       "      <td>2020-01-01 03:40:00</td>\n",
       "    </tr>\n",
       "    <tr>\n",
       "      <th>165</th>\n",
       "      <td>260080</td>\n",
       "      <td>quarta-feira</td>\n",
       "      <td>RJ</td>\n",
       "      <td>BR-116</td>\n",
       "      <td>79</td>\n",
       "      <td>TERESOPOLIS</td>\n",
       "      <td>Desobediência às normas de trânsito pelo condutor</td>\n",
       "      <td>1</td>\n",
       "      <td>Colisão lateral</td>\n",
       "      <td>Com Vítimas Feridas</td>\n",
       "      <td>...</td>\n",
       "      <td>23</td>\n",
       "      <td>Não Informado</td>\n",
       "      <td>0</td>\n",
       "      <td>0</td>\n",
       "      <td>0</td>\n",
       "      <td>0</td>\n",
       "      <td>-22,381704</td>\n",
       "      <td>-42,954777</td>\n",
       "      <td>DEL04-RJ</td>\n",
       "      <td>2020-01-01 01:50:00</td>\n",
       "    </tr>\n",
       "    <tr>\n",
       "      <th>182</th>\n",
       "      <td>260085</td>\n",
       "      <td>quarta-feira</td>\n",
       "      <td>RS</td>\n",
       "      <td>BR-470</td>\n",
       "      <td>19</td>\n",
       "      <td>BARRACAO</td>\n",
       "      <td>Condutor Dormindo</td>\n",
       "      <td>2</td>\n",
       "      <td>Capotamento</td>\n",
       "      <td>Sem Vítimas</td>\n",
       "      <td>...</td>\n",
       "      <td>39</td>\n",
       "      <td>Não Informado</td>\n",
       "      <td>0</td>\n",
       "      <td>0</td>\n",
       "      <td>0</td>\n",
       "      <td>0</td>\n",
       "      <td>-27,66229079</td>\n",
       "      <td>-51,45618168</td>\n",
       "      <td>DEL08-RS</td>\n",
       "      <td>2020-01-01 05:00:00</td>\n",
       "    </tr>\n",
       "    <tr>\n",
       "      <th>183</th>\n",
       "      <td>260085</td>\n",
       "      <td>quarta-feira</td>\n",
       "      <td>RS</td>\n",
       "      <td>BR-470</td>\n",
       "      <td>19</td>\n",
       "      <td>BARRACAO</td>\n",
       "      <td>Condutor Dormindo</td>\n",
       "      <td>1</td>\n",
       "      <td>Saída de leito carroçável</td>\n",
       "      <td>Sem Vítimas</td>\n",
       "      <td>...</td>\n",
       "      <td>9</td>\n",
       "      <td>Não Informado</td>\n",
       "      <td>0</td>\n",
       "      <td>0</td>\n",
       "      <td>0</td>\n",
       "      <td>0</td>\n",
       "      <td>-27,66229079</td>\n",
       "      <td>-51,45618168</td>\n",
       "      <td>DEL08-RS</td>\n",
       "      <td>2020-01-01 05:00:00</td>\n",
       "    </tr>\n",
       "    <tr>\n",
       "      <th>184</th>\n",
       "      <td>260086</td>\n",
       "      <td>quarta-feira</td>\n",
       "      <td>PR</td>\n",
       "      <td>BR-376</td>\n",
       "      <td>677</td>\n",
       "      <td>GUARATUBA</td>\n",
       "      <td>Ingestão de Álcool</td>\n",
       "      <td>1</td>\n",
       "      <td>Capotamento</td>\n",
       "      <td>Sem Vítimas</td>\n",
       "      <td>...</td>\n",
       "      <td>15</td>\n",
       "      <td>Não Informado</td>\n",
       "      <td>0</td>\n",
       "      <td>0</td>\n",
       "      <td>0</td>\n",
       "      <td>0</td>\n",
       "      <td>-25,93367517</td>\n",
       "      <td>-48,9113003</td>\n",
       "      <td>DEL01-PR</td>\n",
       "      <td>2020-01-01 05:20:00</td>\n",
       "    </tr>\n",
       "    <tr>\n",
       "      <th>...</th>\n",
       "      <td>...</td>\n",
       "      <td>...</td>\n",
       "      <td>...</td>\n",
       "      <td>...</td>\n",
       "      <td>...</td>\n",
       "      <td>...</td>\n",
       "      <td>...</td>\n",
       "      <td>...</td>\n",
       "      <td>...</td>\n",
       "      <td>...</td>\n",
       "      <td>...</td>\n",
       "      <td>...</td>\n",
       "      <td>...</td>\n",
       "      <td>...</td>\n",
       "      <td>...</td>\n",
       "      <td>...</td>\n",
       "      <td>...</td>\n",
       "      <td>...</td>\n",
       "      <td>...</td>\n",
       "      <td>...</td>\n",
       "      <td>...</td>\n",
       "    </tr>\n",
       "    <tr>\n",
       "      <th>862793</th>\n",
       "      <td>588770</td>\n",
       "      <td>terça-feira</td>\n",
       "      <td>PR</td>\n",
       "      <td>BR-376</td>\n",
       "      <td>45</td>\n",
       "      <td>NOVA LONDRINA</td>\n",
       "      <td>Condutor deixou de manter distância do veículo...</td>\n",
       "      <td>2</td>\n",
       "      <td>Tombamento</td>\n",
       "      <td>Com Vítimas Feridas</td>\n",
       "      <td>...</td>\n",
       "      <td>28</td>\n",
       "      <td>Não Informado</td>\n",
       "      <td>0</td>\n",
       "      <td>0</td>\n",
       "      <td>0</td>\n",
       "      <td>0</td>\n",
       "      <td>-22,86104724</td>\n",
       "      <td>-52,9656179</td>\n",
       "      <td>DEL09-PR</td>\n",
       "      <td>2023-11-28 06:59:00</td>\n",
       "    </tr>\n",
       "    <tr>\n",
       "      <th>862808</th>\n",
       "      <td>588979</td>\n",
       "      <td>domingo</td>\n",
       "      <td>SC</td>\n",
       "      <td>BR-101</td>\n",
       "      <td>125</td>\n",
       "      <td>ITAJAI</td>\n",
       "      <td>Ausência de reação do condutor</td>\n",
       "      <td>1</td>\n",
       "      <td>Colisão traseira</td>\n",
       "      <td>Com Vítimas Feridas</td>\n",
       "      <td>...</td>\n",
       "      <td>48</td>\n",
       "      <td>Não Informado</td>\n",
       "      <td>0</td>\n",
       "      <td>0</td>\n",
       "      <td>0</td>\n",
       "      <td>0</td>\n",
       "      <td>-26,94802427</td>\n",
       "      <td>-48,68338515</td>\n",
       "      <td>DEL04-SC</td>\n",
       "      <td>2023-08-20 02:50:00</td>\n",
       "    </tr>\n",
       "    <tr>\n",
       "      <th>862810</th>\n",
       "      <td>589016</td>\n",
       "      <td>domingo</td>\n",
       "      <td>GO</td>\n",
       "      <td>BR-60</td>\n",
       "      <td>114</td>\n",
       "      <td>TEREZOPOLIS DE GOIAS</td>\n",
       "      <td>Condutor deixou de manter distância do veículo...</td>\n",
       "      <td>1</td>\n",
       "      <td>Capotamento</td>\n",
       "      <td>Com Vítimas Feridas</td>\n",
       "      <td>...</td>\n",
       "      <td>23</td>\n",
       "      <td>Não Informado</td>\n",
       "      <td>0</td>\n",
       "      <td>0</td>\n",
       "      <td>0</td>\n",
       "      <td>0</td>\n",
       "      <td>-16,4633</td>\n",
       "      <td>-49,0636</td>\n",
       "      <td>DEL01-GO</td>\n",
       "      <td>2023-11-05 18:00:00</td>\n",
       "    </tr>\n",
       "    <tr>\n",
       "      <th>862831</th>\n",
       "      <td>589229</td>\n",
       "      <td>quarta-feira</td>\n",
       "      <td>MG</td>\n",
       "      <td>BR-381</td>\n",
       "      <td>501</td>\n",
       "      <td>BETIM</td>\n",
       "      <td>Ausência de reação do condutor</td>\n",
       "      <td>2</td>\n",
       "      <td>Colisão lateral mesmo sentido</td>\n",
       "      <td>Com Vítimas Fatais</td>\n",
       "      <td>...</td>\n",
       "      <td>32</td>\n",
       "      <td>Não Informado</td>\n",
       "      <td>0</td>\n",
       "      <td>0</td>\n",
       "      <td>0</td>\n",
       "      <td>0</td>\n",
       "      <td>-20,03146447</td>\n",
       "      <td>-44,2377893</td>\n",
       "      <td>DEL01-MG</td>\n",
       "      <td>2023-01-04 22:30:00</td>\n",
       "    </tr>\n",
       "    <tr>\n",
       "      <th>862833</th>\n",
       "      <td>589229</td>\n",
       "      <td>quarta-feira</td>\n",
       "      <td>MG</td>\n",
       "      <td>BR-381</td>\n",
       "      <td>501</td>\n",
       "      <td>BETIM</td>\n",
       "      <td>Ausência de reação do condutor</td>\n",
       "      <td>1</td>\n",
       "      <td>Atropelamento de Pedestre</td>\n",
       "      <td>Com Vítimas Fatais</td>\n",
       "      <td>...</td>\n",
       "      <td>52</td>\n",
       "      <td>Não Informado</td>\n",
       "      <td>0</td>\n",
       "      <td>0</td>\n",
       "      <td>0</td>\n",
       "      <td>0</td>\n",
       "      <td>-20,03146447</td>\n",
       "      <td>-44,2377893</td>\n",
       "      <td>DEL01-MG</td>\n",
       "      <td>2023-01-04 22:30:00</td>\n",
       "    </tr>\n",
       "  </tbody>\n",
       "</table>\n",
       "<p>34482 rows × 30 columns</p>\n",
       "</div>"
      ],
      "text/plain": [
       "            id    dia_semana  uf      br   km             municipio  \\\n",
       "59      260050  quarta-feira  PE  BR-101   49          ABREU E LIMA   \n",
       "165     260080  quarta-feira  RJ  BR-116   79           TERESOPOLIS   \n",
       "182     260085  quarta-feira  RS  BR-470   19              BARRACAO   \n",
       "183     260085  quarta-feira  RS  BR-470   19              BARRACAO   \n",
       "184     260086  quarta-feira  PR  BR-376  677             GUARATUBA   \n",
       "...        ...           ...  ..     ...  ...                   ...   \n",
       "862793  588770   terça-feira  PR  BR-376   45         NOVA LONDRINA   \n",
       "862808  588979       domingo  SC  BR-101  125                ITAJAI   \n",
       "862810  589016       domingo  GO   BR-60  114  TEREZOPOLIS DE GOIAS   \n",
       "862831  589229  quarta-feira  MG  BR-381  501                 BETIM   \n",
       "862833  589229  quarta-feira  MG  BR-381  501                 BETIM   \n",
       "\n",
       "                                           causa_acidente  \\\n",
       "59                            Falta de Atenção à Condução   \n",
       "165     Desobediência às normas de trânsito pelo condutor   \n",
       "182                                     Condutor Dormindo   \n",
       "183                                     Condutor Dormindo   \n",
       "184                                    Ingestão de Álcool   \n",
       "...                                                   ...   \n",
       "862793  Condutor deixou de manter distância do veículo...   \n",
       "862808                     Ausência de reação do condutor   \n",
       "862810  Condutor deixou de manter distância do veículo...   \n",
       "862831                     Ausência de reação do condutor   \n",
       "862833                     Ausência de reação do condutor   \n",
       "\n",
       "        ordem_tipo_acidente                  tipo_acidente  \\\n",
       "59                        1                Colisão lateral   \n",
       "165                       1                Colisão lateral   \n",
       "182                       2                    Capotamento   \n",
       "183                       1      Saída de leito carroçável   \n",
       "184                       1                    Capotamento   \n",
       "...                     ...                            ...   \n",
       "862793                    2                     Tombamento   \n",
       "862808                    1               Colisão traseira   \n",
       "862810                    1                    Capotamento   \n",
       "862831                    2  Colisão lateral mesmo sentido   \n",
       "862833                    1      Atropelamento de Pedestre   \n",
       "\n",
       "       classificacao_acidente  ... idade           sexo ilesos feridos_leves  \\\n",
       "59        Com Vítimas Feridas  ...    44  Não Informado      0             0   \n",
       "165       Com Vítimas Feridas  ...    23  Não Informado      0             0   \n",
       "182               Sem Vítimas  ...    39  Não Informado      0             0   \n",
       "183               Sem Vítimas  ...     9  Não Informado      0             0   \n",
       "184               Sem Vítimas  ...    15  Não Informado      0             0   \n",
       "...                       ...  ...   ...            ...    ...           ...   \n",
       "862793    Com Vítimas Feridas  ...    28  Não Informado      0             0   \n",
       "862808    Com Vítimas Feridas  ...    48  Não Informado      0             0   \n",
       "862810    Com Vítimas Feridas  ...    23  Não Informado      0             0   \n",
       "862831     Com Vítimas Fatais  ...    32  Não Informado      0             0   \n",
       "862833     Com Vítimas Fatais  ...    52  Não Informado      0             0   \n",
       "\n",
       "       feridos_graves mortos      latitude     longitude delegacia  \\\n",
       "59                  0      0    -7,9005152  -34,90180641  DEL01-PE   \n",
       "165                 0      0    -22,381704    -42,954777  DEL04-RJ   \n",
       "182                 0      0  -27,66229079  -51,45618168  DEL08-RS   \n",
       "183                 0      0  -27,66229079  -51,45618168  DEL08-RS   \n",
       "184                 0      0  -25,93367517   -48,9113003  DEL01-PR   \n",
       "...               ...    ...           ...           ...       ...   \n",
       "862793              0      0  -22,86104724   -52,9656179  DEL09-PR   \n",
       "862808              0      0  -26,94802427  -48,68338515  DEL04-SC   \n",
       "862810              0      0      -16,4633      -49,0636  DEL01-GO   \n",
       "862831              0      0  -20,03146447   -44,2377893  DEL01-MG   \n",
       "862833              0      0  -20,03146447   -44,2377893  DEL01-MG   \n",
       "\n",
       "             data_completa  \n",
       "59     2020-01-01 03:40:00  \n",
       "165    2020-01-01 01:50:00  \n",
       "182    2020-01-01 05:00:00  \n",
       "183    2020-01-01 05:00:00  \n",
       "184    2020-01-01 05:20:00  \n",
       "...                    ...  \n",
       "862793 2023-11-28 06:59:00  \n",
       "862808 2023-08-20 02:50:00  \n",
       "862810 2023-11-05 18:00:00  \n",
       "862831 2023-01-04 22:30:00  \n",
       "862833 2023-01-04 22:30:00  \n",
       "\n",
       "[34482 rows x 30 columns]"
      ]
     },
     "execution_count": 1484,
     "metadata": {},
     "output_type": "execute_result"
    }
   ],
   "source": [
    "df.loc[df['sexo'] == 'Não Informado']\n",
    "# "
   ]
  },
  {
   "cell_type": "code",
   "execution_count": 1485,
   "metadata": {},
   "outputs": [
    {
     "data": {
      "text/html": [
       "<div>\n",
       "<style scoped>\n",
       "    .dataframe tbody tr th:only-of-type {\n",
       "        vertical-align: middle;\n",
       "    }\n",
       "\n",
       "    .dataframe tbody tr th {\n",
       "        vertical-align: top;\n",
       "    }\n",
       "\n",
       "    .dataframe thead th {\n",
       "        text-align: right;\n",
       "    }\n",
       "</style>\n",
       "<table border=\"1\" class=\"dataframe\">\n",
       "  <thead>\n",
       "    <tr style=\"text-align: right;\">\n",
       "      <th></th>\n",
       "      <th>id</th>\n",
       "      <th>dia_semana</th>\n",
       "      <th>uf</th>\n",
       "      <th>br</th>\n",
       "      <th>km</th>\n",
       "      <th>municipio</th>\n",
       "      <th>causa_acidente</th>\n",
       "      <th>ordem_tipo_acidente</th>\n",
       "      <th>tipo_acidente</th>\n",
       "      <th>classificacao_acidente</th>\n",
       "      <th>...</th>\n",
       "      <th>idade</th>\n",
       "      <th>sexo</th>\n",
       "      <th>ilesos</th>\n",
       "      <th>feridos_leves</th>\n",
       "      <th>feridos_graves</th>\n",
       "      <th>mortos</th>\n",
       "      <th>latitude</th>\n",
       "      <th>longitude</th>\n",
       "      <th>delegacia</th>\n",
       "      <th>data_completa</th>\n",
       "    </tr>\n",
       "  </thead>\n",
       "  <tbody>\n",
       "    <tr>\n",
       "      <th>10</th>\n",
       "      <td>260036</td>\n",
       "      <td>quarta-feira</td>\n",
       "      <td>RJ</td>\n",
       "      <td>BR-116</td>\n",
       "      <td>178</td>\n",
       "      <td>NOVA IGUACU</td>\n",
       "      <td>Ingestão de Álcool</td>\n",
       "      <td>1</td>\n",
       "      <td>Atropelamento de Pedestre</td>\n",
       "      <td>Com Vítimas Fatais</td>\n",
       "      <td>...</td>\n",
       "      <td>31</td>\n",
       "      <td>Ignorado</td>\n",
       "      <td>1</td>\n",
       "      <td>0</td>\n",
       "      <td>0</td>\n",
       "      <td>0</td>\n",
       "      <td>-22,75223028</td>\n",
       "      <td>-43,4379103</td>\n",
       "      <td>DEL01-RJ</td>\n",
       "      <td>2020-01-01 01:00:00</td>\n",
       "    </tr>\n",
       "    <tr>\n",
       "      <th>12</th>\n",
       "      <td>260036</td>\n",
       "      <td>quarta-feira</td>\n",
       "      <td>RJ</td>\n",
       "      <td>BR-116</td>\n",
       "      <td>178</td>\n",
       "      <td>NOVA IGUACU</td>\n",
       "      <td>Falta de Atenção do Pedestre</td>\n",
       "      <td>1</td>\n",
       "      <td>Atropelamento de Pedestre</td>\n",
       "      <td>Com Vítimas Fatais</td>\n",
       "      <td>...</td>\n",
       "      <td>41</td>\n",
       "      <td>Ignorado</td>\n",
       "      <td>1</td>\n",
       "      <td>0</td>\n",
       "      <td>0</td>\n",
       "      <td>0</td>\n",
       "      <td>-22,75223028</td>\n",
       "      <td>-43,4379103</td>\n",
       "      <td>DEL01-RJ</td>\n",
       "      <td>2020-01-01 01:00:00</td>\n",
       "    </tr>\n",
       "    <tr>\n",
       "      <th>231</th>\n",
       "      <td>260108</td>\n",
       "      <td>quarta-feira</td>\n",
       "      <td>MG</td>\n",
       "      <td>BR-459</td>\n",
       "      <td>94</td>\n",
       "      <td>POUSO ALEGRE</td>\n",
       "      <td>Não guardar distância de segurança</td>\n",
       "      <td>2</td>\n",
       "      <td>Colisão com objeto estático</td>\n",
       "      <td>Com Vítimas Feridas</td>\n",
       "      <td>...</td>\n",
       "      <td>37</td>\n",
       "      <td>Ignorado</td>\n",
       "      <td>1</td>\n",
       "      <td>0</td>\n",
       "      <td>0</td>\n",
       "      <td>0</td>\n",
       "      <td>-22,184677</td>\n",
       "      <td>-45,988678</td>\n",
       "      <td>DEL16-MG</td>\n",
       "      <td>2020-01-01 05:30:00</td>\n",
       "    </tr>\n",
       "    <tr>\n",
       "      <th>232</th>\n",
       "      <td>260108</td>\n",
       "      <td>quarta-feira</td>\n",
       "      <td>MG</td>\n",
       "      <td>BR-459</td>\n",
       "      <td>94</td>\n",
       "      <td>POUSO ALEGRE</td>\n",
       "      <td>Não guardar distância de segurança</td>\n",
       "      <td>1</td>\n",
       "      <td>Colisão traseira</td>\n",
       "      <td>Com Vítimas Feridas</td>\n",
       "      <td>...</td>\n",
       "      <td>43</td>\n",
       "      <td>Ignorado</td>\n",
       "      <td>1</td>\n",
       "      <td>0</td>\n",
       "      <td>0</td>\n",
       "      <td>0</td>\n",
       "      <td>-22,184677</td>\n",
       "      <td>-45,988678</td>\n",
       "      <td>DEL16-MG</td>\n",
       "      <td>2020-01-01 05:30:00</td>\n",
       "    </tr>\n",
       "    <tr>\n",
       "      <th>233</th>\n",
       "      <td>260108</td>\n",
       "      <td>quarta-feira</td>\n",
       "      <td>MG</td>\n",
       "      <td>BR-459</td>\n",
       "      <td>94</td>\n",
       "      <td>POUSO ALEGRE</td>\n",
       "      <td>Velocidade Incompatível</td>\n",
       "      <td>2</td>\n",
       "      <td>Colisão com objeto estático</td>\n",
       "      <td>Com Vítimas Feridas</td>\n",
       "      <td>...</td>\n",
       "      <td>24</td>\n",
       "      <td>Ignorado</td>\n",
       "      <td>1</td>\n",
       "      <td>0</td>\n",
       "      <td>0</td>\n",
       "      <td>0</td>\n",
       "      <td>-22,184677</td>\n",
       "      <td>-45,988678</td>\n",
       "      <td>DEL16-MG</td>\n",
       "      <td>2020-01-01 05:30:00</td>\n",
       "    </tr>\n",
       "  </tbody>\n",
       "</table>\n",
       "<p>5 rows × 30 columns</p>\n",
       "</div>"
      ],
      "text/plain": [
       "         id    dia_semana  uf      br   km     municipio  \\\n",
       "10   260036  quarta-feira  RJ  BR-116  178   NOVA IGUACU   \n",
       "12   260036  quarta-feira  RJ  BR-116  178   NOVA IGUACU   \n",
       "231  260108  quarta-feira  MG  BR-459   94  POUSO ALEGRE   \n",
       "232  260108  quarta-feira  MG  BR-459   94  POUSO ALEGRE   \n",
       "233  260108  quarta-feira  MG  BR-459   94  POUSO ALEGRE   \n",
       "\n",
       "                         causa_acidente  ordem_tipo_acidente  \\\n",
       "10                   Ingestão de Álcool                    1   \n",
       "12         Falta de Atenção do Pedestre                    1   \n",
       "231  Não guardar distância de segurança                    2   \n",
       "232  Não guardar distância de segurança                    1   \n",
       "233             Velocidade Incompatível                    2   \n",
       "\n",
       "                   tipo_acidente classificacao_acidente  ... idade      sexo  \\\n",
       "10     Atropelamento de Pedestre     Com Vítimas Fatais  ...    31  Ignorado   \n",
       "12     Atropelamento de Pedestre     Com Vítimas Fatais  ...    41  Ignorado   \n",
       "231  Colisão com objeto estático    Com Vítimas Feridas  ...    37  Ignorado   \n",
       "232             Colisão traseira    Com Vítimas Feridas  ...    43  Ignorado   \n",
       "233  Colisão com objeto estático    Com Vítimas Feridas  ...    24  Ignorado   \n",
       "\n",
       "    ilesos feridos_leves feridos_graves mortos      latitude    longitude  \\\n",
       "10       1             0              0      0  -22,75223028  -43,4379103   \n",
       "12       1             0              0      0  -22,75223028  -43,4379103   \n",
       "231      1             0              0      0    -22,184677   -45,988678   \n",
       "232      1             0              0      0    -22,184677   -45,988678   \n",
       "233      1             0              0      0    -22,184677   -45,988678   \n",
       "\n",
       "    delegacia       data_completa  \n",
       "10   DEL01-RJ 2020-01-01 01:00:00  \n",
       "12   DEL01-RJ 2020-01-01 01:00:00  \n",
       "231  DEL16-MG 2020-01-01 05:30:00  \n",
       "232  DEL16-MG 2020-01-01 05:30:00  \n",
       "233  DEL16-MG 2020-01-01 05:30:00  \n",
       "\n",
       "[5 rows x 30 columns]"
      ]
     },
     "execution_count": 1485,
     "metadata": {},
     "output_type": "execute_result"
    }
   ],
   "source": [
    "df.loc[df['sexo'] == 'Ignorado'][:5]"
   ]
  },
  {
   "cell_type": "code",
   "execution_count": 1486,
   "metadata": {},
   "outputs": [
    {
     "data": {
      "text/plain": [
       "Masculino    27891\n",
       "Feminino      8789\n",
       "Name: count, dtype: int64"
      ]
     },
     "execution_count": 1486,
     "metadata": {},
     "output_type": "execute_result"
    }
   ],
   "source": [
    "quantidade_sexo = df.loc[(df['sexo'] == 'Ignorado') | (df['sexo'] == 'Não Informado')].shape[0]\n",
    "df_filtado = df.loc[df['sexo'].isin(['Masculino', 'Feminino'])]\n",
    "tamanho_sexo = len(df_filtado)\n",
    "\n",
    "tamanho_masculino = df_filtado['sexo'].eq('Masculino').sum()\n",
    "tamanho_feminino = df_filtado['sexo'].eq('Feminino').sum()\n",
    "\n",
    "probabilidades_sexo = [tamanho_masculino / tamanho_sexo, tamanho_feminino / tamanho_sexo]\n",
    "\n",
    "sexo_aleatorio = np.random.choice(['Masculino', 'Feminino'], p=probabilidades_sexo, size=quantidade_sexo)\n",
    "pd.DataFrame(sexo_aleatorio).value_counts()"
   ]
  },
  {
   "cell_type": "code",
   "execution_count": 1487,
   "metadata": {},
   "outputs": [],
   "source": [
    "df.loc[(df['sexo'] == 'Não Informado') | (df['sexo'] == 'Ignorado'), 'sexo'] = sexo_aleatorio"
   ]
  },
  {
   "cell_type": "code",
   "execution_count": 1488,
   "metadata": {},
   "outputs": [
    {
     "name": "stdout",
     "output_type": "stream",
     "text": [
      "ilesos\n",
      "0    195232\n",
      "1    133076\n",
      "Name: count, dtype: int64\n",
      "\n",
      "feridos_leves\n",
      "0    215382\n",
      "1    112926\n",
      "Name: count, dtype: int64\n",
      "\n",
      "feridos_graves\n",
      "0    291745\n",
      "1     36563\n",
      "Name: count, dtype: int64\n"
     ]
    }
   ],
   "source": [
    "print(df['ilesos'].value_counts(), end='\\n\\n')\n",
    "print(df['feridos_leves'].value_counts(), end='\\n\\n')\n",
    "print(df['feridos_graves'].value_counts())"
   ]
  },
  {
   "cell_type": "code",
   "execution_count": 1501,
   "metadata": {},
   "outputs": [
    {
     "name": "stdout",
     "output_type": "stream",
     "text": [
      "Total envolvidos:  328308\n",
      "Total Registrado: 328308\n",
      "Total Faltantes: 0\n"
     ]
    }
   ],
   "source": [
    "total_registrados = df.loc[df['ilesos'] == 1].value_counts().sum() + df.loc[df['feridos_leves'] == 1].value_counts().sum() + df.loc[df['feridos_graves'] == 1].value_counts().sum() + df.loc[df['mortos'] == 1].value_counts().sum()\n",
    "\n",
    "print('Total envolvidos: ', df.shape[0])\n",
    "print('Total Registrado:', total_registrados)\n",
    "print('Total Faltantes:', df.shape[0] - total_registrados)"
   ]
  },
  {
   "cell_type": "code",
   "execution_count": 1490,
   "metadata": {},
   "outputs": [
    {
     "data": {
      "text/html": [
       "<div>\n",
       "<style scoped>\n",
       "    .dataframe tbody tr th:only-of-type {\n",
       "        vertical-align: middle;\n",
       "    }\n",
       "\n",
       "    .dataframe tbody tr th {\n",
       "        vertical-align: top;\n",
       "    }\n",
       "\n",
       "    .dataframe thead th {\n",
       "        text-align: right;\n",
       "    }\n",
       "</style>\n",
       "<table border=\"1\" class=\"dataframe\">\n",
       "  <thead>\n",
       "    <tr style=\"text-align: right;\">\n",
       "      <th></th>\n",
       "      <th>id</th>\n",
       "      <th>dia_semana</th>\n",
       "      <th>uf</th>\n",
       "      <th>br</th>\n",
       "      <th>km</th>\n",
       "      <th>municipio</th>\n",
       "      <th>causa_acidente</th>\n",
       "      <th>ordem_tipo_acidente</th>\n",
       "      <th>tipo_acidente</th>\n",
       "      <th>classificacao_acidente</th>\n",
       "      <th>...</th>\n",
       "      <th>idade</th>\n",
       "      <th>sexo</th>\n",
       "      <th>ilesos</th>\n",
       "      <th>feridos_leves</th>\n",
       "      <th>feridos_graves</th>\n",
       "      <th>mortos</th>\n",
       "      <th>latitude</th>\n",
       "      <th>longitude</th>\n",
       "      <th>delegacia</th>\n",
       "      <th>data_completa</th>\n",
       "    </tr>\n",
       "  </thead>\n",
       "  <tbody>\n",
       "    <tr>\n",
       "      <th>59</th>\n",
       "      <td>260050</td>\n",
       "      <td>quarta-feira</td>\n",
       "      <td>PE</td>\n",
       "      <td>BR-101</td>\n",
       "      <td>49</td>\n",
       "      <td>ABREU E LIMA</td>\n",
       "      <td>Falta de Atenção à Condução</td>\n",
       "      <td>1</td>\n",
       "      <td>Colisão lateral</td>\n",
       "      <td>Com Vítimas Feridas</td>\n",
       "      <td>...</td>\n",
       "      <td>44</td>\n",
       "      <td>Feminino</td>\n",
       "      <td>0</td>\n",
       "      <td>0</td>\n",
       "      <td>0</td>\n",
       "      <td>0</td>\n",
       "      <td>-7,9005152</td>\n",
       "      <td>-34,90180641</td>\n",
       "      <td>DEL01-PE</td>\n",
       "      <td>2020-01-01 03:40:00</td>\n",
       "    </tr>\n",
       "    <tr>\n",
       "      <th>165</th>\n",
       "      <td>260080</td>\n",
       "      <td>quarta-feira</td>\n",
       "      <td>RJ</td>\n",
       "      <td>BR-116</td>\n",
       "      <td>79</td>\n",
       "      <td>TERESOPOLIS</td>\n",
       "      <td>Desobediência às normas de trânsito pelo condutor</td>\n",
       "      <td>1</td>\n",
       "      <td>Colisão lateral</td>\n",
       "      <td>Com Vítimas Feridas</td>\n",
       "      <td>...</td>\n",
       "      <td>23</td>\n",
       "      <td>Feminino</td>\n",
       "      <td>0</td>\n",
       "      <td>0</td>\n",
       "      <td>0</td>\n",
       "      <td>0</td>\n",
       "      <td>-22,381704</td>\n",
       "      <td>-42,954777</td>\n",
       "      <td>DEL04-RJ</td>\n",
       "      <td>2020-01-01 01:50:00</td>\n",
       "    </tr>\n",
       "    <tr>\n",
       "      <th>182</th>\n",
       "      <td>260085</td>\n",
       "      <td>quarta-feira</td>\n",
       "      <td>RS</td>\n",
       "      <td>BR-470</td>\n",
       "      <td>19</td>\n",
       "      <td>BARRACAO</td>\n",
       "      <td>Condutor Dormindo</td>\n",
       "      <td>2</td>\n",
       "      <td>Capotamento</td>\n",
       "      <td>Sem Vítimas</td>\n",
       "      <td>...</td>\n",
       "      <td>39</td>\n",
       "      <td>Masculino</td>\n",
       "      <td>0</td>\n",
       "      <td>0</td>\n",
       "      <td>0</td>\n",
       "      <td>0</td>\n",
       "      <td>-27,66229079</td>\n",
       "      <td>-51,45618168</td>\n",
       "      <td>DEL08-RS</td>\n",
       "      <td>2020-01-01 05:00:00</td>\n",
       "    </tr>\n",
       "    <tr>\n",
       "      <th>183</th>\n",
       "      <td>260085</td>\n",
       "      <td>quarta-feira</td>\n",
       "      <td>RS</td>\n",
       "      <td>BR-470</td>\n",
       "      <td>19</td>\n",
       "      <td>BARRACAO</td>\n",
       "      <td>Condutor Dormindo</td>\n",
       "      <td>1</td>\n",
       "      <td>Saída de leito carroçável</td>\n",
       "      <td>Sem Vítimas</td>\n",
       "      <td>...</td>\n",
       "      <td>9</td>\n",
       "      <td>Masculino</td>\n",
       "      <td>0</td>\n",
       "      <td>0</td>\n",
       "      <td>0</td>\n",
       "      <td>0</td>\n",
       "      <td>-27,66229079</td>\n",
       "      <td>-51,45618168</td>\n",
       "      <td>DEL08-RS</td>\n",
       "      <td>2020-01-01 05:00:00</td>\n",
       "    </tr>\n",
       "    <tr>\n",
       "      <th>184</th>\n",
       "      <td>260086</td>\n",
       "      <td>quarta-feira</td>\n",
       "      <td>PR</td>\n",
       "      <td>BR-376</td>\n",
       "      <td>677</td>\n",
       "      <td>GUARATUBA</td>\n",
       "      <td>Ingestão de Álcool</td>\n",
       "      <td>1</td>\n",
       "      <td>Capotamento</td>\n",
       "      <td>Sem Vítimas</td>\n",
       "      <td>...</td>\n",
       "      <td>15</td>\n",
       "      <td>Masculino</td>\n",
       "      <td>0</td>\n",
       "      <td>0</td>\n",
       "      <td>0</td>\n",
       "      <td>0</td>\n",
       "      <td>-25,93367517</td>\n",
       "      <td>-48,9113003</td>\n",
       "      <td>DEL01-PR</td>\n",
       "      <td>2020-01-01 05:20:00</td>\n",
       "    </tr>\n",
       "    <tr>\n",
       "      <th>...</th>\n",
       "      <td>...</td>\n",
       "      <td>...</td>\n",
       "      <td>...</td>\n",
       "      <td>...</td>\n",
       "      <td>...</td>\n",
       "      <td>...</td>\n",
       "      <td>...</td>\n",
       "      <td>...</td>\n",
       "      <td>...</td>\n",
       "      <td>...</td>\n",
       "      <td>...</td>\n",
       "      <td>...</td>\n",
       "      <td>...</td>\n",
       "      <td>...</td>\n",
       "      <td>...</td>\n",
       "      <td>...</td>\n",
       "      <td>...</td>\n",
       "      <td>...</td>\n",
       "      <td>...</td>\n",
       "      <td>...</td>\n",
       "      <td>...</td>\n",
       "    </tr>\n",
       "    <tr>\n",
       "      <th>862793</th>\n",
       "      <td>588770</td>\n",
       "      <td>terça-feira</td>\n",
       "      <td>PR</td>\n",
       "      <td>BR-376</td>\n",
       "      <td>45</td>\n",
       "      <td>NOVA LONDRINA</td>\n",
       "      <td>Condutor deixou de manter distância do veículo...</td>\n",
       "      <td>2</td>\n",
       "      <td>Tombamento</td>\n",
       "      <td>Com Vítimas Feridas</td>\n",
       "      <td>...</td>\n",
       "      <td>28</td>\n",
       "      <td>Masculino</td>\n",
       "      <td>0</td>\n",
       "      <td>0</td>\n",
       "      <td>0</td>\n",
       "      <td>0</td>\n",
       "      <td>-22,86104724</td>\n",
       "      <td>-52,9656179</td>\n",
       "      <td>DEL09-PR</td>\n",
       "      <td>2023-11-28 06:59:00</td>\n",
       "    </tr>\n",
       "    <tr>\n",
       "      <th>862808</th>\n",
       "      <td>588979</td>\n",
       "      <td>domingo</td>\n",
       "      <td>SC</td>\n",
       "      <td>BR-101</td>\n",
       "      <td>125</td>\n",
       "      <td>ITAJAI</td>\n",
       "      <td>Ausência de reação do condutor</td>\n",
       "      <td>1</td>\n",
       "      <td>Colisão traseira</td>\n",
       "      <td>Com Vítimas Feridas</td>\n",
       "      <td>...</td>\n",
       "      <td>48</td>\n",
       "      <td>Masculino</td>\n",
       "      <td>0</td>\n",
       "      <td>0</td>\n",
       "      <td>0</td>\n",
       "      <td>0</td>\n",
       "      <td>-26,94802427</td>\n",
       "      <td>-48,68338515</td>\n",
       "      <td>DEL04-SC</td>\n",
       "      <td>2023-08-20 02:50:00</td>\n",
       "    </tr>\n",
       "    <tr>\n",
       "      <th>862810</th>\n",
       "      <td>589016</td>\n",
       "      <td>domingo</td>\n",
       "      <td>GO</td>\n",
       "      <td>BR-60</td>\n",
       "      <td>114</td>\n",
       "      <td>TEREZOPOLIS DE GOIAS</td>\n",
       "      <td>Condutor deixou de manter distância do veículo...</td>\n",
       "      <td>1</td>\n",
       "      <td>Capotamento</td>\n",
       "      <td>Com Vítimas Feridas</td>\n",
       "      <td>...</td>\n",
       "      <td>23</td>\n",
       "      <td>Masculino</td>\n",
       "      <td>0</td>\n",
       "      <td>0</td>\n",
       "      <td>0</td>\n",
       "      <td>0</td>\n",
       "      <td>-16,4633</td>\n",
       "      <td>-49,0636</td>\n",
       "      <td>DEL01-GO</td>\n",
       "      <td>2023-11-05 18:00:00</td>\n",
       "    </tr>\n",
       "    <tr>\n",
       "      <th>862831</th>\n",
       "      <td>589229</td>\n",
       "      <td>quarta-feira</td>\n",
       "      <td>MG</td>\n",
       "      <td>BR-381</td>\n",
       "      <td>501</td>\n",
       "      <td>BETIM</td>\n",
       "      <td>Ausência de reação do condutor</td>\n",
       "      <td>2</td>\n",
       "      <td>Colisão lateral mesmo sentido</td>\n",
       "      <td>Com Vítimas Fatais</td>\n",
       "      <td>...</td>\n",
       "      <td>32</td>\n",
       "      <td>Masculino</td>\n",
       "      <td>0</td>\n",
       "      <td>0</td>\n",
       "      <td>0</td>\n",
       "      <td>0</td>\n",
       "      <td>-20,03146447</td>\n",
       "      <td>-44,2377893</td>\n",
       "      <td>DEL01-MG</td>\n",
       "      <td>2023-01-04 22:30:00</td>\n",
       "    </tr>\n",
       "    <tr>\n",
       "      <th>862833</th>\n",
       "      <td>589229</td>\n",
       "      <td>quarta-feira</td>\n",
       "      <td>MG</td>\n",
       "      <td>BR-381</td>\n",
       "      <td>501</td>\n",
       "      <td>BETIM</td>\n",
       "      <td>Ausência de reação do condutor</td>\n",
       "      <td>1</td>\n",
       "      <td>Atropelamento de Pedestre</td>\n",
       "      <td>Com Vítimas Fatais</td>\n",
       "      <td>...</td>\n",
       "      <td>52</td>\n",
       "      <td>Masculino</td>\n",
       "      <td>0</td>\n",
       "      <td>0</td>\n",
       "      <td>0</td>\n",
       "      <td>0</td>\n",
       "      <td>-20,03146447</td>\n",
       "      <td>-44,2377893</td>\n",
       "      <td>DEL01-MG</td>\n",
       "      <td>2023-01-04 22:30:00</td>\n",
       "    </tr>\n",
       "  </tbody>\n",
       "</table>\n",
       "<p>34482 rows × 30 columns</p>\n",
       "</div>"
      ],
      "text/plain": [
       "            id    dia_semana  uf      br   km             municipio  \\\n",
       "59      260050  quarta-feira  PE  BR-101   49          ABREU E LIMA   \n",
       "165     260080  quarta-feira  RJ  BR-116   79           TERESOPOLIS   \n",
       "182     260085  quarta-feira  RS  BR-470   19              BARRACAO   \n",
       "183     260085  quarta-feira  RS  BR-470   19              BARRACAO   \n",
       "184     260086  quarta-feira  PR  BR-376  677             GUARATUBA   \n",
       "...        ...           ...  ..     ...  ...                   ...   \n",
       "862793  588770   terça-feira  PR  BR-376   45         NOVA LONDRINA   \n",
       "862808  588979       domingo  SC  BR-101  125                ITAJAI   \n",
       "862810  589016       domingo  GO   BR-60  114  TEREZOPOLIS DE GOIAS   \n",
       "862831  589229  quarta-feira  MG  BR-381  501                 BETIM   \n",
       "862833  589229  quarta-feira  MG  BR-381  501                 BETIM   \n",
       "\n",
       "                                           causa_acidente  \\\n",
       "59                            Falta de Atenção à Condução   \n",
       "165     Desobediência às normas de trânsito pelo condutor   \n",
       "182                                     Condutor Dormindo   \n",
       "183                                     Condutor Dormindo   \n",
       "184                                    Ingestão de Álcool   \n",
       "...                                                   ...   \n",
       "862793  Condutor deixou de manter distância do veículo...   \n",
       "862808                     Ausência de reação do condutor   \n",
       "862810  Condutor deixou de manter distância do veículo...   \n",
       "862831                     Ausência de reação do condutor   \n",
       "862833                     Ausência de reação do condutor   \n",
       "\n",
       "        ordem_tipo_acidente                  tipo_acidente  \\\n",
       "59                        1                Colisão lateral   \n",
       "165                       1                Colisão lateral   \n",
       "182                       2                    Capotamento   \n",
       "183                       1      Saída de leito carroçável   \n",
       "184                       1                    Capotamento   \n",
       "...                     ...                            ...   \n",
       "862793                    2                     Tombamento   \n",
       "862808                    1               Colisão traseira   \n",
       "862810                    1                    Capotamento   \n",
       "862831                    2  Colisão lateral mesmo sentido   \n",
       "862833                    1      Atropelamento de Pedestre   \n",
       "\n",
       "       classificacao_acidente  ... idade       sexo ilesos feridos_leves  \\\n",
       "59        Com Vítimas Feridas  ...    44   Feminino      0             0   \n",
       "165       Com Vítimas Feridas  ...    23   Feminino      0             0   \n",
       "182               Sem Vítimas  ...    39  Masculino      0             0   \n",
       "183               Sem Vítimas  ...     9  Masculino      0             0   \n",
       "184               Sem Vítimas  ...    15  Masculino      0             0   \n",
       "...                       ...  ...   ...        ...    ...           ...   \n",
       "862793    Com Vítimas Feridas  ...    28  Masculino      0             0   \n",
       "862808    Com Vítimas Feridas  ...    48  Masculino      0             0   \n",
       "862810    Com Vítimas Feridas  ...    23  Masculino      0             0   \n",
       "862831     Com Vítimas Fatais  ...    32  Masculino      0             0   \n",
       "862833     Com Vítimas Fatais  ...    52  Masculino      0             0   \n",
       "\n",
       "       feridos_graves mortos      latitude     longitude delegacia  \\\n",
       "59                  0      0    -7,9005152  -34,90180641  DEL01-PE   \n",
       "165                 0      0    -22,381704    -42,954777  DEL04-RJ   \n",
       "182                 0      0  -27,66229079  -51,45618168  DEL08-RS   \n",
       "183                 0      0  -27,66229079  -51,45618168  DEL08-RS   \n",
       "184                 0      0  -25,93367517   -48,9113003  DEL01-PR   \n",
       "...               ...    ...           ...           ...       ...   \n",
       "862793              0      0  -22,86104724   -52,9656179  DEL09-PR   \n",
       "862808              0      0  -26,94802427  -48,68338515  DEL04-SC   \n",
       "862810              0      0      -16,4633      -49,0636  DEL01-GO   \n",
       "862831              0      0  -20,03146447   -44,2377893  DEL01-MG   \n",
       "862833              0      0  -20,03146447   -44,2377893  DEL01-MG   \n",
       "\n",
       "             data_completa  \n",
       "59     2020-01-01 03:40:00  \n",
       "165    2020-01-01 01:50:00  \n",
       "182    2020-01-01 05:00:00  \n",
       "183    2020-01-01 05:00:00  \n",
       "184    2020-01-01 05:20:00  \n",
       "...                    ...  \n",
       "862793 2023-11-28 06:59:00  \n",
       "862808 2023-08-20 02:50:00  \n",
       "862810 2023-11-05 18:00:00  \n",
       "862831 2023-01-04 22:30:00  \n",
       "862833 2023-01-04 22:30:00  \n",
       "\n",
       "[34482 rows x 30 columns]"
      ]
     },
     "execution_count": 1490,
     "metadata": {},
     "output_type": "execute_result"
    }
   ],
   "source": [
    "faltantes = df.loc[(df['ilesos'] == 0) & (df['feridos_leves'] == 0) & (df['feridos_graves'] == 0) & (df['mortos'] == 0)]\n",
    "faltantes"
   ]
  },
  {
   "cell_type": "code",
   "execution_count": 1491,
   "metadata": {},
   "outputs": [],
   "source": [
    "df.loc[(df['ilesos'] == 0) & (df['feridos_leves'] == 0) & (df['feridos_graves'] == 0) & (df['mortos'] == 0) & (df['classificacao_acidente'] == 'Sem Vítimas'), 'ilesos'] = 1"
   ]
  },
  {
   "cell_type": "code",
   "execution_count": 1492,
   "metadata": {},
   "outputs": [
    {
     "data": {
      "text/html": [
       "<div>\n",
       "<style scoped>\n",
       "    .dataframe tbody tr th:only-of-type {\n",
       "        vertical-align: middle;\n",
       "    }\n",
       "\n",
       "    .dataframe tbody tr th {\n",
       "        vertical-align: top;\n",
       "    }\n",
       "\n",
       "    .dataframe thead th {\n",
       "        text-align: right;\n",
       "    }\n",
       "</style>\n",
       "<table border=\"1\" class=\"dataframe\">\n",
       "  <thead>\n",
       "    <tr style=\"text-align: right;\">\n",
       "      <th></th>\n",
       "      <th>id</th>\n",
       "      <th>dia_semana</th>\n",
       "      <th>uf</th>\n",
       "      <th>br</th>\n",
       "      <th>km</th>\n",
       "      <th>municipio</th>\n",
       "      <th>causa_acidente</th>\n",
       "      <th>ordem_tipo_acidente</th>\n",
       "      <th>tipo_acidente</th>\n",
       "      <th>classificacao_acidente</th>\n",
       "      <th>...</th>\n",
       "      <th>idade</th>\n",
       "      <th>sexo</th>\n",
       "      <th>ilesos</th>\n",
       "      <th>feridos_leves</th>\n",
       "      <th>feridos_graves</th>\n",
       "      <th>mortos</th>\n",
       "      <th>latitude</th>\n",
       "      <th>longitude</th>\n",
       "      <th>delegacia</th>\n",
       "      <th>data_completa</th>\n",
       "    </tr>\n",
       "  </thead>\n",
       "  <tbody>\n",
       "    <tr>\n",
       "      <th>599</th>\n",
       "      <td>260213</td>\n",
       "      <td>quarta-feira</td>\n",
       "      <td>PR</td>\n",
       "      <td>BR-163</td>\n",
       "      <td>25</td>\n",
       "      <td>SANTO ANTONIO DO SUDOESTE</td>\n",
       "      <td>Desobediência às normas de trânsito pelo condutor</td>\n",
       "      <td>2</td>\n",
       "      <td>Tombamento</td>\n",
       "      <td>Com Vítimas Fatais</td>\n",
       "      <td>...</td>\n",
       "      <td>33</td>\n",
       "      <td>Masculino</td>\n",
       "      <td>0</td>\n",
       "      <td>0</td>\n",
       "      <td>0</td>\n",
       "      <td>0</td>\n",
       "      <td>-26,17492292</td>\n",
       "      <td>-53,66749187</td>\n",
       "      <td>DEL02-PR</td>\n",
       "      <td>2020-01-01 17:30:00</td>\n",
       "    </tr>\n",
       "    <tr>\n",
       "      <th>601</th>\n",
       "      <td>260213</td>\n",
       "      <td>quarta-feira</td>\n",
       "      <td>PR</td>\n",
       "      <td>BR-163</td>\n",
       "      <td>25</td>\n",
       "      <td>SANTO ANTONIO DO SUDOESTE</td>\n",
       "      <td>Desobediência às normas de trânsito pelo condutor</td>\n",
       "      <td>1</td>\n",
       "      <td>Saída de leito carroçável</td>\n",
       "      <td>Com Vítimas Fatais</td>\n",
       "      <td>...</td>\n",
       "      <td>64</td>\n",
       "      <td>Feminino</td>\n",
       "      <td>0</td>\n",
       "      <td>0</td>\n",
       "      <td>0</td>\n",
       "      <td>0</td>\n",
       "      <td>-26,17492292</td>\n",
       "      <td>-53,66749187</td>\n",
       "      <td>DEL02-PR</td>\n",
       "      <td>2020-01-01 17:30:00</td>\n",
       "    </tr>\n",
       "    <tr>\n",
       "      <th>603</th>\n",
       "      <td>260213</td>\n",
       "      <td>quarta-feira</td>\n",
       "      <td>PR</td>\n",
       "      <td>BR-163</td>\n",
       "      <td>25</td>\n",
       "      <td>SANTO ANTONIO DO SUDOESTE</td>\n",
       "      <td>Ultrapassagem Indevida</td>\n",
       "      <td>2</td>\n",
       "      <td>Tombamento</td>\n",
       "      <td>Com Vítimas Fatais</td>\n",
       "      <td>...</td>\n",
       "      <td>53</td>\n",
       "      <td>Feminino</td>\n",
       "      <td>0</td>\n",
       "      <td>0</td>\n",
       "      <td>0</td>\n",
       "      <td>0</td>\n",
       "      <td>-26,17492292</td>\n",
       "      <td>-53,66749187</td>\n",
       "      <td>DEL02-PR</td>\n",
       "      <td>2020-01-01 17:30:00</td>\n",
       "    </tr>\n",
       "    <tr>\n",
       "      <th>605</th>\n",
       "      <td>260213</td>\n",
       "      <td>quarta-feira</td>\n",
       "      <td>PR</td>\n",
       "      <td>BR-163</td>\n",
       "      <td>25</td>\n",
       "      <td>SANTO ANTONIO DO SUDOESTE</td>\n",
       "      <td>Ultrapassagem Indevida</td>\n",
       "      <td>1</td>\n",
       "      <td>Saída de leito carroçável</td>\n",
       "      <td>Com Vítimas Fatais</td>\n",
       "      <td>...</td>\n",
       "      <td>36</td>\n",
       "      <td>Masculino</td>\n",
       "      <td>0</td>\n",
       "      <td>0</td>\n",
       "      <td>0</td>\n",
       "      <td>0</td>\n",
       "      <td>-26,17492292</td>\n",
       "      <td>-53,66749187</td>\n",
       "      <td>DEL02-PR</td>\n",
       "      <td>2020-01-01 17:30:00</td>\n",
       "    </tr>\n",
       "    <tr>\n",
       "      <th>2688</th>\n",
       "      <td>260652</td>\n",
       "      <td>sexta-feira</td>\n",
       "      <td>BA</td>\n",
       "      <td>BR-101</td>\n",
       "      <td>0</td>\n",
       "      <td>RIO REAL</td>\n",
       "      <td>Velocidade Incompatível</td>\n",
       "      <td>2</td>\n",
       "      <td>Colisão frontal</td>\n",
       "      <td>Com Vítimas Fatais</td>\n",
       "      <td>...</td>\n",
       "      <td>23</td>\n",
       "      <td>Masculino</td>\n",
       "      <td>0</td>\n",
       "      <td>0</td>\n",
       "      <td>0</td>\n",
       "      <td>0</td>\n",
       "      <td>-11,539233</td>\n",
       "      <td>-37,857036</td>\n",
       "      <td>DEL02-SE</td>\n",
       "      <td>2020-01-03 17:30:00</td>\n",
       "    </tr>\n",
       "    <tr>\n",
       "      <th>...</th>\n",
       "      <td>...</td>\n",
       "      <td>...</td>\n",
       "      <td>...</td>\n",
       "      <td>...</td>\n",
       "      <td>...</td>\n",
       "      <td>...</td>\n",
       "      <td>...</td>\n",
       "      <td>...</td>\n",
       "      <td>...</td>\n",
       "      <td>...</td>\n",
       "      <td>...</td>\n",
       "      <td>...</td>\n",
       "      <td>...</td>\n",
       "      <td>...</td>\n",
       "      <td>...</td>\n",
       "      <td>...</td>\n",
       "      <td>...</td>\n",
       "      <td>...</td>\n",
       "      <td>...</td>\n",
       "      <td>...</td>\n",
       "      <td>...</td>\n",
       "    </tr>\n",
       "    <tr>\n",
       "      <th>862531</th>\n",
       "      <td>586160</td>\n",
       "      <td>segunda-feira</td>\n",
       "      <td>MA</td>\n",
       "      <td>BR-316</td>\n",
       "      <td>396</td>\n",
       "      <td>ALTO ALEGRE DO MARANHAO</td>\n",
       "      <td>Velocidade Incompatível</td>\n",
       "      <td>1</td>\n",
       "      <td>Colisão lateral sentido oposto</td>\n",
       "      <td>Com Vítimas Fatais</td>\n",
       "      <td>...</td>\n",
       "      <td>37</td>\n",
       "      <td>Masculino</td>\n",
       "      <td>0</td>\n",
       "      <td>0</td>\n",
       "      <td>0</td>\n",
       "      <td>0</td>\n",
       "      <td>-4,189019</td>\n",
       "      <td>-44,489983</td>\n",
       "      <td>DEL03-MA</td>\n",
       "      <td>2023-11-13 16:35:00</td>\n",
       "    </tr>\n",
       "    <tr>\n",
       "      <th>862533</th>\n",
       "      <td>586160</td>\n",
       "      <td>segunda-feira</td>\n",
       "      <td>MA</td>\n",
       "      <td>BR-316</td>\n",
       "      <td>396</td>\n",
       "      <td>ALTO ALEGRE DO MARANHAO</td>\n",
       "      <td>Ultrapassagem Indevida</td>\n",
       "      <td>2</td>\n",
       "      <td>Tombamento</td>\n",
       "      <td>Com Vítimas Fatais</td>\n",
       "      <td>...</td>\n",
       "      <td>26</td>\n",
       "      <td>Masculino</td>\n",
       "      <td>0</td>\n",
       "      <td>0</td>\n",
       "      <td>0</td>\n",
       "      <td>0</td>\n",
       "      <td>-4,189019</td>\n",
       "      <td>-44,489983</td>\n",
       "      <td>DEL03-MA</td>\n",
       "      <td>2023-11-13 16:35:00</td>\n",
       "    </tr>\n",
       "    <tr>\n",
       "      <th>862544</th>\n",
       "      <td>586507</td>\n",
       "      <td>sexta-feira</td>\n",
       "      <td>SE</td>\n",
       "      <td>BR-101</td>\n",
       "      <td>96</td>\n",
       "      <td>SAO CRISTOVAO</td>\n",
       "      <td>Entrada inopinada do pedestre</td>\n",
       "      <td>1</td>\n",
       "      <td>Atropelamento de Pedestre</td>\n",
       "      <td>Com Vítimas Fatais</td>\n",
       "      <td>...</td>\n",
       "      <td>26</td>\n",
       "      <td>Feminino</td>\n",
       "      <td>0</td>\n",
       "      <td>0</td>\n",
       "      <td>0</td>\n",
       "      <td>0</td>\n",
       "      <td>-10,91774224</td>\n",
       "      <td>-37,16729183</td>\n",
       "      <td>DEL02-SE</td>\n",
       "      <td>2023-12-01 19:00:00</td>\n",
       "    </tr>\n",
       "    <tr>\n",
       "      <th>862831</th>\n",
       "      <td>589229</td>\n",
       "      <td>quarta-feira</td>\n",
       "      <td>MG</td>\n",
       "      <td>BR-381</td>\n",
       "      <td>501</td>\n",
       "      <td>BETIM</td>\n",
       "      <td>Ausência de reação do condutor</td>\n",
       "      <td>2</td>\n",
       "      <td>Colisão lateral mesmo sentido</td>\n",
       "      <td>Com Vítimas Fatais</td>\n",
       "      <td>...</td>\n",
       "      <td>32</td>\n",
       "      <td>Masculino</td>\n",
       "      <td>0</td>\n",
       "      <td>0</td>\n",
       "      <td>0</td>\n",
       "      <td>0</td>\n",
       "      <td>-20,03146447</td>\n",
       "      <td>-44,2377893</td>\n",
       "      <td>DEL01-MG</td>\n",
       "      <td>2023-01-04 22:30:00</td>\n",
       "    </tr>\n",
       "    <tr>\n",
       "      <th>862833</th>\n",
       "      <td>589229</td>\n",
       "      <td>quarta-feira</td>\n",
       "      <td>MG</td>\n",
       "      <td>BR-381</td>\n",
       "      <td>501</td>\n",
       "      <td>BETIM</td>\n",
       "      <td>Ausência de reação do condutor</td>\n",
       "      <td>1</td>\n",
       "      <td>Atropelamento de Pedestre</td>\n",
       "      <td>Com Vítimas Fatais</td>\n",
       "      <td>...</td>\n",
       "      <td>52</td>\n",
       "      <td>Masculino</td>\n",
       "      <td>0</td>\n",
       "      <td>0</td>\n",
       "      <td>0</td>\n",
       "      <td>0</td>\n",
       "      <td>-20,03146447</td>\n",
       "      <td>-44,2377893</td>\n",
       "      <td>DEL01-MG</td>\n",
       "      <td>2023-01-04 22:30:00</td>\n",
       "    </tr>\n",
       "  </tbody>\n",
       "</table>\n",
       "<p>4454 rows × 30 columns</p>\n",
       "</div>"
      ],
      "text/plain": [
       "            id     dia_semana  uf      br   km                  municipio  \\\n",
       "599     260213   quarta-feira  PR  BR-163   25  SANTO ANTONIO DO SUDOESTE   \n",
       "601     260213   quarta-feira  PR  BR-163   25  SANTO ANTONIO DO SUDOESTE   \n",
       "603     260213   quarta-feira  PR  BR-163   25  SANTO ANTONIO DO SUDOESTE   \n",
       "605     260213   quarta-feira  PR  BR-163   25  SANTO ANTONIO DO SUDOESTE   \n",
       "2688    260652    sexta-feira  BA  BR-101    0                   RIO REAL   \n",
       "...        ...            ...  ..     ...  ...                        ...   \n",
       "862531  586160  segunda-feira  MA  BR-316  396    ALTO ALEGRE DO MARANHAO   \n",
       "862533  586160  segunda-feira  MA  BR-316  396    ALTO ALEGRE DO MARANHAO   \n",
       "862544  586507    sexta-feira  SE  BR-101   96              SAO CRISTOVAO   \n",
       "862831  589229   quarta-feira  MG  BR-381  501                      BETIM   \n",
       "862833  589229   quarta-feira  MG  BR-381  501                      BETIM   \n",
       "\n",
       "                                           causa_acidente  \\\n",
       "599     Desobediência às normas de trânsito pelo condutor   \n",
       "601     Desobediência às normas de trânsito pelo condutor   \n",
       "603                                Ultrapassagem Indevida   \n",
       "605                                Ultrapassagem Indevida   \n",
       "2688                              Velocidade Incompatível   \n",
       "...                                                   ...   \n",
       "862531                            Velocidade Incompatível   \n",
       "862533                             Ultrapassagem Indevida   \n",
       "862544                      Entrada inopinada do pedestre   \n",
       "862831                     Ausência de reação do condutor   \n",
       "862833                     Ausência de reação do condutor   \n",
       "\n",
       "        ordem_tipo_acidente                   tipo_acidente  \\\n",
       "599                       2                      Tombamento   \n",
       "601                       1       Saída de leito carroçável   \n",
       "603                       2                      Tombamento   \n",
       "605                       1       Saída de leito carroçável   \n",
       "2688                      2                 Colisão frontal   \n",
       "...                     ...                             ...   \n",
       "862531                    1  Colisão lateral sentido oposto   \n",
       "862533                    2                      Tombamento   \n",
       "862544                    1       Atropelamento de Pedestre   \n",
       "862831                    2   Colisão lateral mesmo sentido   \n",
       "862833                    1       Atropelamento de Pedestre   \n",
       "\n",
       "       classificacao_acidente  ... idade       sexo ilesos feridos_leves  \\\n",
       "599        Com Vítimas Fatais  ...    33  Masculino      0             0   \n",
       "601        Com Vítimas Fatais  ...    64   Feminino      0             0   \n",
       "603        Com Vítimas Fatais  ...    53   Feminino      0             0   \n",
       "605        Com Vítimas Fatais  ...    36  Masculino      0             0   \n",
       "2688       Com Vítimas Fatais  ...    23  Masculino      0             0   \n",
       "...                       ...  ...   ...        ...    ...           ...   \n",
       "862531     Com Vítimas Fatais  ...    37  Masculino      0             0   \n",
       "862533     Com Vítimas Fatais  ...    26  Masculino      0             0   \n",
       "862544     Com Vítimas Fatais  ...    26   Feminino      0             0   \n",
       "862831     Com Vítimas Fatais  ...    32  Masculino      0             0   \n",
       "862833     Com Vítimas Fatais  ...    52  Masculino      0             0   \n",
       "\n",
       "       feridos_graves mortos      latitude     longitude delegacia  \\\n",
       "599                 0      0  -26,17492292  -53,66749187  DEL02-PR   \n",
       "601                 0      0  -26,17492292  -53,66749187  DEL02-PR   \n",
       "603                 0      0  -26,17492292  -53,66749187  DEL02-PR   \n",
       "605                 0      0  -26,17492292  -53,66749187  DEL02-PR   \n",
       "2688                0      0    -11,539233    -37,857036  DEL02-SE   \n",
       "...               ...    ...           ...           ...       ...   \n",
       "862531              0      0     -4,189019    -44,489983  DEL03-MA   \n",
       "862533              0      0     -4,189019    -44,489983  DEL03-MA   \n",
       "862544              0      0  -10,91774224  -37,16729183  DEL02-SE   \n",
       "862831              0      0  -20,03146447   -44,2377893  DEL01-MG   \n",
       "862833              0      0  -20,03146447   -44,2377893  DEL01-MG   \n",
       "\n",
       "             data_completa  \n",
       "599    2020-01-01 17:30:00  \n",
       "601    2020-01-01 17:30:00  \n",
       "603    2020-01-01 17:30:00  \n",
       "605    2020-01-01 17:30:00  \n",
       "2688   2020-01-03 17:30:00  \n",
       "...                    ...  \n",
       "862531 2023-11-13 16:35:00  \n",
       "862533 2023-11-13 16:35:00  \n",
       "862544 2023-12-01 19:00:00  \n",
       "862831 2023-01-04 22:30:00  \n",
       "862833 2023-01-04 22:30:00  \n",
       "\n",
       "[4454 rows x 30 columns]"
      ]
     },
     "execution_count": 1492,
     "metadata": {},
     "output_type": "execute_result"
    }
   ],
   "source": [
    "df.loc[(df['ilesos'] == 0) & (df['feridos_leves'] == 0) & (df['feridos_graves'] == 0) & (df['mortos'] == 0) & (df['classificacao_acidente'] == 'Com Vítimas Fatais')]"
   ]
  },
  {
   "cell_type": "code",
   "execution_count": 1493,
   "metadata": {},
   "outputs": [],
   "source": [
    "filtro = filtro = (df['ilesos'] == 0) & \\\n",
    "         (df['feridos_leves'] == 0) & \\\n",
    "         (df['feridos_graves'] == 0) & \\\n",
    "         (df['mortos'] == 0) & \\\n",
    "         (df['classificacao_acidente'] == 'Com Vítimas Fatais')\n",
    "\n",
    "df['unico'] = (df.groupby('id')['id'].transform('size').eq(1).astype(int)) & filtro\n",
    "df.loc[df['unico'] == 1, 'mortos'] = 1\n",
    "df.drop(columns=['unico'], inplace=True)"
   ]
  },
  {
   "cell_type": "code",
   "execution_count": 1494,
   "metadata": {},
   "outputs": [
    {
     "name": "stdout",
     "output_type": "stream",
     "text": [
      "0.4189505782603845\n"
     ]
    }
   ],
   "source": [
    "filtro_mortos = df.loc[(df['ilesos'] == 0) \\\n",
    "                        & (df['feridos_leves'] == 0) \\\n",
    "                        & (df['feridos_graves'] == 0) \\\n",
    "                        & (df['mortos'] == 0) \\\n",
    "                        & (df['classificacao_acidente'] == 'Com Vítimas Fatais'), 'mortos']\n",
    "\n",
    "tamanho_mortos = filtro_mortos.shape[0]\n",
    "probabilidade_morte = df.loc[df['mortos'] == 1].shape[0] / (df.loc[df['classificacao_acidente'] == 'Com Vítimas Fatais'].shape[0] - tamanho_mortos)\n",
    "\n",
    "array_mortes = np.random.choice([0, 1], size=tamanho_mortos, p=[1 - probabilidade_morte, probabilidade_morte])\n",
    "print(probabilidade_morte)\n",
    "\n",
    "\n",
    "df.loc[(df['ilesos'] == 0) \\\n",
    "                        & (df['feridos_leves'] == 0) \\\n",
    "                        & (df['feridos_graves'] == 0) \\\n",
    "                        & (df['mortos'] == 0) \\\n",
    "                        & (df['classificacao_acidente'] == 'Com Vítimas Fatais'), 'mortos'] = array_mortes\n"
   ]
  },
  {
   "cell_type": "code",
   "execution_count": 1495,
   "metadata": {},
   "outputs": [
    {
     "name": "stdout",
     "output_type": "stream",
     "text": [
      "4449\n"
     ]
    },
    {
     "data": {
      "text/plain": [
       "0.4189505782603845"
      ]
     },
     "execution_count": 1495,
     "metadata": {},
     "output_type": "execute_result"
    }
   ],
   "source": [
    "print(filtro_mortos.shape[0])\n",
    "probabilidade_morte"
   ]
  },
  {
   "cell_type": "code",
   "execution_count": 1496,
   "metadata": {},
   "outputs": [],
   "source": [
    "def preencher_registros(df):\n",
    "    for index, row in df.iterrows():\n",
    "        if row['classificacao_acidente'] == 'Com Vítimas Feridas':\n",
    "            # Definir feridos_leves com 1 com 70% de chance\n",
    "            df.at[index, 'feridos_leves'] = np.random.choice([0, 1], p=[0.3, 0.7])\n",
    "            # Definir feridos_graves com 1 se não for feridos_leves\n",
    "            df.at[index, 'feridos_graves'] = 1 if df.at[index, 'feridos_leves'] == 0 else 0\n",
    "        elif row['classificacao_acidente'] == 'Com Vítimas Fatais':\n",
    "            # Definir feridos_graves com 1 com 70% de chance\n",
    "            df.at[index, 'feridos_graves'] = np.random.choice([0, 1], p=[0.3, 0.7])\n",
    "            # Definir feridos_leves com 1 se não for feridos_graves\n",
    "            df.at[index, 'feridos_leves'] = 1 if df.at[index, 'feridos_graves'] == 0 else 0\n",
    "        else:\n",
    "            # Se não for especificado, preencher com 1 na coluna 'ilesos'\n",
    "            df.at[index, 'ilesos'] = 1\n",
    "    return df\n",
    "\n",
    "df_filtered = df.loc[(df['ilesos'] == 0) & (df['feridos_leves'] == 0) & (df['feridos_graves'] == 0) & (df['mortos'] == 0)]\n",
    "df_filtered = preencher_registros(df_filtered)\n",
    "df.update(df_filtered)"
   ]
  }
 ],
 "metadata": {
  "kernelspec": {
   "display_name": "base",
   "language": "python",
   "name": "python3"
  },
  "language_info": {
   "codemirror_mode": {
    "name": "ipython",
    "version": 3
   },
   "file_extension": ".py",
   "mimetype": "text/x-python",
   "name": "python",
   "nbconvert_exporter": "python",
   "pygments_lexer": "ipython3",
   "version": "3.11.7"
  }
 },
 "nbformat": 4,
 "nbformat_minor": 2
}
